{
 "cells": [
  {
   "cell_type": "code",
   "execution_count": 1,
   "id": "c0d27886-f4d6-4a42-b9f8-c52c037ed31a",
   "metadata": {},
   "outputs": [
    {
     "name": "stdout",
     "output_type": "stream",
     "text": [
      "Requirement already satisfied: ntscraper in /opt/homebrew/anaconda3/lib/python3.11/site-packages (0.3.13)\n",
      "Requirement already satisfied: requests in /opt/homebrew/anaconda3/lib/python3.11/site-packages (from ntscraper) (2.32.2)\n",
      "Requirement already satisfied: beautifulsoup4 in /opt/homebrew/anaconda3/lib/python3.11/site-packages (from ntscraper) (4.12.3)\n",
      "Requirement already satisfied: lxml in /opt/homebrew/anaconda3/lib/python3.11/site-packages (from ntscraper) (5.2.1)\n",
      "Requirement already satisfied: soupsieve>1.2 in /opt/homebrew/anaconda3/lib/python3.11/site-packages (from beautifulsoup4->ntscraper) (2.5)\n",
      "Requirement already satisfied: charset-normalizer<4,>=2 in /opt/homebrew/anaconda3/lib/python3.11/site-packages (from requests->ntscraper) (2.0.4)\n",
      "Requirement already satisfied: idna<4,>=2.5 in /opt/homebrew/anaconda3/lib/python3.11/site-packages (from requests->ntscraper) (3.7)\n",
      "Requirement already satisfied: urllib3<3,>=1.21.1 in /opt/homebrew/anaconda3/lib/python3.11/site-packages (from requests->ntscraper) (1.26.19)\n",
      "Requirement already satisfied: certifi>=2017.4.17 in /opt/homebrew/anaconda3/lib/python3.11/site-packages (from requests->ntscraper) (2024.6.2)\n",
      "Note: you may need to restart the kernel to use updated packages.\n"
     ]
    }
   ],
   "source": [
    "pip install ntscraper"
   ]
  },
  {
   "cell_type": "code",
   "execution_count": 2,
   "id": "badf5737-108b-4ff3-a7bc-5a23ebb1e7e1",
   "metadata": {},
   "outputs": [
    {
     "name": "stdout",
     "output_type": "stream",
     "text": [
      "26-Jul-24 02:31:14 - NumExpr defaulting to 8 threads.\n"
     ]
    }
   ],
   "source": [
    "# importing required libraries \n",
    "from ntscraper import Nitter\n",
    "import pandas as pd"
   ]
  },
  {
   "cell_type": "code",
   "execution_count": 9,
   "id": "35a42173-87ec-438d-a637-330f46ebfd5f",
   "metadata": {},
   "outputs": [
    {
     "name": "stderr",
     "output_type": "stream",
     "text": [
      "Testing instances:  14%|███▍                    | 11/77 [00:16<01:34,  1.44s/it]"
     ]
    },
    {
     "name": "stdout",
     "output_type": "stream",
     "text": [
      "26-Jul-24 03:05:35 - Certificate did not match expected hostname: nitter.esmailelbob.xyz. Certificate: {'subject': ((('commonName', 'esmailelbob.xyz'),),), 'issuer': ((('countryName', 'US'),), (('organizationName', \"Let's Encrypt\"),), (('commonName', 'E6'),)), 'version': 3, 'serialNumber': '035E16081D6A32AF3A11F9CF35D43FD0249E', 'notBefore': 'Jul  6 18:47:31 2024 GMT', 'notAfter': 'Oct  4 18:47:30 2024 GMT', 'subjectAltName': (('DNS', 'esmailelbob.xyz'),), 'OCSP': ('http://e6.o.lencr.org',), 'caIssuers': ('http://e6.i.lencr.org/',)}\n"
     ]
    },
    {
     "name": "stderr",
     "output_type": "stream",
     "text": [
      "Testing instances:  92%|██████████████████████▏ | 71/77 [01:00<00:01,  5.39it/s]"
     ]
    },
    {
     "name": "stdout",
     "output_type": "stream",
     "text": [
      "26-Jul-24 03:06:19 - Certificate did not match expected hostname: nt.ggtyler.dev. Certificate: {'subject': ((('commonName', '4g.ggtyler.dev'),),), 'issuer': ((('countryName', 'US'),), (('organizationName', \"Let's Encrypt\"),), (('commonName', 'E6'),)), 'version': 3, 'serialNumber': '043C83E6DFFFA194D2CDA2DE14B572820A1C', 'notBefore': 'Jul 13 13:08:14 2024 GMT', 'notAfter': 'Oct 11 13:08:13 2024 GMT', 'subjectAltName': (('DNS', '4g.ggtyler.dev'),), 'OCSP': ('http://e6.o.lencr.org',), 'caIssuers': ('http://e6.i.lencr.org/',)}\n",
      "26-Jul-24 03:06:20 - Certificate did not match expected hostname: nitter.uni-sonia.com. Certificate: {'subject': ((('commonName', '*.xserver.jp'),),), 'issuer': ((('countryName', 'JP'),), (('organizationName', 'CloudSecure Corporation'),), (('commonName', 'CloudSecure RSA Domain Validation Secure Server CA 2'),)), 'version': 3, 'serialNumber': 'ACA67AD2030638EE2DCE8E845B8299A6', 'notBefore': 'Mar 11 00:00:00 2024 GMT', 'notAfter': 'Apr 11 23:59:59 2025 GMT', 'subjectAltName': (('DNS', '*.xserver.jp'), ('DNS', 'xserver.jp')), 'OCSP': ('http://ocsp.sectigo.com',), 'caIssuers': ('http://crt.sectigo.com/CloudSecureRSADomainValidationSecureServerCA2.crt',)}\n"
     ]
    },
    {
     "name": "stderr",
     "output_type": "stream",
     "text": [
      "Testing instances:  99%|███████████████████████▋| 76/77 [01:03<00:00,  2.50it/s]"
     ]
    },
    {
     "name": "stdout",
     "output_type": "stream",
     "text": [
      "26-Jul-24 03:06:22 - Certificate did not match expected hostname: nitter.tinfoil-hat.net. Certificate: {'subject': ((('commonName', 'jelly.tinfoil-hat.de'),),), 'issuer': ((('countryName', 'US'),), (('organizationName', \"Let's Encrypt\"),), (('commonName', 'E6'),)), 'version': 3, 'serialNumber': '03557B828B954DCD5ADD0EEA6DDF9F1E0085', 'notBefore': 'Jul 16 04:52:19 2024 GMT', 'notAfter': 'Oct 14 04:52:18 2024 GMT', 'subjectAltName': (('DNS', 'jelly.tinfoil-hat.de'),), 'OCSP': ('http://e6.o.lencr.org',), 'caIssuers': ('http://e6.i.lencr.org/',)}\n"
     ]
    },
    {
     "name": "stderr",
     "output_type": "stream",
     "text": [
      "Testing instances: 100%|████████████████████████| 77/77 [01:03<00:00,  1.22it/s]"
     ]
    },
    {
     "name": "stdout",
     "output_type": "stream",
     "text": [
      "26-Jul-24 03:06:22 - No instance specified, using random instance https://nitter.privacydev.net\n"
     ]
    },
    {
     "name": "stderr",
     "output_type": "stream",
     "text": [
      "\n"
     ]
    },
    {
     "name": "stdout",
     "output_type": "stream",
     "text": [
      "26-Jul-24 03:06:22 - Empty page on https://nitter.privacydev.net\n"
     ]
    }
   ],
   "source": [
    "scraper = Nitter()\n",
    "tweets = scraper.get_tweets('Toystory', mode = 'term', number = 5)"
   ]
  },
  {
   "cell_type": "code",
   "execution_count": 10,
   "id": "b9cb6b5d-663f-4154-8d39-c1e85cab229a",
   "metadata": {},
   "outputs": [],
   "source": [
    "# Creating a function \n",
    "def create_tweets_dataset(username, no_of_tweets):\n",
    "    scraper = Nitter()\n",
    "    tweets = scraper.get_tweets(username, mode=\"hashtag\", number=no_of_tweets)\n",
    "\n",
    "    # Creating a Dictionary to store the tweets data\n",
    "    data = {\n",
    "        'link': [],\n",
    "        'text': [],\n",
    "        'username': [],  # Adding 'username' column\n",
    "        'user': [],\n",
    "        'likes': [],\n",
    "        'quotes': [],\n",
    "        'retweets': [],\n",
    "        'comments': []\n",
    "    }\n",
    "\n",
    "    for tweet in tweets['tweets']:\n",
    "        data['link'].append(tweet['link'])\n",
    "        data['text'].append(tweet['text'])\n",
    "        data['username'].append(username)\n",
    "        data['user'].append(tweet['user']['name'])\n",
    "        data['likes'].append(tweet['stats']['likes'])\n",
    "        data['retweets'].append(tweet['stats']['retweets'])\n",
    "        data['quotes'].append(tweet['stats']['quotes'])\n",
    "        data['comments'].append(tweet['stats']['comments'])\n",
    "\n",
    "    df = pd.DataFrame(data)\n",
    "\n",
    "    # Writing to CSV file\n",
    "    csv_filename = username + \"_tweets_data.csv\"\n",
    "    df.to_csv(csv_filename, index=False)\n",
    "    print(f\"Completed scraping. '{csv_filename}' is ready!\")\n",
    "\n"
   ]
  },
  {
   "cell_type": "code",
   "execution_count": 12,
   "id": "68c2491a-5c5e-4c85-a01f-b1d8961408ff",
   "metadata": {},
   "outputs": [
    {
     "name": "stderr",
     "output_type": "stream",
     "text": [
      "Testing instances:  14%|███▍                    | 11/77 [00:16<01:36,  1.46s/it]"
     ]
    },
    {
     "name": "stdout",
     "output_type": "stream",
     "text": [
      "26-Jul-24 03:10:25 - Certificate did not match expected hostname: nitter.esmailelbob.xyz. Certificate: {'subject': ((('commonName', 'esmailelbob.xyz'),),), 'issuer': ((('countryName', 'US'),), (('organizationName', \"Let's Encrypt\"),), (('commonName', 'E6'),)), 'version': 3, 'serialNumber': '035E16081D6A32AF3A11F9CF35D43FD0249E', 'notBefore': 'Jul  6 18:47:31 2024 GMT', 'notAfter': 'Oct  4 18:47:30 2024 GMT', 'subjectAltName': (('DNS', 'esmailelbob.xyz'),), 'OCSP': ('http://e6.o.lencr.org',), 'caIssuers': ('http://e6.i.lencr.org/',)}\n"
     ]
    },
    {
     "name": "stderr",
     "output_type": "stream",
     "text": [
      "Testing instances:  92%|██████████████████████▏ | 71/77 [01:06<00:01,  4.68it/s]"
     ]
    },
    {
     "name": "stdout",
     "output_type": "stream",
     "text": [
      "26-Jul-24 03:11:16 - Certificate did not match expected hostname: nt.ggtyler.dev. Certificate: {'subject': ((('commonName', '4g.ggtyler.dev'),),), 'issuer': ((('countryName', 'US'),), (('organizationName', \"Let's Encrypt\"),), (('commonName', 'E6'),)), 'version': 3, 'serialNumber': '043C83E6DFFFA194D2CDA2DE14B572820A1C', 'notBefore': 'Jul 13 13:08:14 2024 GMT', 'notAfter': 'Oct 11 13:08:13 2024 GMT', 'subjectAltName': (('DNS', '4g.ggtyler.dev'),), 'OCSP': ('http://e6.o.lencr.org',), 'caIssuers': ('http://e6.i.lencr.org/',)}\n",
      "26-Jul-24 03:11:16 - Certificate did not match expected hostname: nitter.uni-sonia.com. Certificate: {'subject': ((('commonName', '*.xserver.jp'),),), 'issuer': ((('countryName', 'JP'),), (('organizationName', 'CloudSecure Corporation'),), (('commonName', 'CloudSecure RSA Domain Validation Secure Server CA 2'),)), 'version': 3, 'serialNumber': 'ACA67AD2030638EE2DCE8E845B8299A6', 'notBefore': 'Mar 11 00:00:00 2024 GMT', 'notAfter': 'Apr 11 23:59:59 2025 GMT', 'subjectAltName': (('DNS', '*.xserver.jp'), ('DNS', 'xserver.jp')), 'OCSP': ('http://ocsp.sectigo.com',), 'caIssuers': ('http://crt.sectigo.com/CloudSecureRSADomainValidationSecureServerCA2.crt',)}\n"
     ]
    },
    {
     "name": "stderr",
     "output_type": "stream",
     "text": [
      "Testing instances:  99%|███████████████████████▋| 76/77 [01:09<00:00,  1.99it/s]"
     ]
    },
    {
     "name": "stdout",
     "output_type": "stream",
     "text": [
      "26-Jul-24 03:11:19 - Certificate did not match expected hostname: nitter.tinfoil-hat.net. Certificate: {'subject': ((('commonName', 'jelly.tinfoil-hat.de'),),), 'issuer': ((('countryName', 'US'),), (('organizationName', \"Let's Encrypt\"),), (('commonName', 'E6'),)), 'version': 3, 'serialNumber': '03557B828B954DCD5ADD0EEA6DDF9F1E0085', 'notBefore': 'Jul 16 04:52:19 2024 GMT', 'notAfter': 'Oct 14 04:52:18 2024 GMT', 'subjectAltName': (('DNS', 'jelly.tinfoil-hat.de'),), 'OCSP': ('http://e6.o.lencr.org',), 'caIssuers': ('http://e6.i.lencr.org/',)}\n"
     ]
    },
    {
     "name": "stderr",
     "output_type": "stream",
     "text": [
      "Testing instances: 100%|████████████████████████| 77/77 [01:10<00:00,  1.10it/s]"
     ]
    },
    {
     "name": "stdout",
     "output_type": "stream",
     "text": [
      "26-Jul-24 03:11:19 - No instance specified, using random instance https://nitter.privacydev.net\n"
     ]
    },
    {
     "name": "stderr",
     "output_type": "stream",
     "text": [
      "\n"
     ]
    },
    {
     "name": "stdout",
     "output_type": "stream",
     "text": [
      "26-Jul-24 03:11:19 - Empty page on https://nitter.privacydev.net\n",
      "Completed scraping. 'Toystory_tweets_data.csv' is ready!\n"
     ]
    }
   ],
   "source": [
    "create_tweets_dataset(\"Toystory\",50)"
   ]
  },
  {
   "cell_type": "code",
   "execution_count": null,
   "id": "ed0562f1-fd99-4926-806a-f8cdeaeb6f99",
   "metadata": {},
   "outputs": [],
   "source": []
  }
 ],
 "metadata": {
  "kernelspec": {
   "display_name": "Python 3 (ipykernel)",
   "language": "python",
   "name": "python3"
  },
  "language_info": {
   "codemirror_mode": {
    "name": "ipython",
    "version": 3
   },
   "file_extension": ".py",
   "mimetype": "text/x-python",
   "name": "python",
   "nbconvert_exporter": "python",
   "pygments_lexer": "ipython3",
   "version": "3.11.9"
  }
 },
 "nbformat": 4,
 "nbformat_minor": 5
}
