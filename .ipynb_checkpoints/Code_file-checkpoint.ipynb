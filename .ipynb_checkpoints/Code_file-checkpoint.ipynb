{
 "cells": [
  {
   "cell_type": "markdown",
   "id": "e61eb3a6-59e7-4db7-9afd-a65aebc07a7c",
   "metadata": {},
   "source": [
    "# Final Project : - Building two Recommendation Systems"
   ]
  },
  {
   "cell_type": "markdown",
   "id": "bf43d31f-0d96-47bb-8c23-9a58fb7c3d29",
   "metadata": {},
   "source": [
    "# Part : - 1"
   ]
  },
  {
   "attachments": {},
   "cell_type": "markdown",
   "id": "a0d0ed9a-b274-4e71-8f5b-d50fe2f520f2",
   "metadata": {},
   "source": [
    "# Collaborative Filtering-based Recommender using Matrix Factorization Technique."
   ]
  },
  {
   "cell_type": "markdown",
   "id": "8ce22dec-22ee-4814-be21-3f8ca90abefa",
   "metadata": {},
   "source": [
    "## Data Preperation"
   ]
  },
  {
   "cell_type": "code",
   "execution_count": 8,
   "id": "0ee44842-64fe-4518-b4ef-ca8003b94d76",
   "metadata": {},
   "outputs": [],
   "source": [
    "# Installing required libraries "
   ]
  },
  {
   "cell_type": "code",
   "execution_count": 9,
   "id": "8761aa16-db64-4936-a42f-f7d9c6956fb7",
   "metadata": {},
   "outputs": [
    {
     "name": "stdout",
     "output_type": "stream",
     "text": [
      "Requirement already satisfied: pandas in /opt/homebrew/anaconda3/lib/python3.11/site-packages (2.2.2)\n",
      "Requirement already satisfied: numpy in /opt/homebrew/anaconda3/lib/python3.11/site-packages (1.26.4)\n",
      "Requirement already satisfied: scikit-learn in /opt/homebrew/anaconda3/lib/python3.11/site-packages (1.4.2)\n",
      "Requirement already satisfied: matplotlib in /opt/homebrew/anaconda3/lib/python3.11/site-packages (3.8.4)\n",
      "Requirement already satisfied: plotly in /opt/homebrew/anaconda3/lib/python3.11/site-packages (5.22.0)\n",
      "Requirement already satisfied: seaborn in /opt/homebrew/anaconda3/lib/python3.11/site-packages (0.13.2)\n",
      "Requirement already satisfied: torch in /opt/homebrew/anaconda3/lib/python3.11/site-packages (2.3.1)\n",
      "Requirement already satisfied: requests in /opt/homebrew/anaconda3/lib/python3.11/site-packages (2.32.2)\n",
      "Requirement already satisfied: tweepy in /opt/homebrew/anaconda3/lib/python3.11/site-packages (4.14.0)\n",
      "Requirement already satisfied: nltk in /opt/homebrew/anaconda3/lib/python3.11/site-packages (3.8.1)\n",
      "Requirement already satisfied: nitter in /opt/homebrew/anaconda3/lib/python3.11/site-packages (0.0.5)\n",
      "Requirement already satisfied: vaderSentiment in /opt/homebrew/anaconda3/lib/python3.11/site-packages (3.3.2)\n",
      "Requirement already satisfied: python-dateutil>=2.8.2 in /opt/homebrew/anaconda3/lib/python3.11/site-packages (from pandas) (2.9.0.post0)\n",
      "Requirement already satisfied: pytz>=2020.1 in /opt/homebrew/anaconda3/lib/python3.11/site-packages (from pandas) (2024.1)\n",
      "Requirement already satisfied: tzdata>=2022.7 in /opt/homebrew/anaconda3/lib/python3.11/site-packages (from pandas) (2023.3)\n",
      "Requirement already satisfied: scipy>=1.6.0 in /opt/homebrew/anaconda3/lib/python3.11/site-packages (from scikit-learn) (1.13.1)\n",
      "Requirement already satisfied: joblib>=1.2.0 in /opt/homebrew/anaconda3/lib/python3.11/site-packages (from scikit-learn) (1.4.2)\n",
      "Requirement already satisfied: threadpoolctl>=2.0.0 in /opt/homebrew/anaconda3/lib/python3.11/site-packages (from scikit-learn) (2.2.0)\n",
      "Requirement already satisfied: contourpy>=1.0.1 in /opt/homebrew/anaconda3/lib/python3.11/site-packages (from matplotlib) (1.2.0)\n",
      "Requirement already satisfied: cycler>=0.10 in /opt/homebrew/anaconda3/lib/python3.11/site-packages (from matplotlib) (0.11.0)\n",
      "Requirement already satisfied: fonttools>=4.22.0 in /opt/homebrew/anaconda3/lib/python3.11/site-packages (from matplotlib) (4.51.0)\n",
      "Requirement already satisfied: kiwisolver>=1.3.1 in /opt/homebrew/anaconda3/lib/python3.11/site-packages (from matplotlib) (1.4.4)\n",
      "Requirement already satisfied: packaging>=20.0 in /opt/homebrew/anaconda3/lib/python3.11/site-packages (from matplotlib) (23.2)\n",
      "Requirement already satisfied: pillow>=8 in /opt/homebrew/anaconda3/lib/python3.11/site-packages (from matplotlib) (10.3.0)\n",
      "Requirement already satisfied: pyparsing>=2.3.1 in /opt/homebrew/anaconda3/lib/python3.11/site-packages (from matplotlib) (3.0.9)\n",
      "Requirement already satisfied: tenacity>=6.2.0 in /opt/homebrew/anaconda3/lib/python3.11/site-packages (from plotly) (8.2.2)\n",
      "Requirement already satisfied: filelock in /opt/homebrew/anaconda3/lib/python3.11/site-packages (from torch) (3.13.1)\n",
      "Requirement already satisfied: typing-extensions>=4.8.0 in /opt/homebrew/anaconda3/lib/python3.11/site-packages (from torch) (4.11.0)\n",
      "Requirement already satisfied: sympy in /opt/homebrew/anaconda3/lib/python3.11/site-packages (from torch) (1.12)\n",
      "Requirement already satisfied: networkx in /opt/homebrew/anaconda3/lib/python3.11/site-packages (from torch) (3.2.1)\n",
      "Requirement already satisfied: jinja2 in /opt/homebrew/anaconda3/lib/python3.11/site-packages (from torch) (2.11.3)\n",
      "Requirement already satisfied: fsspec in /opt/homebrew/anaconda3/lib/python3.11/site-packages (from torch) (2024.3.1)\n",
      "Requirement already satisfied: charset-normalizer<4,>=2 in /opt/homebrew/anaconda3/lib/python3.11/site-packages (from requests) (2.0.4)\n",
      "Requirement already satisfied: idna<4,>=2.5 in /opt/homebrew/anaconda3/lib/python3.11/site-packages (from requests) (3.7)\n",
      "Requirement already satisfied: urllib3<3,>=1.21.1 in /opt/homebrew/anaconda3/lib/python3.11/site-packages (from requests) (1.26.19)\n",
      "Requirement already satisfied: certifi>=2017.4.17 in /opt/homebrew/anaconda3/lib/python3.11/site-packages (from requests) (2024.6.2)\n",
      "Requirement already satisfied: oauthlib<4,>=3.2.0 in /opt/homebrew/anaconda3/lib/python3.11/site-packages (from tweepy) (3.2.2)\n",
      "Requirement already satisfied: requests-oauthlib<2,>=1.2.0 in /opt/homebrew/anaconda3/lib/python3.11/site-packages (from tweepy) (1.3.1)\n",
      "Requirement already satisfied: click in /opt/homebrew/anaconda3/lib/python3.11/site-packages (from nltk) (8.1.7)\n",
      "Requirement already satisfied: regex>=2021.8.3 in /opt/homebrew/anaconda3/lib/python3.11/site-packages (from nltk) (2023.10.3)\n",
      "Requirement already satisfied: tqdm in /opt/homebrew/anaconda3/lib/python3.11/site-packages (from nltk) (4.66.4)\n",
      "Requirement already satisfied: beautifulsoup4 in /opt/homebrew/anaconda3/lib/python3.11/site-packages (from nitter) (4.12.3)\n",
      "Requirement already satisfied: six>=1.5 in /opt/homebrew/anaconda3/lib/python3.11/site-packages (from python-dateutil>=2.8.2->pandas) (1.16.0)\n",
      "Requirement already satisfied: soupsieve>1.2 in /opt/homebrew/anaconda3/lib/python3.11/site-packages (from beautifulsoup4->nitter) (2.5)\n",
      "Requirement already satisfied: MarkupSafe>=0.23 in /opt/homebrew/anaconda3/lib/python3.11/site-packages (from jinja2->torch) (2.1.5)\n",
      "Requirement already satisfied: mpmath>=0.19 in /opt/homebrew/anaconda3/lib/python3.11/site-packages (from sympy->torch) (1.3.0)\n",
      "\n",
      "\u001b[1m[\u001b[0m\u001b[34;49mnotice\u001b[0m\u001b[1;39;49m]\u001b[0m\u001b[39;49m A new release of pip is available: \u001b[0m\u001b[31;49m24.1.2\u001b[0m\u001b[39;49m -> \u001b[0m\u001b[32;49m24.2\u001b[0m\n",
      "\u001b[1m[\u001b[0m\u001b[34;49mnotice\u001b[0m\u001b[1;39;49m]\u001b[0m\u001b[39;49m To update, run: \u001b[0m\u001b[32;49mpip install --upgrade pip\u001b[0m\n",
      "Note: you may need to restart the kernel to use updated packages.\n"
     ]
    }
   ],
   "source": [
    "pip install pandas numpy scikit-learn matplotlib plotly seaborn torch requests tweepy nltk nitter vaderSentiment\n"
   ]
  },
  {
   "cell_type": "code",
   "execution_count": 10,
   "id": "7d823863-280b-4558-8038-661f9b9b3032",
   "metadata": {},
   "outputs": [],
   "source": [
    "import pandas as pd\n",
    "import numpy as np"
   ]
  },
  {
   "cell_type": "code",
   "execution_count": 92,
   "id": "b6407f3f-1342-4f1f-9adb-79851e34fb57",
   "metadata": {},
   "outputs": [],
   "source": [
    "import pandas as pd\n",
    "\n",
    "# Load u.data and u.item datasets\n",
    "u_data = pd.read_csv('/Users/salmanmohamm3d/Desktop/Sem 3/Social M A/Final Project/u.data.csv', sep='\\t', names=['user_id', 'item_id', 'rating', 'timestamp'])\n",
    "u_item = pd.read_csv('/Users/salmanmohamm3d/Desktop/Sem 3/Social M A/Final Project/u.item', sep='|', names=['movie_id', 'movie_title', 'release_date', 'video_release_date', 'IMDb_URL', 'unknown', 'Action', 'Adventure', 'Animation', 'Children\\'s', 'Comedy', 'Crime', 'Documentary', 'Drama', 'Fantasy', 'Film-Noir', 'Horror', 'Musical', 'Mystery', 'Romance', 'Sci-Fi', 'Thriller', 'War', 'Western'], encoding='latin-1')\n"
   ]
  },
  {
   "cell_type": "code",
   "execution_count": 93,
   "id": "d389e0d2-e458-4425-a09e-d915565bfbd7",
   "metadata": {},
   "outputs": [
    {
     "data": {
      "text/html": [
       "<div>\n",
       "<style scoped>\n",
       "    .dataframe tbody tr th:only-of-type {\n",
       "        vertical-align: middle;\n",
       "    }\n",
       "\n",
       "    .dataframe tbody tr th {\n",
       "        vertical-align: top;\n",
       "    }\n",
       "\n",
       "    .dataframe thead th {\n",
       "        text-align: right;\n",
       "    }\n",
       "</style>\n",
       "<table border=\"1\" class=\"dataframe\">\n",
       "  <thead>\n",
       "    <tr style=\"text-align: right;\">\n",
       "      <th></th>\n",
       "      <th>user_id</th>\n",
       "      <th>item_id</th>\n",
       "      <th>rating</th>\n",
       "      <th>timestamp</th>\n",
       "    </tr>\n",
       "  </thead>\n",
       "  <tbody>\n",
       "    <tr>\n",
       "      <th>0</th>\n",
       "      <td>196</td>\n",
       "      <td>242</td>\n",
       "      <td>3</td>\n",
       "      <td>881250949</td>\n",
       "    </tr>\n",
       "    <tr>\n",
       "      <th>1</th>\n",
       "      <td>186</td>\n",
       "      <td>302</td>\n",
       "      <td>3</td>\n",
       "      <td>891717742</td>\n",
       "    </tr>\n",
       "    <tr>\n",
       "      <th>2</th>\n",
       "      <td>22</td>\n",
       "      <td>377</td>\n",
       "      <td>1</td>\n",
       "      <td>878887116</td>\n",
       "    </tr>\n",
       "    <tr>\n",
       "      <th>3</th>\n",
       "      <td>244</td>\n",
       "      <td>51</td>\n",
       "      <td>2</td>\n",
       "      <td>880606923</td>\n",
       "    </tr>\n",
       "    <tr>\n",
       "      <th>4</th>\n",
       "      <td>166</td>\n",
       "      <td>346</td>\n",
       "      <td>1</td>\n",
       "      <td>886397596</td>\n",
       "    </tr>\n",
       "    <tr>\n",
       "      <th>5</th>\n",
       "      <td>298</td>\n",
       "      <td>474</td>\n",
       "      <td>4</td>\n",
       "      <td>884182806</td>\n",
       "    </tr>\n",
       "    <tr>\n",
       "      <th>6</th>\n",
       "      <td>115</td>\n",
       "      <td>265</td>\n",
       "      <td>2</td>\n",
       "      <td>881171488</td>\n",
       "    </tr>\n",
       "    <tr>\n",
       "      <th>7</th>\n",
       "      <td>253</td>\n",
       "      <td>465</td>\n",
       "      <td>5</td>\n",
       "      <td>891628467</td>\n",
       "    </tr>\n",
       "    <tr>\n",
       "      <th>8</th>\n",
       "      <td>305</td>\n",
       "      <td>451</td>\n",
       "      <td>3</td>\n",
       "      <td>886324817</td>\n",
       "    </tr>\n",
       "    <tr>\n",
       "      <th>9</th>\n",
       "      <td>6</td>\n",
       "      <td>86</td>\n",
       "      <td>3</td>\n",
       "      <td>883603013</td>\n",
       "    </tr>\n",
       "  </tbody>\n",
       "</table>\n",
       "</div>"
      ],
      "text/plain": [
       "   user_id  item_id  rating  timestamp\n",
       "0      196      242       3  881250949\n",
       "1      186      302       3  891717742\n",
       "2       22      377       1  878887116\n",
       "3      244       51       2  880606923\n",
       "4      166      346       1  886397596\n",
       "5      298      474       4  884182806\n",
       "6      115      265       2  881171488\n",
       "7      253      465       5  891628467\n",
       "8      305      451       3  886324817\n",
       "9        6       86       3  883603013"
      ]
     },
     "execution_count": 93,
     "metadata": {},
     "output_type": "execute_result"
    }
   ],
   "source": [
    "u_data.head(10)"
   ]
  },
  {
   "cell_type": "code",
   "execution_count": 94,
   "id": "f39be384-5a75-405a-b9e5-9e0d7db553c4",
   "metadata": {},
   "outputs": [
    {
     "data": {
      "text/plain": [
       "user_id        943\n",
       "item_id       1682\n",
       "rating           5\n",
       "timestamp    49282\n",
       "dtype: int64"
      ]
     },
     "execution_count": 94,
     "metadata": {},
     "output_type": "execute_result"
    }
   ],
   "source": [
    "u_data.nunique()"
   ]
  },
  {
   "cell_type": "code",
   "execution_count": 95,
   "id": "2cf1d5af-623c-4357-8625-233b42c91863",
   "metadata": {},
   "outputs": [
    {
     "name": "stdout",
     "output_type": "stream",
     "text": [
      "<class 'pandas.core.frame.DataFrame'>\n",
      "RangeIndex: 100000 entries, 0 to 99999\n",
      "Data columns (total 4 columns):\n",
      " #   Column     Non-Null Count   Dtype\n",
      "---  ------     --------------   -----\n",
      " 0   user_id    100000 non-null  int64\n",
      " 1   item_id    100000 non-null  int64\n",
      " 2   rating     100000 non-null  int64\n",
      " 3   timestamp  100000 non-null  int64\n",
      "dtypes: int64(4)\n",
      "memory usage: 3.1 MB\n"
     ]
    }
   ],
   "source": [
    "u_data.info()"
   ]
  },
  {
   "cell_type": "code",
   "execution_count": 96,
   "id": "52d932d8-fff3-4f01-9417-1d2c09d69068",
   "metadata": {},
   "outputs": [
    {
     "data": {
      "text/html": [
       "<div>\n",
       "<style scoped>\n",
       "    .dataframe tbody tr th:only-of-type {\n",
       "        vertical-align: middle;\n",
       "    }\n",
       "\n",
       "    .dataframe tbody tr th {\n",
       "        vertical-align: top;\n",
       "    }\n",
       "\n",
       "    .dataframe thead th {\n",
       "        text-align: right;\n",
       "    }\n",
       "</style>\n",
       "<table border=\"1\" class=\"dataframe\">\n",
       "  <thead>\n",
       "    <tr style=\"text-align: right;\">\n",
       "      <th></th>\n",
       "      <th>movie_id</th>\n",
       "      <th>movie_title</th>\n",
       "      <th>release_date</th>\n",
       "      <th>video_release_date</th>\n",
       "      <th>IMDb_URL</th>\n",
       "      <th>unknown</th>\n",
       "      <th>Action</th>\n",
       "      <th>Adventure</th>\n",
       "      <th>Animation</th>\n",
       "      <th>Children's</th>\n",
       "      <th>...</th>\n",
       "      <th>Fantasy</th>\n",
       "      <th>Film-Noir</th>\n",
       "      <th>Horror</th>\n",
       "      <th>Musical</th>\n",
       "      <th>Mystery</th>\n",
       "      <th>Romance</th>\n",
       "      <th>Sci-Fi</th>\n",
       "      <th>Thriller</th>\n",
       "      <th>War</th>\n",
       "      <th>Western</th>\n",
       "    </tr>\n",
       "  </thead>\n",
       "  <tbody>\n",
       "    <tr>\n",
       "      <th>0</th>\n",
       "      <td>1</td>\n",
       "      <td>Toy Story (1995)</td>\n",
       "      <td>01-Jan-1995</td>\n",
       "      <td>NaN</td>\n",
       "      <td>http://us.imdb.com/M/title-exact?Toy%20Story%2...</td>\n",
       "      <td>0</td>\n",
       "      <td>0</td>\n",
       "      <td>0</td>\n",
       "      <td>1</td>\n",
       "      <td>1</td>\n",
       "      <td>...</td>\n",
       "      <td>0</td>\n",
       "      <td>0</td>\n",
       "      <td>0</td>\n",
       "      <td>0</td>\n",
       "      <td>0</td>\n",
       "      <td>0</td>\n",
       "      <td>0</td>\n",
       "      <td>0</td>\n",
       "      <td>0</td>\n",
       "      <td>0</td>\n",
       "    </tr>\n",
       "    <tr>\n",
       "      <th>1</th>\n",
       "      <td>2</td>\n",
       "      <td>GoldenEye (1995)</td>\n",
       "      <td>01-Jan-1995</td>\n",
       "      <td>NaN</td>\n",
       "      <td>http://us.imdb.com/M/title-exact?GoldenEye%20(...</td>\n",
       "      <td>0</td>\n",
       "      <td>1</td>\n",
       "      <td>1</td>\n",
       "      <td>0</td>\n",
       "      <td>0</td>\n",
       "      <td>...</td>\n",
       "      <td>0</td>\n",
       "      <td>0</td>\n",
       "      <td>0</td>\n",
       "      <td>0</td>\n",
       "      <td>0</td>\n",
       "      <td>0</td>\n",
       "      <td>0</td>\n",
       "      <td>1</td>\n",
       "      <td>0</td>\n",
       "      <td>0</td>\n",
       "    </tr>\n",
       "    <tr>\n",
       "      <th>2</th>\n",
       "      <td>3</td>\n",
       "      <td>Four Rooms (1995)</td>\n",
       "      <td>01-Jan-1995</td>\n",
       "      <td>NaN</td>\n",
       "      <td>http://us.imdb.com/M/title-exact?Four%20Rooms%...</td>\n",
       "      <td>0</td>\n",
       "      <td>0</td>\n",
       "      <td>0</td>\n",
       "      <td>0</td>\n",
       "      <td>0</td>\n",
       "      <td>...</td>\n",
       "      <td>0</td>\n",
       "      <td>0</td>\n",
       "      <td>0</td>\n",
       "      <td>0</td>\n",
       "      <td>0</td>\n",
       "      <td>0</td>\n",
       "      <td>0</td>\n",
       "      <td>1</td>\n",
       "      <td>0</td>\n",
       "      <td>0</td>\n",
       "    </tr>\n",
       "    <tr>\n",
       "      <th>3</th>\n",
       "      <td>4</td>\n",
       "      <td>Get Shorty (1995)</td>\n",
       "      <td>01-Jan-1995</td>\n",
       "      <td>NaN</td>\n",
       "      <td>http://us.imdb.com/M/title-exact?Get%20Shorty%...</td>\n",
       "      <td>0</td>\n",
       "      <td>1</td>\n",
       "      <td>0</td>\n",
       "      <td>0</td>\n",
       "      <td>0</td>\n",
       "      <td>...</td>\n",
       "      <td>0</td>\n",
       "      <td>0</td>\n",
       "      <td>0</td>\n",
       "      <td>0</td>\n",
       "      <td>0</td>\n",
       "      <td>0</td>\n",
       "      <td>0</td>\n",
       "      <td>0</td>\n",
       "      <td>0</td>\n",
       "      <td>0</td>\n",
       "    </tr>\n",
       "    <tr>\n",
       "      <th>4</th>\n",
       "      <td>5</td>\n",
       "      <td>Copycat (1995)</td>\n",
       "      <td>01-Jan-1995</td>\n",
       "      <td>NaN</td>\n",
       "      <td>http://us.imdb.com/M/title-exact?Copycat%20(1995)</td>\n",
       "      <td>0</td>\n",
       "      <td>0</td>\n",
       "      <td>0</td>\n",
       "      <td>0</td>\n",
       "      <td>0</td>\n",
       "      <td>...</td>\n",
       "      <td>0</td>\n",
       "      <td>0</td>\n",
       "      <td>0</td>\n",
       "      <td>0</td>\n",
       "      <td>0</td>\n",
       "      <td>0</td>\n",
       "      <td>0</td>\n",
       "      <td>1</td>\n",
       "      <td>0</td>\n",
       "      <td>0</td>\n",
       "    </tr>\n",
       "    <tr>\n",
       "      <th>5</th>\n",
       "      <td>6</td>\n",
       "      <td>Shanghai Triad (Yao a yao yao dao waipo qiao) ...</td>\n",
       "      <td>01-Jan-1995</td>\n",
       "      <td>NaN</td>\n",
       "      <td>http://us.imdb.com/Title?Yao+a+yao+yao+dao+wai...</td>\n",
       "      <td>0</td>\n",
       "      <td>0</td>\n",
       "      <td>0</td>\n",
       "      <td>0</td>\n",
       "      <td>0</td>\n",
       "      <td>...</td>\n",
       "      <td>0</td>\n",
       "      <td>0</td>\n",
       "      <td>0</td>\n",
       "      <td>0</td>\n",
       "      <td>0</td>\n",
       "      <td>0</td>\n",
       "      <td>0</td>\n",
       "      <td>0</td>\n",
       "      <td>0</td>\n",
       "      <td>0</td>\n",
       "    </tr>\n",
       "    <tr>\n",
       "      <th>6</th>\n",
       "      <td>7</td>\n",
       "      <td>Twelve Monkeys (1995)</td>\n",
       "      <td>01-Jan-1995</td>\n",
       "      <td>NaN</td>\n",
       "      <td>http://us.imdb.com/M/title-exact?Twelve%20Monk...</td>\n",
       "      <td>0</td>\n",
       "      <td>0</td>\n",
       "      <td>0</td>\n",
       "      <td>0</td>\n",
       "      <td>0</td>\n",
       "      <td>...</td>\n",
       "      <td>0</td>\n",
       "      <td>0</td>\n",
       "      <td>0</td>\n",
       "      <td>0</td>\n",
       "      <td>0</td>\n",
       "      <td>0</td>\n",
       "      <td>1</td>\n",
       "      <td>0</td>\n",
       "      <td>0</td>\n",
       "      <td>0</td>\n",
       "    </tr>\n",
       "    <tr>\n",
       "      <th>7</th>\n",
       "      <td>8</td>\n",
       "      <td>Babe (1995)</td>\n",
       "      <td>01-Jan-1995</td>\n",
       "      <td>NaN</td>\n",
       "      <td>http://us.imdb.com/M/title-exact?Babe%20(1995)</td>\n",
       "      <td>0</td>\n",
       "      <td>0</td>\n",
       "      <td>0</td>\n",
       "      <td>0</td>\n",
       "      <td>1</td>\n",
       "      <td>...</td>\n",
       "      <td>0</td>\n",
       "      <td>0</td>\n",
       "      <td>0</td>\n",
       "      <td>0</td>\n",
       "      <td>0</td>\n",
       "      <td>0</td>\n",
       "      <td>0</td>\n",
       "      <td>0</td>\n",
       "      <td>0</td>\n",
       "      <td>0</td>\n",
       "    </tr>\n",
       "    <tr>\n",
       "      <th>8</th>\n",
       "      <td>9</td>\n",
       "      <td>Dead Man Walking (1995)</td>\n",
       "      <td>01-Jan-1995</td>\n",
       "      <td>NaN</td>\n",
       "      <td>http://us.imdb.com/M/title-exact?Dead%20Man%20...</td>\n",
       "      <td>0</td>\n",
       "      <td>0</td>\n",
       "      <td>0</td>\n",
       "      <td>0</td>\n",
       "      <td>0</td>\n",
       "      <td>...</td>\n",
       "      <td>0</td>\n",
       "      <td>0</td>\n",
       "      <td>0</td>\n",
       "      <td>0</td>\n",
       "      <td>0</td>\n",
       "      <td>0</td>\n",
       "      <td>0</td>\n",
       "      <td>0</td>\n",
       "      <td>0</td>\n",
       "      <td>0</td>\n",
       "    </tr>\n",
       "    <tr>\n",
       "      <th>9</th>\n",
       "      <td>10</td>\n",
       "      <td>Richard III (1995)</td>\n",
       "      <td>22-Jan-1996</td>\n",
       "      <td>NaN</td>\n",
       "      <td>http://us.imdb.com/M/title-exact?Richard%20III...</td>\n",
       "      <td>0</td>\n",
       "      <td>0</td>\n",
       "      <td>0</td>\n",
       "      <td>0</td>\n",
       "      <td>0</td>\n",
       "      <td>...</td>\n",
       "      <td>0</td>\n",
       "      <td>0</td>\n",
       "      <td>0</td>\n",
       "      <td>0</td>\n",
       "      <td>0</td>\n",
       "      <td>0</td>\n",
       "      <td>0</td>\n",
       "      <td>0</td>\n",
       "      <td>1</td>\n",
       "      <td>0</td>\n",
       "    </tr>\n",
       "    <tr>\n",
       "      <th>10</th>\n",
       "      <td>11</td>\n",
       "      <td>Seven (Se7en) (1995)</td>\n",
       "      <td>01-Jan-1995</td>\n",
       "      <td>NaN</td>\n",
       "      <td>http://us.imdb.com/M/title-exact?Se7en%20(1995)</td>\n",
       "      <td>0</td>\n",
       "      <td>0</td>\n",
       "      <td>0</td>\n",
       "      <td>0</td>\n",
       "      <td>0</td>\n",
       "      <td>...</td>\n",
       "      <td>0</td>\n",
       "      <td>0</td>\n",
       "      <td>0</td>\n",
       "      <td>0</td>\n",
       "      <td>0</td>\n",
       "      <td>0</td>\n",
       "      <td>0</td>\n",
       "      <td>1</td>\n",
       "      <td>0</td>\n",
       "      <td>0</td>\n",
       "    </tr>\n",
       "    <tr>\n",
       "      <th>11</th>\n",
       "      <td>12</td>\n",
       "      <td>Usual Suspects, The (1995)</td>\n",
       "      <td>14-Aug-1995</td>\n",
       "      <td>NaN</td>\n",
       "      <td>http://us.imdb.com/M/title-exact?Usual%20Suspe...</td>\n",
       "      <td>0</td>\n",
       "      <td>0</td>\n",
       "      <td>0</td>\n",
       "      <td>0</td>\n",
       "      <td>0</td>\n",
       "      <td>...</td>\n",
       "      <td>0</td>\n",
       "      <td>0</td>\n",
       "      <td>0</td>\n",
       "      <td>0</td>\n",
       "      <td>0</td>\n",
       "      <td>0</td>\n",
       "      <td>0</td>\n",
       "      <td>1</td>\n",
       "      <td>0</td>\n",
       "      <td>0</td>\n",
       "    </tr>\n",
       "    <tr>\n",
       "      <th>12</th>\n",
       "      <td>13</td>\n",
       "      <td>Mighty Aphrodite (1995)</td>\n",
       "      <td>30-Oct-1995</td>\n",
       "      <td>NaN</td>\n",
       "      <td>http://us.imdb.com/M/title-exact?Mighty%20Aphr...</td>\n",
       "      <td>0</td>\n",
       "      <td>0</td>\n",
       "      <td>0</td>\n",
       "      <td>0</td>\n",
       "      <td>0</td>\n",
       "      <td>...</td>\n",
       "      <td>0</td>\n",
       "      <td>0</td>\n",
       "      <td>0</td>\n",
       "      <td>0</td>\n",
       "      <td>0</td>\n",
       "      <td>0</td>\n",
       "      <td>0</td>\n",
       "      <td>0</td>\n",
       "      <td>0</td>\n",
       "      <td>0</td>\n",
       "    </tr>\n",
       "    <tr>\n",
       "      <th>13</th>\n",
       "      <td>14</td>\n",
       "      <td>Postino, Il (1994)</td>\n",
       "      <td>01-Jan-1994</td>\n",
       "      <td>NaN</td>\n",
       "      <td>http://us.imdb.com/M/title-exact?Postino,%20Il...</td>\n",
       "      <td>0</td>\n",
       "      <td>0</td>\n",
       "      <td>0</td>\n",
       "      <td>0</td>\n",
       "      <td>0</td>\n",
       "      <td>...</td>\n",
       "      <td>0</td>\n",
       "      <td>0</td>\n",
       "      <td>0</td>\n",
       "      <td>0</td>\n",
       "      <td>0</td>\n",
       "      <td>1</td>\n",
       "      <td>0</td>\n",
       "      <td>0</td>\n",
       "      <td>0</td>\n",
       "      <td>0</td>\n",
       "    </tr>\n",
       "    <tr>\n",
       "      <th>14</th>\n",
       "      <td>15</td>\n",
       "      <td>Mr. Holland's Opus (1995)</td>\n",
       "      <td>29-Jan-1996</td>\n",
       "      <td>NaN</td>\n",
       "      <td>http://us.imdb.com/M/title-exact?Mr.%20Holland...</td>\n",
       "      <td>0</td>\n",
       "      <td>0</td>\n",
       "      <td>0</td>\n",
       "      <td>0</td>\n",
       "      <td>0</td>\n",
       "      <td>...</td>\n",
       "      <td>0</td>\n",
       "      <td>0</td>\n",
       "      <td>0</td>\n",
       "      <td>0</td>\n",
       "      <td>0</td>\n",
       "      <td>0</td>\n",
       "      <td>0</td>\n",
       "      <td>0</td>\n",
       "      <td>0</td>\n",
       "      <td>0</td>\n",
       "    </tr>\n",
       "    <tr>\n",
       "      <th>15</th>\n",
       "      <td>16</td>\n",
       "      <td>French Twist (Gazon maudit) (1995)</td>\n",
       "      <td>01-Jan-1995</td>\n",
       "      <td>NaN</td>\n",
       "      <td>http://us.imdb.com/M/title-exact?Gazon%20maudi...</td>\n",
       "      <td>0</td>\n",
       "      <td>0</td>\n",
       "      <td>0</td>\n",
       "      <td>0</td>\n",
       "      <td>0</td>\n",
       "      <td>...</td>\n",
       "      <td>0</td>\n",
       "      <td>0</td>\n",
       "      <td>0</td>\n",
       "      <td>0</td>\n",
       "      <td>0</td>\n",
       "      <td>1</td>\n",
       "      <td>0</td>\n",
       "      <td>0</td>\n",
       "      <td>0</td>\n",
       "      <td>0</td>\n",
       "    </tr>\n",
       "    <tr>\n",
       "      <th>16</th>\n",
       "      <td>17</td>\n",
       "      <td>From Dusk Till Dawn (1996)</td>\n",
       "      <td>05-Feb-1996</td>\n",
       "      <td>NaN</td>\n",
       "      <td>http://us.imdb.com/M/title-exact?From%20Dusk%2...</td>\n",
       "      <td>0</td>\n",
       "      <td>1</td>\n",
       "      <td>0</td>\n",
       "      <td>0</td>\n",
       "      <td>0</td>\n",
       "      <td>...</td>\n",
       "      <td>0</td>\n",
       "      <td>0</td>\n",
       "      <td>1</td>\n",
       "      <td>0</td>\n",
       "      <td>0</td>\n",
       "      <td>0</td>\n",
       "      <td>0</td>\n",
       "      <td>1</td>\n",
       "      <td>0</td>\n",
       "      <td>0</td>\n",
       "    </tr>\n",
       "    <tr>\n",
       "      <th>17</th>\n",
       "      <td>18</td>\n",
       "      <td>White Balloon, The (1995)</td>\n",
       "      <td>01-Jan-1995</td>\n",
       "      <td>NaN</td>\n",
       "      <td>http://us.imdb.com/M/title-exact?Badkonake%20S...</td>\n",
       "      <td>0</td>\n",
       "      <td>0</td>\n",
       "      <td>0</td>\n",
       "      <td>0</td>\n",
       "      <td>0</td>\n",
       "      <td>...</td>\n",
       "      <td>0</td>\n",
       "      <td>0</td>\n",
       "      <td>0</td>\n",
       "      <td>0</td>\n",
       "      <td>0</td>\n",
       "      <td>0</td>\n",
       "      <td>0</td>\n",
       "      <td>0</td>\n",
       "      <td>0</td>\n",
       "      <td>0</td>\n",
       "    </tr>\n",
       "    <tr>\n",
       "      <th>18</th>\n",
       "      <td>19</td>\n",
       "      <td>Antonia's Line (1995)</td>\n",
       "      <td>01-Jan-1995</td>\n",
       "      <td>NaN</td>\n",
       "      <td>http://us.imdb.com/M/title-exact?Antonia%20(1995)</td>\n",
       "      <td>0</td>\n",
       "      <td>0</td>\n",
       "      <td>0</td>\n",
       "      <td>0</td>\n",
       "      <td>0</td>\n",
       "      <td>...</td>\n",
       "      <td>0</td>\n",
       "      <td>0</td>\n",
       "      <td>0</td>\n",
       "      <td>0</td>\n",
       "      <td>0</td>\n",
       "      <td>0</td>\n",
       "      <td>0</td>\n",
       "      <td>0</td>\n",
       "      <td>0</td>\n",
       "      <td>0</td>\n",
       "    </tr>\n",
       "    <tr>\n",
       "      <th>19</th>\n",
       "      <td>20</td>\n",
       "      <td>Angels and Insects (1995)</td>\n",
       "      <td>01-Jan-1995</td>\n",
       "      <td>NaN</td>\n",
       "      <td>http://us.imdb.com/M/title-exact?Angels%20and%...</td>\n",
       "      <td>0</td>\n",
       "      <td>0</td>\n",
       "      <td>0</td>\n",
       "      <td>0</td>\n",
       "      <td>0</td>\n",
       "      <td>...</td>\n",
       "      <td>0</td>\n",
       "      <td>0</td>\n",
       "      <td>0</td>\n",
       "      <td>0</td>\n",
       "      <td>0</td>\n",
       "      <td>1</td>\n",
       "      <td>0</td>\n",
       "      <td>0</td>\n",
       "      <td>0</td>\n",
       "      <td>0</td>\n",
       "    </tr>\n",
       "  </tbody>\n",
       "</table>\n",
       "<p>20 rows × 24 columns</p>\n",
       "</div>"
      ],
      "text/plain": [
       "    movie_id                                        movie_title release_date  \\\n",
       "0          1                                   Toy Story (1995)  01-Jan-1995   \n",
       "1          2                                   GoldenEye (1995)  01-Jan-1995   \n",
       "2          3                                  Four Rooms (1995)  01-Jan-1995   \n",
       "3          4                                  Get Shorty (1995)  01-Jan-1995   \n",
       "4          5                                     Copycat (1995)  01-Jan-1995   \n",
       "5          6  Shanghai Triad (Yao a yao yao dao waipo qiao) ...  01-Jan-1995   \n",
       "6          7                              Twelve Monkeys (1995)  01-Jan-1995   \n",
       "7          8                                        Babe (1995)  01-Jan-1995   \n",
       "8          9                            Dead Man Walking (1995)  01-Jan-1995   \n",
       "9         10                                 Richard III (1995)  22-Jan-1996   \n",
       "10        11                               Seven (Se7en) (1995)  01-Jan-1995   \n",
       "11        12                         Usual Suspects, The (1995)  14-Aug-1995   \n",
       "12        13                            Mighty Aphrodite (1995)  30-Oct-1995   \n",
       "13        14                                 Postino, Il (1994)  01-Jan-1994   \n",
       "14        15                          Mr. Holland's Opus (1995)  29-Jan-1996   \n",
       "15        16                 French Twist (Gazon maudit) (1995)  01-Jan-1995   \n",
       "16        17                         From Dusk Till Dawn (1996)  05-Feb-1996   \n",
       "17        18                          White Balloon, The (1995)  01-Jan-1995   \n",
       "18        19                              Antonia's Line (1995)  01-Jan-1995   \n",
       "19        20                          Angels and Insects (1995)  01-Jan-1995   \n",
       "\n",
       "    video_release_date                                           IMDb_URL  \\\n",
       "0                  NaN  http://us.imdb.com/M/title-exact?Toy%20Story%2...   \n",
       "1                  NaN  http://us.imdb.com/M/title-exact?GoldenEye%20(...   \n",
       "2                  NaN  http://us.imdb.com/M/title-exact?Four%20Rooms%...   \n",
       "3                  NaN  http://us.imdb.com/M/title-exact?Get%20Shorty%...   \n",
       "4                  NaN  http://us.imdb.com/M/title-exact?Copycat%20(1995)   \n",
       "5                  NaN  http://us.imdb.com/Title?Yao+a+yao+yao+dao+wai...   \n",
       "6                  NaN  http://us.imdb.com/M/title-exact?Twelve%20Monk...   \n",
       "7                  NaN     http://us.imdb.com/M/title-exact?Babe%20(1995)   \n",
       "8                  NaN  http://us.imdb.com/M/title-exact?Dead%20Man%20...   \n",
       "9                  NaN  http://us.imdb.com/M/title-exact?Richard%20III...   \n",
       "10                 NaN    http://us.imdb.com/M/title-exact?Se7en%20(1995)   \n",
       "11                 NaN  http://us.imdb.com/M/title-exact?Usual%20Suspe...   \n",
       "12                 NaN  http://us.imdb.com/M/title-exact?Mighty%20Aphr...   \n",
       "13                 NaN  http://us.imdb.com/M/title-exact?Postino,%20Il...   \n",
       "14                 NaN  http://us.imdb.com/M/title-exact?Mr.%20Holland...   \n",
       "15                 NaN  http://us.imdb.com/M/title-exact?Gazon%20maudi...   \n",
       "16                 NaN  http://us.imdb.com/M/title-exact?From%20Dusk%2...   \n",
       "17                 NaN  http://us.imdb.com/M/title-exact?Badkonake%20S...   \n",
       "18                 NaN  http://us.imdb.com/M/title-exact?Antonia%20(1995)   \n",
       "19                 NaN  http://us.imdb.com/M/title-exact?Angels%20and%...   \n",
       "\n",
       "    unknown  Action  Adventure  Animation  Children's  ...  Fantasy  \\\n",
       "0         0       0          0          1           1  ...        0   \n",
       "1         0       1          1          0           0  ...        0   \n",
       "2         0       0          0          0           0  ...        0   \n",
       "3         0       1          0          0           0  ...        0   \n",
       "4         0       0          0          0           0  ...        0   \n",
       "5         0       0          0          0           0  ...        0   \n",
       "6         0       0          0          0           0  ...        0   \n",
       "7         0       0          0          0           1  ...        0   \n",
       "8         0       0          0          0           0  ...        0   \n",
       "9         0       0          0          0           0  ...        0   \n",
       "10        0       0          0          0           0  ...        0   \n",
       "11        0       0          0          0           0  ...        0   \n",
       "12        0       0          0          0           0  ...        0   \n",
       "13        0       0          0          0           0  ...        0   \n",
       "14        0       0          0          0           0  ...        0   \n",
       "15        0       0          0          0           0  ...        0   \n",
       "16        0       1          0          0           0  ...        0   \n",
       "17        0       0          0          0           0  ...        0   \n",
       "18        0       0          0          0           0  ...        0   \n",
       "19        0       0          0          0           0  ...        0   \n",
       "\n",
       "    Film-Noir  Horror  Musical  Mystery  Romance  Sci-Fi  Thriller  War  \\\n",
       "0           0       0        0        0        0       0         0    0   \n",
       "1           0       0        0        0        0       0         1    0   \n",
       "2           0       0        0        0        0       0         1    0   \n",
       "3           0       0        0        0        0       0         0    0   \n",
       "4           0       0        0        0        0       0         1    0   \n",
       "5           0       0        0        0        0       0         0    0   \n",
       "6           0       0        0        0        0       1         0    0   \n",
       "7           0       0        0        0        0       0         0    0   \n",
       "8           0       0        0        0        0       0         0    0   \n",
       "9           0       0        0        0        0       0         0    1   \n",
       "10          0       0        0        0        0       0         1    0   \n",
       "11          0       0        0        0        0       0         1    0   \n",
       "12          0       0        0        0        0       0         0    0   \n",
       "13          0       0        0        0        1       0         0    0   \n",
       "14          0       0        0        0        0       0         0    0   \n",
       "15          0       0        0        0        1       0         0    0   \n",
       "16          0       1        0        0        0       0         1    0   \n",
       "17          0       0        0        0        0       0         0    0   \n",
       "18          0       0        0        0        0       0         0    0   \n",
       "19          0       0        0        0        1       0         0    0   \n",
       "\n",
       "    Western  \n",
       "0         0  \n",
       "1         0  \n",
       "2         0  \n",
       "3         0  \n",
       "4         0  \n",
       "5         0  \n",
       "6         0  \n",
       "7         0  \n",
       "8         0  \n",
       "9         0  \n",
       "10        0  \n",
       "11        0  \n",
       "12        0  \n",
       "13        0  \n",
       "14        0  \n",
       "15        0  \n",
       "16        0  \n",
       "17        0  \n",
       "18        0  \n",
       "19        0  \n",
       "\n",
       "[20 rows x 24 columns]"
      ]
     },
     "execution_count": 96,
     "metadata": {},
     "output_type": "execute_result"
    }
   ],
   "source": [
    "u_item.head(20)"
   ]
  },
  {
   "cell_type": "code",
   "execution_count": 97,
   "id": "b58fff24-873e-42b4-afc1-159a6cdf39fa",
   "metadata": {},
   "outputs": [
    {
     "name": "stdout",
     "output_type": "stream",
     "text": [
      "<class 'pandas.core.frame.DataFrame'>\n",
      "RangeIndex: 1682 entries, 0 to 1681\n",
      "Data columns (total 24 columns):\n",
      " #   Column              Non-Null Count  Dtype  \n",
      "---  ------              --------------  -----  \n",
      " 0   movie_id            1682 non-null   int64  \n",
      " 1   movie_title         1682 non-null   object \n",
      " 2   release_date        1681 non-null   object \n",
      " 3   video_release_date  0 non-null      float64\n",
      " 4   IMDb_URL            1679 non-null   object \n",
      " 5   unknown             1682 non-null   int64  \n",
      " 6   Action              1682 non-null   int64  \n",
      " 7   Adventure           1682 non-null   int64  \n",
      " 8   Animation           1682 non-null   int64  \n",
      " 9   Children's          1682 non-null   int64  \n",
      " 10  Comedy              1682 non-null   int64  \n",
      " 11  Crime               1682 non-null   int64  \n",
      " 12  Documentary         1682 non-null   int64  \n",
      " 13  Drama               1682 non-null   int64  \n",
      " 14  Fantasy             1682 non-null   int64  \n",
      " 15  Film-Noir           1682 non-null   int64  \n",
      " 16  Horror              1682 non-null   int64  \n",
      " 17  Musical             1682 non-null   int64  \n",
      " 18  Mystery             1682 non-null   int64  \n",
      " 19  Romance             1682 non-null   int64  \n",
      " 20  Sci-Fi              1682 non-null   int64  \n",
      " 21  Thriller            1682 non-null   int64  \n",
      " 22  War                 1682 non-null   int64  \n",
      " 23  Western             1682 non-null   int64  \n",
      "dtypes: float64(1), int64(20), object(3)\n",
      "memory usage: 315.5+ KB\n"
     ]
    }
   ],
   "source": [
    "u_item.info()"
   ]
  },
  {
   "cell_type": "code",
   "execution_count": 98,
   "id": "87b62172-d8c0-4770-849c-783b1335a9a2",
   "metadata": {},
   "outputs": [
    {
     "data": {
      "text/plain": [
       "movie_id              1682\n",
       "movie_title           1664\n",
       "release_date           240\n",
       "video_release_date       0\n",
       "IMDb_URL              1660\n",
       "unknown                  2\n",
       "Action                   2\n",
       "Adventure                2\n",
       "Animation                2\n",
       "Children's               2\n",
       "Comedy                   2\n",
       "Crime                    2\n",
       "Documentary              2\n",
       "Drama                    2\n",
       "Fantasy                  2\n",
       "Film-Noir                2\n",
       "Horror                   2\n",
       "Musical                  2\n",
       "Mystery                  2\n",
       "Romance                  2\n",
       "Sci-Fi                   2\n",
       "Thriller                 2\n",
       "War                      2\n",
       "Western                  2\n",
       "dtype: int64"
      ]
     },
     "execution_count": 98,
     "metadata": {},
     "output_type": "execute_result"
    }
   ],
   "source": [
    "u_item.nunique()"
   ]
  },
  {
   "cell_type": "markdown",
   "id": "229beedc-2775-4c56-b88f-22535ebab5c1",
   "metadata": {},
   "source": [
    "### Dropping the NAN value column"
   ]
  },
  {
   "cell_type": "code",
   "execution_count": 99,
   "id": "78f7940a-8d77-40b1-af52-3c95457c0b17",
   "metadata": {},
   "outputs": [],
   "source": [
    "u_item = u_item.drop('video_release_date', axis=1)"
   ]
  },
  {
   "cell_type": "code",
   "execution_count": 100,
   "id": "94c6dd2d-7056-4c79-8b4f-ccb1b9ac5aa4",
   "metadata": {},
   "outputs": [
    {
     "data": {
      "text/html": [
       "<div>\n",
       "<style scoped>\n",
       "    .dataframe tbody tr th:only-of-type {\n",
       "        vertical-align: middle;\n",
       "    }\n",
       "\n",
       "    .dataframe tbody tr th {\n",
       "        vertical-align: top;\n",
       "    }\n",
       "\n",
       "    .dataframe thead th {\n",
       "        text-align: right;\n",
       "    }\n",
       "</style>\n",
       "<table border=\"1\" class=\"dataframe\">\n",
       "  <thead>\n",
       "    <tr style=\"text-align: right;\">\n",
       "      <th></th>\n",
       "      <th>movie_id</th>\n",
       "      <th>movie_title</th>\n",
       "      <th>release_date</th>\n",
       "      <th>IMDb_URL</th>\n",
       "      <th>unknown</th>\n",
       "      <th>Action</th>\n",
       "      <th>Adventure</th>\n",
       "      <th>Animation</th>\n",
       "      <th>Children's</th>\n",
       "      <th>Comedy</th>\n",
       "      <th>...</th>\n",
       "      <th>Fantasy</th>\n",
       "      <th>Film-Noir</th>\n",
       "      <th>Horror</th>\n",
       "      <th>Musical</th>\n",
       "      <th>Mystery</th>\n",
       "      <th>Romance</th>\n",
       "      <th>Sci-Fi</th>\n",
       "      <th>Thriller</th>\n",
       "      <th>War</th>\n",
       "      <th>Western</th>\n",
       "    </tr>\n",
       "  </thead>\n",
       "  <tbody>\n",
       "    <tr>\n",
       "      <th>0</th>\n",
       "      <td>1</td>\n",
       "      <td>Toy Story (1995)</td>\n",
       "      <td>01-Jan-1995</td>\n",
       "      <td>http://us.imdb.com/M/title-exact?Toy%20Story%2...</td>\n",
       "      <td>0</td>\n",
       "      <td>0</td>\n",
       "      <td>0</td>\n",
       "      <td>1</td>\n",
       "      <td>1</td>\n",
       "      <td>1</td>\n",
       "      <td>...</td>\n",
       "      <td>0</td>\n",
       "      <td>0</td>\n",
       "      <td>0</td>\n",
       "      <td>0</td>\n",
       "      <td>0</td>\n",
       "      <td>0</td>\n",
       "      <td>0</td>\n",
       "      <td>0</td>\n",
       "      <td>0</td>\n",
       "      <td>0</td>\n",
       "    </tr>\n",
       "    <tr>\n",
       "      <th>1</th>\n",
       "      <td>2</td>\n",
       "      <td>GoldenEye (1995)</td>\n",
       "      <td>01-Jan-1995</td>\n",
       "      <td>http://us.imdb.com/M/title-exact?GoldenEye%20(...</td>\n",
       "      <td>0</td>\n",
       "      <td>1</td>\n",
       "      <td>1</td>\n",
       "      <td>0</td>\n",
       "      <td>0</td>\n",
       "      <td>0</td>\n",
       "      <td>...</td>\n",
       "      <td>0</td>\n",
       "      <td>0</td>\n",
       "      <td>0</td>\n",
       "      <td>0</td>\n",
       "      <td>0</td>\n",
       "      <td>0</td>\n",
       "      <td>0</td>\n",
       "      <td>1</td>\n",
       "      <td>0</td>\n",
       "      <td>0</td>\n",
       "    </tr>\n",
       "    <tr>\n",
       "      <th>2</th>\n",
       "      <td>3</td>\n",
       "      <td>Four Rooms (1995)</td>\n",
       "      <td>01-Jan-1995</td>\n",
       "      <td>http://us.imdb.com/M/title-exact?Four%20Rooms%...</td>\n",
       "      <td>0</td>\n",
       "      <td>0</td>\n",
       "      <td>0</td>\n",
       "      <td>0</td>\n",
       "      <td>0</td>\n",
       "      <td>0</td>\n",
       "      <td>...</td>\n",
       "      <td>0</td>\n",
       "      <td>0</td>\n",
       "      <td>0</td>\n",
       "      <td>0</td>\n",
       "      <td>0</td>\n",
       "      <td>0</td>\n",
       "      <td>0</td>\n",
       "      <td>1</td>\n",
       "      <td>0</td>\n",
       "      <td>0</td>\n",
       "    </tr>\n",
       "    <tr>\n",
       "      <th>3</th>\n",
       "      <td>4</td>\n",
       "      <td>Get Shorty (1995)</td>\n",
       "      <td>01-Jan-1995</td>\n",
       "      <td>http://us.imdb.com/M/title-exact?Get%20Shorty%...</td>\n",
       "      <td>0</td>\n",
       "      <td>1</td>\n",
       "      <td>0</td>\n",
       "      <td>0</td>\n",
       "      <td>0</td>\n",
       "      <td>1</td>\n",
       "      <td>...</td>\n",
       "      <td>0</td>\n",
       "      <td>0</td>\n",
       "      <td>0</td>\n",
       "      <td>0</td>\n",
       "      <td>0</td>\n",
       "      <td>0</td>\n",
       "      <td>0</td>\n",
       "      <td>0</td>\n",
       "      <td>0</td>\n",
       "      <td>0</td>\n",
       "    </tr>\n",
       "    <tr>\n",
       "      <th>4</th>\n",
       "      <td>5</td>\n",
       "      <td>Copycat (1995)</td>\n",
       "      <td>01-Jan-1995</td>\n",
       "      <td>http://us.imdb.com/M/title-exact?Copycat%20(1995)</td>\n",
       "      <td>0</td>\n",
       "      <td>0</td>\n",
       "      <td>0</td>\n",
       "      <td>0</td>\n",
       "      <td>0</td>\n",
       "      <td>0</td>\n",
       "      <td>...</td>\n",
       "      <td>0</td>\n",
       "      <td>0</td>\n",
       "      <td>0</td>\n",
       "      <td>0</td>\n",
       "      <td>0</td>\n",
       "      <td>0</td>\n",
       "      <td>0</td>\n",
       "      <td>1</td>\n",
       "      <td>0</td>\n",
       "      <td>0</td>\n",
       "    </tr>\n",
       "    <tr>\n",
       "      <th>5</th>\n",
       "      <td>6</td>\n",
       "      <td>Shanghai Triad (Yao a yao yao dao waipo qiao) ...</td>\n",
       "      <td>01-Jan-1995</td>\n",
       "      <td>http://us.imdb.com/Title?Yao+a+yao+yao+dao+wai...</td>\n",
       "      <td>0</td>\n",
       "      <td>0</td>\n",
       "      <td>0</td>\n",
       "      <td>0</td>\n",
       "      <td>0</td>\n",
       "      <td>0</td>\n",
       "      <td>...</td>\n",
       "      <td>0</td>\n",
       "      <td>0</td>\n",
       "      <td>0</td>\n",
       "      <td>0</td>\n",
       "      <td>0</td>\n",
       "      <td>0</td>\n",
       "      <td>0</td>\n",
       "      <td>0</td>\n",
       "      <td>0</td>\n",
       "      <td>0</td>\n",
       "    </tr>\n",
       "    <tr>\n",
       "      <th>6</th>\n",
       "      <td>7</td>\n",
       "      <td>Twelve Monkeys (1995)</td>\n",
       "      <td>01-Jan-1995</td>\n",
       "      <td>http://us.imdb.com/M/title-exact?Twelve%20Monk...</td>\n",
       "      <td>0</td>\n",
       "      <td>0</td>\n",
       "      <td>0</td>\n",
       "      <td>0</td>\n",
       "      <td>0</td>\n",
       "      <td>0</td>\n",
       "      <td>...</td>\n",
       "      <td>0</td>\n",
       "      <td>0</td>\n",
       "      <td>0</td>\n",
       "      <td>0</td>\n",
       "      <td>0</td>\n",
       "      <td>0</td>\n",
       "      <td>1</td>\n",
       "      <td>0</td>\n",
       "      <td>0</td>\n",
       "      <td>0</td>\n",
       "    </tr>\n",
       "    <tr>\n",
       "      <th>7</th>\n",
       "      <td>8</td>\n",
       "      <td>Babe (1995)</td>\n",
       "      <td>01-Jan-1995</td>\n",
       "      <td>http://us.imdb.com/M/title-exact?Babe%20(1995)</td>\n",
       "      <td>0</td>\n",
       "      <td>0</td>\n",
       "      <td>0</td>\n",
       "      <td>0</td>\n",
       "      <td>1</td>\n",
       "      <td>1</td>\n",
       "      <td>...</td>\n",
       "      <td>0</td>\n",
       "      <td>0</td>\n",
       "      <td>0</td>\n",
       "      <td>0</td>\n",
       "      <td>0</td>\n",
       "      <td>0</td>\n",
       "      <td>0</td>\n",
       "      <td>0</td>\n",
       "      <td>0</td>\n",
       "      <td>0</td>\n",
       "    </tr>\n",
       "    <tr>\n",
       "      <th>8</th>\n",
       "      <td>9</td>\n",
       "      <td>Dead Man Walking (1995)</td>\n",
       "      <td>01-Jan-1995</td>\n",
       "      <td>http://us.imdb.com/M/title-exact?Dead%20Man%20...</td>\n",
       "      <td>0</td>\n",
       "      <td>0</td>\n",
       "      <td>0</td>\n",
       "      <td>0</td>\n",
       "      <td>0</td>\n",
       "      <td>0</td>\n",
       "      <td>...</td>\n",
       "      <td>0</td>\n",
       "      <td>0</td>\n",
       "      <td>0</td>\n",
       "      <td>0</td>\n",
       "      <td>0</td>\n",
       "      <td>0</td>\n",
       "      <td>0</td>\n",
       "      <td>0</td>\n",
       "      <td>0</td>\n",
       "      <td>0</td>\n",
       "    </tr>\n",
       "    <tr>\n",
       "      <th>9</th>\n",
       "      <td>10</td>\n",
       "      <td>Richard III (1995)</td>\n",
       "      <td>22-Jan-1996</td>\n",
       "      <td>http://us.imdb.com/M/title-exact?Richard%20III...</td>\n",
       "      <td>0</td>\n",
       "      <td>0</td>\n",
       "      <td>0</td>\n",
       "      <td>0</td>\n",
       "      <td>0</td>\n",
       "      <td>0</td>\n",
       "      <td>...</td>\n",
       "      <td>0</td>\n",
       "      <td>0</td>\n",
       "      <td>0</td>\n",
       "      <td>0</td>\n",
       "      <td>0</td>\n",
       "      <td>0</td>\n",
       "      <td>0</td>\n",
       "      <td>0</td>\n",
       "      <td>1</td>\n",
       "      <td>0</td>\n",
       "    </tr>\n",
       "  </tbody>\n",
       "</table>\n",
       "<p>10 rows × 23 columns</p>\n",
       "</div>"
      ],
      "text/plain": [
       "   movie_id                                        movie_title release_date  \\\n",
       "0         1                                   Toy Story (1995)  01-Jan-1995   \n",
       "1         2                                   GoldenEye (1995)  01-Jan-1995   \n",
       "2         3                                  Four Rooms (1995)  01-Jan-1995   \n",
       "3         4                                  Get Shorty (1995)  01-Jan-1995   \n",
       "4         5                                     Copycat (1995)  01-Jan-1995   \n",
       "5         6  Shanghai Triad (Yao a yao yao dao waipo qiao) ...  01-Jan-1995   \n",
       "6         7                              Twelve Monkeys (1995)  01-Jan-1995   \n",
       "7         8                                        Babe (1995)  01-Jan-1995   \n",
       "8         9                            Dead Man Walking (1995)  01-Jan-1995   \n",
       "9        10                                 Richard III (1995)  22-Jan-1996   \n",
       "\n",
       "                                            IMDb_URL  unknown  Action  \\\n",
       "0  http://us.imdb.com/M/title-exact?Toy%20Story%2...        0       0   \n",
       "1  http://us.imdb.com/M/title-exact?GoldenEye%20(...        0       1   \n",
       "2  http://us.imdb.com/M/title-exact?Four%20Rooms%...        0       0   \n",
       "3  http://us.imdb.com/M/title-exact?Get%20Shorty%...        0       1   \n",
       "4  http://us.imdb.com/M/title-exact?Copycat%20(1995)        0       0   \n",
       "5  http://us.imdb.com/Title?Yao+a+yao+yao+dao+wai...        0       0   \n",
       "6  http://us.imdb.com/M/title-exact?Twelve%20Monk...        0       0   \n",
       "7     http://us.imdb.com/M/title-exact?Babe%20(1995)        0       0   \n",
       "8  http://us.imdb.com/M/title-exact?Dead%20Man%20...        0       0   \n",
       "9  http://us.imdb.com/M/title-exact?Richard%20III...        0       0   \n",
       "\n",
       "   Adventure  Animation  Children's  Comedy  ...  Fantasy  Film-Noir  Horror  \\\n",
       "0          0          1           1       1  ...        0          0       0   \n",
       "1          1          0           0       0  ...        0          0       0   \n",
       "2          0          0           0       0  ...        0          0       0   \n",
       "3          0          0           0       1  ...        0          0       0   \n",
       "4          0          0           0       0  ...        0          0       0   \n",
       "5          0          0           0       0  ...        0          0       0   \n",
       "6          0          0           0       0  ...        0          0       0   \n",
       "7          0          0           1       1  ...        0          0       0   \n",
       "8          0          0           0       0  ...        0          0       0   \n",
       "9          0          0           0       0  ...        0          0       0   \n",
       "\n",
       "   Musical  Mystery  Romance  Sci-Fi  Thriller  War  Western  \n",
       "0        0        0        0       0         0    0        0  \n",
       "1        0        0        0       0         1    0        0  \n",
       "2        0        0        0       0         1    0        0  \n",
       "3        0        0        0       0         0    0        0  \n",
       "4        0        0        0       0         1    0        0  \n",
       "5        0        0        0       0         0    0        0  \n",
       "6        0        0        0       1         0    0        0  \n",
       "7        0        0        0       0         0    0        0  \n",
       "8        0        0        0       0         0    0        0  \n",
       "9        0        0        0       0         0    1        0  \n",
       "\n",
       "[10 rows x 23 columns]"
      ]
     },
     "execution_count": 100,
     "metadata": {},
     "output_type": "execute_result"
    }
   ],
   "source": [
    "u_item.head(10)"
   ]
  },
  {
   "cell_type": "markdown",
   "id": "f0a37d36-cb2d-45d0-af69-4bf20d71ce04",
   "metadata": {},
   "source": [
    "## Building Collaborative Filtering-Based Recommender using Matrix Factorization Model"
   ]
  },
  {
   "cell_type": "markdown",
   "id": "f1b28062-f315-4a3b-b2dc-8fb181e1cf2f",
   "metadata": {},
   "source": [
    "#### Creating a user-item rating matrix"
   ]
  },
  {
   "cell_type": "code",
   "execution_count": 101,
   "id": "5ef8081d-41ab-44f2-81a0-6b2989012043",
   "metadata": {},
   "outputs": [
    {
     "name": "stdout",
     "output_type": "stream",
     "text": [
      "User-Item Matrix: \n",
      "[[5. 3. 4. ... 0. 0. 0.]\n",
      " [4. 0. 0. ... 0. 0. 0.]\n",
      " [0. 0. 0. ... 0. 0. 0.]\n",
      " ...\n",
      " [5. 0. 0. ... 0. 0. 0.]\n",
      " [0. 0. 0. ... 0. 0. 0.]\n",
      " [0. 5. 0. ... 0. 0. 0.]]\n"
     ]
    }
   ],
   "source": [
    "num_users = u_data.user_id.unique().shape[0]\n",
    "num_items = u_data.item_id.unique().shape[0]\n",
    "R = np.zeros((num_users, num_items))\n",
    "\n",
    "for row in u_data.itertuples():\n",
    "    R[row.user_id - 1, row.item_id - 1] = row.rating\n",
    "\n",
    "print(f\"User-Item Matrix: \\n{R}\")\n"
   ]
  },
  {
   "cell_type": "markdown",
   "id": "f17f3918-74a5-4576-b798-8f48d9d357f2",
   "metadata": {},
   "source": [
    "#### Display the user-item rating matrix with zeros for missing ratings"
   ]
  },
  {
   "cell_type": "code",
   "execution_count": 102,
   "id": "cf0cfa91-efe5-4fb5-8ee4-c0f7e74dbeb5",
   "metadata": {},
   "outputs": [
    {
     "name": "stdout",
     "output_type": "stream",
     "text": [
      "User-Item Matrix with Missing Ratings (0s indicate missing ratings):\n",
      "          Item 1  Item 2  Item 3  Item 4  Item 5  Item 6  Item 7  Item 8  \\\n",
      "User 1       5.0     3.0     4.0     3.0     3.0     5.0     4.0     1.0   \n",
      "User 2       4.0     0.0     0.0     0.0     0.0     0.0     0.0     0.0   \n",
      "User 3       0.0     0.0     0.0     0.0     0.0     0.0     0.0     0.0   \n",
      "User 4       0.0     0.0     0.0     0.0     0.0     0.0     0.0     0.0   \n",
      "User 5       4.0     3.0     0.0     0.0     0.0     0.0     0.0     0.0   \n",
      "...          ...     ...     ...     ...     ...     ...     ...     ...   \n",
      "User 939     0.0     0.0     0.0     0.0     0.0     0.0     0.0     0.0   \n",
      "User 940     0.0     0.0     0.0     2.0     0.0     0.0     4.0     5.0   \n",
      "User 941     5.0     0.0     0.0     0.0     0.0     0.0     4.0     0.0   \n",
      "User 942     0.0     0.0     0.0     0.0     0.0     0.0     0.0     0.0   \n",
      "User 943     0.0     5.0     0.0     0.0     0.0     0.0     0.0     0.0   \n",
      "\n",
      "          Item 9  Item 10  ...  Item 1673  Item 1674  Item 1675  Item 1676  \\\n",
      "User 1       5.0      3.0  ...        0.0        0.0        0.0        0.0   \n",
      "User 2       0.0      2.0  ...        0.0        0.0        0.0        0.0   \n",
      "User 3       0.0      0.0  ...        0.0        0.0        0.0        0.0   \n",
      "User 4       0.0      0.0  ...        0.0        0.0        0.0        0.0   \n",
      "User 5       0.0      0.0  ...        0.0        0.0        0.0        0.0   \n",
      "...          ...      ...  ...        ...        ...        ...        ...   \n",
      "User 939     5.0      0.0  ...        0.0        0.0        0.0        0.0   \n",
      "User 940     3.0      0.0  ...        0.0        0.0        0.0        0.0   \n",
      "User 941     0.0      0.0  ...        0.0        0.0        0.0        0.0   \n",
      "User 942     0.0      0.0  ...        0.0        0.0        0.0        0.0   \n",
      "User 943     3.0      0.0  ...        0.0        0.0        0.0        0.0   \n",
      "\n",
      "          Item 1677  Item 1678  Item 1679  Item 1680  Item 1681  Item 1682  \n",
      "User 1          0.0        0.0        0.0        0.0        0.0        0.0  \n",
      "User 2          0.0        0.0        0.0        0.0        0.0        0.0  \n",
      "User 3          0.0        0.0        0.0        0.0        0.0        0.0  \n",
      "User 4          0.0        0.0        0.0        0.0        0.0        0.0  \n",
      "User 5          0.0        0.0        0.0        0.0        0.0        0.0  \n",
      "...             ...        ...        ...        ...        ...        ...  \n",
      "User 939        0.0        0.0        0.0        0.0        0.0        0.0  \n",
      "User 940        0.0        0.0        0.0        0.0        0.0        0.0  \n",
      "User 941        0.0        0.0        0.0        0.0        0.0        0.0  \n",
      "User 942        0.0        0.0        0.0        0.0        0.0        0.0  \n",
      "User 943        0.0        0.0        0.0        0.0        0.0        0.0  \n",
      "\n",
      "[943 rows x 1682 columns]\n"
     ]
    }
   ],
   "source": [
    "print(\"User-Item Matrix with Missing Ratings (0s indicate missing ratings):\")\n",
    "R_df = pd.DataFrame(R, columns=[f'Item {i+1}' for i in range(num_items)], index=[f'User {i+1}' for i in range(num_users)])\n",
    "print(R_df)"
   ]
  },
  {
   "cell_type": "code",
   "execution_count": 103,
   "id": "ff43312c-3804-4f41-b095-59e87724c3f4",
   "metadata": {},
   "outputs": [
    {
     "name": "stdout",
     "output_type": "stream",
     "text": [
      "Iteration: 1 ; error = 1.0675\n",
      "Iteration: 2 ; error = 1.0340\n",
      "Iteration: 3 ; error = 1.0126\n",
      "Iteration: 4 ; error = 0.9977\n",
      "Iteration: 5 ; error = 0.9868\n",
      "Iteration: 6 ; error = 0.9783\n",
      "Iteration: 7 ; error = 0.9717\n",
      "Iteration: 8 ; error = 0.9662\n",
      "Iteration: 9 ; error = 0.9616\n",
      "Iteration: 10 ; error = 0.9577\n",
      "Iteration: 11 ; error = 0.9543\n",
      "Iteration: 12 ; error = 0.9513\n",
      "Iteration: 13 ; error = 0.9487\n",
      "Iteration: 14 ; error = 0.9464\n",
      "Iteration: 15 ; error = 0.9442\n",
      "Iteration: 16 ; error = 0.9423\n",
      "Iteration: 17 ; error = 0.9405\n",
      "Iteration: 18 ; error = 0.9389\n",
      "Iteration: 19 ; error = 0.9374\n",
      "Iteration: 20 ; error = 0.9361\n",
      "Iteration: 21 ; error = 0.9348\n",
      "Iteration: 22 ; error = 0.9336\n",
      "Iteration: 23 ; error = 0.9324\n",
      "Iteration: 24 ; error = 0.9314\n",
      "Iteration: 25 ; error = 0.9304\n",
      "Iteration: 26 ; error = 0.9294\n",
      "Iteration: 27 ; error = 0.9285\n",
      "Iteration: 28 ; error = 0.9276\n",
      "Iteration: 29 ; error = 0.9268\n",
      "Iteration: 30 ; error = 0.9260\n",
      "Iteration: 31 ; error = 0.9253\n",
      "Iteration: 32 ; error = 0.9245\n",
      "Iteration: 33 ; error = 0.9238\n",
      "Iteration: 34 ; error = 0.9231\n",
      "Iteration: 35 ; error = 0.9225\n",
      "Iteration: 36 ; error = 0.9218\n",
      "Iteration: 37 ; error = 0.9212\n",
      "Iteration: 38 ; error = 0.9206\n",
      "Iteration: 39 ; error = 0.9199\n",
      "Iteration: 40 ; error = 0.9193\n",
      "Iteration: 41 ; error = 0.9187\n",
      "Iteration: 42 ; error = 0.9181\n",
      "Iteration: 43 ; error = 0.9175\n",
      "Iteration: 44 ; error = 0.9169\n",
      "Iteration: 45 ; error = 0.9163\n",
      "Iteration: 46 ; error = 0.9157\n",
      "Iteration: 47 ; error = 0.9151\n",
      "Iteration: 48 ; error = 0.9145\n",
      "Iteration: 49 ; error = 0.9138\n",
      "Iteration: 50 ; error = 0.9132\n",
      "RMSE: 0.9132\n",
      "MAE: 0.7220\n",
      "Precision: 0.7495\n",
      "Recall: 0.7513\n",
      "F1-Score: 0.7504\n"
     ]
    }
   ],
   "source": [
    "from sklearn.metrics import precision_score, recall_score, f1_score\n",
    "from math import sqrt\n",
    "\n",
    "class MatrixFactorization:\n",
    "    def __init__(self, R, K, alpha, beta, iterations):\n",
    "        # Initialize the MatrixFactorization model\n",
    "        self.R = R  # User-item rating matrix\n",
    "        self.num_users, self.num_items = R.shape  # Number of users and items\n",
    "        self.K = K  # Number of latent factors\n",
    "        self.alpha = alpha  # Learning rate\n",
    "        self.beta = beta  # Regularization parameter\n",
    "        self.iterations = iterations  # Number of iterations\n",
    "\n",
    "    def train(self):\n",
    "        # Initialize user and item latent feature matrices with random values\n",
    "        self.P = np.random.normal(scale=1./self.K, size=(self.num_users, self.K))\n",
    "        self.Q = np.random.normal(scale=1./self.K, size=(self.num_items, self.K))\n",
    "\n",
    "        # Initialize biases\n",
    "        self.b_u = np.zeros(self.num_users)  # User biases\n",
    "        self.b_i = np.zeros(self.num_items)  # Item biases\n",
    "        self.b = np.mean(self.R[np.where(self.R != 0)])  # Global bias\n",
    "\n",
    "        # Create a list of known ratings\n",
    "        self.samples = [\n",
    "            (i, j, self.R[i, j])\n",
    "            for i in range(self.num_users)\n",
    "            for j in range(self.num_items)\n",
    "            if self.R[i, j] > 0\n",
    "        ]\n",
    "\n",
    "        # Training process\n",
    "        training_process = []\n",
    "        for i in range(self.iterations):\n",
    "            np.random.shuffle(self.samples)\n",
    "            self.sgd()  # Perform stochastic gradient descent\n",
    "            rmse = self.rmse()  # Compute RMSE\n",
    "            training_process.append((i, rmse))\n",
    "            print(\"Iteration: %d ; error = %.4f\" % (i+1, rmse))\n",
    "\n",
    "        return training_process\n",
    "\n",
    "    def sgd(self):\n",
    "        # Perform stochastic gradient descent\n",
    "        for i, j, r in self.samples:\n",
    "            prediction = self.get_rating(i, j)  # Predicted rating\n",
    "            e = (r - prediction)  # Prediction error\n",
    "\n",
    "            # Update biases\n",
    "            self.b_u[i] += self.alpha * (e - self.beta * self.b_u[i])\n",
    "            self.b_i[j] += self.alpha * (e - self.beta * self.b_i[j])\n",
    "\n",
    "            # Update latent feature matrices\n",
    "            self.P[i, :] += self.alpha * (e * self.Q[j, :] - self.beta * self.P[i,:])\n",
    "            self.Q[j, :] += self.alpha * (e * self.P[i, :] - self.beta * self.Q[j,:])\n",
    "\n",
    "    def get_rating(self, i, j):\n",
    "        # Compute predicted rating\n",
    "        prediction = self.b + self.b_u[i] + self.b_i[j] + self.P[i, :].dot(self.Q[j, :].T)\n",
    "        return prediction\n",
    "\n",
    "    def rmse(self):\n",
    "        # Compute RMSE\n",
    "        xs, ys = self.R.nonzero()  # Indices of known ratings\n",
    "        predicted = self.full_matrix()  # Predicted ratings matrix\n",
    "        error = 0\n",
    "        for x, y in zip(xs, ys):\n",
    "            error += pow(self.R[x, y] - predicted[x, y], 2)\n",
    "        return sqrt(error/len(xs))\n",
    "\n",
    "    def mae(self):\n",
    "        # Compute MAE\n",
    "        xs, ys = self.R.nonzero()  # Indices of known ratings\n",
    "        predicted = self.full_matrix()  # Predicted ratings matrix\n",
    "        error = 0\n",
    "        for x, y in zip(xs, ys):\n",
    "            error += abs(self.R[x, y] - predicted[x, y])\n",
    "        return error/len(xs)\n",
    "\n",
    "    def precision_recall_f1(self, threshold=3.5):\n",
    "        # Compute Precision, Recall, and F1-Score\n",
    "        xs, ys = self.R.nonzero()  # Indices of known ratings\n",
    "        predicted = self.full_matrix()  # Predicted ratings matrix\n",
    "\n",
    "        y_true = []\n",
    "        y_pred = []\n",
    "\n",
    "        for x, y in zip(xs, ys):\n",
    "            y_true.append(self.R[x, y] >= threshold)\n",
    "            y_pred.append(predicted[x, y] >= threshold)\n",
    "\n",
    "        precision = precision_score(y_true, y_pred)\n",
    "        recall = recall_score(y_true, y_pred)\n",
    "        f1 = f1_score(y_true, y_pred)\n",
    "\n",
    "        return precision, recall, f1\n",
    "\n",
    "    def full_matrix(self):\n",
    "        # Compute full predicted ratings matrix\n",
    "        return self.b + self.b_u[:, np.newaxis] + self.b_i[np.newaxis:, ] + self.P.dot(self.Q.T)\n",
    "\n",
    "\n",
    "# R is already defined as the user-item rating matrix\n",
    "mf = MatrixFactorization(R, K=20, alpha=0.001, beta=0.001, iterations=50) \n",
    "training_process = mf.train()\n",
    "\n",
    "# Evaluate the model\n",
    "rmse = mf.rmse()\n",
    "mae = mf.mae()\n",
    "precision, recall, f1 = mf.precision_recall_f1()\n",
    "\n",
    "print(f\"RMSE: {rmse:.4f}\")\n",
    "print(f\"MAE: {mae:.4f}\")\n",
    "print(f\"Precision: {precision:.4f}\")\n",
    "print(f\"Recall: {recall:.4f}\")\n",
    "print(f\"F1-Score: {f1:.4f}\")\n"
   ]
  },
  {
   "cell_type": "code",
   "execution_count": 104,
   "id": "4a922367-f1d3-4000-a92d-28cb3ce66ddb",
   "metadata": {},
   "outputs": [
    {
     "data": {
      "application/vnd.plotly.v1+json": {
       "config": {
        "plotlyServerURL": "https://plot.ly"
       },
       "data": [
        {
         "line": {
          "color": "blue"
         },
         "marker": {
          "symbol": "circle"
         },
         "mode": "lines+markers",
         "name": "RMSE",
         "type": "scatter",
         "x": [
          0,
          1,
          2,
          3,
          4,
          5,
          6,
          7,
          8,
          9,
          10,
          11,
          12,
          13,
          14,
          15,
          16,
          17,
          18,
          19,
          20,
          21,
          22,
          23,
          24,
          25,
          26,
          27,
          28,
          29,
          30,
          31,
          32,
          33,
          34,
          35,
          36,
          37,
          38,
          39,
          40,
          41,
          42,
          43,
          44,
          45,
          46,
          47,
          48,
          49
         ],
         "y": [
          1.0675254092726512,
          1.0340409883379316,
          1.0125909080390179,
          0.9977144118039206,
          0.9867612363115106,
          0.9783470612322142,
          0.9716516401673246,
          0.9661740104356287,
          0.9615897815136523,
          0.9576832080181404,
          0.9542982480383373,
          0.9513307350814273,
          0.9487029776800842,
          0.946352727416559,
          0.9442334939317265,
          0.9423074301487756,
          0.940548829134361,
          0.9389324650031246,
          0.9374399455780288,
          0.936056329246681,
          0.9347666459883597,
          0.9335627086395792,
          0.9324328091266008,
          0.9313693750917672,
          0.9303651152036689,
          0.9294133903609189,
          0.9285092425099714,
          0.9276475225891704,
          0.926823881295583,
          0.9260335629288637,
          0.9252744346023875,
          0.9245406238093918,
          0.9238321550253173,
          0.9231438158642904,
          0.9224739792869868,
          0.9218202502083511,
          0.9211798912397416,
          0.92055109759884,
          0.9199314374650582,
          0.9193196430163235,
          0.918713114096447,
          0.9181105231507098,
          0.9175097903325359,
          0.9169090576064719,
          0.9163066122563712,
          0.915701377877832,
          0.9150914247920857,
          0.9144736382337079,
          0.9138488837017154,
          0.9132134506212346
         ]
        }
       ],
       "layout": {
        "autosize": true,
        "showlegend": true,
        "template": {
         "data": {
          "bar": [
           {
            "error_x": {
             "color": "#2a3f5f"
            },
            "error_y": {
             "color": "#2a3f5f"
            },
            "marker": {
             "line": {
              "color": "white",
              "width": 0.5
             },
             "pattern": {
              "fillmode": "overlay",
              "size": 10,
              "solidity": 0.2
             }
            },
            "type": "bar"
           }
          ],
          "barpolar": [
           {
            "marker": {
             "line": {
              "color": "white",
              "width": 0.5
             },
             "pattern": {
              "fillmode": "overlay",
              "size": 10,
              "solidity": 0.2
             }
            },
            "type": "barpolar"
           }
          ],
          "carpet": [
           {
            "aaxis": {
             "endlinecolor": "#2a3f5f",
             "gridcolor": "#C8D4E3",
             "linecolor": "#C8D4E3",
             "minorgridcolor": "#C8D4E3",
             "startlinecolor": "#2a3f5f"
            },
            "baxis": {
             "endlinecolor": "#2a3f5f",
             "gridcolor": "#C8D4E3",
             "linecolor": "#C8D4E3",
             "minorgridcolor": "#C8D4E3",
             "startlinecolor": "#2a3f5f"
            },
            "type": "carpet"
           }
          ],
          "choropleth": [
           {
            "colorbar": {
             "outlinewidth": 0,
             "ticks": ""
            },
            "type": "choropleth"
           }
          ],
          "contour": [
           {
            "colorbar": {
             "outlinewidth": 0,
             "ticks": ""
            },
            "colorscale": [
             [
              0,
              "#0d0887"
             ],
             [
              0.1111111111111111,
              "#46039f"
             ],
             [
              0.2222222222222222,
              "#7201a8"
             ],
             [
              0.3333333333333333,
              "#9c179e"
             ],
             [
              0.4444444444444444,
              "#bd3786"
             ],
             [
              0.5555555555555556,
              "#d8576b"
             ],
             [
              0.6666666666666666,
              "#ed7953"
             ],
             [
              0.7777777777777778,
              "#fb9f3a"
             ],
             [
              0.8888888888888888,
              "#fdca26"
             ],
             [
              1,
              "#f0f921"
             ]
            ],
            "type": "contour"
           }
          ],
          "contourcarpet": [
           {
            "colorbar": {
             "outlinewidth": 0,
             "ticks": ""
            },
            "type": "contourcarpet"
           }
          ],
          "heatmap": [
           {
            "colorbar": {
             "outlinewidth": 0,
             "ticks": ""
            },
            "colorscale": [
             [
              0,
              "#0d0887"
             ],
             [
              0.1111111111111111,
              "#46039f"
             ],
             [
              0.2222222222222222,
              "#7201a8"
             ],
             [
              0.3333333333333333,
              "#9c179e"
             ],
             [
              0.4444444444444444,
              "#bd3786"
             ],
             [
              0.5555555555555556,
              "#d8576b"
             ],
             [
              0.6666666666666666,
              "#ed7953"
             ],
             [
              0.7777777777777778,
              "#fb9f3a"
             ],
             [
              0.8888888888888888,
              "#fdca26"
             ],
             [
              1,
              "#f0f921"
             ]
            ],
            "type": "heatmap"
           }
          ],
          "heatmapgl": [
           {
            "colorbar": {
             "outlinewidth": 0,
             "ticks": ""
            },
            "colorscale": [
             [
              0,
              "#0d0887"
             ],
             [
              0.1111111111111111,
              "#46039f"
             ],
             [
              0.2222222222222222,
              "#7201a8"
             ],
             [
              0.3333333333333333,
              "#9c179e"
             ],
             [
              0.4444444444444444,
              "#bd3786"
             ],
             [
              0.5555555555555556,
              "#d8576b"
             ],
             [
              0.6666666666666666,
              "#ed7953"
             ],
             [
              0.7777777777777778,
              "#fb9f3a"
             ],
             [
              0.8888888888888888,
              "#fdca26"
             ],
             [
              1,
              "#f0f921"
             ]
            ],
            "type": "heatmapgl"
           }
          ],
          "histogram": [
           {
            "marker": {
             "pattern": {
              "fillmode": "overlay",
              "size": 10,
              "solidity": 0.2
             }
            },
            "type": "histogram"
           }
          ],
          "histogram2d": [
           {
            "colorbar": {
             "outlinewidth": 0,
             "ticks": ""
            },
            "colorscale": [
             [
              0,
              "#0d0887"
             ],
             [
              0.1111111111111111,
              "#46039f"
             ],
             [
              0.2222222222222222,
              "#7201a8"
             ],
             [
              0.3333333333333333,
              "#9c179e"
             ],
             [
              0.4444444444444444,
              "#bd3786"
             ],
             [
              0.5555555555555556,
              "#d8576b"
             ],
             [
              0.6666666666666666,
              "#ed7953"
             ],
             [
              0.7777777777777778,
              "#fb9f3a"
             ],
             [
              0.8888888888888888,
              "#fdca26"
             ],
             [
              1,
              "#f0f921"
             ]
            ],
            "type": "histogram2d"
           }
          ],
          "histogram2dcontour": [
           {
            "colorbar": {
             "outlinewidth": 0,
             "ticks": ""
            },
            "colorscale": [
             [
              0,
              "#0d0887"
             ],
             [
              0.1111111111111111,
              "#46039f"
             ],
             [
              0.2222222222222222,
              "#7201a8"
             ],
             [
              0.3333333333333333,
              "#9c179e"
             ],
             [
              0.4444444444444444,
              "#bd3786"
             ],
             [
              0.5555555555555556,
              "#d8576b"
             ],
             [
              0.6666666666666666,
              "#ed7953"
             ],
             [
              0.7777777777777778,
              "#fb9f3a"
             ],
             [
              0.8888888888888888,
              "#fdca26"
             ],
             [
              1,
              "#f0f921"
             ]
            ],
            "type": "histogram2dcontour"
           }
          ],
          "mesh3d": [
           {
            "colorbar": {
             "outlinewidth": 0,
             "ticks": ""
            },
            "type": "mesh3d"
           }
          ],
          "parcoords": [
           {
            "line": {
             "colorbar": {
              "outlinewidth": 0,
              "ticks": ""
             }
            },
            "type": "parcoords"
           }
          ],
          "pie": [
           {
            "automargin": true,
            "type": "pie"
           }
          ],
          "scatter": [
           {
            "fillpattern": {
             "fillmode": "overlay",
             "size": 10,
             "solidity": 0.2
            },
            "type": "scatter"
           }
          ],
          "scatter3d": [
           {
            "line": {
             "colorbar": {
              "outlinewidth": 0,
              "ticks": ""
             }
            },
            "marker": {
             "colorbar": {
              "outlinewidth": 0,
              "ticks": ""
             }
            },
            "type": "scatter3d"
           }
          ],
          "scattercarpet": [
           {
            "marker": {
             "colorbar": {
              "outlinewidth": 0,
              "ticks": ""
             }
            },
            "type": "scattercarpet"
           }
          ],
          "scattergeo": [
           {
            "marker": {
             "colorbar": {
              "outlinewidth": 0,
              "ticks": ""
             }
            },
            "type": "scattergeo"
           }
          ],
          "scattergl": [
           {
            "marker": {
             "colorbar": {
              "outlinewidth": 0,
              "ticks": ""
             }
            },
            "type": "scattergl"
           }
          ],
          "scattermapbox": [
           {
            "marker": {
             "colorbar": {
              "outlinewidth": 0,
              "ticks": ""
             }
            },
            "type": "scattermapbox"
           }
          ],
          "scatterpolar": [
           {
            "marker": {
             "colorbar": {
              "outlinewidth": 0,
              "ticks": ""
             }
            },
            "type": "scatterpolar"
           }
          ],
          "scatterpolargl": [
           {
            "marker": {
             "colorbar": {
              "outlinewidth": 0,
              "ticks": ""
             }
            },
            "type": "scatterpolargl"
           }
          ],
          "scatterternary": [
           {
            "marker": {
             "colorbar": {
              "outlinewidth": 0,
              "ticks": ""
             }
            },
            "type": "scatterternary"
           }
          ],
          "surface": [
           {
            "colorbar": {
             "outlinewidth": 0,
             "ticks": ""
            },
            "colorscale": [
             [
              0,
              "#0d0887"
             ],
             [
              0.1111111111111111,
              "#46039f"
             ],
             [
              0.2222222222222222,
              "#7201a8"
             ],
             [
              0.3333333333333333,
              "#9c179e"
             ],
             [
              0.4444444444444444,
              "#bd3786"
             ],
             [
              0.5555555555555556,
              "#d8576b"
             ],
             [
              0.6666666666666666,
              "#ed7953"
             ],
             [
              0.7777777777777778,
              "#fb9f3a"
             ],
             [
              0.8888888888888888,
              "#fdca26"
             ],
             [
              1,
              "#f0f921"
             ]
            ],
            "type": "surface"
           }
          ],
          "table": [
           {
            "cells": {
             "fill": {
              "color": "#EBF0F8"
             },
             "line": {
              "color": "white"
             }
            },
            "header": {
             "fill": {
              "color": "#C8D4E3"
             },
             "line": {
              "color": "white"
             }
            },
            "type": "table"
           }
          ]
         },
         "layout": {
          "annotationdefaults": {
           "arrowcolor": "#2a3f5f",
           "arrowhead": 0,
           "arrowwidth": 1
          },
          "autotypenumbers": "strict",
          "coloraxis": {
           "colorbar": {
            "outlinewidth": 0,
            "ticks": ""
           }
          },
          "colorscale": {
           "diverging": [
            [
             0,
             "#8e0152"
            ],
            [
             0.1,
             "#c51b7d"
            ],
            [
             0.2,
             "#de77ae"
            ],
            [
             0.3,
             "#f1b6da"
            ],
            [
             0.4,
             "#fde0ef"
            ],
            [
             0.5,
             "#f7f7f7"
            ],
            [
             0.6,
             "#e6f5d0"
            ],
            [
             0.7,
             "#b8e186"
            ],
            [
             0.8,
             "#7fbc41"
            ],
            [
             0.9,
             "#4d9221"
            ],
            [
             1,
             "#276419"
            ]
           ],
           "sequential": [
            [
             0,
             "#0d0887"
            ],
            [
             0.1111111111111111,
             "#46039f"
            ],
            [
             0.2222222222222222,
             "#7201a8"
            ],
            [
             0.3333333333333333,
             "#9c179e"
            ],
            [
             0.4444444444444444,
             "#bd3786"
            ],
            [
             0.5555555555555556,
             "#d8576b"
            ],
            [
             0.6666666666666666,
             "#ed7953"
            ],
            [
             0.7777777777777778,
             "#fb9f3a"
            ],
            [
             0.8888888888888888,
             "#fdca26"
            ],
            [
             1,
             "#f0f921"
            ]
           ],
           "sequentialminus": [
            [
             0,
             "#0d0887"
            ],
            [
             0.1111111111111111,
             "#46039f"
            ],
            [
             0.2222222222222222,
             "#7201a8"
            ],
            [
             0.3333333333333333,
             "#9c179e"
            ],
            [
             0.4444444444444444,
             "#bd3786"
            ],
            [
             0.5555555555555556,
             "#d8576b"
            ],
            [
             0.6666666666666666,
             "#ed7953"
            ],
            [
             0.7777777777777778,
             "#fb9f3a"
            ],
            [
             0.8888888888888888,
             "#fdca26"
            ],
            [
             1,
             "#f0f921"
            ]
           ]
          },
          "colorway": [
           "#636efa",
           "#EF553B",
           "#00cc96",
           "#ab63fa",
           "#FFA15A",
           "#19d3f3",
           "#FF6692",
           "#B6E880",
           "#FF97FF",
           "#FECB52"
          ],
          "font": {
           "color": "#2a3f5f"
          },
          "geo": {
           "bgcolor": "white",
           "lakecolor": "white",
           "landcolor": "white",
           "showlakes": true,
           "showland": true,
           "subunitcolor": "#C8D4E3"
          },
          "hoverlabel": {
           "align": "left"
          },
          "hovermode": "closest",
          "mapbox": {
           "style": "light"
          },
          "paper_bgcolor": "white",
          "plot_bgcolor": "white",
          "polar": {
           "angularaxis": {
            "gridcolor": "#EBF0F8",
            "linecolor": "#EBF0F8",
            "ticks": ""
           },
           "bgcolor": "white",
           "radialaxis": {
            "gridcolor": "#EBF0F8",
            "linecolor": "#EBF0F8",
            "ticks": ""
           }
          },
          "scene": {
           "xaxis": {
            "backgroundcolor": "white",
            "gridcolor": "#DFE8F3",
            "gridwidth": 2,
            "linecolor": "#EBF0F8",
            "showbackground": true,
            "ticks": "",
            "zerolinecolor": "#EBF0F8"
           },
           "yaxis": {
            "backgroundcolor": "white",
            "gridcolor": "#DFE8F3",
            "gridwidth": 2,
            "linecolor": "#EBF0F8",
            "showbackground": true,
            "ticks": "",
            "zerolinecolor": "#EBF0F8"
           },
           "zaxis": {
            "backgroundcolor": "white",
            "gridcolor": "#DFE8F3",
            "gridwidth": 2,
            "linecolor": "#EBF0F8",
            "showbackground": true,
            "ticks": "",
            "zerolinecolor": "#EBF0F8"
           }
          },
          "shapedefaults": {
           "line": {
            "color": "#2a3f5f"
           }
          },
          "ternary": {
           "aaxis": {
            "gridcolor": "#DFE8F3",
            "linecolor": "#A2B1C6",
            "ticks": ""
           },
           "baxis": {
            "gridcolor": "#DFE8F3",
            "linecolor": "#A2B1C6",
            "ticks": ""
           },
           "bgcolor": "white",
           "caxis": {
            "gridcolor": "#DFE8F3",
            "linecolor": "#A2B1C6",
            "ticks": ""
           }
          },
          "title": {
           "x": 0.05
          },
          "xaxis": {
           "automargin": true,
           "gridcolor": "#EBF0F8",
           "linecolor": "#EBF0F8",
           "ticks": "",
           "title": {
            "standoff": 15
           },
           "zerolinecolor": "#EBF0F8",
           "zerolinewidth": 2
          },
          "yaxis": {
           "automargin": true,
           "gridcolor": "#EBF0F8",
           "linecolor": "#EBF0F8",
           "ticks": "",
           "title": {
            "standoff": 15
           },
           "zerolinecolor": "#EBF0F8",
           "zerolinewidth": 2
          }
         }
        },
        "title": {
         "text": "RMSE over Iterations"
        },
        "xaxis": {
         "autorange": true,
         "range": [
          -2.971875764245537,
          51.97187576424554
         ],
         "title": {
          "text": "Iteration"
         },
         "type": "linear"
        },
        "yaxis": {
         "autorange": true,
         "range": [
          0.9004789685966031,
          1.0802598912972827
         ],
         "title": {
          "text": "RMSE"
         },
         "type": "linear"
        }
       }
      },
      "image/png": "[encoded data removed]",
      "text/html": [
       "<div>                            <div id=\"26c5caf6-ebfe-48d9-9774-e27902a18cbb\" class=\"plotly-graph-div\" style=\"height:525px; width:100%;\"></div>            <script type=\"text/javascript\">                require([\"plotly\"], function(Plotly) {                    window.PLOTLYENV=window.PLOTLYENV || {};                                    if (document.getElementById(\"26c5caf6-ebfe-48d9-9774-e27902a18cbb\")) {                    Plotly.newPlot(                        \"26c5caf6-ebfe-48d9-9774-e27902a18cbb\",                        [{\"line\":{\"color\":\"blue\"},\"marker\":{\"symbol\":\"circle\"},\"mode\":\"lines+markers\",\"name\":\"RMSE\",\"x\":[0,1,2,3,4,5,6,7,8,9,10,11,12,13,14,15,16,17,18,19,20,21,22,23,24,25,26,27,28,29,30,31,32,33,34,35,36,37,38,39,40,41,42,43,44,45,46,47,48,49],\"y\":[1.0675254092726512,1.0340409883379316,1.0125909080390179,0.9977144118039206,0.9867612363115106,0.9783470612322142,0.9716516401673246,0.9661740104356287,0.9615897815136523,0.9576832080181404,0.9542982480383373,0.9513307350814273,0.9487029776800842,0.946352727416559,0.9442334939317265,0.9423074301487756,0.940548829134361,0.9389324650031246,0.9374399455780288,0.936056329246681,0.9347666459883597,0.9335627086395792,0.9324328091266008,0.9313693750917672,0.9303651152036689,0.9294133903609189,0.9285092425099714,0.9276475225891704,0.926823881295583,0.9260335629288637,0.9252744346023875,0.9245406238093918,0.9238321550253173,0.9231438158642904,0.9224739792869868,0.9218202502083511,0.9211798912397416,0.92055109759884,0.9199314374650582,0.9193196430163235,0.918713114096447,0.9181105231507098,0.9175097903325359,0.9169090576064719,0.9163066122563712,0.915701377877832,0.9150914247920857,0.9144736382337079,0.9138488837017154,0.9132134506212346],\"type\":\"scatter\"}],                        {\"template\":{\"data\":{\"barpolar\":[{\"marker\":{\"line\":{\"color\":\"white\",\"width\":0.5},\"pattern\":{\"fillmode\":\"overlay\",\"size\":10,\"solidity\":0.2}},\"type\":\"barpolar\"}],\"bar\":[{\"error_x\":{\"color\":\"#2a3f5f\"},\"error_y\":{\"color\":\"#2a3f5f\"},\"marker\":{\"line\":{\"color\":\"white\",\"width\":0.5},\"pattern\":{\"fillmode\":\"overlay\",\"size\":10,\"solidity\":0.2}},\"type\":\"bar\"}],\"carpet\":[{\"aaxis\":{\"endlinecolor\":\"#2a3f5f\",\"gridcolor\":\"#C8D4E3\",\"linecolor\":\"#C8D4E3\",\"minorgridcolor\":\"#C8D4E3\",\"startlinecolor\":\"#2a3f5f\"},\"baxis\":{\"endlinecolor\":\"#2a3f5f\",\"gridcolor\":\"#C8D4E3\",\"linecolor\":\"#C8D4E3\",\"minorgridcolor\":\"#C8D4E3\",\"startlinecolor\":\"#2a3f5f\"},\"type\":\"carpet\"}],\"choropleth\":[{\"colorbar\":{\"outlinewidth\":0,\"ticks\":\"\"},\"type\":\"choropleth\"}],\"contourcarpet\":[{\"colorbar\":{\"outlinewidth\":0,\"ticks\":\"\"},\"type\":\"contourcarpet\"}],\"contour\":[{\"colorbar\":{\"outlinewidth\":0,\"ticks\":\"\"},\"colorscale\":[[0.0,\"#0d0887\"],[0.1111111111111111,\"#46039f\"],[0.2222222222222222,\"#7201a8\"],[0.3333333333333333,\"#9c179e\"],[0.4444444444444444,\"#bd3786\"],[0.5555555555555556,\"#d8576b\"],[0.6666666666666666,\"#ed7953\"],[0.7777777777777778,\"#fb9f3a\"],[0.8888888888888888,\"#fdca26\"],[1.0,\"#f0f921\"]],\"type\":\"contour\"}],\"heatmapgl\":[{\"colorbar\":{\"outlinewidth\":0,\"ticks\":\"\"},\"colorscale\":[[0.0,\"#0d0887\"],[0.1111111111111111,\"#46039f\"],[0.2222222222222222,\"#7201a8\"],[0.3333333333333333,\"#9c179e\"],[0.4444444444444444,\"#bd3786\"],[0.5555555555555556,\"#d8576b\"],[0.6666666666666666,\"#ed7953\"],[0.7777777777777778,\"#fb9f3a\"],[0.8888888888888888,\"#fdca26\"],[1.0,\"#f0f921\"]],\"type\":\"heatmapgl\"}],\"heatmap\":[{\"colorbar\":{\"outlinewidth\":0,\"ticks\":\"\"},\"colorscale\":[[0.0,\"#0d0887\"],[0.1111111111111111,\"#46039f\"],[0.2222222222222222,\"#7201a8\"],[0.3333333333333333,\"#9c179e\"],[0.4444444444444444,\"#bd3786\"],[0.5555555555555556,\"#d8576b\"],[0.6666666666666666,\"#ed7953\"],[0.7777777777777778,\"#fb9f3a\"],[0.8888888888888888,\"#fdca26\"],[1.0,\"#f0f921\"]],\"type\":\"heatmap\"}],\"histogram2dcontour\":[{\"colorbar\":{\"outlinewidth\":0,\"ticks\":\"\"},\"colorscale\":[[0.0,\"#0d0887\"],[0.1111111111111111,\"#46039f\"],[0.2222222222222222,\"#7201a8\"],[0.3333333333333333,\"#9c179e\"],[0.4444444444444444,\"#bd3786\"],[0.5555555555555556,\"#d8576b\"],[0.6666666666666666,\"#ed7953\"],[0.7777777777777778,\"#fb9f3a\"],[0.8888888888888888,\"#fdca26\"],[1.0,\"#f0f921\"]],\"type\":\"histogram2dcontour\"}],\"histogram2d\":[{\"colorbar\":{\"outlinewidth\":0,\"ticks\":\"\"},\"colorscale\":[[0.0,\"#0d0887\"],[0.1111111111111111,\"#46039f\"],[0.2222222222222222,\"#7201a8\"],[0.3333333333333333,\"#9c179e\"],[0.4444444444444444,\"#bd3786\"],[0.5555555555555556,\"#d8576b\"],[0.6666666666666666,\"#ed7953\"],[0.7777777777777778,\"#fb9f3a\"],[0.8888888888888888,\"#fdca26\"],[1.0,\"#f0f921\"]],\"type\":\"histogram2d\"}],\"histogram\":[{\"marker\":{\"pattern\":{\"fillmode\":\"overlay\",\"size\":10,\"solidity\":0.2}},\"type\":\"histogram\"}],\"mesh3d\":[{\"colorbar\":{\"outlinewidth\":0,\"ticks\":\"\"},\"type\":\"mesh3d\"}],\"parcoords\":[{\"line\":{\"colorbar\":{\"outlinewidth\":0,\"ticks\":\"\"}},\"type\":\"parcoords\"}],\"pie\":[{\"automargin\":true,\"type\":\"pie\"}],\"scatter3d\":[{\"line\":{\"colorbar\":{\"outlinewidth\":0,\"ticks\":\"\"}},\"marker\":{\"colorbar\":{\"outlinewidth\":0,\"ticks\":\"\"}},\"type\":\"scatter3d\"}],\"scattercarpet\":[{\"marker\":{\"colorbar\":{\"outlinewidth\":0,\"ticks\":\"\"}},\"type\":\"scattercarpet\"}],\"scattergeo\":[{\"marker\":{\"colorbar\":{\"outlinewidth\":0,\"ticks\":\"\"}},\"type\":\"scattergeo\"}],\"scattergl\":[{\"marker\":{\"colorbar\":{\"outlinewidth\":0,\"ticks\":\"\"}},\"type\":\"scattergl\"}],\"scattermapbox\":[{\"marker\":{\"colorbar\":{\"outlinewidth\":0,\"ticks\":\"\"}},\"type\":\"scattermapbox\"}],\"scatterpolargl\":[{\"marker\":{\"colorbar\":{\"outlinewidth\":0,\"ticks\":\"\"}},\"type\":\"scatterpolargl\"}],\"scatterpolar\":[{\"marker\":{\"colorbar\":{\"outlinewidth\":0,\"ticks\":\"\"}},\"type\":\"scatterpolar\"}],\"scatter\":[{\"fillpattern\":{\"fillmode\":\"overlay\",\"size\":10,\"solidity\":0.2},\"type\":\"scatter\"}],\"scatterternary\":[{\"marker\":{\"colorbar\":{\"outlinewidth\":0,\"ticks\":\"\"}},\"type\":\"scatterternary\"}],\"surface\":[{\"colorbar\":{\"outlinewidth\":0,\"ticks\":\"\"},\"colorscale\":[[0.0,\"#0d0887\"],[0.1111111111111111,\"#46039f\"],[0.2222222222222222,\"#7201a8\"],[0.3333333333333333,\"#9c179e\"],[0.4444444444444444,\"#bd3786\"],[0.5555555555555556,\"#d8576b\"],[0.6666666666666666,\"#ed7953\"],[0.7777777777777778,\"#fb9f3a\"],[0.8888888888888888,\"#fdca26\"],[1.0,\"#f0f921\"]],\"type\":\"surface\"}],\"table\":[{\"cells\":{\"fill\":{\"color\":\"#EBF0F8\"},\"line\":{\"color\":\"white\"}},\"header\":{\"fill\":{\"color\":\"#C8D4E3\"},\"line\":{\"color\":\"white\"}},\"type\":\"table\"}]},\"layout\":{\"annotationdefaults\":{\"arrowcolor\":\"#2a3f5f\",\"arrowhead\":0,\"arrowwidth\":1},\"autotypenumbers\":\"strict\",\"coloraxis\":{\"colorbar\":{\"outlinewidth\":0,\"ticks\":\"\"}},\"colorscale\":{\"diverging\":[[0,\"#8e0152\"],[0.1,\"#c51b7d\"],[0.2,\"#de77ae\"],[0.3,\"#f1b6da\"],[0.4,\"#fde0ef\"],[0.5,\"#f7f7f7\"],[0.6,\"#e6f5d0\"],[0.7,\"#b8e186\"],[0.8,\"#7fbc41\"],[0.9,\"#4d9221\"],[1,\"#276419\"]],\"sequential\":[[0.0,\"#0d0887\"],[0.1111111111111111,\"#46039f\"],[0.2222222222222222,\"#7201a8\"],[0.3333333333333333,\"#9c179e\"],[0.4444444444444444,\"#bd3786\"],[0.5555555555555556,\"#d8576b\"],[0.6666666666666666,\"#ed7953\"],[0.7777777777777778,\"#fb9f3a\"],[0.8888888888888888,\"#fdca26\"],[1.0,\"#f0f921\"]],\"sequentialminus\":[[0.0,\"#0d0887\"],[0.1111111111111111,\"#46039f\"],[0.2222222222222222,\"#7201a8\"],[0.3333333333333333,\"#9c179e\"],[0.4444444444444444,\"#bd3786\"],[0.5555555555555556,\"#d8576b\"],[0.6666666666666666,\"#ed7953\"],[0.7777777777777778,\"#fb9f3a\"],[0.8888888888888888,\"#fdca26\"],[1.0,\"#f0f921\"]]},\"colorway\":[\"#636efa\",\"#EF553B\",\"#00cc96\",\"#ab63fa\",\"#FFA15A\",\"#19d3f3\",\"#FF6692\",\"#B6E880\",\"#FF97FF\",\"#FECB52\"],\"font\":{\"color\":\"#2a3f5f\"},\"geo\":{\"bgcolor\":\"white\",\"lakecolor\":\"white\",\"landcolor\":\"white\",\"showlakes\":true,\"showland\":true,\"subunitcolor\":\"#C8D4E3\"},\"hoverlabel\":{\"align\":\"left\"},\"hovermode\":\"closest\",\"mapbox\":{\"style\":\"light\"},\"paper_bgcolor\":\"white\",\"plot_bgcolor\":\"white\",\"polar\":{\"angularaxis\":{\"gridcolor\":\"#EBF0F8\",\"linecolor\":\"#EBF0F8\",\"ticks\":\"\"},\"bgcolor\":\"white\",\"radialaxis\":{\"gridcolor\":\"#EBF0F8\",\"linecolor\":\"#EBF0F8\",\"ticks\":\"\"}},\"scene\":{\"xaxis\":{\"backgroundcolor\":\"white\",\"gridcolor\":\"#DFE8F3\",\"gridwidth\":2,\"linecolor\":\"#EBF0F8\",\"showbackground\":true,\"ticks\":\"\",\"zerolinecolor\":\"#EBF0F8\"},\"yaxis\":{\"backgroundcolor\":\"white\",\"gridcolor\":\"#DFE8F3\",\"gridwidth\":2,\"linecolor\":\"#EBF0F8\",\"showbackground\":true,\"ticks\":\"\",\"zerolinecolor\":\"#EBF0F8\"},\"zaxis\":{\"backgroundcolor\":\"white\",\"gridcolor\":\"#DFE8F3\",\"gridwidth\":2,\"linecolor\":\"#EBF0F8\",\"showbackground\":true,\"ticks\":\"\",\"zerolinecolor\":\"#EBF0F8\"}},\"shapedefaults\":{\"line\":{\"color\":\"#2a3f5f\"}},\"ternary\":{\"aaxis\":{\"gridcolor\":\"#DFE8F3\",\"linecolor\":\"#A2B1C6\",\"ticks\":\"\"},\"baxis\":{\"gridcolor\":\"#DFE8F3\",\"linecolor\":\"#A2B1C6\",\"ticks\":\"\"},\"bgcolor\":\"white\",\"caxis\":{\"gridcolor\":\"#DFE8F3\",\"linecolor\":\"#A2B1C6\",\"ticks\":\"\"}},\"title\":{\"x\":0.05},\"xaxis\":{\"automargin\":true,\"gridcolor\":\"#EBF0F8\",\"linecolor\":\"#EBF0F8\",\"ticks\":\"\",\"title\":{\"standoff\":15},\"zerolinecolor\":\"#EBF0F8\",\"zerolinewidth\":2},\"yaxis\":{\"automargin\":true,\"gridcolor\":\"#EBF0F8\",\"linecolor\":\"#EBF0F8\",\"ticks\":\"\",\"title\":{\"standoff\":15},\"zerolinecolor\":\"#EBF0F8\",\"zerolinewidth\":2}}},\"title\":{\"text\":\"RMSE over Iterations\"},\"xaxis\":{\"title\":{\"text\":\"Iteration\"}},\"yaxis\":{\"title\":{\"text\":\"RMSE\"}},\"showlegend\":true},                        {\"responsive\": true}                    ).then(function(){\n",
       "                            \n",
       "var gd = document.getElementById('26c5caf6-ebfe-48d9-9774-e27902a18cbb');\n",
       "var x = new MutationObserver(function (mutations, observer) {{\n",
       "        var display = window.getComputedStyle(gd).display;\n",
       "        if (!display || display === 'none') {{\n",
       "            console.log([gd, 'removed!']);\n",
       "            Plotly.purge(gd);\n",
       "            observer.disconnect();\n",
       "        }}\n",
       "}});\n",
       "\n",
       "// Listen for the removal of the full notebook cells\n",
       "var notebookContainer = gd.closest('#notebook-container');\n",
       "if (notebookContainer) {{\n",
       "    x.observe(notebookContainer, {childList: true});\n",
       "}}\n",
       "\n",
       "// Listen for the clearing of the current output cell\n",
       "var outputEl = gd.closest('.output');\n",
       "if (outputEl) {{\n",
       "    x.observe(outputEl, {childList: true});\n",
       "}}\n",
       "\n",
       "                        })                };                });            </script>        </div>"
      ]
     },
     "metadata": {},
     "output_type": "display_data"
    }
   ],
   "source": [
    "import plotly.graph_objects as go\n",
    "\n",
    "# Extract iteration numbers and RMSE values\n",
    "iterations = [x[0] for x in training_process]\n",
    "errors = [x[1] for x in training_process]\n",
    "\n",
    "# Create the plot\n",
    "fig = go.Figure()\n",
    "\n",
    "# Add a line plot\n",
    "fig.add_trace(go.Scatter(\n",
    "    x=iterations,\n",
    "    y=errors,\n",
    "    mode='lines+markers',\n",
    "    name='RMSE',\n",
    "    line=dict(color='blue'),\n",
    "    marker=dict(symbol='circle')\n",
    "))\n",
    "\n",
    "# Update layout\n",
    "fig.update_layout(\n",
    "    title='RMSE over Iterations',\n",
    "    xaxis_title='Iteration',\n",
    "    yaxis_title='RMSE',\n",
    "    template='plotly_white',\n",
    "    showlegend=True\n",
    ")\n",
    "\n",
    "# Show the plot\n",
    "fig.show()\n"
   ]
  },
  {
   "cell_type": "markdown",
   "id": "8f2ea851-9f40-4154-8058-3886b6235b49",
   "metadata": {},
   "source": [
    "### To improve the scores of our Matrix Factorization model, we are tune the following parameters:\n",
    "\n",
    "Number of Latent Factors (K): Experimenting with different values for the latent features between 10 and 100.\n",
    "\n",
    "Learning Rate (alpha): Adjusting the learning rate between 0.0001 and 0.01 to ensure the model converges appropriately. \n",
    "\n",
    "Regularization Parameter (beta): Modifying the regularization parameter from 0.001 to 0.1 to prevent overfitting.\n",
    "\n",
    "Number of Iterations: Increasing or decreasing the number of iterations between 50 to 100 based on the convergence behavior of the model.\n"
   ]
  },
  {
   "cell_type": "markdown",
   "id": "804d5d18-eab3-404a-8efe-a9a80070d9dd",
   "metadata": {},
   "source": [
    "### Hyper-parameter tuning"
   ]
  },
  {
   "cell_type": "code",
   "execution_count": 105,
   "id": "0fced5ad-9496-4d95-aece-62a4047a6ced",
   "metadata": {},
   "outputs": [
    {
     "name": "stdout",
     "output_type": "stream",
     "text": [
      "Iteration: 1 ; error = 0.9591\n",
      "Iteration: 2 ; error = 0.9382\n",
      "Iteration: 3 ; error = 0.9293\n",
      "Iteration: 4 ; error = 0.9239\n",
      "Iteration: 5 ; error = 0.9200\n",
      "Iteration: 6 ; error = 0.9162\n",
      "Iteration: 7 ; error = 0.9116\n",
      "Iteration: 8 ; error = 0.9046\n",
      "Iteration: 9 ; error = 0.8946\n",
      "Iteration: 10 ; error = 0.8811\n",
      "Iteration: 11 ; error = 0.8655\n",
      "Iteration: 12 ; error = 0.8481\n",
      "Iteration: 13 ; error = 0.8286\n",
      "Iteration: 14 ; error = 0.8074\n",
      "Iteration: 15 ; error = 0.7846\n",
      "Iteration: 16 ; error = 0.7608\n",
      "Iteration: 17 ; error = 0.7364\n",
      "Iteration: 18 ; error = 0.7118\n",
      "Iteration: 19 ; error = 0.6875\n",
      "Iteration: 20 ; error = 0.6638\n",
      "Iteration: 21 ; error = 0.6410\n",
      "Iteration: 22 ; error = 0.6194\n",
      "Iteration: 23 ; error = 0.5991\n",
      "Iteration: 24 ; error = 0.5800\n",
      "Iteration: 25 ; error = 0.5621\n",
      "Iteration: 26 ; error = 0.5457\n",
      "Iteration: 27 ; error = 0.5305\n",
      "Iteration: 28 ; error = 0.5163\n",
      "Iteration: 29 ; error = 0.5033\n",
      "Iteration: 30 ; error = 0.4913\n",
      "Iteration: 31 ; error = 0.4801\n",
      "Iteration: 32 ; error = 0.4699\n",
      "Iteration: 33 ; error = 0.4604\n",
      "Iteration: 34 ; error = 0.4517\n",
      "Iteration: 35 ; error = 0.4436\n",
      "Iteration: 36 ; error = 0.4360\n",
      "Iteration: 37 ; error = 0.4289\n",
      "Iteration: 38 ; error = 0.4223\n",
      "Iteration: 39 ; error = 0.4162\n",
      "Iteration: 40 ; error = 0.4105\n",
      "Iteration: 41 ; error = 0.4050\n",
      "Iteration: 42 ; error = 0.4000\n",
      "Iteration: 43 ; error = 0.3953\n",
      "Iteration: 44 ; error = 0.3908\n",
      "Iteration: 45 ; error = 0.3866\n",
      "Iteration: 46 ; error = 0.3827\n",
      "Iteration: 47 ; error = 0.3790\n",
      "Iteration: 48 ; error = 0.3753\n",
      "Iteration: 49 ; error = 0.3720\n",
      "Iteration: 50 ; error = 0.3688\n",
      "Iteration: 51 ; error = 0.3657\n",
      "Iteration: 52 ; error = 0.3628\n",
      "Iteration: 53 ; error = 0.3601\n",
      "Iteration: 54 ; error = 0.3575\n",
      "Iteration: 55 ; error = 0.3550\n",
      "Iteration: 56 ; error = 0.3526\n",
      "Iteration: 57 ; error = 0.3503\n",
      "Iteration: 58 ; error = 0.3481\n",
      "Iteration: 59 ; error = 0.3459\n",
      "Iteration: 60 ; error = 0.3439\n",
      "Iteration: 61 ; error = 0.3421\n",
      "Iteration: 62 ; error = 0.3401\n",
      "Iteration: 63 ; error = 0.3383\n",
      "Iteration: 64 ; error = 0.3366\n",
      "Iteration: 65 ; error = 0.3350\n",
      "Iteration: 66 ; error = 0.3335\n",
      "Iteration: 67 ; error = 0.3320\n",
      "Iteration: 68 ; error = 0.3305\n",
      "Iteration: 69 ; error = 0.3290\n",
      "Iteration: 70 ; error = 0.3277\n",
      "Iteration: 71 ; error = 0.3263\n",
      "Iteration: 72 ; error = 0.3250\n",
      "Iteration: 73 ; error = 0.3238\n",
      "Iteration: 74 ; error = 0.3226\n",
      "Iteration: 75 ; error = 0.3214\n",
      "Iteration: 76 ; error = 0.3202\n",
      "Iteration: 77 ; error = 0.3190\n",
      "Iteration: 78 ; error = 0.3180\n",
      "Iteration: 79 ; error = 0.3169\n",
      "Iteration: 80 ; error = 0.3160\n",
      "Iteration: 81 ; error = 0.3150\n",
      "Iteration: 82 ; error = 0.3141\n",
      "Iteration: 83 ; error = 0.3132\n",
      "Iteration: 84 ; error = 0.3121\n",
      "Iteration: 85 ; error = 0.3113\n",
      "Iteration: 86 ; error = 0.3105\n",
      "Iteration: 87 ; error = 0.3096\n",
      "Iteration: 88 ; error = 0.3087\n",
      "Iteration: 89 ; error = 0.3080\n",
      "Iteration: 90 ; error = 0.3073\n",
      "Iteration: 91 ; error = 0.3064\n",
      "Iteration: 92 ; error = 0.3058\n",
      "Iteration: 93 ; error = 0.3050\n",
      "Iteration: 94 ; error = 0.3043\n",
      "Iteration: 95 ; error = 0.3037\n",
      "Iteration: 96 ; error = 0.3030\n",
      "Iteration: 97 ; error = 0.3023\n",
      "Iteration: 98 ; error = 0.3017\n",
      "Iteration: 99 ; error = 0.3010\n",
      "Iteration: 100 ; error = 0.3005\n",
      "RMSE: 0.3005\n",
      "MAE: 0.2229\n",
      "Precision: 0.9658\n",
      "Recall: 0.9694\n",
      "F1-Score: 0.9676\n"
     ]
    }
   ],
   "source": [
    "from sklearn.metrics import precision_score, recall_score, f1_score\n",
    "from math import sqrt\n",
    "\n",
    "class MatrixFactorization:\n",
    "    def __init__(self, R, K, alpha, beta, iterations):\n",
    "        # Initialize the MatrixFactorization model\n",
    "        self.R = R  # User-item rating matrix\n",
    "        self.num_users, self.num_items = R.shape  # Number of users and items\n",
    "        self.K = K  # Number of latent factors\n",
    "        self.alpha = alpha  # Learning rate\n",
    "        self.beta = beta  # Regularization parameter\n",
    "        self.iterations = iterations  # Number of iterations\n",
    "\n",
    "    def train(self):\n",
    "        # Initialize user and item latent feature matrices with random values\n",
    "        self.P = np.random.normal(scale=1./self.K, size=(self.num_users, self.K))\n",
    "        self.Q = np.random.normal(scale=1./self.K, size=(self.num_items, self.K))\n",
    "\n",
    "        # Initialize biases\n",
    "        self.b_u = np.zeros(self.num_users)  # User biases\n",
    "        self.b_i = np.zeros(self.num_items)  # Item biases\n",
    "        self.b = np.mean(self.R[np.where(self.R != 0)])  # Global bias\n",
    "\n",
    "        # Create a list of known ratings\n",
    "        self.samples = [\n",
    "            (i, j, self.R[i, j])\n",
    "            for i in range(self.num_users)\n",
    "            for j in range(self.num_items)\n",
    "            if self.R[i, j] > 0\n",
    "        ]\n",
    "\n",
    "        # Training process\n",
    "        training_process = []\n",
    "        for i in range(self.iterations):\n",
    "            np.random.shuffle(self.samples)\n",
    "            self.sgd()  # Perform stochastic gradient descent\n",
    "            rmse = self.rmse()  # Compute RMSE\n",
    "            training_process.append((i, rmse))\n",
    "            print(\"Iteration: %d ; error = %.4f\" % (i+1, rmse))\n",
    "\n",
    "        return training_process\n",
    "\n",
    "    def sgd(self):\n",
    "        # Perform stochastic gradient descent\n",
    "        for i, j, r in self.samples:\n",
    "            prediction = self.get_rating(i, j)  # Predicted rating\n",
    "            e = (r - prediction)  # Prediction error\n",
    "\n",
    "            # Update biases\n",
    "            self.b_u[i] += self.alpha * (e - self.beta * self.b_u[i])\n",
    "            self.b_i[j] += self.alpha * (e - self.beta * self.b_i[j])\n",
    "\n",
    "            # Update latent feature matrices\n",
    "            self.P[i, :] += self.alpha * (e * self.Q[j, :] - self.beta * self.P[i,:])\n",
    "            self.Q[j, :] += self.alpha * (e * self.P[i, :] - self.beta * self.Q[j,:])\n",
    "\n",
    "    def get_rating(self, i, j):\n",
    "        # Compute predicted rating\n",
    "        prediction = self.b + self.b_u[i] + self.b_i[j] + self.P[i, :].dot(self.Q[j, :].T)\n",
    "        return prediction\n",
    "\n",
    "    def rmse(self):\n",
    "        # Compute RMSE\n",
    "        xs, ys = self.R.nonzero()  # Indices of known ratings\n",
    "        predicted = self.full_matrix()  # Predicted ratings matrix\n",
    "        error = 0\n",
    "        for x, y in zip(xs, ys):\n",
    "            error += pow(self.R[x, y] - predicted[x, y], 2)\n",
    "        return sqrt(error/len(xs))\n",
    "\n",
    "    def mae(self):\n",
    "        # Compute MAE\n",
    "        xs, ys = self.R.nonzero()  # Indices of known ratings\n",
    "        predicted = self.full_matrix()  # Predicted ratings matrix\n",
    "        error = 0\n",
    "        for x, y in zip(xs, ys):\n",
    "            error += abs(self.R[x, y] - predicted[x, y])\n",
    "        return error/len(xs)\n",
    "\n",
    "    def precision_recall_f1(self, threshold=3.5):\n",
    "        # Compute Precision, Recall, and F1-Score\n",
    "        xs, ys = self.R.nonzero()  # Indices of known ratings\n",
    "        predicted = self.full_matrix()  # Predicted ratings matrix\n",
    "\n",
    "        y_true = []\n",
    "        y_pred = []\n",
    "\n",
    "        for x, y in zip(xs, ys):\n",
    "            y_true.append(self.R[x, y] >= threshold)\n",
    "            y_pred.append(predicted[x, y] >= threshold)\n",
    "\n",
    "        precision = precision_score(y_true, y_pred)\n",
    "        recall = recall_score(y_true, y_pred)\n",
    "        f1 = f1_score(y_true, y_pred)\n",
    "\n",
    "        return precision, recall, f1\n",
    "\n",
    "    def full_matrix(self):\n",
    "        # Compute full predicted ratings matrix\n",
    "        return self.b + self.b_u[:, np.newaxis] + self.b_i[np.newaxis:, ] + self.P.dot(self.Q.T)\n",
    "\n",
    "\n",
    "# R is already defined as the user-item rating matrix\n",
    "mf = MatrixFactorization(R, K=50, alpha=0.01, beta=0.01, iterations=100) #did some hyper parameter tuning\n",
    "training_process = mf.train()\n",
    "\n",
    "# Evaluate the model\n",
    "rmse = mf.rmse()\n",
    "mae = mf.mae()\n",
    "precision, recall, f1 = mf.precision_recall_f1()\n",
    "\n",
    "print(f\"RMSE: {rmse:.4f}\")\n",
    "print(f\"MAE: {mae:.4f}\")\n",
    "print(f\"Precision: {precision:.4f}\")\n",
    "print(f\"Recall: {recall:.4f}\")\n",
    "print(f\"F1-Score: {f1:.4f}\")\n"
   ]
  },
  {
   "cell_type": "code",
   "execution_count": 106,
   "id": "28541691-d79e-4c11-8ab0-54d5b379abe9",
   "metadata": {},
   "outputs": [
    {
     "data": {
      "image/png": "[encoded data removed]",
      "text/plain": [
       "<Figure size 1000x600 with 1 Axes>"
      ]
     },
     "metadata": {},
     "output_type": "display_data"
    }
   ],
   "source": [
    "import matplotlib.pyplot as plt\n",
    "\n",
    "# Extract iteration numbers and RMSE values\n",
    "iterations = [x[0] for x in training_process]\n",
    "errors = [x[1] for x in training_process]\n",
    "\n",
    "# Plot RMSE over iterations\n",
    "plt.figure(figsize=(10, 6))\n",
    "plt.plot(iterations, errors, marker='o', linestyle='-', color='b')\n",
    "plt.xlabel('Iteration')\n",
    "plt.ylabel('RMSE')\n",
    "plt.title('RMSE over Iterations')\n",
    "plt.grid(True)\n",
    "plt.show()\n"
   ]
  },
  {
   "cell_type": "markdown",
   "id": "147a207c-bc17-410d-9367-1b3cadb5e34d",
   "metadata": {},
   "source": [
    "## With this parameters : - \n",
    "\n",
    "K (Number of latent factors): 50\n",
    "\n",
    "alpha (Learning rate): 0.01\n",
    "\n",
    "beta (Regularization parameter): 0.01\n",
    "\n",
    "iterations: 100"
   ]
  },
  {
   "cell_type": "code",
   "execution_count": 107,
   "id": "89c9329a-4921-420e-8f32-796f94d75b6b",
   "metadata": {},
   "outputs": [
    {
     "data": {
      "application/vnd.plotly.v1+json": {
       "config": {
        "plotlyServerURL": "https://plot.ly"
       },
       "data": [
        {
         "line": {
          "color": "blue"
         },
         "marker": {
          "symbol": "circle"
         },
         "mode": "lines+markers",
         "name": "RMSE",
         "type": "scatter",
         "x": [
          0,
          1,
          2,
          3,
          4,
          5,
          6,
          7,
          8,
          9,
          10,
          11,
          12,
          13,
          14,
          15,
          16,
          17,
          18,
          19,
          20,
          21,
          22,
          23,
          24,
          25,
          26,
          27,
          28,
          29,
          30,
          31,
          32,
          33,
          34,
          35,
          36,
          37,
          38,
          39,
          40,
          41,
          42,
          43,
          44,
          45,
          46,
          47,
          48,
          49,
          50,
          51,
          52,
          53,
          54,
          55,
          56,
          57,
          58,
          59,
          60,
          61,
          62,
          63,
          64,
          65,
          66,
          67,
          68,
          69,
          70,
          71,
          72,
          73,
          74,
          75,
          76,
          77,
          78,
          79,
          80,
          81,
          82,
          83,
          84,
          85,
          86,
          87,
          88,
          89,
          90,
          91,
          92,
          93,
          94,
          95,
          96,
          97,
          98,
          99
         ],
         "y": [
          0.9591416924097855,
          0.938239323661182,
          0.929318118623118,
          0.9239418500113299,
          0.919989432920541,
          0.9161746825006409,
          0.911626120286013,
          0.9046351709425751,
          0.894584285449028,
          0.881067896961452,
          0.8655109768126039,
          0.8480500126032886,
          0.828570762427279,
          0.8074212935898698,
          0.7846077839850474,
          0.760760812857885,
          0.7364463465832349,
          0.711770463497614,
          0.6875044919216667,
          0.6637524567947913,
          0.6410302397137492,
          0.6194265850840032,
          0.5991012957858876,
          0.5800236683297609,
          0.5621346519273193,
          0.5457164415520763,
          0.5304644057524498,
          0.5163251423564568,
          0.5032921031005737,
          0.4912765192749093,
          0.4801024391181265,
          0.4699234919517703,
          0.46036556991711247,
          0.45167835831507713,
          0.4435869505302184,
          0.43595080901067146,
          0.4289085673821284,
          0.42232344323696513,
          0.4161641165582215,
          0.4105049300052046,
          0.4049705716428786,
          0.4000119090550763,
          0.3953239119261808,
          0.39076297610049987,
          0.38659342979689065,
          0.3826665378588935,
          0.37900325853041983,
          0.3752590249521342,
          0.3720276013782235,
          0.36878851527815965,
          0.3657183631815063,
          0.3628459733515454,
          0.36009248332874205,
          0.35748415748572726,
          0.35497690542603516,
          0.3526441650776846,
          0.35030007788121803,
          0.34812429243357573,
          0.345897522114437,
          0.343933668928232,
          0.3420774225953158,
          0.34014938659734467,
          0.33828056676498064,
          0.3366258927209326,
          0.33495659877969014,
          0.3334814226481994,
          0.33198112720367295,
          0.33050612949672714,
          0.32898654413668577,
          0.32772478737283856,
          0.32625423052687985,
          0.3250356733828863,
          0.3237579565871059,
          0.3225846245892838,
          0.32140164209499655,
          0.3201807877990882,
          0.31904661236320464,
          0.3180049803426481,
          0.31688058276764797,
          0.31600718773128195,
          0.315031558219977,
          0.3140801534841874,
          0.3131685749912826,
          0.31209811525554665,
          0.3112845749768492,
          0.3104508299939558,
          0.3096032336587646,
          0.3087175489280355,
          0.30804168269732685,
          0.30730122492510664,
          0.3064441210371717,
          0.30580261259922104,
          0.3050059782156968,
          0.3042786926003121,
          0.3036733428491598,
          0.30297789203309544,
          0.30229302830802796,
          0.3017095439244031,
          0.3010219245578871,
          0.30047956080063104
         ]
        }
       ],
       "layout": {
        "autosize": true,
        "showlegend": true,
        "template": {
         "data": {
          "bar": [
           {
            "error_x": {
             "color": "#2a3f5f"
            },
            "error_y": {
             "color": "#2a3f5f"
            },
            "marker": {
             "line": {
              "color": "white",
              "width": 0.5
             },
             "pattern": {
              "fillmode": "overlay",
              "size": 10,
              "solidity": 0.2
             }
            },
            "type": "bar"
           }
          ],
          "barpolar": [
           {
            "marker": {
             "line": {
              "color": "white",
              "width": 0.5
             },
             "pattern": {
              "fillmode": "overlay",
              "size": 10,
              "solidity": 0.2
             }
            },
            "type": "barpolar"
           }
          ],
          "carpet": [
           {
            "aaxis": {
             "endlinecolor": "#2a3f5f",
             "gridcolor": "#C8D4E3",
             "linecolor": "#C8D4E3",
             "minorgridcolor": "#C8D4E3",
             "startlinecolor": "#2a3f5f"
            },
            "baxis": {
             "endlinecolor": "#2a3f5f",
             "gridcolor": "#C8D4E3",
             "linecolor": "#C8D4E3",
             "minorgridcolor": "#C8D4E3",
             "startlinecolor": "#2a3f5f"
            },
            "type": "carpet"
           }
          ],
          "choropleth": [
           {
            "colorbar": {
             "outlinewidth": 0,
             "ticks": ""
            },
            "type": "choropleth"
           }
          ],
          "contour": [
           {
            "colorbar": {
             "outlinewidth": 0,
             "ticks": ""
            },
            "colorscale": [
             [
              0,
              "#0d0887"
             ],
             [
              0.1111111111111111,
              "#46039f"
             ],
             [
              0.2222222222222222,
              "#7201a8"
             ],
             [
              0.3333333333333333,
              "#9c179e"
             ],
             [
              0.4444444444444444,
              "#bd3786"
             ],
             [
              0.5555555555555556,
              "#d8576b"
             ],
             [
              0.6666666666666666,
              "#ed7953"
             ],
             [
              0.7777777777777778,
              "#fb9f3a"
             ],
             [
              0.8888888888888888,
              "#fdca26"
             ],
             [
              1,
              "#f0f921"
             ]
            ],
            "type": "contour"
           }
          ],
          "contourcarpet": [
           {
            "colorbar": {
             "outlinewidth": 0,
             "ticks": ""
            },
            "type": "contourcarpet"
           }
          ],
          "heatmap": [
           {
            "colorbar": {
             "outlinewidth": 0,
             "ticks": ""
            },
            "colorscale": [
             [
              0,
              "#0d0887"
             ],
             [
              0.1111111111111111,
              "#46039f"
             ],
             [
              0.2222222222222222,
              "#7201a8"
             ],
             [
              0.3333333333333333,
              "#9c179e"
             ],
             [
              0.4444444444444444,
              "#bd3786"
             ],
             [
              0.5555555555555556,
              "#d8576b"
             ],
             [
              0.6666666666666666,
              "#ed7953"
             ],
             [
              0.7777777777777778,
              "#fb9f3a"
             ],
             [
              0.8888888888888888,
              "#fdca26"
             ],
             [
              1,
              "#f0f921"
             ]
            ],
            "type": "heatmap"
           }
          ],
          "heatmapgl": [
           {
            "colorbar": {
             "outlinewidth": 0,
             "ticks": ""
            },
            "colorscale": [
             [
              0,
              "#0d0887"
             ],
             [
              0.1111111111111111,
              "#46039f"
             ],
             [
              0.2222222222222222,
              "#7201a8"
             ],
             [
              0.3333333333333333,
              "#9c179e"
             ],
             [
              0.4444444444444444,
              "#bd3786"
             ],
             [
              0.5555555555555556,
              "#d8576b"
             ],
             [
              0.6666666666666666,
              "#ed7953"
             ],
             [
              0.7777777777777778,
              "#fb9f3a"
             ],
             [
              0.8888888888888888,
              "#fdca26"
             ],
             [
              1,
              "#f0f921"
             ]
            ],
            "type": "heatmapgl"
           }
          ],
          "histogram": [
           {
            "marker": {
             "pattern": {
              "fillmode": "overlay",
              "size": 10,
              "solidity": 0.2
             }
            },
            "type": "histogram"
           }
          ],
          "histogram2d": [
           {
            "colorbar": {
             "outlinewidth": 0,
             "ticks": ""
            },
            "colorscale": [
             [
              0,
              "#0d0887"
             ],
             [
              0.1111111111111111,
              "#46039f"
             ],
             [
              0.2222222222222222,
              "#7201a8"
             ],
             [
              0.3333333333333333,
              "#9c179e"
             ],
             [
              0.4444444444444444,
              "#bd3786"
             ],
             [
              0.5555555555555556,
              "#d8576b"
             ],
             [
              0.6666666666666666,
              "#ed7953"
             ],
             [
              0.7777777777777778,
              "#fb9f3a"
             ],
             [
              0.8888888888888888,
              "#fdca26"
             ],
             [
              1,
              "#f0f921"
             ]
            ],
            "type": "histogram2d"
           }
          ],
          "histogram2dcontour": [
           {
            "colorbar": {
             "outlinewidth": 0,
             "ticks": ""
            },
            "colorscale": [
             [
              0,
              "#0d0887"
             ],
             [
              0.1111111111111111,
              "#46039f"
             ],
             [
              0.2222222222222222,
              "#7201a8"
             ],
             [
              0.3333333333333333,
              "#9c179e"
             ],
             [
              0.4444444444444444,
              "#bd3786"
             ],
             [
              0.5555555555555556,
              "#d8576b"
             ],
             [
              0.6666666666666666,
              "#ed7953"
             ],
             [
              0.7777777777777778,
              "#fb9f3a"
             ],
             [
              0.8888888888888888,
              "#fdca26"
             ],
             [
              1,
              "#f0f921"
             ]
            ],
            "type": "histogram2dcontour"
           }
          ],
          "mesh3d": [
           {
            "colorbar": {
             "outlinewidth": 0,
             "ticks": ""
            },
            "type": "mesh3d"
           }
          ],
          "parcoords": [
           {
            "line": {
             "colorbar": {
              "outlinewidth": 0,
              "ticks": ""
             }
            },
            "type": "parcoords"
           }
          ],
          "pie": [
           {
            "automargin": true,
            "type": "pie"
           }
          ],
          "scatter": [
           {
            "fillpattern": {
             "fillmode": "overlay",
             "size": 10,
             "solidity": 0.2
            },
            "type": "scatter"
           }
          ],
          "scatter3d": [
           {
            "line": {
             "colorbar": {
              "outlinewidth": 0,
              "ticks": ""
             }
            },
            "marker": {
             "colorbar": {
              "outlinewidth": 0,
              "ticks": ""
             }
            },
            "type": "scatter3d"
           }
          ],
          "scattercarpet": [
           {
            "marker": {
             "colorbar": {
              "outlinewidth": 0,
              "ticks": ""
             }
            },
            "type": "scattercarpet"
           }
          ],
          "scattergeo": [
           {
            "marker": {
             "colorbar": {
              "outlinewidth": 0,
              "ticks": ""
             }
            },
            "type": "scattergeo"
           }
          ],
          "scattergl": [
           {
            "marker": {
             "colorbar": {
              "outlinewidth": 0,
              "ticks": ""
             }
            },
            "type": "scattergl"
           }
          ],
          "scattermapbox": [
           {
            "marker": {
             "colorbar": {
              "outlinewidth": 0,
              "ticks": ""
             }
            },
            "type": "scattermapbox"
           }
          ],
          "scatterpolar": [
           {
            "marker": {
             "colorbar": {
              "outlinewidth": 0,
              "ticks": ""
             }
            },
            "type": "scatterpolar"
           }
          ],
          "scatterpolargl": [
           {
            "marker": {
             "colorbar": {
              "outlinewidth": 0,
              "ticks": ""
             }
            },
            "type": "scatterpolargl"
           }
          ],
          "scatterternary": [
           {
            "marker": {
             "colorbar": {
              "outlinewidth": 0,
              "ticks": ""
             }
            },
            "type": "scatterternary"
           }
          ],
          "surface": [
           {
            "colorbar": {
             "outlinewidth": 0,
             "ticks": ""
            },
            "colorscale": [
             [
              0,
              "#0d0887"
             ],
             [
              0.1111111111111111,
              "#46039f"
             ],
             [
              0.2222222222222222,
              "#7201a8"
             ],
             [
              0.3333333333333333,
              "#9c179e"
             ],
             [
              0.4444444444444444,
              "#bd3786"
             ],
             [
              0.5555555555555556,
              "#d8576b"
             ],
             [
              0.6666666666666666,
              "#ed7953"
             ],
             [
              0.7777777777777778,
              "#fb9f3a"
             ],
             [
              0.8888888888888888,
              "#fdca26"
             ],
             [
              1,
              "#f0f921"
             ]
            ],
            "type": "surface"
           }
          ],
          "table": [
           {
            "cells": {
             "fill": {
              "color": "#EBF0F8"
             },
             "line": {
              "color": "white"
             }
            },
            "header": {
             "fill": {
              "color": "#C8D4E3"
             },
             "line": {
              "color": "white"
             }
            },
            "type": "table"
           }
          ]
         },
         "layout": {
          "annotationdefaults": {
           "arrowcolor": "#2a3f5f",
           "arrowhead": 0,
           "arrowwidth": 1
          },
          "autotypenumbers": "strict",
          "coloraxis": {
           "colorbar": {
            "outlinewidth": 0,
            "ticks": ""
           }
          },
          "colorscale": {
           "diverging": [
            [
             0,
             "#8e0152"
            ],
            [
             0.1,
             "#c51b7d"
            ],
            [
             0.2,
             "#de77ae"
            ],
            [
             0.3,
             "#f1b6da"
            ],
            [
             0.4,
             "#fde0ef"
            ],
            [
             0.5,
             "#f7f7f7"
            ],
            [
             0.6,
             "#e6f5d0"
            ],
            [
             0.7,
             "#b8e186"
            ],
            [
             0.8,
             "#7fbc41"
            ],
            [
             0.9,
             "#4d9221"
            ],
            [
             1,
             "#276419"
            ]
           ],
           "sequential": [
            [
             0,
             "#0d0887"
            ],
            [
             0.1111111111111111,
             "#46039f"
            ],
            [
             0.2222222222222222,
             "#7201a8"
            ],
            [
             0.3333333333333333,
             "#9c179e"
            ],
            [
             0.4444444444444444,
             "#bd3786"
            ],
            [
             0.5555555555555556,
             "#d8576b"
            ],
            [
             0.6666666666666666,
             "#ed7953"
            ],
            [
             0.7777777777777778,
             "#fb9f3a"
            ],
            [
             0.8888888888888888,
             "#fdca26"
            ],
            [
             1,
             "#f0f921"
            ]
           ],
           "sequentialminus": [
            [
             0,
             "#0d0887"
            ],
            [
             0.1111111111111111,
             "#46039f"
            ],
            [
             0.2222222222222222,
             "#7201a8"
            ],
            [
             0.3333333333333333,
             "#9c179e"
            ],
            [
             0.4444444444444444,
             "#bd3786"
            ],
            [
             0.5555555555555556,
             "#d8576b"
            ],
            [
             0.6666666666666666,
             "#ed7953"
            ],
            [
             0.7777777777777778,
             "#fb9f3a"
            ],
            [
             0.8888888888888888,
             "#fdca26"
            ],
            [
             1,
             "#f0f921"
            ]
           ]
          },
          "colorway": [
           "#636efa",
           "#EF553B",
           "#00cc96",
           "#ab63fa",
           "#FFA15A",
           "#19d3f3",
           "#FF6692",
           "#B6E880",
           "#FF97FF",
           "#FECB52"
          ],
          "font": {
           "color": "#2a3f5f"
          },
          "geo": {
           "bgcolor": "white",
           "lakecolor": "white",
           "landcolor": "white",
           "showlakes": true,
           "showland": true,
           "subunitcolor": "#C8D4E3"
          },
          "hoverlabel": {
           "align": "left"
          },
          "hovermode": "closest",
          "mapbox": {
           "style": "light"
          },
          "paper_bgcolor": "white",
          "plot_bgcolor": "white",
          "polar": {
           "angularaxis": {
            "gridcolor": "#EBF0F8",
            "linecolor": "#EBF0F8",
            "ticks": ""
           },
           "bgcolor": "white",
           "radialaxis": {
            "gridcolor": "#EBF0F8",
            "linecolor": "#EBF0F8",
            "ticks": ""
           }
          },
          "scene": {
           "xaxis": {
            "backgroundcolor": "white",
            "gridcolor": "#DFE8F3",
            "gridwidth": 2,
            "linecolor": "#EBF0F8",
            "showbackground": true,
            "ticks": "",
            "zerolinecolor": "#EBF0F8"
           },
           "yaxis": {
            "backgroundcolor": "white",
            "gridcolor": "#DFE8F3",
            "gridwidth": 2,
            "linecolor": "#EBF0F8",
            "showbackground": true,
            "ticks": "",
            "zerolinecolor": "#EBF0F8"
           },
           "zaxis": {
            "backgroundcolor": "white",
            "gridcolor": "#DFE8F3",
            "gridwidth": 2,
            "linecolor": "#EBF0F8",
            "showbackground": true,
            "ticks": "",
            "zerolinecolor": "#EBF0F8"
           }
          },
          "shapedefaults": {
           "line": {
            "color": "#2a3f5f"
           }
          },
          "ternary": {
           "aaxis": {
            "gridcolor": "#DFE8F3",
            "linecolor": "#A2B1C6",
            "ticks": ""
           },
           "baxis": {
            "gridcolor": "#DFE8F3",
            "linecolor": "#A2B1C6",
            "ticks": ""
           },
           "bgcolor": "white",
           "caxis": {
            "gridcolor": "#DFE8F3",
            "linecolor": "#A2B1C6",
            "ticks": ""
           }
          },
          "title": {
           "x": 0.05
          },
          "xaxis": {
           "automargin": true,
           "gridcolor": "#EBF0F8",
           "linecolor": "#EBF0F8",
           "ticks": "",
           "title": {
            "standoff": 15
           },
           "zerolinecolor": "#EBF0F8",
           "zerolinewidth": 2
          },
          "yaxis": {
           "automargin": true,
           "gridcolor": "#EBF0F8",
           "linecolor": "#EBF0F8",
           "ticks": "",
           "title": {
            "standoff": 15
           },
           "zerolinecolor": "#EBF0F8",
           "zerolinewidth": 2
          }
         }
        },
        "title": {
         "text": "RMSE over Iterations"
        },
        "xaxis": {
         "autorange": true,
         "range": [
          -6.004402054292004,
          105.004402054292
         ],
         "title": {
          "text": "Iteration"
         },
         "type": "linear"
        },
        "yaxis": {
         "autorange": true,
         "range": [
          0.2461239479979338,
          1.0134973052124827
         ],
         "title": {
          "text": "RMSE"
         },
         "type": "linear"
        }
       }
      },
      "image/png": "[encoded data removed]",
      "text/html": [
       "<div>                            <div id=\"417e6824-5ceb-4477-952c-11e827d7960c\" class=\"plotly-graph-div\" style=\"height:525px; width:100%;\"></div>            <script type=\"text/javascript\">                require([\"plotly\"], function(Plotly) {                    window.PLOTLYENV=window.PLOTLYENV || {};                                    if (document.getElementById(\"417e6824-5ceb-4477-952c-11e827d7960c\")) {                    Plotly.newPlot(                        \"417e6824-5ceb-4477-952c-11e827d7960c\",                        [{\"line\":{\"color\":\"blue\"},\"marker\":{\"symbol\":\"circle\"},\"mode\":\"lines+markers\",\"name\":\"RMSE\",\"x\":[0,1,2,3,4,5,6,7,8,9,10,11,12,13,14,15,16,17,18,19,20,21,22,23,24,25,26,27,28,29,30,31,32,33,34,35,36,37,38,39,40,41,42,43,44,45,46,47,48,49,50,51,52,53,54,55,56,57,58,59,60,61,62,63,64,65,66,67,68,69,70,71,72,73,74,75,76,77,78,79,80,81,82,83,84,85,86,87,88,89,90,91,92,93,94,95,96,97,98,99],\"y\":[0.9591416924097855,0.938239323661182,0.929318118623118,0.9239418500113299,0.919989432920541,0.9161746825006409,0.911626120286013,0.9046351709425751,0.894584285449028,0.881067896961452,0.8655109768126039,0.8480500126032886,0.828570762427279,0.8074212935898698,0.7846077839850474,0.760760812857885,0.7364463465832349,0.711770463497614,0.6875044919216667,0.6637524567947913,0.6410302397137492,0.6194265850840032,0.5991012957858876,0.5800236683297609,0.5621346519273193,0.5457164415520763,0.5304644057524498,0.5163251423564568,0.5032921031005737,0.4912765192749093,0.4801024391181265,0.4699234919517703,0.46036556991711247,0.45167835831507713,0.4435869505302184,0.43595080901067146,0.4289085673821284,0.42232344323696513,0.4161641165582215,0.4105049300052046,0.4049705716428786,0.4000119090550763,0.3953239119261808,0.39076297610049987,0.38659342979689065,0.3826665378588935,0.37900325853041983,0.3752590249521342,0.3720276013782235,0.36878851527815965,0.3657183631815063,0.3628459733515454,0.36009248332874205,0.35748415748572726,0.35497690542603516,0.3526441650776846,0.35030007788121803,0.34812429243357573,0.345897522114437,0.343933668928232,0.3420774225953158,0.34014938659734467,0.33828056676498064,0.3366258927209326,0.33495659877969014,0.3334814226481994,0.33198112720367295,0.33050612949672714,0.32898654413668577,0.32772478737283856,0.32625423052687985,0.3250356733828863,0.3237579565871059,0.3225846245892838,0.32140164209499655,0.3201807877990882,0.31904661236320464,0.3180049803426481,0.31688058276764797,0.31600718773128195,0.315031558219977,0.3140801534841874,0.3131685749912826,0.31209811525554665,0.3112845749768492,0.3104508299939558,0.3096032336587646,0.3087175489280355,0.30804168269732685,0.30730122492510664,0.3064441210371717,0.30580261259922104,0.3050059782156968,0.3042786926003121,0.3036733428491598,0.30297789203309544,0.30229302830802796,0.3017095439244031,0.3010219245578871,0.30047956080063104],\"type\":\"scatter\"}],                        {\"template\":{\"data\":{\"barpolar\":[{\"marker\":{\"line\":{\"color\":\"white\",\"width\":0.5},\"pattern\":{\"fillmode\":\"overlay\",\"size\":10,\"solidity\":0.2}},\"type\":\"barpolar\"}],\"bar\":[{\"error_x\":{\"color\":\"#2a3f5f\"},\"error_y\":{\"color\":\"#2a3f5f\"},\"marker\":{\"line\":{\"color\":\"white\",\"width\":0.5},\"pattern\":{\"fillmode\":\"overlay\",\"size\":10,\"solidity\":0.2}},\"type\":\"bar\"}],\"carpet\":[{\"aaxis\":{\"endlinecolor\":\"#2a3f5f\",\"gridcolor\":\"#C8D4E3\",\"linecolor\":\"#C8D4E3\",\"minorgridcolor\":\"#C8D4E3\",\"startlinecolor\":\"#2a3f5f\"},\"baxis\":{\"endlinecolor\":\"#2a3f5f\",\"gridcolor\":\"#C8D4E3\",\"linecolor\":\"#C8D4E3\",\"minorgridcolor\":\"#C8D4E3\",\"startlinecolor\":\"#2a3f5f\"},\"type\":\"carpet\"}],\"choropleth\":[{\"colorbar\":{\"outlinewidth\":0,\"ticks\":\"\"},\"type\":\"choropleth\"}],\"contourcarpet\":[{\"colorbar\":{\"outlinewidth\":0,\"ticks\":\"\"},\"type\":\"contourcarpet\"}],\"contour\":[{\"colorbar\":{\"outlinewidth\":0,\"ticks\":\"\"},\"colorscale\":[[0.0,\"#0d0887\"],[0.1111111111111111,\"#46039f\"],[0.2222222222222222,\"#7201a8\"],[0.3333333333333333,\"#9c179e\"],[0.4444444444444444,\"#bd3786\"],[0.5555555555555556,\"#d8576b\"],[0.6666666666666666,\"#ed7953\"],[0.7777777777777778,\"#fb9f3a\"],[0.8888888888888888,\"#fdca26\"],[1.0,\"#f0f921\"]],\"type\":\"contour\"}],\"heatmapgl\":[{\"colorbar\":{\"outlinewidth\":0,\"ticks\":\"\"},\"colorscale\":[[0.0,\"#0d0887\"],[0.1111111111111111,\"#46039f\"],[0.2222222222222222,\"#7201a8\"],[0.3333333333333333,\"#9c179e\"],[0.4444444444444444,\"#bd3786\"],[0.5555555555555556,\"#d8576b\"],[0.6666666666666666,\"#ed7953\"],[0.7777777777777778,\"#fb9f3a\"],[0.8888888888888888,\"#fdca26\"],[1.0,\"#f0f921\"]],\"type\":\"heatmapgl\"}],\"heatmap\":[{\"colorbar\":{\"outlinewidth\":0,\"ticks\":\"\"},\"colorscale\":[[0.0,\"#0d0887\"],[0.1111111111111111,\"#46039f\"],[0.2222222222222222,\"#7201a8\"],[0.3333333333333333,\"#9c179e\"],[0.4444444444444444,\"#bd3786\"],[0.5555555555555556,\"#d8576b\"],[0.6666666666666666,\"#ed7953\"],[0.7777777777777778,\"#fb9f3a\"],[0.8888888888888888,\"#fdca26\"],[1.0,\"#f0f921\"]],\"type\":\"heatmap\"}],\"histogram2dcontour\":[{\"colorbar\":{\"outlinewidth\":0,\"ticks\":\"\"},\"colorscale\":[[0.0,\"#0d0887\"],[0.1111111111111111,\"#46039f\"],[0.2222222222222222,\"#7201a8\"],[0.3333333333333333,\"#9c179e\"],[0.4444444444444444,\"#bd3786\"],[0.5555555555555556,\"#d8576b\"],[0.6666666666666666,\"#ed7953\"],[0.7777777777777778,\"#fb9f3a\"],[0.8888888888888888,\"#fdca26\"],[1.0,\"#f0f921\"]],\"type\":\"histogram2dcontour\"}],\"histogram2d\":[{\"colorbar\":{\"outlinewidth\":0,\"ticks\":\"\"},\"colorscale\":[[0.0,\"#0d0887\"],[0.1111111111111111,\"#46039f\"],[0.2222222222222222,\"#7201a8\"],[0.3333333333333333,\"#9c179e\"],[0.4444444444444444,\"#bd3786\"],[0.5555555555555556,\"#d8576b\"],[0.6666666666666666,\"#ed7953\"],[0.7777777777777778,\"#fb9f3a\"],[0.8888888888888888,\"#fdca26\"],[1.0,\"#f0f921\"]],\"type\":\"histogram2d\"}],\"histogram\":[{\"marker\":{\"pattern\":{\"fillmode\":\"overlay\",\"size\":10,\"solidity\":0.2}},\"type\":\"histogram\"}],\"mesh3d\":[{\"colorbar\":{\"outlinewidth\":0,\"ticks\":\"\"},\"type\":\"mesh3d\"}],\"parcoords\":[{\"line\":{\"colorbar\":{\"outlinewidth\":0,\"ticks\":\"\"}},\"type\":\"parcoords\"}],\"pie\":[{\"automargin\":true,\"type\":\"pie\"}],\"scatter3d\":[{\"line\":{\"colorbar\":{\"outlinewidth\":0,\"ticks\":\"\"}},\"marker\":{\"colorbar\":{\"outlinewidth\":0,\"ticks\":\"\"}},\"type\":\"scatter3d\"}],\"scattercarpet\":[{\"marker\":{\"colorbar\":{\"outlinewidth\":0,\"ticks\":\"\"}},\"type\":\"scattercarpet\"}],\"scattergeo\":[{\"marker\":{\"colorbar\":{\"outlinewidth\":0,\"ticks\":\"\"}},\"type\":\"scattergeo\"}],\"scattergl\":[{\"marker\":{\"colorbar\":{\"outlinewidth\":0,\"ticks\":\"\"}},\"type\":\"scattergl\"}],\"scattermapbox\":[{\"marker\":{\"colorbar\":{\"outlinewidth\":0,\"ticks\":\"\"}},\"type\":\"scattermapbox\"}],\"scatterpolargl\":[{\"marker\":{\"colorbar\":{\"outlinewidth\":0,\"ticks\":\"\"}},\"type\":\"scatterpolargl\"}],\"scatterpolar\":[{\"marker\":{\"colorbar\":{\"outlinewidth\":0,\"ticks\":\"\"}},\"type\":\"scatterpolar\"}],\"scatter\":[{\"fillpattern\":{\"fillmode\":\"overlay\",\"size\":10,\"solidity\":0.2},\"type\":\"scatter\"}],\"scatterternary\":[{\"marker\":{\"colorbar\":{\"outlinewidth\":0,\"ticks\":\"\"}},\"type\":\"scatterternary\"}],\"surface\":[{\"colorbar\":{\"outlinewidth\":0,\"ticks\":\"\"},\"colorscale\":[[0.0,\"#0d0887\"],[0.1111111111111111,\"#46039f\"],[0.2222222222222222,\"#7201a8\"],[0.3333333333333333,\"#9c179e\"],[0.4444444444444444,\"#bd3786\"],[0.5555555555555556,\"#d8576b\"],[0.6666666666666666,\"#ed7953\"],[0.7777777777777778,\"#fb9f3a\"],[0.8888888888888888,\"#fdca26\"],[1.0,\"#f0f921\"]],\"type\":\"surface\"}],\"table\":[{\"cells\":{\"fill\":{\"color\":\"#EBF0F8\"},\"line\":{\"color\":\"white\"}},\"header\":{\"fill\":{\"color\":\"#C8D4E3\"},\"line\":{\"color\":\"white\"}},\"type\":\"table\"}]},\"layout\":{\"annotationdefaults\":{\"arrowcolor\":\"#2a3f5f\",\"arrowhead\":0,\"arrowwidth\":1},\"autotypenumbers\":\"strict\",\"coloraxis\":{\"colorbar\":{\"outlinewidth\":0,\"ticks\":\"\"}},\"colorscale\":{\"diverging\":[[0,\"#8e0152\"],[0.1,\"#c51b7d\"],[0.2,\"#de77ae\"],[0.3,\"#f1b6da\"],[0.4,\"#fde0ef\"],[0.5,\"#f7f7f7\"],[0.6,\"#e6f5d0\"],[0.7,\"#b8e186\"],[0.8,\"#7fbc41\"],[0.9,\"#4d9221\"],[1,\"#276419\"]],\"sequential\":[[0.0,\"#0d0887\"],[0.1111111111111111,\"#46039f\"],[0.2222222222222222,\"#7201a8\"],[0.3333333333333333,\"#9c179e\"],[0.4444444444444444,\"#bd3786\"],[0.5555555555555556,\"#d8576b\"],[0.6666666666666666,\"#ed7953\"],[0.7777777777777778,\"#fb9f3a\"],[0.8888888888888888,\"#fdca26\"],[1.0,\"#f0f921\"]],\"sequentialminus\":[[0.0,\"#0d0887\"],[0.1111111111111111,\"#46039f\"],[0.2222222222222222,\"#7201a8\"],[0.3333333333333333,\"#9c179e\"],[0.4444444444444444,\"#bd3786\"],[0.5555555555555556,\"#d8576b\"],[0.6666666666666666,\"#ed7953\"],[0.7777777777777778,\"#fb9f3a\"],[0.8888888888888888,\"#fdca26\"],[1.0,\"#f0f921\"]]},\"colorway\":[\"#636efa\",\"#EF553B\",\"#00cc96\",\"#ab63fa\",\"#FFA15A\",\"#19d3f3\",\"#FF6692\",\"#B6E880\",\"#FF97FF\",\"#FECB52\"],\"font\":{\"color\":\"#2a3f5f\"},\"geo\":{\"bgcolor\":\"white\",\"lakecolor\":\"white\",\"landcolor\":\"white\",\"showlakes\":true,\"showland\":true,\"subunitcolor\":\"#C8D4E3\"},\"hoverlabel\":{\"align\":\"left\"},\"hovermode\":\"closest\",\"mapbox\":{\"style\":\"light\"},\"paper_bgcolor\":\"white\",\"plot_bgcolor\":\"white\",\"polar\":{\"angularaxis\":{\"gridcolor\":\"#EBF0F8\",\"linecolor\":\"#EBF0F8\",\"ticks\":\"\"},\"bgcolor\":\"white\",\"radialaxis\":{\"gridcolor\":\"#EBF0F8\",\"linecolor\":\"#EBF0F8\",\"ticks\":\"\"}},\"scene\":{\"xaxis\":{\"backgroundcolor\":\"white\",\"gridcolor\":\"#DFE8F3\",\"gridwidth\":2,\"linecolor\":\"#EBF0F8\",\"showbackground\":true,\"ticks\":\"\",\"zerolinecolor\":\"#EBF0F8\"},\"yaxis\":{\"backgroundcolor\":\"white\",\"gridcolor\":\"#DFE8F3\",\"gridwidth\":2,\"linecolor\":\"#EBF0F8\",\"showbackground\":true,\"ticks\":\"\",\"zerolinecolor\":\"#EBF0F8\"},\"zaxis\":{\"backgroundcolor\":\"white\",\"gridcolor\":\"#DFE8F3\",\"gridwidth\":2,\"linecolor\":\"#EBF0F8\",\"showbackground\":true,\"ticks\":\"\",\"zerolinecolor\":\"#EBF0F8\"}},\"shapedefaults\":{\"line\":{\"color\":\"#2a3f5f\"}},\"ternary\":{\"aaxis\":{\"gridcolor\":\"#DFE8F3\",\"linecolor\":\"#A2B1C6\",\"ticks\":\"\"},\"baxis\":{\"gridcolor\":\"#DFE8F3\",\"linecolor\":\"#A2B1C6\",\"ticks\":\"\"},\"bgcolor\":\"white\",\"caxis\":{\"gridcolor\":\"#DFE8F3\",\"linecolor\":\"#A2B1C6\",\"ticks\":\"\"}},\"title\":{\"x\":0.05},\"xaxis\":{\"automargin\":true,\"gridcolor\":\"#EBF0F8\",\"linecolor\":\"#EBF0F8\",\"ticks\":\"\",\"title\":{\"standoff\":15},\"zerolinecolor\":\"#EBF0F8\",\"zerolinewidth\":2},\"yaxis\":{\"automargin\":true,\"gridcolor\":\"#EBF0F8\",\"linecolor\":\"#EBF0F8\",\"ticks\":\"\",\"title\":{\"standoff\":15},\"zerolinecolor\":\"#EBF0F8\",\"zerolinewidth\":2}}},\"title\":{\"text\":\"RMSE over Iterations\"},\"xaxis\":{\"title\":{\"text\":\"Iteration\"}},\"yaxis\":{\"title\":{\"text\":\"RMSE\"}},\"showlegend\":true},                        {\"responsive\": true}                    ).then(function(){\n",
       "                            \n",
       "var gd = document.getElementById('417e6824-5ceb-4477-952c-11e827d7960c');\n",
       "var x = new MutationObserver(function (mutations, observer) {{\n",
       "        var display = window.getComputedStyle(gd).display;\n",
       "        if (!display || display === 'none') {{\n",
       "            console.log([gd, 'removed!']);\n",
       "            Plotly.purge(gd);\n",
       "            observer.disconnect();\n",
       "        }}\n",
       "}});\n",
       "\n",
       "// Listen for the removal of the full notebook cells\n",
       "var notebookContainer = gd.closest('#notebook-container');\n",
       "if (notebookContainer) {{\n",
       "    x.observe(notebookContainer, {childList: true});\n",
       "}}\n",
       "\n",
       "// Listen for the clearing of the current output cell\n",
       "var outputEl = gd.closest('.output');\n",
       "if (outputEl) {{\n",
       "    x.observe(outputEl, {childList: true});\n",
       "}}\n",
       "\n",
       "                        })                };                });            </script>        </div>"
      ]
     },
     "metadata": {},
     "output_type": "display_data"
    }
   ],
   "source": [
    "import plotly.graph_objects as go\n",
    "\n",
    "# Extract iteration numbers and RMSE values\n",
    "iterations = [x[0] for x in training_process]\n",
    "errors = [x[1] for x in training_process]\n",
    "\n",
    "# Create the plot\n",
    "fig = go.Figure()\n",
    "\n",
    "# Add a line plot\n",
    "fig.add_trace(go.Scatter(\n",
    "    x=iterations,\n",
    "    y=errors,\n",
    "    mode='lines+markers',\n",
    "    name='RMSE',\n",
    "    line=dict(color='blue'),\n",
    "    marker=dict(symbol='circle')\n",
    "))\n",
    "\n",
    "# Update layout\n",
    "fig.update_layout(\n",
    "    title='RMSE over Iterations',\n",
    "    xaxis_title='Iteration',\n",
    "    yaxis_title='RMSE',\n",
    "    template='plotly_white',\n",
    "    showlegend=True\n",
    ")\n",
    "\n",
    "# Show the plot\n",
    "fig.show()\n"
   ]
  },
  {
   "cell_type": "markdown",
   "id": "0c370759-ed9f-4a27-9a74-04622668aa77",
   "metadata": {},
   "source": [
    "## We are getting this scores : - \n",
    "\n",
    "RMSE: 0.2998\n",
    "\n",
    "MAE: 0.2226\n",
    "\n",
    "Precision: 0.9660\n",
    "\n",
    "Recall: 0.9708\n",
    "\n",
    "F1-Score: 0.9684"
   ]
  },
  {
   "cell_type": "markdown",
   "id": "b9a71b0b-0f94-4cd4-b4fc-9e142b82b6a6",
   "metadata": {},
   "source": [
    "### These scores suggest that our model is performing quite well"
   ]
  },
  {
   "cell_type": "markdown",
   "id": "898c3bb3-cd30-42bc-aa73-69524d243556",
   "metadata": {},
   "source": [
    "### Printing the full predicted ratings matrix"
   ]
  },
  {
   "cell_type": "code",
   "execution_count": 108,
   "id": "6f67c84d-1f62-4f73-a35c-0a170f6d1bec",
   "metadata": {},
   "outputs": [
    {
     "name": "stdout",
     "output_type": "stream",
     "text": [
      "Full Predicted Ratings Matrix:\n",
      "[[4.31538513 3.15022567 4.06176443 ... 3.27431714 3.61332995 3.31154765]\n",
      " [4.26199064 3.1754914  1.9321232  ... 3.28823097 3.54769923 3.47347588]\n",
      " [2.58689448 1.69216935 2.23580553 ... 2.59740139 2.82467422 2.71150996]\n",
      " ...\n",
      " [4.74129497 3.53662182 3.47382711 ... 3.4347368  3.85059299 3.67631118]\n",
      " [3.83525828 4.842556   3.75145348 ... 3.69576711 3.91315255 3.80080984]\n",
      " [2.8607415  4.58109347 2.07366811 ... 3.09396636 3.43910382 3.22446806]]\n",
      "Predicted rating for user 1 and item 6: 3.9124\n",
      "Predicted Ratings for the first 5 users and items:\n",
      "User 0 - Item 0: 4.3154\n",
      "User 0 - Item 1: 3.1502\n",
      "User 0 - Item 2: 4.0618\n",
      "User 0 - Item 3: 3.6079\n",
      "User 0 - Item 4: 2.9239\n",
      "User 1 - Item 0: 4.2620\n",
      "User 1 - Item 1: 3.1755\n",
      "User 1 - Item 2: 1.9321\n",
      "User 1 - Item 3: 3.0166\n",
      "User 1 - Item 4: 3.5718\n",
      "User 2 - Item 0: 2.5869\n",
      "User 2 - Item 1: 1.6922\n",
      "User 2 - Item 2: 2.2358\n",
      "User 2 - Item 3: 3.1585\n",
      "User 2 - Item 4: 2.1802\n",
      "User 3 - Item 0: 4.9608\n",
      "User 3 - Item 1: 4.2367\n",
      "User 3 - Item 2: 3.7501\n",
      "User 3 - Item 3: 3.2893\n",
      "User 3 - Item 4: 4.1801\n",
      "User 4 - Item 0: 3.9947\n",
      "User 4 - Item 1: 2.9269\n",
      "User 4 - Item 2: 0.6635\n",
      "User 4 - Item 3: 2.6629\n",
      "User 4 - Item 4: 1.9790\n"
     ]
    }
   ],
   "source": [
    "\n",
    "predicted_ratings = mf.full_matrix()\n",
    "\n",
    "# Display the full predicted ratings matrix\n",
    "print(\"Full Predicted Ratings Matrix:\")\n",
    "print(predicted_ratings)\n",
    "\n",
    "# Get predictions for specific user-item pairs\n",
    "user_id = 1\n",
    "item_id = 6\n",
    "predicted_rating = mf.get_rating(user_id, item_id)\n",
    "print(f\"Predicted rating for user {user_id} and item {item_id}: {predicted_rating:.4f}\")\n",
    "\n",
    "# Display predictions for the first 5 users and items\n",
    "print(\"Predicted Ratings for the first 5 users and items:\")\n",
    "for user_id in range(5):\n",
    "    for item_id in range(5):\n",
    "        print(f\"User {user_id} - Item {item_id}: {mf.get_rating(user_id, item_id):.4f}\")\n"
   ]
  },
  {
   "cell_type": "markdown",
   "id": "20b9644b-120a-43fe-9261-29fa43533b09",
   "metadata": {},
   "source": [
    "## Printing the User-Item Matrix with Predicted Ratings"
   ]
  },
  {
   "cell_type": "code",
   "execution_count": 122,
   "id": "79024a63-c167-4027-a842-644cbdfc6fcb",
   "metadata": {},
   "outputs": [
    {
     "name": "stdout",
     "output_type": "stream",
     "text": [
      "Completed User-Item Matrix with Predicted Ratings saved to 'matrixf_model_predictions.csv'\n",
      "Completed User-Item Matrix with Predicted Ratings:\n",
      "943\n"
     ]
    }
   ],
   "source": [
    "import pandas as pd\n",
    "import numpy as np\n",
    "\n",
    "\n",
    "\n",
    "# Get the full predicted ratings matrix\n",
    "predicted_ratings = mf.full_matrix()\n",
    "\n",
    "# Replace the zeros in the original matrix with the predicted ratings\n",
    "completed_matrix = R.copy()\n",
    "completed_matrix[completed_matrix == 0] = predicted_ratings[completed_matrix == 0]\n",
    "\n",
    "# Prepare lists to store the data for DataFrame\n",
    "user_ids = []\n",
    "item_ids = []\n",
    "actual_ratings = []\n",
    "predicted_ratings_list = []\n",
    "\n",
    "# Iterate through the completed matrix to populate the lists\n",
    "for user_id in range(num_users):\n",
    "    for item_id in range(num_items):\n",
    "        user_ids.append(user_id + 1)  # Assuming user_ids start from 1\n",
    "        item_ids.append(item_id + 1)  # Assuming item_ids start from 1\n",
    "        actual_ratings.append(R[user_id, item_id])\n",
    "        predicted_ratings_list.append(completed_matrix[user_id, item_id])\n",
    "\n",
    "# Create DataFrame from the lists\n",
    "results_df = pd.DataFrame({\n",
    "    'user_id': user_ids,\n",
    "    'item_id': item_ids,\n",
    "    'actual_rating': actual_ratings,\n",
    "    'predicted_rating': predicted_ratings_list\n",
    "})\n",
    "\n",
    "# Rename the column 'item_id' to 'movie_id'\n",
    "results_df.rename(columns={'item_id': 'movie_id'}, inplace=True)\n",
    "\n",
    "# Save the DataFrame to a CSV file\n",
    "results_df.to_csv('matrixf_model_predictions.csv', index=False)\n",
    "print(\"Completed User-Item Matrix with Predicted Ratings saved to 'matrixf_model_predictions.csv'\")\n",
    "\n",
    "# Print the DataFrame (optional)\n",
    "print(\"Completed User-Item Matrix with Predicted Ratings:\")\n",
    "print(results_df[\"user_id\"].nunique())\n"
   ]
  },
  {
   "cell_type": "markdown",
   "id": "9a313c46-08c2-449c-ac0a-058ac4e0399d",
   "metadata": {},
   "source": [
    "## Final Conclusion \n",
    "Now we have the ratings from all 943 users for all 1682 movies with an accuracy indicated by the following metrics:\n",
    "\n",
    "RMSE: 0.2998\n",
    "\n",
    "MAE: 0.2226\n",
    "\n",
    "Precision: 0.9660\n",
    "\n",
    "Recall: 0.9708\n",
    "\n",
    "F1-Score: 0.9684\n",
    "\n",
    "These scores demonstrate a high level of accuracy and reliability in our recommendation model."
   ]
  },
  {
   "cell_type": "markdown",
   "id": "4d1acbaa-18a2-4513-84d7-0f1cf3dec3a9",
   "metadata": {},
   "source": [
    "## --------------------------------------------------------------------------------------------------"
   ]
  },
  {
   "cell_type": "markdown",
   "id": "b05d90bd-463c-4b26-9869-1981264f5d68",
   "metadata": {},
   "source": [
    "# Part : - 2 "
   ]
  },
  {
   "cell_type": "markdown",
   "id": "207b0336-4035-46f7-a7b2-7f6c8f1956ed",
   "metadata": {},
   "source": [
    "# Building the Hybrid Recommender System"
   ]
  },
  {
   "cell_type": "code",
   "execution_count": 29,
   "id": "8cc10460-c12d-4c72-b52c-3ced045661a9",
   "metadata": {},
   "outputs": [
    {
     "name": "stdout",
     "output_type": "stream",
     "text": [
      "Requirement already satisfied: nltk in /opt/homebrew/anaconda3/lib/python3.11/site-packages (3.8.1)\n",
      "Requirement already satisfied: click in /opt/homebrew/anaconda3/lib/python3.11/site-packages (from nltk) (8.1.7)\n",
      "Requirement already satisfied: joblib in /opt/homebrew/anaconda3/lib/python3.11/site-packages (from nltk) (1.4.2)\n",
      "Requirement already satisfied: regex>=2021.8.3 in /opt/homebrew/anaconda3/lib/python3.11/site-packages (from nltk) (2023.10.3)\n",
      "Requirement already satisfied: tqdm in /opt/homebrew/anaconda3/lib/python3.11/site-packages (from nltk) (4.66.4)\n",
      "\n",
      "\u001b[1m[\u001b[0m\u001b[34;49mnotice\u001b[0m\u001b[1;39;49m]\u001b[0m\u001b[39;49m A new release of pip is available: \u001b[0m\u001b[31;49m24.1.2\u001b[0m\u001b[39;49m -> \u001b[0m\u001b[32;49m24.2\u001b[0m\n",
      "\u001b[1m[\u001b[0m\u001b[34;49mnotice\u001b[0m\u001b[1;39;49m]\u001b[0m\u001b[39;49m To update, run: \u001b[0m\u001b[32;49mpip install --upgrade pip\u001b[0m\n",
      "Note: you may need to restart the kernel to use updated packages.\n"
     ]
    }
   ],
   "source": [
    "pip install nltk\n"
   ]
  },
  {
   "cell_type": "code",
   "execution_count": 30,
   "id": "b94d7bf4-a0a8-444b-88fd-b2c0375551c6",
   "metadata": {},
   "outputs": [
    {
     "name": "stdout",
     "output_type": "stream",
     "text": [
      "Requirement already satisfied: IMDbPY in /opt/homebrew/anaconda3/lib/python3.11/site-packages (2022.7.9)\n",
      "Requirement already satisfied: cinemagoer in /opt/homebrew/anaconda3/lib/python3.11/site-packages (from IMDbPY) (2023.5.1)\n",
      "Requirement already satisfied: SQLAlchemy in /opt/homebrew/anaconda3/lib/python3.11/site-packages (from cinemagoer->IMDbPY) (2.0.30)\n",
      "Requirement already satisfied: lxml in /opt/homebrew/anaconda3/lib/python3.11/site-packages (from cinemagoer->IMDbPY) (5.2.1)\n",
      "Requirement already satisfied: typing-extensions>=4.6.0 in /opt/homebrew/anaconda3/lib/python3.11/site-packages (from SQLAlchemy->cinemagoer->IMDbPY) (4.11.0)\n",
      "\n",
      "\u001b[1m[\u001b[0m\u001b[34;49mnotice\u001b[0m\u001b[1;39;49m]\u001b[0m\u001b[39;49m A new release of pip is available: \u001b[0m\u001b[31;49m24.1.2\u001b[0m\u001b[39;49m -> \u001b[0m\u001b[32;49m24.2\u001b[0m\n",
      "\u001b[1m[\u001b[0m\u001b[34;49mnotice\u001b[0m\u001b[1;39;49m]\u001b[0m\u001b[39;49m To update, run: \u001b[0m\u001b[32;49mpip install --upgrade pip\u001b[0m\n",
      "Note: you may need to restart the kernel to use updated packages.\n"
     ]
    }
   ],
   "source": [
    "pip install IMDbPY\n"
   ]
  },
  {
   "cell_type": "markdown",
   "id": "8bde3305-fee8-40ac-b8c4-343719d3fa49",
   "metadata": {},
   "source": [
    "## Preparing the Dataset "
   ]
  },
  {
   "cell_type": "code",
   "execution_count": 31,
   "id": "005b0229-95b4-47b6-9d58-f968b7f0f15e",
   "metadata": {},
   "outputs": [],
   "source": [
    "import pandas as pd\n",
    "\n",
    "# Load the datasets\n",
    "u_data = pd.read_csv('/Users/salmanmohamm3d/Desktop/Sem 3/Social M A/Final Project/u.data.csv', sep='\\t', names=['user_id', 'movie_id', 'rating', 'timestamp'])\n",
    "u_item = pd.read_csv('/Users/salmanmohamm3d/Desktop/Sem 3/Social M A/Final Project/u.item', sep='|', names=['movie_id', 'movie_title', 'release_date', 'video_release_date', 'IMDb_URL', 'unknown', 'Action', 'Adventure', 'Animation', \"Children's\", 'Comedy', 'Crime', 'Documentary', 'Drama', 'Fantasy', 'Film-Noir', 'Horror', 'Musical', 'Mystery', 'Romance', 'Sci-Fi', 'Thriller', 'War', 'Western'], encoding='latin-1')\n"
   ]
  },
  {
   "cell_type": "code",
   "execution_count": 32,
   "id": "1d189784-a7fc-4be1-b1cc-18de46e6bf44",
   "metadata": {},
   "outputs": [],
   "source": [
    "# Merge datasets\n",
    "merged_data = pd.merge(u_data, u_item, on='movie_id')\n",
    "merged_data = merged_data.drop('video_release_date', axis=1) #dropping the unecessary column"
   ]
  },
  {
   "cell_type": "code",
   "execution_count": null,
   "id": "06abbff3-f8b3-4393-8c27-4842874c617a",
   "metadata": {},
   "outputs": [],
   "source": []
  },
  {
   "cell_type": "code",
   "execution_count": 33,
   "id": "8c4f819a-d313-410f-8485-de11c9b56499",
   "metadata": {},
   "outputs": [
    {
     "data": {
      "text/html": [
       "<div>\n",
       "<style scoped>\n",
       "    .dataframe tbody tr th:only-of-type {\n",
       "        vertical-align: middle;\n",
       "    }\n",
       "\n",
       "    .dataframe tbody tr th {\n",
       "        vertical-align: top;\n",
       "    }\n",
       "\n",
       "    .dataframe thead th {\n",
       "        text-align: right;\n",
       "    }\n",
       "</style>\n",
       "<table border=\"1\" class=\"dataframe\">\n",
       "  <thead>\n",
       "    <tr style=\"text-align: right;\">\n",
       "      <th></th>\n",
       "      <th>user_id</th>\n",
       "      <th>movie_id</th>\n",
       "      <th>rating</th>\n",
       "      <th>timestamp</th>\n",
       "      <th>movie_title</th>\n",
       "      <th>release_date</th>\n",
       "      <th>IMDb_URL</th>\n",
       "      <th>unknown</th>\n",
       "      <th>Action</th>\n",
       "      <th>Adventure</th>\n",
       "      <th>...</th>\n",
       "      <th>Fantasy</th>\n",
       "      <th>Film-Noir</th>\n",
       "      <th>Horror</th>\n",
       "      <th>Musical</th>\n",
       "      <th>Mystery</th>\n",
       "      <th>Romance</th>\n",
       "      <th>Sci-Fi</th>\n",
       "      <th>Thriller</th>\n",
       "      <th>War</th>\n",
       "      <th>Western</th>\n",
       "    </tr>\n",
       "  </thead>\n",
       "  <tbody>\n",
       "    <tr>\n",
       "      <th>0</th>\n",
       "      <td>196</td>\n",
       "      <td>242</td>\n",
       "      <td>3</td>\n",
       "      <td>881250949</td>\n",
       "      <td>Kolya (1996)</td>\n",
       "      <td>24-Jan-1997</td>\n",
       "      <td>http://us.imdb.com/M/title-exact?Kolya%20(1996)</td>\n",
       "      <td>0</td>\n",
       "      <td>0</td>\n",
       "      <td>0</td>\n",
       "      <td>...</td>\n",
       "      <td>0</td>\n",
       "      <td>0</td>\n",
       "      <td>0</td>\n",
       "      <td>0</td>\n",
       "      <td>0</td>\n",
       "      <td>0</td>\n",
       "      <td>0</td>\n",
       "      <td>0</td>\n",
       "      <td>0</td>\n",
       "      <td>0</td>\n",
       "    </tr>\n",
       "    <tr>\n",
       "      <th>1</th>\n",
       "      <td>186</td>\n",
       "      <td>302</td>\n",
       "      <td>3</td>\n",
       "      <td>891717742</td>\n",
       "      <td>L.A. Confidential (1997)</td>\n",
       "      <td>01-Jan-1997</td>\n",
       "      <td>http://us.imdb.com/M/title-exact?L%2EA%2E+Conf...</td>\n",
       "      <td>0</td>\n",
       "      <td>0</td>\n",
       "      <td>0</td>\n",
       "      <td>...</td>\n",
       "      <td>0</td>\n",
       "      <td>1</td>\n",
       "      <td>0</td>\n",
       "      <td>0</td>\n",
       "      <td>1</td>\n",
       "      <td>0</td>\n",
       "      <td>0</td>\n",
       "      <td>1</td>\n",
       "      <td>0</td>\n",
       "      <td>0</td>\n",
       "    </tr>\n",
       "    <tr>\n",
       "      <th>2</th>\n",
       "      <td>22</td>\n",
       "      <td>377</td>\n",
       "      <td>1</td>\n",
       "      <td>878887116</td>\n",
       "      <td>Heavyweights (1994)</td>\n",
       "      <td>01-Jan-1994</td>\n",
       "      <td>http://us.imdb.com/M/title-exact?Heavyweights%...</td>\n",
       "      <td>0</td>\n",
       "      <td>0</td>\n",
       "      <td>0</td>\n",
       "      <td>...</td>\n",
       "      <td>0</td>\n",
       "      <td>0</td>\n",
       "      <td>0</td>\n",
       "      <td>0</td>\n",
       "      <td>0</td>\n",
       "      <td>0</td>\n",
       "      <td>0</td>\n",
       "      <td>0</td>\n",
       "      <td>0</td>\n",
       "      <td>0</td>\n",
       "    </tr>\n",
       "    <tr>\n",
       "      <th>3</th>\n",
       "      <td>244</td>\n",
       "      <td>51</td>\n",
       "      <td>2</td>\n",
       "      <td>880606923</td>\n",
       "      <td>Legends of the Fall (1994)</td>\n",
       "      <td>01-Jan-1994</td>\n",
       "      <td>http://us.imdb.com/M/title-exact?Legends%20of%...</td>\n",
       "      <td>0</td>\n",
       "      <td>0</td>\n",
       "      <td>0</td>\n",
       "      <td>...</td>\n",
       "      <td>0</td>\n",
       "      <td>0</td>\n",
       "      <td>0</td>\n",
       "      <td>0</td>\n",
       "      <td>0</td>\n",
       "      <td>1</td>\n",
       "      <td>0</td>\n",
       "      <td>0</td>\n",
       "      <td>1</td>\n",
       "      <td>1</td>\n",
       "    </tr>\n",
       "    <tr>\n",
       "      <th>4</th>\n",
       "      <td>166</td>\n",
       "      <td>346</td>\n",
       "      <td>1</td>\n",
       "      <td>886397596</td>\n",
       "      <td>Jackie Brown (1997)</td>\n",
       "      <td>01-Jan-1997</td>\n",
       "      <td>http://us.imdb.com/M/title-exact?imdb-title-11...</td>\n",
       "      <td>0</td>\n",
       "      <td>0</td>\n",
       "      <td>0</td>\n",
       "      <td>...</td>\n",
       "      <td>0</td>\n",
       "      <td>0</td>\n",
       "      <td>0</td>\n",
       "      <td>0</td>\n",
       "      <td>0</td>\n",
       "      <td>0</td>\n",
       "      <td>0</td>\n",
       "      <td>0</td>\n",
       "      <td>0</td>\n",
       "      <td>0</td>\n",
       "    </tr>\n",
       "    <tr>\n",
       "      <th>5</th>\n",
       "      <td>298</td>\n",
       "      <td>474</td>\n",
       "      <td>4</td>\n",
       "      <td>884182806</td>\n",
       "      <td>Dr. Strangelove or: How I Learned to Stop Worr...</td>\n",
       "      <td>01-Jan-1963</td>\n",
       "      <td>http://us.imdb.com/M/title-exact?Dr.%20Strange...</td>\n",
       "      <td>0</td>\n",
       "      <td>0</td>\n",
       "      <td>0</td>\n",
       "      <td>...</td>\n",
       "      <td>0</td>\n",
       "      <td>0</td>\n",
       "      <td>0</td>\n",
       "      <td>0</td>\n",
       "      <td>0</td>\n",
       "      <td>0</td>\n",
       "      <td>1</td>\n",
       "      <td>0</td>\n",
       "      <td>1</td>\n",
       "      <td>0</td>\n",
       "    </tr>\n",
       "    <tr>\n",
       "      <th>6</th>\n",
       "      <td>115</td>\n",
       "      <td>265</td>\n",
       "      <td>2</td>\n",
       "      <td>881171488</td>\n",
       "      <td>Hunt for Red October, The (1990)</td>\n",
       "      <td>01-Jan-1990</td>\n",
       "      <td>http://us.imdb.com/M/title-exact?Hunt+for+Red+...</td>\n",
       "      <td>0</td>\n",
       "      <td>1</td>\n",
       "      <td>0</td>\n",
       "      <td>...</td>\n",
       "      <td>0</td>\n",
       "      <td>0</td>\n",
       "      <td>0</td>\n",
       "      <td>0</td>\n",
       "      <td>0</td>\n",
       "      <td>0</td>\n",
       "      <td>0</td>\n",
       "      <td>1</td>\n",
       "      <td>0</td>\n",
       "      <td>0</td>\n",
       "    </tr>\n",
       "    <tr>\n",
       "      <th>7</th>\n",
       "      <td>253</td>\n",
       "      <td>465</td>\n",
       "      <td>5</td>\n",
       "      <td>891628467</td>\n",
       "      <td>Jungle Book, The (1994)</td>\n",
       "      <td>01-Jan-1994</td>\n",
       "      <td>http://us.imdb.com/M/title-exact?Jungle%20Book...</td>\n",
       "      <td>0</td>\n",
       "      <td>0</td>\n",
       "      <td>1</td>\n",
       "      <td>...</td>\n",
       "      <td>0</td>\n",
       "      <td>0</td>\n",
       "      <td>0</td>\n",
       "      <td>0</td>\n",
       "      <td>0</td>\n",
       "      <td>1</td>\n",
       "      <td>0</td>\n",
       "      <td>0</td>\n",
       "      <td>0</td>\n",
       "      <td>0</td>\n",
       "    </tr>\n",
       "    <tr>\n",
       "      <th>8</th>\n",
       "      <td>305</td>\n",
       "      <td>451</td>\n",
       "      <td>3</td>\n",
       "      <td>886324817</td>\n",
       "      <td>Grease (1978)</td>\n",
       "      <td>01-Jan-1978</td>\n",
       "      <td>http://us.imdb.com/M/title-exact?Grease%20(1978)</td>\n",
       "      <td>0</td>\n",
       "      <td>0</td>\n",
       "      <td>0</td>\n",
       "      <td>...</td>\n",
       "      <td>0</td>\n",
       "      <td>0</td>\n",
       "      <td>0</td>\n",
       "      <td>1</td>\n",
       "      <td>0</td>\n",
       "      <td>1</td>\n",
       "      <td>0</td>\n",
       "      <td>0</td>\n",
       "      <td>0</td>\n",
       "      <td>0</td>\n",
       "    </tr>\n",
       "    <tr>\n",
       "      <th>9</th>\n",
       "      <td>6</td>\n",
       "      <td>86</td>\n",
       "      <td>3</td>\n",
       "      <td>883603013</td>\n",
       "      <td>Remains of the Day, The (1993)</td>\n",
       "      <td>01-Jan-1993</td>\n",
       "      <td>http://us.imdb.com/M/title-exact?Remains%20of%...</td>\n",
       "      <td>0</td>\n",
       "      <td>0</td>\n",
       "      <td>0</td>\n",
       "      <td>...</td>\n",
       "      <td>0</td>\n",
       "      <td>0</td>\n",
       "      <td>0</td>\n",
       "      <td>0</td>\n",
       "      <td>0</td>\n",
       "      <td>0</td>\n",
       "      <td>0</td>\n",
       "      <td>0</td>\n",
       "      <td>0</td>\n",
       "      <td>0</td>\n",
       "    </tr>\n",
       "  </tbody>\n",
       "</table>\n",
       "<p>10 rows × 26 columns</p>\n",
       "</div>"
      ],
      "text/plain": [
       "   user_id  movie_id  rating  timestamp  \\\n",
       "0      196       242       3  881250949   \n",
       "1      186       302       3  891717742   \n",
       "2       22       377       1  878887116   \n",
       "3      244        51       2  880606923   \n",
       "4      166       346       1  886397596   \n",
       "5      298       474       4  884182806   \n",
       "6      115       265       2  881171488   \n",
       "7      253       465       5  891628467   \n",
       "8      305       451       3  886324817   \n",
       "9        6        86       3  883603013   \n",
       "\n",
       "                                         movie_title release_date  \\\n",
       "0                                       Kolya (1996)  24-Jan-1997   \n",
       "1                           L.A. Confidential (1997)  01-Jan-1997   \n",
       "2                                Heavyweights (1994)  01-Jan-1994   \n",
       "3                         Legends of the Fall (1994)  01-Jan-1994   \n",
       "4                                Jackie Brown (1997)  01-Jan-1997   \n",
       "5  Dr. Strangelove or: How I Learned to Stop Worr...  01-Jan-1963   \n",
       "6                   Hunt for Red October, The (1990)  01-Jan-1990   \n",
       "7                            Jungle Book, The (1994)  01-Jan-1994   \n",
       "8                                      Grease (1978)  01-Jan-1978   \n",
       "9                     Remains of the Day, The (1993)  01-Jan-1993   \n",
       "\n",
       "                                            IMDb_URL  unknown  Action  \\\n",
       "0    http://us.imdb.com/M/title-exact?Kolya%20(1996)        0       0   \n",
       "1  http://us.imdb.com/M/title-exact?L%2EA%2E+Conf...        0       0   \n",
       "2  http://us.imdb.com/M/title-exact?Heavyweights%...        0       0   \n",
       "3  http://us.imdb.com/M/title-exact?Legends%20of%...        0       0   \n",
       "4  http://us.imdb.com/M/title-exact?imdb-title-11...        0       0   \n",
       "5  http://us.imdb.com/M/title-exact?Dr.%20Strange...        0       0   \n",
       "6  http://us.imdb.com/M/title-exact?Hunt+for+Red+...        0       1   \n",
       "7  http://us.imdb.com/M/title-exact?Jungle%20Book...        0       0   \n",
       "8   http://us.imdb.com/M/title-exact?Grease%20(1978)        0       0   \n",
       "9  http://us.imdb.com/M/title-exact?Remains%20of%...        0       0   \n",
       "\n",
       "   Adventure  ...  Fantasy  Film-Noir  Horror  Musical  Mystery  Romance  \\\n",
       "0          0  ...        0          0       0        0        0        0   \n",
       "1          0  ...        0          1       0        0        1        0   \n",
       "2          0  ...        0          0       0        0        0        0   \n",
       "3          0  ...        0          0       0        0        0        1   \n",
       "4          0  ...        0          0       0        0        0        0   \n",
       "5          0  ...        0          0       0        0        0        0   \n",
       "6          0  ...        0          0       0        0        0        0   \n",
       "7          1  ...        0          0       0        0        0        1   \n",
       "8          0  ...        0          0       0        1        0        1   \n",
       "9          0  ...        0          0       0        0        0        0   \n",
       "\n",
       "   Sci-Fi  Thriller  War  Western  \n",
       "0       0         0    0        0  \n",
       "1       0         1    0        0  \n",
       "2       0         0    0        0  \n",
       "3       0         0    1        1  \n",
       "4       0         0    0        0  \n",
       "5       1         0    1        0  \n",
       "6       0         1    0        0  \n",
       "7       0         0    0        0  \n",
       "8       0         0    0        0  \n",
       "9       0         0    0        0  \n",
       "\n",
       "[10 rows x 26 columns]"
      ]
     },
     "execution_count": 33,
     "metadata": {},
     "output_type": "execute_result"
    }
   ],
   "source": [
    "merged_data.head(10)"
   ]
  },
  {
   "cell_type": "code",
   "execution_count": 34,
   "id": "898e35e9-74b3-4d0d-bd55-fc0fc97df0cf",
   "metadata": {},
   "outputs": [
    {
     "name": "stdout",
     "output_type": "stream",
     "text": [
      "<class 'pandas.core.frame.DataFrame'>\n",
      "RangeIndex: 100000 entries, 0 to 99999\n",
      "Data columns (total 26 columns):\n",
      " #   Column        Non-Null Count   Dtype \n",
      "---  ------        --------------   ----- \n",
      " 0   user_id       100000 non-null  int64 \n",
      " 1   movie_id      100000 non-null  int64 \n",
      " 2   rating        100000 non-null  int64 \n",
      " 3   timestamp     100000 non-null  int64 \n",
      " 4   movie_title   100000 non-null  object\n",
      " 5   release_date  99991 non-null   object\n",
      " 6   IMDb_URL      99987 non-null   object\n",
      " 7   unknown       100000 non-null  int64 \n",
      " 8   Action        100000 non-null  int64 \n",
      " 9   Adventure     100000 non-null  int64 \n",
      " 10  Animation     100000 non-null  int64 \n",
      " 11  Children's    100000 non-null  int64 \n",
      " 12  Comedy        100000 non-null  int64 \n",
      " 13  Crime         100000 non-null  int64 \n",
      " 14  Documentary   100000 non-null  int64 \n",
      " 15  Drama         100000 non-null  int64 \n",
      " 16  Fantasy       100000 non-null  int64 \n",
      " 17  Film-Noir     100000 non-null  int64 \n",
      " 18  Horror        100000 non-null  int64 \n",
      " 19  Musical       100000 non-null  int64 \n",
      " 20  Mystery       100000 non-null  int64 \n",
      " 21  Romance       100000 non-null  int64 \n",
      " 22  Sci-Fi        100000 non-null  int64 \n",
      " 23  Thriller      100000 non-null  int64 \n",
      " 24  War           100000 non-null  int64 \n",
      " 25  Western       100000 non-null  int64 \n",
      "dtypes: int64(23), object(3)\n",
      "memory usage: 19.8+ MB\n"
     ]
    }
   ],
   "source": [
    "merged_data.info()"
   ]
  },
  {
   "cell_type": "code",
   "execution_count": 35,
   "id": "1c08ed34-2232-4775-b2ee-5abcc04b4a5e",
   "metadata": {},
   "outputs": [
    {
     "data": {
      "text/plain": [
       "user_id           943\n",
       "movie_id         1682\n",
       "rating              5\n",
       "timestamp       49282\n",
       "movie_title      1664\n",
       "release_date      240\n",
       "IMDb_URL         1660\n",
       "unknown             2\n",
       "Action              2\n",
       "Adventure           2\n",
       "Animation           2\n",
       "Children's          2\n",
       "Comedy              2\n",
       "Crime               2\n",
       "Documentary         2\n",
       "Drama               2\n",
       "Fantasy             2\n",
       "Film-Noir           2\n",
       "Horror              2\n",
       "Musical             2\n",
       "Mystery             2\n",
       "Romance             2\n",
       "Sci-Fi              2\n",
       "Thriller            2\n",
       "War                 2\n",
       "Western             2\n",
       "dtype: int64"
      ]
     },
     "execution_count": 35,
     "metadata": {},
     "output_type": "execute_result"
    }
   ],
   "source": [
    "merged_data.nunique()"
   ]
  },
  {
   "cell_type": "markdown",
   "id": "809c2e83-ed29-47de-8fe8-002e92a552bc",
   "metadata": {},
   "source": [
    "## Observation : - \n",
    "Upon observing the above information, we can conclude that 943 users provided ratings for 1682 movies, with multiple users giving multiple ratings to the same movie."
   ]
  },
  {
   "cell_type": "code",
   "execution_count": null,
   "id": "80164555-46e1-4b2b-8777-5e5b79d37865",
   "metadata": {},
   "outputs": [],
   "source": [
    "\n"
   ]
  },
  {
   "cell_type": "markdown",
   "id": "ddfeacdb-877e-4390-ba71-551044ebb20d",
   "metadata": {},
   "source": [
    "## Creating a Movie Tag Word from Movie Title"
   ]
  },
  {
   "cell_type": "code",
   "execution_count": 36,
   "id": "9aafa99b-9611-4008-9d41-fd9a6ce59ae4",
   "metadata": {},
   "outputs": [],
   "source": [
    "# Extract just the movie name from the movie_title column\n",
    "merged_data['movie_tag_word'] = merged_data['movie_title'].str.extract(r'^(.*?)(?:\\s\\(\\d{4}\\))?$')"
   ]
  },
  {
   "cell_type": "code",
   "execution_count": 37,
   "id": "a3c1e2f8-9548-4c6e-a0fb-db25f354beb0",
   "metadata": {},
   "outputs": [
    {
     "data": {
      "text/html": [
       "<div>\n",
       "<style scoped>\n",
       "    .dataframe tbody tr th:only-of-type {\n",
       "        vertical-align: middle;\n",
       "    }\n",
       "\n",
       "    .dataframe tbody tr th {\n",
       "        vertical-align: top;\n",
       "    }\n",
       "\n",
       "    .dataframe thead th {\n",
       "        text-align: right;\n",
       "    }\n",
       "</style>\n",
       "<table border=\"1\" class=\"dataframe\">\n",
       "  <thead>\n",
       "    <tr style=\"text-align: right;\">\n",
       "      <th></th>\n",
       "      <th>user_id</th>\n",
       "      <th>movie_id</th>\n",
       "      <th>rating</th>\n",
       "      <th>timestamp</th>\n",
       "      <th>movie_title</th>\n",
       "      <th>release_date</th>\n",
       "      <th>IMDb_URL</th>\n",
       "      <th>unknown</th>\n",
       "      <th>Action</th>\n",
       "      <th>Adventure</th>\n",
       "      <th>...</th>\n",
       "      <th>Film-Noir</th>\n",
       "      <th>Horror</th>\n",
       "      <th>Musical</th>\n",
       "      <th>Mystery</th>\n",
       "      <th>Romance</th>\n",
       "      <th>Sci-Fi</th>\n",
       "      <th>Thriller</th>\n",
       "      <th>War</th>\n",
       "      <th>Western</th>\n",
       "      <th>movie_tag_word</th>\n",
       "    </tr>\n",
       "  </thead>\n",
       "  <tbody>\n",
       "    <tr>\n",
       "      <th>0</th>\n",
       "      <td>196</td>\n",
       "      <td>242</td>\n",
       "      <td>3</td>\n",
       "      <td>881250949</td>\n",
       "      <td>Kolya (1996)</td>\n",
       "      <td>24-Jan-1997</td>\n",
       "      <td>http://us.imdb.com/M/title-exact?Kolya%20(1996)</td>\n",
       "      <td>0</td>\n",
       "      <td>0</td>\n",
       "      <td>0</td>\n",
       "      <td>...</td>\n",
       "      <td>0</td>\n",
       "      <td>0</td>\n",
       "      <td>0</td>\n",
       "      <td>0</td>\n",
       "      <td>0</td>\n",
       "      <td>0</td>\n",
       "      <td>0</td>\n",
       "      <td>0</td>\n",
       "      <td>0</td>\n",
       "      <td>Kolya</td>\n",
       "    </tr>\n",
       "    <tr>\n",
       "      <th>1</th>\n",
       "      <td>186</td>\n",
       "      <td>302</td>\n",
       "      <td>3</td>\n",
       "      <td>891717742</td>\n",
       "      <td>L.A. Confidential (1997)</td>\n",
       "      <td>01-Jan-1997</td>\n",
       "      <td>http://us.imdb.com/M/title-exact?L%2EA%2E+Conf...</td>\n",
       "      <td>0</td>\n",
       "      <td>0</td>\n",
       "      <td>0</td>\n",
       "      <td>...</td>\n",
       "      <td>1</td>\n",
       "      <td>0</td>\n",
       "      <td>0</td>\n",
       "      <td>1</td>\n",
       "      <td>0</td>\n",
       "      <td>0</td>\n",
       "      <td>1</td>\n",
       "      <td>0</td>\n",
       "      <td>0</td>\n",
       "      <td>L.A. Confidential</td>\n",
       "    </tr>\n",
       "    <tr>\n",
       "      <th>2</th>\n",
       "      <td>22</td>\n",
       "      <td>377</td>\n",
       "      <td>1</td>\n",
       "      <td>878887116</td>\n",
       "      <td>Heavyweights (1994)</td>\n",
       "      <td>01-Jan-1994</td>\n",
       "      <td>http://us.imdb.com/M/title-exact?Heavyweights%...</td>\n",
       "      <td>0</td>\n",
       "      <td>0</td>\n",
       "      <td>0</td>\n",
       "      <td>...</td>\n",
       "      <td>0</td>\n",
       "      <td>0</td>\n",
       "      <td>0</td>\n",
       "      <td>0</td>\n",
       "      <td>0</td>\n",
       "      <td>0</td>\n",
       "      <td>0</td>\n",
       "      <td>0</td>\n",
       "      <td>0</td>\n",
       "      <td>Heavyweights</td>\n",
       "    </tr>\n",
       "    <tr>\n",
       "      <th>3</th>\n",
       "      <td>244</td>\n",
       "      <td>51</td>\n",
       "      <td>2</td>\n",
       "      <td>880606923</td>\n",
       "      <td>Legends of the Fall (1994)</td>\n",
       "      <td>01-Jan-1994</td>\n",
       "      <td>http://us.imdb.com/M/title-exact?Legends%20of%...</td>\n",
       "      <td>0</td>\n",
       "      <td>0</td>\n",
       "      <td>0</td>\n",
       "      <td>...</td>\n",
       "      <td>0</td>\n",
       "      <td>0</td>\n",
       "      <td>0</td>\n",
       "      <td>0</td>\n",
       "      <td>1</td>\n",
       "      <td>0</td>\n",
       "      <td>0</td>\n",
       "      <td>1</td>\n",
       "      <td>1</td>\n",
       "      <td>Legends of the Fall</td>\n",
       "    </tr>\n",
       "    <tr>\n",
       "      <th>4</th>\n",
       "      <td>166</td>\n",
       "      <td>346</td>\n",
       "      <td>1</td>\n",
       "      <td>886397596</td>\n",
       "      <td>Jackie Brown (1997)</td>\n",
       "      <td>01-Jan-1997</td>\n",
       "      <td>http://us.imdb.com/M/title-exact?imdb-title-11...</td>\n",
       "      <td>0</td>\n",
       "      <td>0</td>\n",
       "      <td>0</td>\n",
       "      <td>...</td>\n",
       "      <td>0</td>\n",
       "      <td>0</td>\n",
       "      <td>0</td>\n",
       "      <td>0</td>\n",
       "      <td>0</td>\n",
       "      <td>0</td>\n",
       "      <td>0</td>\n",
       "      <td>0</td>\n",
       "      <td>0</td>\n",
       "      <td>Jackie Brown</td>\n",
       "    </tr>\n",
       "    <tr>\n",
       "      <th>5</th>\n",
       "      <td>298</td>\n",
       "      <td>474</td>\n",
       "      <td>4</td>\n",
       "      <td>884182806</td>\n",
       "      <td>Dr. Strangelove or: How I Learned to Stop Worr...</td>\n",
       "      <td>01-Jan-1963</td>\n",
       "      <td>http://us.imdb.com/M/title-exact?Dr.%20Strange...</td>\n",
       "      <td>0</td>\n",
       "      <td>0</td>\n",
       "      <td>0</td>\n",
       "      <td>...</td>\n",
       "      <td>0</td>\n",
       "      <td>0</td>\n",
       "      <td>0</td>\n",
       "      <td>0</td>\n",
       "      <td>0</td>\n",
       "      <td>1</td>\n",
       "      <td>0</td>\n",
       "      <td>1</td>\n",
       "      <td>0</td>\n",
       "      <td>Dr. Strangelove or: How I Learned to Stop Worr...</td>\n",
       "    </tr>\n",
       "    <tr>\n",
       "      <th>6</th>\n",
       "      <td>115</td>\n",
       "      <td>265</td>\n",
       "      <td>2</td>\n",
       "      <td>881171488</td>\n",
       "      <td>Hunt for Red October, The (1990)</td>\n",
       "      <td>01-Jan-1990</td>\n",
       "      <td>http://us.imdb.com/M/title-exact?Hunt+for+Red+...</td>\n",
       "      <td>0</td>\n",
       "      <td>1</td>\n",
       "      <td>0</td>\n",
       "      <td>...</td>\n",
       "      <td>0</td>\n",
       "      <td>0</td>\n",
       "      <td>0</td>\n",
       "      <td>0</td>\n",
       "      <td>0</td>\n",
       "      <td>0</td>\n",
       "      <td>1</td>\n",
       "      <td>0</td>\n",
       "      <td>0</td>\n",
       "      <td>Hunt for Red October, The</td>\n",
       "    </tr>\n",
       "    <tr>\n",
       "      <th>7</th>\n",
       "      <td>253</td>\n",
       "      <td>465</td>\n",
       "      <td>5</td>\n",
       "      <td>891628467</td>\n",
       "      <td>Jungle Book, The (1994)</td>\n",
       "      <td>01-Jan-1994</td>\n",
       "      <td>http://us.imdb.com/M/title-exact?Jungle%20Book...</td>\n",
       "      <td>0</td>\n",
       "      <td>0</td>\n",
       "      <td>1</td>\n",
       "      <td>...</td>\n",
       "      <td>0</td>\n",
       "      <td>0</td>\n",
       "      <td>0</td>\n",
       "      <td>0</td>\n",
       "      <td>1</td>\n",
       "      <td>0</td>\n",
       "      <td>0</td>\n",
       "      <td>0</td>\n",
       "      <td>0</td>\n",
       "      <td>Jungle Book, The</td>\n",
       "    </tr>\n",
       "    <tr>\n",
       "      <th>8</th>\n",
       "      <td>305</td>\n",
       "      <td>451</td>\n",
       "      <td>3</td>\n",
       "      <td>886324817</td>\n",
       "      <td>Grease (1978)</td>\n",
       "      <td>01-Jan-1978</td>\n",
       "      <td>http://us.imdb.com/M/title-exact?Grease%20(1978)</td>\n",
       "      <td>0</td>\n",
       "      <td>0</td>\n",
       "      <td>0</td>\n",
       "      <td>...</td>\n",
       "      <td>0</td>\n",
       "      <td>0</td>\n",
       "      <td>1</td>\n",
       "      <td>0</td>\n",
       "      <td>1</td>\n",
       "      <td>0</td>\n",
       "      <td>0</td>\n",
       "      <td>0</td>\n",
       "      <td>0</td>\n",
       "      <td>Grease</td>\n",
       "    </tr>\n",
       "    <tr>\n",
       "      <th>9</th>\n",
       "      <td>6</td>\n",
       "      <td>86</td>\n",
       "      <td>3</td>\n",
       "      <td>883603013</td>\n",
       "      <td>Remains of the Day, The (1993)</td>\n",
       "      <td>01-Jan-1993</td>\n",
       "      <td>http://us.imdb.com/M/title-exact?Remains%20of%...</td>\n",
       "      <td>0</td>\n",
       "      <td>0</td>\n",
       "      <td>0</td>\n",
       "      <td>...</td>\n",
       "      <td>0</td>\n",
       "      <td>0</td>\n",
       "      <td>0</td>\n",
       "      <td>0</td>\n",
       "      <td>0</td>\n",
       "      <td>0</td>\n",
       "      <td>0</td>\n",
       "      <td>0</td>\n",
       "      <td>0</td>\n",
       "      <td>Remains of the Day, The</td>\n",
       "    </tr>\n",
       "  </tbody>\n",
       "</table>\n",
       "<p>10 rows × 27 columns</p>\n",
       "</div>"
      ],
      "text/plain": [
       "   user_id  movie_id  rating  timestamp  \\\n",
       "0      196       242       3  881250949   \n",
       "1      186       302       3  891717742   \n",
       "2       22       377       1  878887116   \n",
       "3      244        51       2  880606923   \n",
       "4      166       346       1  886397596   \n",
       "5      298       474       4  884182806   \n",
       "6      115       265       2  881171488   \n",
       "7      253       465       5  891628467   \n",
       "8      305       451       3  886324817   \n",
       "9        6        86       3  883603013   \n",
       "\n",
       "                                         movie_title release_date  \\\n",
       "0                                       Kolya (1996)  24-Jan-1997   \n",
       "1                           L.A. Confidential (1997)  01-Jan-1997   \n",
       "2                                Heavyweights (1994)  01-Jan-1994   \n",
       "3                         Legends of the Fall (1994)  01-Jan-1994   \n",
       "4                                Jackie Brown (1997)  01-Jan-1997   \n",
       "5  Dr. Strangelove or: How I Learned to Stop Worr...  01-Jan-1963   \n",
       "6                   Hunt for Red October, The (1990)  01-Jan-1990   \n",
       "7                            Jungle Book, The (1994)  01-Jan-1994   \n",
       "8                                      Grease (1978)  01-Jan-1978   \n",
       "9                     Remains of the Day, The (1993)  01-Jan-1993   \n",
       "\n",
       "                                            IMDb_URL  unknown  Action  \\\n",
       "0    http://us.imdb.com/M/title-exact?Kolya%20(1996)        0       0   \n",
       "1  http://us.imdb.com/M/title-exact?L%2EA%2E+Conf...        0       0   \n",
       "2  http://us.imdb.com/M/title-exact?Heavyweights%...        0       0   \n",
       "3  http://us.imdb.com/M/title-exact?Legends%20of%...        0       0   \n",
       "4  http://us.imdb.com/M/title-exact?imdb-title-11...        0       0   \n",
       "5  http://us.imdb.com/M/title-exact?Dr.%20Strange...        0       0   \n",
       "6  http://us.imdb.com/M/title-exact?Hunt+for+Red+...        0       1   \n",
       "7  http://us.imdb.com/M/title-exact?Jungle%20Book...        0       0   \n",
       "8   http://us.imdb.com/M/title-exact?Grease%20(1978)        0       0   \n",
       "9  http://us.imdb.com/M/title-exact?Remains%20of%...        0       0   \n",
       "\n",
       "   Adventure  ...  Film-Noir  Horror  Musical  Mystery  Romance  Sci-Fi  \\\n",
       "0          0  ...          0       0        0        0        0       0   \n",
       "1          0  ...          1       0        0        1        0       0   \n",
       "2          0  ...          0       0        0        0        0       0   \n",
       "3          0  ...          0       0        0        0        1       0   \n",
       "4          0  ...          0       0        0        0        0       0   \n",
       "5          0  ...          0       0        0        0        0       1   \n",
       "6          0  ...          0       0        0        0        0       0   \n",
       "7          1  ...          0       0        0        0        1       0   \n",
       "8          0  ...          0       0        1        0        1       0   \n",
       "9          0  ...          0       0        0        0        0       0   \n",
       "\n",
       "   Thriller  War  Western                                     movie_tag_word  \n",
       "0         0    0        0                                              Kolya  \n",
       "1         1    0        0                                  L.A. Confidential  \n",
       "2         0    0        0                                       Heavyweights  \n",
       "3         0    1        1                                Legends of the Fall  \n",
       "4         0    0        0                                       Jackie Brown  \n",
       "5         0    1        0  Dr. Strangelove or: How I Learned to Stop Worr...  \n",
       "6         1    0        0                          Hunt for Red October, The  \n",
       "7         0    0        0                                   Jungle Book, The  \n",
       "8         0    0        0                                             Grease  \n",
       "9         0    0        0                            Remains of the Day, The  \n",
       "\n",
       "[10 rows x 27 columns]"
      ]
     },
     "execution_count": 37,
     "metadata": {},
     "output_type": "execute_result"
    }
   ],
   "source": [
    "merged_data.head(10)"
   ]
  },
  {
   "cell_type": "code",
   "execution_count": 38,
   "id": "e05856ce-486b-4d3c-9ca1-fd84450f6a5f",
   "metadata": {},
   "outputs": [],
   "source": [
    "# Save the merged dataset\n",
    "merged_data.to_csv('/Users/salmanmohamm3d/Desktop/Sem 3/Social M A/Final Project/merged_data.csv', index=False)"
   ]
  },
  {
   "cell_type": "code",
   "execution_count": null,
   "id": "3ce42ecd-6d50-4061-ac3f-e2f2de63ec8d",
   "metadata": {},
   "outputs": [],
   "source": []
  },
  {
   "cell_type": "code",
   "execution_count": null,
   "id": "f930ded3-1201-4334-a231-541260542a07",
   "metadata": {},
   "outputs": [],
   "source": []
  },
  {
   "cell_type": "code",
   "execution_count": null,
   "id": "f7e90630-4cb3-4fc3-a98e-92b0dfdeabc9",
   "metadata": {},
   "outputs": [],
   "source": []
  },
  {
   "cell_type": "markdown",
   "id": "549b0174-8eb0-4f6a-85a8-5f39e1b0bdc8",
   "metadata": {},
   "source": [
    "### Fetching the 20 comments for each movie tag word using parallel fetching for sentiment scores "
   ]
  },
  {
   "cell_type": "code",
   "execution_count": 39,
   "id": "b2ab23c5-9008-4d0e-a871-a011e88a94e2",
   "metadata": {},
   "outputs": [
    {
     "name": "stdout",
     "output_type": "stream",
     "text": [
      "Comments fetched and saved to movie_comments.csv\n"
     ]
    }
   ],
   "source": [
    "import pandas as pd\n",
    "from imdb import IMDb\n",
    "from concurrent.futures import ThreadPoolExecutor\n",
    "\n",
    "# Initialize IMDb instance\n",
    "ia = IMDb()\n",
    "\n",
    "# Load your dataset\n",
    "df = pd.read_csv('/Users/salmanmohamm3d/Desktop/Sem 3/Social M A/Final Project/new_u_item.csv')\n",
    "\n",
    "# Function to fetch comments from IMDb\n",
    "def fetch_imdb_comments(movie_tag_word, count=20):\n",
    "    try:\n",
    "        # Search for the movie\n",
    "        movies = ia.search_movie(movie_tag_word)\n",
    "        if not movies:\n",
    "            return []\n",
    "\n",
    "        # Get the first matching movie\n",
    "        movie = movies[0]\n",
    "        ia.update(movie, 'reviews')\n",
    "\n",
    "        # Extract comments\n",
    "        comments = []\n",
    "        for review in movie.get('reviews', [])[:count]:\n",
    "            comments.append(review['content'])\n",
    "        return [{'movie_tag_word': movie_tag_word, 'comment': comment} for comment in comments]\n",
    "    except Exception as e:\n",
    "        print(f\"Error fetching comments for {movie_tag_word}: {e}\")\n",
    "        return []\n",
    "\n",
    "# Function to fetch comments in parallel\n",
    "def fetch_all_comments(df):\n",
    "    comments_list = []\n",
    "    with ThreadPoolExecutor(max_workers=8) as executor:\n",
    "        futures = [executor.submit(fetch_imdb_comments, tag) for tag in df['movie_tag_word']]\n",
    "        for future in futures:\n",
    "            result = future.result()\n",
    "            if result:\n",
    "                comments_list.extend(result)\n",
    "    return comments_list\n",
    "\n",
    "# Fetch comments for each movie tag word in parallel\n",
    "comments_list = fetch_all_comments(df)\n",
    "\n",
    "# Convert list to DataFrame\n",
    "comments_df = pd.DataFrame(comments_list)\n",
    "\n",
    "# Save the comments to a new CSV file\n",
    "comments_df.to_csv('movie_comments.csv', index=False)\n",
    "print(\"Comments fetched and saved to movie_comments.csv\")\n"
   ]
  },
  {
   "cell_type": "markdown",
   "id": "1a8b8d8a-ede7-46eb-80c8-b4cc91af6a6f",
   "metadata": {},
   "source": [
    "### Performing sentiment analysis "
   ]
  },
  {
   "cell_type": "code",
   "execution_count": 40,
   "id": "b24d2821-00f6-473f-b6d0-6acf6944911f",
   "metadata": {},
   "outputs": [
    {
     "name": "stderr",
     "output_type": "stream",
     "text": [
      "[nltk_data] Downloading package vader_lexicon to\n",
      "[nltk_data]     /Users/salmanmohamm3d/nltk_data...\n",
      "[nltk_data]   Package vader_lexicon is already up-to-date!\n",
      "[nltk_data] Downloading package stopwords to\n",
      "[nltk_data]     /Users/salmanmohamm3d/nltk_data...\n",
      "[nltk_data]   Package stopwords is already up-to-date!\n"
     ]
    },
    {
     "data": {
      "text/plain": [
       "True"
      ]
     },
     "execution_count": 40,
     "metadata": {},
     "output_type": "execute_result"
    }
   ],
   "source": [
    "import nltk\n",
    "nltk.download('vader_lexicon')\n",
    "nltk.download('stopwords')\n"
   ]
  },
  {
   "cell_type": "code",
   "execution_count": null,
   "id": "be0a9c58-b90f-4809-81a0-5629dfc29eaf",
   "metadata": {},
   "outputs": [],
   "source": []
  },
  {
   "cell_type": "code",
   "execution_count": 41,
   "id": "691d407e-12dc-4af3-aafe-3c3c49031c9c",
   "metadata": {},
   "outputs": [
    {
     "name": "stdout",
     "output_type": "stream",
     "text": [
      "Sentiment analysis completed and results saved to average_movie_sentiment.csv\n"
     ]
    }
   ],
   "source": [
    "import pandas as pd\n",
    "import re\n",
    "from nltk.corpus import stopwords\n",
    "from nltk.sentiment.vader import SentimentIntensityAnalyzer\n",
    "import nltk\n",
    "\n",
    "# Initialize stopwords and sentiment analyzer\n",
    "stop_words = set(stopwords.words('english'))\n",
    "sid = SentimentIntensityAnalyzer()\n",
    "\n",
    "# Function to clean comments\n",
    "def clean_comment(comment):\n",
    "    comment = re.sub(r'\\s+', ' ', comment)  # Remove extra spaces\n",
    "    comment = re.sub(r'\\W', ' ', comment)   # Remove special characters\n",
    "    comment = re.sub(r'\\d', ' ', comment)   # Remove digits\n",
    "    comment = comment.lower()               # Convert to lowercase\n",
    "    comment = ' '.join(word for word in comment.split() if word not in stop_words)\n",
    "    return comment\n",
    "\n",
    "# Function to perform sentiment analysis\n",
    "def analyze_sentiment(comment):\n",
    "    sentiment_score = sid.polarity_scores(comment)['compound']\n",
    "    return sentiment_score\n",
    "\n",
    "# Load the dataset with fetched comments\n",
    "comments_df = pd.read_csv('/Users/salmanmohamm3d/Desktop/Sem 3/Social M A/Final Project/movie_comments.csv')\n",
    "\n",
    "# Clean the comments and perform sentiment analysis\n",
    "comments_df['cleaned_comment'] = comments_df['comment'].apply(clean_comment)\n",
    "comments_df['sentiment_score'] = comments_df['cleaned_comment'].apply(analyze_sentiment)\n",
    "\n",
    "# Calculate the average sentiment score for each movie tag word\n",
    "average_sentiment_df = comments_df.groupby('movie_tag_word')['sentiment_score'].mean().reset_index()\n",
    "average_sentiment_df.columns = ['movie_tag_word', 'average_sentiment_score']\n",
    "\n",
    "# Function to categorize sentiment\n",
    "def categorize_sentiment(score):\n",
    "    if score >= 0.05:\n",
    "        return 'Positive'\n",
    "    elif score <= -0.05:\n",
    "        return 'Negative'\n",
    "    else:\n",
    "        return 'Neutral'\n",
    "\n",
    "# Apply sentiment categorization\n",
    "average_sentiment_df['sentiment_category'] = average_sentiment_df['average_sentiment_score'].apply(categorize_sentiment)\n",
    "\n",
    "# Save the cleaned comments and average sentiment scores to a new CSV file\n",
    "average_sentiment_df.to_csv('average_movie_sentiment.csv', index=False)\n",
    "\n",
    "print(\"Sentiment analysis completed and results saved to average_movie_sentiment.csv\")\n"
   ]
  },
  {
   "cell_type": "code",
   "execution_count": 42,
   "id": "70dd4434-1ecf-4a02-bed5-7db765292be2",
   "metadata": {},
   "outputs": [
    {
     "data": {
      "text/html": [
       "<div>\n",
       "<style scoped>\n",
       "    .dataframe tbody tr th:only-of-type {\n",
       "        vertical-align: middle;\n",
       "    }\n",
       "\n",
       "    .dataframe tbody tr th {\n",
       "        vertical-align: top;\n",
       "    }\n",
       "\n",
       "    .dataframe thead th {\n",
       "        text-align: right;\n",
       "    }\n",
       "</style>\n",
       "<table border=\"1\" class=\"dataframe\">\n",
       "  <thead>\n",
       "    <tr style=\"text-align: right;\">\n",
       "      <th></th>\n",
       "      <th>movie_tag_word</th>\n",
       "      <th>average_sentiment_score</th>\n",
       "      <th>sentiment_category</th>\n",
       "    </tr>\n",
       "  </thead>\n",
       "  <tbody>\n",
       "    <tr>\n",
       "      <th>0</th>\n",
       "      <td>'Til There Was You</td>\n",
       "      <td>0.546645</td>\n",
       "      <td>Positive</td>\n",
       "    </tr>\n",
       "    <tr>\n",
       "      <th>1</th>\n",
       "      <td>1-900</td>\n",
       "      <td>0.140200</td>\n",
       "      <td>Positive</td>\n",
       "    </tr>\n",
       "    <tr>\n",
       "      <th>2</th>\n",
       "      <td>101 Dalmatians</td>\n",
       "      <td>0.809875</td>\n",
       "      <td>Positive</td>\n",
       "    </tr>\n",
       "    <tr>\n",
       "      <th>3</th>\n",
       "      <td>12 Angry Men</td>\n",
       "      <td>0.522185</td>\n",
       "      <td>Positive</td>\n",
       "    </tr>\n",
       "    <tr>\n",
       "      <th>4</th>\n",
       "      <td>2 Days in the Valley</td>\n",
       "      <td>0.386165</td>\n",
       "      <td>Positive</td>\n",
       "    </tr>\n",
       "    <tr>\n",
       "      <th>5</th>\n",
       "      <td>20,000 Leagues Under the Sea</td>\n",
       "      <td>0.816695</td>\n",
       "      <td>Positive</td>\n",
       "    </tr>\n",
       "    <tr>\n",
       "      <th>6</th>\n",
       "      <td>2001: A Space Odyssey</td>\n",
       "      <td>0.677960</td>\n",
       "      <td>Positive</td>\n",
       "    </tr>\n",
       "    <tr>\n",
       "      <th>7</th>\n",
       "      <td>3 Ninjas: High Noon At Mega Mountain</td>\n",
       "      <td>-0.278035</td>\n",
       "      <td>Negative</td>\n",
       "    </tr>\n",
       "    <tr>\n",
       "      <th>8</th>\n",
       "      <td>39 Steps, The</td>\n",
       "      <td>0.853275</td>\n",
       "      <td>Positive</td>\n",
       "    </tr>\n",
       "    <tr>\n",
       "      <th>9</th>\n",
       "      <td>8 1/2</td>\n",
       "      <td>0.811120</td>\n",
       "      <td>Positive</td>\n",
       "    </tr>\n",
       "    <tr>\n",
       "      <th>10</th>\n",
       "      <td>8 Heads in a Duffel Bag</td>\n",
       "      <td>0.437905</td>\n",
       "      <td>Positive</td>\n",
       "    </tr>\n",
       "    <tr>\n",
       "      <th>11</th>\n",
       "      <td>8 Seconds</td>\n",
       "      <td>0.695950</td>\n",
       "      <td>Positive</td>\n",
       "    </tr>\n",
       "    <tr>\n",
       "      <th>12</th>\n",
       "      <td>A Chef in Love</td>\n",
       "      <td>0.960888</td>\n",
       "      <td>Positive</td>\n",
       "    </tr>\n",
       "    <tr>\n",
       "      <th>13</th>\n",
       "      <td>Above the Rim</td>\n",
       "      <td>0.763365</td>\n",
       "      <td>Positive</td>\n",
       "    </tr>\n",
       "    <tr>\n",
       "      <th>14</th>\n",
       "      <td>Absolute Power</td>\n",
       "      <td>0.677540</td>\n",
       "      <td>Positive</td>\n",
       "    </tr>\n",
       "    <tr>\n",
       "      <th>15</th>\n",
       "      <td>Abyss, The</td>\n",
       "      <td>0.645930</td>\n",
       "      <td>Positive</td>\n",
       "    </tr>\n",
       "    <tr>\n",
       "      <th>16</th>\n",
       "      <td>Ace Ventura: Pet Detective</td>\n",
       "      <td>0.897085</td>\n",
       "      <td>Positive</td>\n",
       "    </tr>\n",
       "    <tr>\n",
       "      <th>17</th>\n",
       "      <td>Ace Ventura: When Nature Calls</td>\n",
       "      <td>0.633585</td>\n",
       "      <td>Positive</td>\n",
       "    </tr>\n",
       "    <tr>\n",
       "      <th>18</th>\n",
       "      <td>Across the Sea of Time</td>\n",
       "      <td>0.867850</td>\n",
       "      <td>Positive</td>\n",
       "    </tr>\n",
       "    <tr>\n",
       "      <th>19</th>\n",
       "      <td>Addams Family Values</td>\n",
       "      <td>0.688530</td>\n",
       "      <td>Positive</td>\n",
       "    </tr>\n",
       "  </tbody>\n",
       "</table>\n",
       "</div>"
      ],
      "text/plain": [
       "                          movie_tag_word  average_sentiment_score  \\\n",
       "0                     'Til There Was You                 0.546645   \n",
       "1                                  1-900                 0.140200   \n",
       "2                         101 Dalmatians                 0.809875   \n",
       "3                           12 Angry Men                 0.522185   \n",
       "4                   2 Days in the Valley                 0.386165   \n",
       "5           20,000 Leagues Under the Sea                 0.816695   \n",
       "6                  2001: A Space Odyssey                 0.677960   \n",
       "7   3 Ninjas: High Noon At Mega Mountain                -0.278035   \n",
       "8                          39 Steps, The                 0.853275   \n",
       "9                                  8 1/2                 0.811120   \n",
       "10               8 Heads in a Duffel Bag                 0.437905   \n",
       "11                             8 Seconds                 0.695950   \n",
       "12                        A Chef in Love                 0.960888   \n",
       "13                         Above the Rim                 0.763365   \n",
       "14                        Absolute Power                 0.677540   \n",
       "15                            Abyss, The                 0.645930   \n",
       "16            Ace Ventura: Pet Detective                 0.897085   \n",
       "17        Ace Ventura: When Nature Calls                 0.633585   \n",
       "18                Across the Sea of Time                 0.867850   \n",
       "19                  Addams Family Values                 0.688530   \n",
       "\n",
       "   sentiment_category  \n",
       "0            Positive  \n",
       "1            Positive  \n",
       "2            Positive  \n",
       "3            Positive  \n",
       "4            Positive  \n",
       "5            Positive  \n",
       "6            Positive  \n",
       "7            Negative  \n",
       "8            Positive  \n",
       "9            Positive  \n",
       "10           Positive  \n",
       "11           Positive  \n",
       "12           Positive  \n",
       "13           Positive  \n",
       "14           Positive  \n",
       "15           Positive  \n",
       "16           Positive  \n",
       "17           Positive  \n",
       "18           Positive  \n",
       "19           Positive  "
      ]
     },
     "execution_count": 42,
     "metadata": {},
     "output_type": "execute_result"
    }
   ],
   "source": [
    "df = pd.read_csv('/Users/salmanmohamm3d/Desktop/Sem 3/Social M A/Final Project/average_movie_sentiment.csv')\n",
    "df.head(20)"
   ]
  },
  {
   "cell_type": "code",
   "execution_count": 43,
   "id": "d9494d1c-cdb3-47d7-b836-e8f2c58b2da4",
   "metadata": {},
   "outputs": [
    {
     "name": "stdout",
     "output_type": "stream",
     "text": [
      "<class 'pandas.core.frame.DataFrame'>\n",
      "RangeIndex: 1594 entries, 0 to 1593\n",
      "Data columns (total 3 columns):\n",
      " #   Column                   Non-Null Count  Dtype  \n",
      "---  ------                   --------------  -----  \n",
      " 0   movie_tag_word           1594 non-null   object \n",
      " 1   average_sentiment_score  1594 non-null   float64\n",
      " 2   sentiment_category       1594 non-null   object \n",
      "dtypes: float64(1), object(2)\n",
      "memory usage: 37.5+ KB\n"
     ]
    }
   ],
   "source": [
    "df.info()"
   ]
  },
  {
   "cell_type": "markdown",
   "id": "95481ca2-0dd5-466f-b49b-a0401bb81f85",
   "metadata": {},
   "source": [
    "## Merging the Datasets"
   ]
  },
  {
   "cell_type": "code",
   "execution_count": 44,
   "id": "b782c496-d021-40a3-b934-dc0381b659a6",
   "metadata": {},
   "outputs": [],
   "source": [
    "average_sentiment_df = pd.read_csv('/Users/salmanmohamm3d/Desktop/Sem 3/Social M A/Final Project/average_movie_sentiment.csv')"
   ]
  },
  {
   "cell_type": "code",
   "execution_count": 45,
   "id": "1c4d13d6-7f5f-46d3-9ec2-c08a34b4eb11",
   "metadata": {},
   "outputs": [],
   "source": [
    "# Merge datasets by keeping as common movie_tag_word column\n",
    "merged_data_1 = pd.merge(merged_data, average_sentiment_df, on='movie_tag_word')"
   ]
  },
  {
   "cell_type": "code",
   "execution_count": 46,
   "id": "4b22a84f-2a6d-4d04-8a51-8fd67270b1d6",
   "metadata": {},
   "outputs": [
    {
     "data": {
      "text/html": [
       "<div>\n",
       "<style scoped>\n",
       "    .dataframe tbody tr th:only-of-type {\n",
       "        vertical-align: middle;\n",
       "    }\n",
       "\n",
       "    .dataframe tbody tr th {\n",
       "        vertical-align: top;\n",
       "    }\n",
       "\n",
       "    .dataframe thead th {\n",
       "        text-align: right;\n",
       "    }\n",
       "</style>\n",
       "<table border=\"1\" class=\"dataframe\">\n",
       "  <thead>\n",
       "    <tr style=\"text-align: right;\">\n",
       "      <th></th>\n",
       "      <th>user_id</th>\n",
       "      <th>movie_id</th>\n",
       "      <th>rating</th>\n",
       "      <th>timestamp</th>\n",
       "      <th>movie_title</th>\n",
       "      <th>release_date</th>\n",
       "      <th>IMDb_URL</th>\n",
       "      <th>unknown</th>\n",
       "      <th>Action</th>\n",
       "      <th>Adventure</th>\n",
       "      <th>...</th>\n",
       "      <th>Musical</th>\n",
       "      <th>Mystery</th>\n",
       "      <th>Romance</th>\n",
       "      <th>Sci-Fi</th>\n",
       "      <th>Thriller</th>\n",
       "      <th>War</th>\n",
       "      <th>Western</th>\n",
       "      <th>movie_tag_word</th>\n",
       "      <th>average_sentiment_score</th>\n",
       "      <th>sentiment_category</th>\n",
       "    </tr>\n",
       "  </thead>\n",
       "  <tbody>\n",
       "    <tr>\n",
       "      <th>0</th>\n",
       "      <td>196</td>\n",
       "      <td>242</td>\n",
       "      <td>3</td>\n",
       "      <td>881250949</td>\n",
       "      <td>Kolya (1996)</td>\n",
       "      <td>24-Jan-1997</td>\n",
       "      <td>http://us.imdb.com/M/title-exact?Kolya%20(1996)</td>\n",
       "      <td>0</td>\n",
       "      <td>0</td>\n",
       "      <td>0</td>\n",
       "      <td>...</td>\n",
       "      <td>0</td>\n",
       "      <td>0</td>\n",
       "      <td>0</td>\n",
       "      <td>0</td>\n",
       "      <td>0</td>\n",
       "      <td>0</td>\n",
       "      <td>0</td>\n",
       "      <td>Kolya</td>\n",
       "      <td>0.815470</td>\n",
       "      <td>Positive</td>\n",
       "    </tr>\n",
       "    <tr>\n",
       "      <th>1</th>\n",
       "      <td>186</td>\n",
       "      <td>302</td>\n",
       "      <td>3</td>\n",
       "      <td>891717742</td>\n",
       "      <td>L.A. Confidential (1997)</td>\n",
       "      <td>01-Jan-1997</td>\n",
       "      <td>http://us.imdb.com/M/title-exact?L%2EA%2E+Conf...</td>\n",
       "      <td>0</td>\n",
       "      <td>0</td>\n",
       "      <td>0</td>\n",
       "      <td>...</td>\n",
       "      <td>0</td>\n",
       "      <td>1</td>\n",
       "      <td>0</td>\n",
       "      <td>0</td>\n",
       "      <td>1</td>\n",
       "      <td>0</td>\n",
       "      <td>0</td>\n",
       "      <td>L.A. Confidential</td>\n",
       "      <td>0.828075</td>\n",
       "      <td>Positive</td>\n",
       "    </tr>\n",
       "    <tr>\n",
       "      <th>2</th>\n",
       "      <td>22</td>\n",
       "      <td>377</td>\n",
       "      <td>1</td>\n",
       "      <td>878887116</td>\n",
       "      <td>Heavyweights (1994)</td>\n",
       "      <td>01-Jan-1994</td>\n",
       "      <td>http://us.imdb.com/M/title-exact?Heavyweights%...</td>\n",
       "      <td>0</td>\n",
       "      <td>0</td>\n",
       "      <td>0</td>\n",
       "      <td>...</td>\n",
       "      <td>0</td>\n",
       "      <td>0</td>\n",
       "      <td>0</td>\n",
       "      <td>0</td>\n",
       "      <td>0</td>\n",
       "      <td>0</td>\n",
       "      <td>0</td>\n",
       "      <td>Heavyweights</td>\n",
       "      <td>0.843565</td>\n",
       "      <td>Positive</td>\n",
       "    </tr>\n",
       "    <tr>\n",
       "      <th>3</th>\n",
       "      <td>244</td>\n",
       "      <td>51</td>\n",
       "      <td>2</td>\n",
       "      <td>880606923</td>\n",
       "      <td>Legends of the Fall (1994)</td>\n",
       "      <td>01-Jan-1994</td>\n",
       "      <td>http://us.imdb.com/M/title-exact?Legends%20of%...</td>\n",
       "      <td>0</td>\n",
       "      <td>0</td>\n",
       "      <td>0</td>\n",
       "      <td>...</td>\n",
       "      <td>0</td>\n",
       "      <td>0</td>\n",
       "      <td>1</td>\n",
       "      <td>0</td>\n",
       "      <td>0</td>\n",
       "      <td>1</td>\n",
       "      <td>1</td>\n",
       "      <td>Legends of the Fall</td>\n",
       "      <td>0.868360</td>\n",
       "      <td>Positive</td>\n",
       "    </tr>\n",
       "    <tr>\n",
       "      <th>4</th>\n",
       "      <td>166</td>\n",
       "      <td>346</td>\n",
       "      <td>1</td>\n",
       "      <td>886397596</td>\n",
       "      <td>Jackie Brown (1997)</td>\n",
       "      <td>01-Jan-1997</td>\n",
       "      <td>http://us.imdb.com/M/title-exact?imdb-title-11...</td>\n",
       "      <td>0</td>\n",
       "      <td>0</td>\n",
       "      <td>0</td>\n",
       "      <td>...</td>\n",
       "      <td>0</td>\n",
       "      <td>0</td>\n",
       "      <td>0</td>\n",
       "      <td>0</td>\n",
       "      <td>0</td>\n",
       "      <td>0</td>\n",
       "      <td>0</td>\n",
       "      <td>Jackie Brown</td>\n",
       "      <td>0.944760</td>\n",
       "      <td>Positive</td>\n",
       "    </tr>\n",
       "    <tr>\n",
       "      <th>5</th>\n",
       "      <td>298</td>\n",
       "      <td>474</td>\n",
       "      <td>4</td>\n",
       "      <td>884182806</td>\n",
       "      <td>Dr. Strangelove or: How I Learned to Stop Worr...</td>\n",
       "      <td>01-Jan-1963</td>\n",
       "      <td>http://us.imdb.com/M/title-exact?Dr.%20Strange...</td>\n",
       "      <td>0</td>\n",
       "      <td>0</td>\n",
       "      <td>0</td>\n",
       "      <td>...</td>\n",
       "      <td>0</td>\n",
       "      <td>0</td>\n",
       "      <td>0</td>\n",
       "      <td>1</td>\n",
       "      <td>0</td>\n",
       "      <td>1</td>\n",
       "      <td>0</td>\n",
       "      <td>Dr. Strangelove or: How I Learned to Stop Worr...</td>\n",
       "      <td>0.758975</td>\n",
       "      <td>Positive</td>\n",
       "    </tr>\n",
       "    <tr>\n",
       "      <th>6</th>\n",
       "      <td>115</td>\n",
       "      <td>265</td>\n",
       "      <td>2</td>\n",
       "      <td>881171488</td>\n",
       "      <td>Hunt for Red October, The (1990)</td>\n",
       "      <td>01-Jan-1990</td>\n",
       "      <td>http://us.imdb.com/M/title-exact?Hunt+for+Red+...</td>\n",
       "      <td>0</td>\n",
       "      <td>1</td>\n",
       "      <td>0</td>\n",
       "      <td>...</td>\n",
       "      <td>0</td>\n",
       "      <td>0</td>\n",
       "      <td>0</td>\n",
       "      <td>0</td>\n",
       "      <td>1</td>\n",
       "      <td>0</td>\n",
       "      <td>0</td>\n",
       "      <td>Hunt for Red October, The</td>\n",
       "      <td>0.830210</td>\n",
       "      <td>Positive</td>\n",
       "    </tr>\n",
       "    <tr>\n",
       "      <th>7</th>\n",
       "      <td>253</td>\n",
       "      <td>465</td>\n",
       "      <td>5</td>\n",
       "      <td>891628467</td>\n",
       "      <td>Jungle Book, The (1994)</td>\n",
       "      <td>01-Jan-1994</td>\n",
       "      <td>http://us.imdb.com/M/title-exact?Jungle%20Book...</td>\n",
       "      <td>0</td>\n",
       "      <td>0</td>\n",
       "      <td>1</td>\n",
       "      <td>...</td>\n",
       "      <td>0</td>\n",
       "      <td>0</td>\n",
       "      <td>1</td>\n",
       "      <td>0</td>\n",
       "      <td>0</td>\n",
       "      <td>0</td>\n",
       "      <td>0</td>\n",
       "      <td>Jungle Book, The</td>\n",
       "      <td>0.877905</td>\n",
       "      <td>Positive</td>\n",
       "    </tr>\n",
       "    <tr>\n",
       "      <th>8</th>\n",
       "      <td>305</td>\n",
       "      <td>451</td>\n",
       "      <td>3</td>\n",
       "      <td>886324817</td>\n",
       "      <td>Grease (1978)</td>\n",
       "      <td>01-Jan-1978</td>\n",
       "      <td>http://us.imdb.com/M/title-exact?Grease%20(1978)</td>\n",
       "      <td>0</td>\n",
       "      <td>0</td>\n",
       "      <td>0</td>\n",
       "      <td>...</td>\n",
       "      <td>1</td>\n",
       "      <td>0</td>\n",
       "      <td>1</td>\n",
       "      <td>0</td>\n",
       "      <td>0</td>\n",
       "      <td>0</td>\n",
       "      <td>0</td>\n",
       "      <td>Grease</td>\n",
       "      <td>0.792115</td>\n",
       "      <td>Positive</td>\n",
       "    </tr>\n",
       "    <tr>\n",
       "      <th>9</th>\n",
       "      <td>6</td>\n",
       "      <td>86</td>\n",
       "      <td>3</td>\n",
       "      <td>883603013</td>\n",
       "      <td>Remains of the Day, The (1993)</td>\n",
       "      <td>01-Jan-1993</td>\n",
       "      <td>http://us.imdb.com/M/title-exact?Remains%20of%...</td>\n",
       "      <td>0</td>\n",
       "      <td>0</td>\n",
       "      <td>0</td>\n",
       "      <td>...</td>\n",
       "      <td>0</td>\n",
       "      <td>0</td>\n",
       "      <td>0</td>\n",
       "      <td>0</td>\n",
       "      <td>0</td>\n",
       "      <td>0</td>\n",
       "      <td>0</td>\n",
       "      <td>Remains of the Day, The</td>\n",
       "      <td>0.721735</td>\n",
       "      <td>Positive</td>\n",
       "    </tr>\n",
       "  </tbody>\n",
       "</table>\n",
       "<p>10 rows × 29 columns</p>\n",
       "</div>"
      ],
      "text/plain": [
       "   user_id  movie_id  rating  timestamp  \\\n",
       "0      196       242       3  881250949   \n",
       "1      186       302       3  891717742   \n",
       "2       22       377       1  878887116   \n",
       "3      244        51       2  880606923   \n",
       "4      166       346       1  886397596   \n",
       "5      298       474       4  884182806   \n",
       "6      115       265       2  881171488   \n",
       "7      253       465       5  891628467   \n",
       "8      305       451       3  886324817   \n",
       "9        6        86       3  883603013   \n",
       "\n",
       "                                         movie_title release_date  \\\n",
       "0                                       Kolya (1996)  24-Jan-1997   \n",
       "1                           L.A. Confidential (1997)  01-Jan-1997   \n",
       "2                                Heavyweights (1994)  01-Jan-1994   \n",
       "3                         Legends of the Fall (1994)  01-Jan-1994   \n",
       "4                                Jackie Brown (1997)  01-Jan-1997   \n",
       "5  Dr. Strangelove or: How I Learned to Stop Worr...  01-Jan-1963   \n",
       "6                   Hunt for Red October, The (1990)  01-Jan-1990   \n",
       "7                            Jungle Book, The (1994)  01-Jan-1994   \n",
       "8                                      Grease (1978)  01-Jan-1978   \n",
       "9                     Remains of the Day, The (1993)  01-Jan-1993   \n",
       "\n",
       "                                            IMDb_URL  unknown  Action  \\\n",
       "0    http://us.imdb.com/M/title-exact?Kolya%20(1996)        0       0   \n",
       "1  http://us.imdb.com/M/title-exact?L%2EA%2E+Conf...        0       0   \n",
       "2  http://us.imdb.com/M/title-exact?Heavyweights%...        0       0   \n",
       "3  http://us.imdb.com/M/title-exact?Legends%20of%...        0       0   \n",
       "4  http://us.imdb.com/M/title-exact?imdb-title-11...        0       0   \n",
       "5  http://us.imdb.com/M/title-exact?Dr.%20Strange...        0       0   \n",
       "6  http://us.imdb.com/M/title-exact?Hunt+for+Red+...        0       1   \n",
       "7  http://us.imdb.com/M/title-exact?Jungle%20Book...        0       0   \n",
       "8   http://us.imdb.com/M/title-exact?Grease%20(1978)        0       0   \n",
       "9  http://us.imdb.com/M/title-exact?Remains%20of%...        0       0   \n",
       "\n",
       "   Adventure  ...  Musical  Mystery  Romance  Sci-Fi  Thriller  War  Western  \\\n",
       "0          0  ...        0        0        0       0         0    0        0   \n",
       "1          0  ...        0        1        0       0         1    0        0   \n",
       "2          0  ...        0        0        0       0         0    0        0   \n",
       "3          0  ...        0        0        1       0         0    1        1   \n",
       "4          0  ...        0        0        0       0         0    0        0   \n",
       "5          0  ...        0        0        0       1         0    1        0   \n",
       "6          0  ...        0        0        0       0         1    0        0   \n",
       "7          1  ...        0        0        1       0         0    0        0   \n",
       "8          0  ...        1        0        1       0         0    0        0   \n",
       "9          0  ...        0        0        0       0         0    0        0   \n",
       "\n",
       "                                      movie_tag_word  average_sentiment_score  \\\n",
       "0                                              Kolya                 0.815470   \n",
       "1                                  L.A. Confidential                 0.828075   \n",
       "2                                       Heavyweights                 0.843565   \n",
       "3                                Legends of the Fall                 0.868360   \n",
       "4                                       Jackie Brown                 0.944760   \n",
       "5  Dr. Strangelove or: How I Learned to Stop Worr...                 0.758975   \n",
       "6                          Hunt for Red October, The                 0.830210   \n",
       "7                                   Jungle Book, The                 0.877905   \n",
       "8                                             Grease                 0.792115   \n",
       "9                            Remains of the Day, The                 0.721735   \n",
       "\n",
       "   sentiment_category  \n",
       "0            Positive  \n",
       "1            Positive  \n",
       "2            Positive  \n",
       "3            Positive  \n",
       "4            Positive  \n",
       "5            Positive  \n",
       "6            Positive  \n",
       "7            Positive  \n",
       "8            Positive  \n",
       "9            Positive  \n",
       "\n",
       "[10 rows x 29 columns]"
      ]
     },
     "execution_count": 46,
     "metadata": {},
     "output_type": "execute_result"
    }
   ],
   "source": [
    "merged_data_1.head(10)"
   ]
  },
  {
   "cell_type": "code",
   "execution_count": 47,
   "id": "87d2de39-5b02-4073-9b54-28c84bf4f563",
   "metadata": {},
   "outputs": [],
   "source": [
    "# Save the merged dataset\n",
    "merged_data_1.to_csv('/Users/salmanmohamm3d/Desktop/Sem 3/Social M A/Final Project/merged_data_1.csv', index=False)"
   ]
  },
  {
   "cell_type": "code",
   "execution_count": null,
   "id": "1d12e9fc-93c4-45f1-aab0-ca1baa6f1c13",
   "metadata": {},
   "outputs": [],
   "source": []
  },
  {
   "cell_type": "markdown",
   "id": "425485cc-6083-4df3-a1dc-e25a37dc5992",
   "metadata": {},
   "source": [
    "### Printing the list movies without an average sentiment score (Missing Entries)"
   ]
  },
  {
   "cell_type": "code",
   "execution_count": 48,
   "id": "a642b9f2-22f6-43c1-98bc-a3c25f7b5bdf",
   "metadata": {},
   "outputs": [
    {
     "name": "stdout",
     "output_type": "stream",
     "text": [
      "0\n"
     ]
    }
   ],
   "source": [
    "# Find the unique movie titles that are missing average sentiment scores\n",
    "missing_sentiment_movies = merged_data_1[merged_data_1['average_sentiment_score'].isna()]['movie_title'].unique()\n",
    "\n",
    "# Print the list of movies without average sentiment scores or return 0 if no movies are missing sentiment scores\n",
    "if len(missing_sentiment_movies) == 0:\n",
    "    print(0)\n",
    "else:\n",
    "    print(\"Movies without average sentiment scores:\")\n",
    "    for movie in missing_sentiment_movies:\n",
    "        print(movie)\n"
   ]
  },
  {
   "cell_type": "code",
   "execution_count": null,
   "id": "777fe206-d507-4187-9c68-b92deac25997",
   "metadata": {},
   "outputs": [],
   "source": []
  },
  {
   "cell_type": "code",
   "execution_count": null,
   "id": "e664ea87-39c1-4c5e-8ea8-30cd530dadc9",
   "metadata": {},
   "outputs": [],
   "source": []
  },
  {
   "cell_type": "code",
   "execution_count": 73,
   "id": "f54990d3-4f19-47a4-902e-d42dd92cf5c3",
   "metadata": {},
   "outputs": [
    {
     "name": "stdout",
     "output_type": "stream",
     "text": [
      "Max user_id: 943\n",
      "Max movie_id: 1682\n",
      "Epoch 1/50, Loss: 12.5439\n",
      "Epoch 2/50, Loss: 11.8595\n",
      "Epoch 3/50, Loss: 11.1945\n",
      "Epoch 4/50, Loss: 10.5486\n",
      "Epoch 5/50, Loss: 9.9215\n",
      "Epoch 6/50, Loss: 9.3130\n",
      "Epoch 7/50, Loss: 8.7228\n",
      "Epoch 8/50, Loss: 8.1509\n",
      "Epoch 9/50, Loss: 7.5970\n",
      "Epoch 10/50, Loss: 7.0615\n",
      "Epoch 11/50, Loss: 6.5446\n",
      "Epoch 12/50, Loss: 6.0469\n",
      "Epoch 13/50, Loss: 5.5694\n",
      "Epoch 14/50, Loss: 5.1132\n",
      "Epoch 15/50, Loss: 4.6795\n",
      "Epoch 16/50, Loss: 4.2699\n",
      "Epoch 17/50, Loss: 3.8862\n",
      "Epoch 18/50, Loss: 3.5301\n",
      "Epoch 19/50, Loss: 3.2035\n",
      "Epoch 20/50, Loss: 2.9080\n",
      "Epoch 21/50, Loss: 2.6452\n",
      "Epoch 22/50, Loss: 2.4164\n",
      "Epoch 23/50, Loss: 2.2221\n",
      "Epoch 24/50, Loss: 2.0624\n",
      "Epoch 25/50, Loss: 1.9364\n",
      "Epoch 26/50, Loss: 1.8422\n",
      "Epoch 27/50, Loss: 1.7769\n",
      "Epoch 28/50, Loss: 1.7366\n",
      "Epoch 29/50, Loss: 1.7166\n",
      "Epoch 30/50, Loss: 1.7116\n",
      "Epoch 31/50, Loss: 1.7161\n",
      "Epoch 32/50, Loss: 1.7249\n",
      "Epoch 33/50, Loss: 1.7334\n",
      "Epoch 34/50, Loss: 1.7380\n",
      "Epoch 35/50, Loss: 1.7362\n",
      "Epoch 36/50, Loss: 1.7265\n",
      "Epoch 37/50, Loss: 1.7089\n",
      "Epoch 38/50, Loss: 1.6841\n",
      "Epoch 39/50, Loss: 1.6536\n",
      "Epoch 40/50, Loss: 1.6191\n",
      "Epoch 41/50, Loss: 1.5827\n",
      "Epoch 42/50, Loss: 1.5462\n",
      "Epoch 43/50, Loss: 1.5114\n",
      "Epoch 44/50, Loss: 1.4795\n",
      "Epoch 45/50, Loss: 1.4515\n",
      "Epoch 46/50, Loss: 1.4277\n",
      "Epoch 47/50, Loss: 1.4084\n",
      "Epoch 48/50, Loss: 1.3933\n",
      "Epoch 49/50, Loss: 1.3819\n",
      "Epoch 50/50, Loss: 1.3738\n",
      "RMSE: 1.1597\n",
      "MAE: 0.9471\n",
      "Precision: 0.5805\n",
      "Recall: 0.5703\n",
      "F1-Score: 0.5753\n"
     ]
    }
   ],
   "source": [
    "import pandas as pd\n",
    "import torch\n",
    "import torch.nn as nn\n",
    "import torch.optim as optim\n",
    "from sklearn.model_selection import train_test_split\n",
    "from sklearn.metrics import mean_squared_error, mean_absolute_error, precision_recall_fscore_support\n",
    "import numpy as np\n",
    "\n",
    "# Define the hybrid recommender model\n",
    "class HybridRecommender(nn.Module):\n",
    "    def __init__(self, num_users, num_movies, num_genres, num_sentiments, embedding_dim):\n",
    "        super(HybridRecommender, self).__init__()\n",
    "        self.user_embedding = nn.Embedding(num_users, embedding_dim)\n",
    "        self.movie_embedding = nn.Embedding(num_movies, embedding_dim)\n",
    "        self.genre_embedding = nn.Embedding(num_genres, embedding_dim)\n",
    "        self.sentiment_embedding = nn.Embedding(num_sentiments, embedding_dim)\n",
    "        self.fc1 = nn.Linear(embedding_dim * 4, 128)\n",
    "        self.fc2 = nn.Linear(128, 1)\n",
    "    \n",
    "    def forward(self, user, movie, genre, sentiment):\n",
    "        user_emb = self.user_embedding(user)\n",
    "        movie_emb = self.movie_embedding(movie)\n",
    "        genre_emb = self.genre_embedding(genre)\n",
    "        sentiment_emb = self.sentiment_embedding(sentiment)\n",
    "        x = torch.cat([user_emb, movie_emb, genre_emb, sentiment_emb], dim=-1)\n",
    "        x = torch.relu(self.fc1(x))\n",
    "        x = self.fc2(x)\n",
    "        return x\n",
    "\n",
    "# Load the merged dataset\n",
    "merged_data = pd.read_csv('/Users/salmanmohamm3d/Desktop/Sem 3/Social M A/Final Project/merged_data_1.csv')\n",
    "\n",
    "# Check if user_id and movie_id are within the range\n",
    "print(\"Max user_id:\", merged_data['user_id'].max())\n",
    "print(\"Max movie_id:\", merged_data['movie_id'].max())\n",
    "\n",
    "# Convert genres to a single categorical feature\n",
    "genre_columns = ['Action', 'Adventure', 'Animation', \"Children's\", 'Comedy', 'Crime', 'Documentary', 'Drama', 'Fantasy', 'Film-Noir', 'Horror', 'Musical', 'Mystery', 'Romance', 'Sci-Fi', 'Thriller', 'War', 'Western']\n",
    "merged_data['genre'] = merged_data[genre_columns].idxmax(axis=1)\n",
    "\n",
    "# Encode categorical variables\n",
    "merged_data['genre'] = merged_data['genre'].astype('category').cat.codes\n",
    "merged_data['user_id'] = merged_data['user_id'].astype('category').cat.codes\n",
    "merged_data['movie_id'] = merged_data['movie_id'].astype('category').cat.codes\n",
    "\n",
    "# Prepare the feature matrix (X) and target vector (y)\n",
    "X = merged_data[['user_id', 'movie_id', 'genre', 'average_sentiment_score']]\n",
    "y = merged_data['rating']\n",
    "\n",
    "# Split the data into training and testing sets\n",
    "X_train, X_test, y_train, y_test = train_test_split(X, y, test_size=0.2, random_state=42)\n",
    "\n",
    "# Convert data to PyTorch tensors\n",
    "X_train_tensor = torch.tensor(X_train.values, dtype=torch.long)\n",
    "y_train_tensor = torch.tensor(y_train.values, dtype=torch.float32)\n",
    "X_test_tensor = torch.tensor(X_test.values, dtype=torch.long)\n",
    "y_test_tensor = torch.tensor(y_test.values, dtype=torch.float32)\n",
    "\n",
    "# Define the model, loss function, and optimizer\n",
    "num_users = merged_data['user_id'].nunique()\n",
    "num_movies = merged_data['movie_id'].nunique()\n",
    "num_genres = merged_data['genre'].nunique()\n",
    "num_sentiments = int(merged_data['average_sentiment_score'].max()) + 1  # Assuming sentiment scores are integers\n",
    "embedding_dim = 20\n",
    "\n",
    "model = HybridRecommender(num_users, num_movies, num_genres, num_sentiments, embedding_dim)\n",
    "criterion = nn.MSELoss()\n",
    "optimizer = optim.Adam(model.parameters(), lr=0.001)\n",
    "\n",
    "# Training loop\n",
    "num_epochs = 50\n",
    "for epoch in range(num_epochs):\n",
    "    model.train()\n",
    "    optimizer.zero_grad()\n",
    "    \n",
    "    user = X_train_tensor[:, 0]\n",
    "    movie = X_train_tensor[:, 1]\n",
    "    genre = X_train_tensor[:, 2]\n",
    "    sentiment = X_train_tensor[:, 3].long()\n",
    "    \n",
    "    predictions = model(user, movie, genre, sentiment).squeeze()\n",
    "    loss = criterion(predictions, y_train_tensor)\n",
    "    \n",
    "    loss.backward()\n",
    "    optimizer.step()\n",
    "    \n",
    "    print(f'Epoch {epoch+1}/{num_epochs}, Loss: {loss.item():.4f}')\n",
    "\n",
    "# Evaluate the model\n",
    "model.eval()\n",
    "with torch.no_grad():\n",
    "    user_test = X_test_tensor[:, 0]\n",
    "    movie_test = X_test_tensor[:, 1]\n",
    "    genre_test = X_test_tensor[:, 2]\n",
    "    sentiment_test = X_test_tensor[:, 3].long()\n",
    "    \n",
    "    test_predictions = model(user_test, movie_test, genre_test, sentiment_test).squeeze()\n",
    "\n",
    "# Convert predictions to binary labels (e.g., positive sentiment if rating >= 3.5)\n",
    "threshold = 3.5\n",
    "y_test_binary = (y_test > threshold).astype(int).values\n",
    "test_predictions_binary = (test_predictions.cpu().numpy() > threshold).astype(int)\n",
    "\n",
    "# Calculate RMSE and MAE\n",
    "rmse = np.sqrt(mean_squared_error(y_test, test_predictions.cpu().numpy()))\n",
    "mae = mean_absolute_error(y_test, test_predictions.cpu().numpy())\n",
    "\n",
    "# Calculate precision, recall, and F1 score\n",
    "precision, recall, f1, _ = precision_recall_fscore_support(y_test_binary, test_predictions_binary, average='binary')\n",
    "\n",
    "print(f\"RMSE: {rmse:.4f}\")\n",
    "print(f\"MAE: {mae:.4f}\")\n",
    "print(f\"Precision: {precision:.4f}\")\n",
    "print(f\"Recall: {recall:.4f}\")\n",
    "print(f\"F1-Score: {f1:.4f}\")\n"
   ]
  },
  {
   "cell_type": "code",
   "execution_count": null,
   "id": "770b42c3-9f50-43d7-a7aa-fca27afd76cc",
   "metadata": {},
   "outputs": [],
   "source": []
  },
  {
   "cell_type": "code",
   "execution_count": null,
   "id": "d88e862b-da4e-4b61-a925-8d4aa9ab6a05",
   "metadata": {},
   "outputs": [],
   "source": []
  },
  {
   "cell_type": "markdown",
   "id": "98ea481d-9f2f-438f-8d42-5ad802b97bf0",
   "metadata": {},
   "source": [
    "## Hyperparameter Tuning"
   ]
  },
  {
   "cell_type": "markdown",
   "id": "ff2ee3c9-518e-44ae-bd57-15e08f7012c5",
   "metadata": {},
   "source": [
    "### Manual Grid Search for Hyperparameter Tuning of Hybrid Recommender Model"
   ]
  },
  {
   "cell_type": "code",
   "execution_count": 84,
   "id": "4a40a70c-8906-4f7e-b92f-b998c7ba68a9",
   "metadata": {},
   "outputs": [
    {
     "name": "stdout",
     "output_type": "stream",
     "text": [
      "Evaluating: lr=0.01, embedding_dim=10, num_epochs=20\n",
      "RMSE: 1.2268767356872559, MAE: 1.0232845544815063, Precision: 0.7199074074074074, Recall: 0.09523517883390495, F1-Score: 0.16821722198182604\n",
      "Evaluating: lr=0.01, embedding_dim=10, num_epochs=50\n",
      "RMSE: 1.0383882522583008, MAE: 0.8373097777366638, Precision: 0.6854433559407184, Recall: 0.6684835864772171, F1-Score: 0.6768572491628426\n",
      "Evaluating: lr=0.01, embedding_dim=10, num_epochs=100\n",
      "RMSE: 0.9591894745826721, MAE: 0.762241005897522, Precision: 0.7385998715478485, Recall: 0.7043116119549241, F1-Score: 0.7210483415888144\n",
      "Evaluating: lr=0.01, embedding_dim=50, num_epochs=20\n",
      "RMSE: 1.0570595264434814, MAE: 0.8679198622703552, Precision: 0.7066724063710719, Recall: 0.5026947574718276, F1-Score: 0.5874816590917225\n",
      "Evaluating: lr=0.01, embedding_dim=50, num_epochs=50\n",
      "RMSE: 0.9586803913116455, MAE: 0.7590935826301575, Precision: 0.7362776825940732, Recall: 0.7106197942185203, F1-Score: 0.7232212422476393\n",
      "Evaluating: lr=0.01, embedding_dim=50, num_epochs=100\n",
      "RMSE: 0.9436509013175964, MAE: 0.746045708656311, Precision: 0.7469633039253293, Recall: 0.7155805977462029, F1-Score: 0.7309352517985611\n",
      "Evaluating: lr=0.01, embedding_dim=100, num_epochs=20\n",
      "RMSE: 1.0860306024551392, MAE: 0.8583828210830688, Precision: 0.623161001706406, Recall: 0.8275355218030377, F1-Score: 0.7109520928152377\n",
      "Evaluating: lr=0.01, embedding_dim=100, num_epochs=50\n",
      "RMSE: 1.0120272636413574, MAE: 0.8072313666343689, Precision: 0.690618173230206, Recall: 0.7163767760901519, F1-Score: 0.7032616864572373\n",
      "Evaluating: lr=0.01, embedding_dim=100, num_epochs=100\n",
      "RMSE: 0.9691841006278992, MAE: 0.7796937823295593, Precision: 0.7846015822526711, Recall: 0.589171974522293, F1-Score: 0.6729861135401728\n",
      "Evaluating: lr=0.001, embedding_dim=10, num_epochs=20\n",
      "RMSE: 1.5049588680267334, MAE: 1.2768512964248657, Precision: 0.59375, Recall: 0.0023272905438510533, F1-Score: 0.004636408003904344\n",
      "Evaluating: lr=0.001, embedding_dim=10, num_epochs=50\n",
      "RMSE: 1.181373119354248, MAE: 0.9780648350715637, Precision: 0.6222056631892697, Recall: 0.20455658990690836, F1-Score: 0.30789085545722716\n",
      "Evaluating: lr=0.001, embedding_dim=10, num_epochs=100\n",
      "RMSE: 1.0997964143753052, MAE: 0.894747257232666, Precision: 0.63265952727964, Recall: 0.6114649681528662, F1-Score: 0.6218817154068953\n",
      "Evaluating: lr=0.001, embedding_dim=50, num_epochs=20\n",
      "RMSE: 1.5660606622695923, MAE: 1.2467046976089478, Precision: 0.5626866250436267, Recall: 0.8886575208231259, F1-Score: 0.6890656535676125\n",
      "Evaluating: lr=0.001, embedding_dim=50, num_epochs=50\n",
      "RMSE: 1.0849496126174927, MAE: 0.878150463104248, Precision: 0.6273999889337686, Recall: 0.6944512493875551, F1-Score: 0.6592250225284149\n",
      "Evaluating: lr=0.001, embedding_dim=50, num_epochs=100\n",
      "RMSE: 1.0461150407791138, MAE: 0.8471786975860596, Precision: 0.6801871075227477, Recall: 0.6501102400783929, F1-Score: 0.6648086678774974\n",
      "Evaluating: lr=0.001, embedding_dim=100, num_epochs=20\n",
      "RMSE: 1.168543815612793, MAE: 0.9497193694114685, Precision: 0.6147176522899066, Recall: 0.5080230279274865, F1-Score: 0.5563007175910402\n",
      "Evaluating: lr=0.001, embedding_dim=100, num_epochs=50\n",
      "RMSE: 1.0873297452926636, MAE: 0.8974794745445251, Precision: 0.7091177137672942, Recall: 0.38296178343949044, F1-Score: 0.49733556032768633\n",
      "Evaluating: lr=0.001, embedding_dim=100, num_epochs=100\n",
      "RMSE: 1.0079480409622192, MAE: 0.810850203037262, Precision: 0.7067747842008893, Recall: 0.6619304262616365, F1-Score: 0.683617963314358\n",
      "Evaluating: lr=0.0001, embedding_dim=10, num_epochs=20\n"
     ]
    },
    {
     "name": "stderr",
     "output_type": "stream",
     "text": [
      "/opt/homebrew/anaconda3/lib/python3.11/site-packages/sklearn/metrics/_classification.py:1509: UndefinedMetricWarning:\n",
      "\n",
      "Precision is ill-defined and being set to 0.0 due to no predicted samples. Use `zero_division` parameter to control this behavior.\n",
      "\n"
     ]
    },
    {
     "name": "stdout",
     "output_type": "stream",
     "text": [
      "RMSE: 3.488618850708008, MAE: 3.3010177612304688, Precision: 0.0, Recall: 0.0, F1-Score: 0.0\n",
      "Evaluating: lr=0.0001, embedding_dim=10, num_epochs=50\n"
     ]
    },
    {
     "name": "stderr",
     "output_type": "stream",
     "text": [
      "/opt/homebrew/anaconda3/lib/python3.11/site-packages/sklearn/metrics/_classification.py:1509: UndefinedMetricWarning:\n",
      "\n",
      "Precision is ill-defined and being set to 0.0 due to no predicted samples. Use `zero_division` parameter to control this behavior.\n",
      "\n"
     ]
    },
    {
     "name": "stdout",
     "output_type": "stream",
     "text": [
      "RMSE: 3.1906886100769043, MAE: 2.9852285385131836, Precision: 0.0, Recall: 0.0, F1-Score: 0.0\n",
      "Evaluating: lr=0.0001, embedding_dim=10, num_epochs=100\n"
     ]
    },
    {
     "name": "stderr",
     "output_type": "stream",
     "text": [
      "/opt/homebrew/anaconda3/lib/python3.11/site-packages/sklearn/metrics/_classification.py:1509: UndefinedMetricWarning:\n",
      "\n",
      "Precision is ill-defined and being set to 0.0 due to no predicted samples. Use `zero_division` parameter to control this behavior.\n",
      "\n"
     ]
    },
    {
     "name": "stdout",
     "output_type": "stream",
     "text": [
      "RMSE: 2.915611505508423, MAE: 2.690415143966675, Precision: 0.0, Recall: 0.0, F1-Score: 0.0\n",
      "Evaluating: lr=0.0001, embedding_dim=50, num_epochs=20\n"
     ]
    },
    {
     "name": "stderr",
     "output_type": "stream",
     "text": [
      "/opt/homebrew/anaconda3/lib/python3.11/site-packages/sklearn/metrics/_classification.py:1509: UndefinedMetricWarning:\n",
      "\n",
      "Precision is ill-defined and being set to 0.0 due to no predicted samples. Use `zero_division` parameter to control this behavior.\n",
      "\n"
     ]
    },
    {
     "name": "stdout",
     "output_type": "stream",
     "text": [
      "RMSE: 3.4372682571411133, MAE: 3.248079299926758, Precision: 0.0, Recall: 0.0, F1-Score: 0.0\n",
      "Evaluating: lr=0.0001, embedding_dim=50, num_epochs=50\n"
     ]
    },
    {
     "name": "stderr",
     "output_type": "stream",
     "text": [
      "/opt/homebrew/anaconda3/lib/python3.11/site-packages/sklearn/metrics/_classification.py:1509: UndefinedMetricWarning:\n",
      "\n",
      "Precision is ill-defined and being set to 0.0 due to no predicted samples. Use `zero_division` parameter to control this behavior.\n",
      "\n"
     ]
    },
    {
     "name": "stdout",
     "output_type": "stream",
     "text": [
      "RMSE: 3.1043918132781982, MAE: 2.894578456878662, Precision: 0.0, Recall: 0.0, F1-Score: 0.0\n",
      "Evaluating: lr=0.0001, embedding_dim=50, num_epochs=100\n",
      "RMSE: 1.8770862817764282, MAE: 1.6192591190338135, Precision: 0.6666666666666666, Recall: 0.0003674669279764821, F1-Score: 0.0007345289832894656\n",
      "Evaluating: lr=0.0001, embedding_dim=100, num_epochs=20\n"
     ]
    },
    {
     "name": "stderr",
     "output_type": "stream",
     "text": [
      "/opt/homebrew/anaconda3/lib/python3.11/site-packages/sklearn/metrics/_classification.py:1509: UndefinedMetricWarning:\n",
      "\n",
      "Precision is ill-defined and being set to 0.0 due to no predicted samples. Use `zero_division` parameter to control this behavior.\n",
      "\n"
     ]
    },
    {
     "name": "stdout",
     "output_type": "stream",
     "text": [
      "RMSE: 3.4331307411193848, MAE: 3.243866443634033, Precision: 0.0, Recall: 0.0, F1-Score: 0.0\n",
      "Evaluating: lr=0.0001, embedding_dim=100, num_epochs=50\n"
     ]
    },
    {
     "name": "stderr",
     "output_type": "stream",
     "text": [
      "/opt/homebrew/anaconda3/lib/python3.11/site-packages/sklearn/metrics/_classification.py:1509: UndefinedMetricWarning:\n",
      "\n",
      "Precision is ill-defined and being set to 0.0 due to no predicted samples. Use `zero_division` parameter to control this behavior.\n",
      "\n"
     ]
    },
    {
     "name": "stdout",
     "output_type": "stream",
     "text": [
      "RMSE: 2.5442585945129395, MAE: 2.3101959228515625, Precision: 0.0, Recall: 0.0, F1-Score: 0.0\n",
      "Evaluating: lr=0.0001, embedding_dim=100, num_epochs=100\n",
      "RMSE: 1.2292946577072144, MAE: 0.9846630096435547, Precision: 0.5862442304404809, Recall: 0.6300832925036747, F1-Score: 0.6073737343920654\n",
      "Best parameters: {'lr': 0.01, 'embedding_dim': 50, 'num_epochs': 100}\n",
      "Best RMSE: 0.9436509013175964\n"
     ]
    }
   ],
   "source": [
    "import pandas as pd\n",
    "import torch\n",
    "from sklearn.model_selection import train_test_split\n",
    "from sklearn.metrics import mean_squared_error, mean_absolute_error, precision_score, recall_score, f1_score\n",
    "from torch import nn, optim\n",
    "import numpy as np\n",
    "\n",
    "# Define the Hybrid Recommender model\n",
    "class HybridRecommender(nn.Module):\n",
    "    def __init__(self, num_users, num_movies, num_genres, embedding_dim):\n",
    "        super(HybridRecommender, self).__init__()\n",
    "        self.user_embedding = nn.Embedding(num_users, embedding_dim)\n",
    "        self.movie_embedding = nn.Embedding(num_movies, embedding_dim)\n",
    "        self.genre_embedding = nn.Embedding(num_genres, embedding_dim)\n",
    "        self.sentiment_embedding = nn.Linear(1, embedding_dim)\n",
    "        self.fc1 = nn.Linear(embedding_dim * 4, 128)\n",
    "        self.fc2 = nn.Linear(128, 64)\n",
    "        self.fc3 = nn.Linear(64, 1)\n",
    "        self.dropout = nn.Dropout(0.2)\n",
    "\n",
    "    def forward(self, user, movie, genre, sentiment):\n",
    "        user_emb = self.user_embedding(user.long())\n",
    "        movie_emb = self.movie_embedding(movie.long())\n",
    "        genre_emb = self.genre_embedding(genre.long())\n",
    "        sentiment_emb = self.sentiment_embedding(sentiment.unsqueeze(1))\n",
    "        \n",
    "        x = torch.cat([user_emb, movie_emb, genre_emb, sentiment_emb], dim=-1)\n",
    "        x = self.dropout(torch.relu(self.fc1(x)))\n",
    "        x = torch.relu(self.fc2(x))\n",
    "        x = self.fc3(x)\n",
    "        return x\n",
    "\n",
    "\n",
    "genre_columns = ['Action', 'Adventure', 'Animation', \"Children's\", 'Comedy', 'Crime', 'Documentary', 'Drama', 'Fantasy', 'Film-Noir', 'Horror', 'Musical', 'Mystery', 'Romance', 'Sci-Fi', 'Thriller', 'War', 'Western']\n",
    "merged_data_1['genre'] = merged_data_1[genre_columns].idxmax(axis=1)\n",
    "merged_data_1['genre'] = merged_data_1['genre'].astype('category').cat.codes\n",
    "\n",
    "# Prepare the feature matrix (X) and target vector (y)\n",
    "X = merged_data_1[['user_id', 'movie_id', 'genre', 'average_sentiment_score']]\n",
    "y = merged_data_1['rating']\n",
    "\n",
    "# Split the data into training and testing sets\n",
    "X_train, X_test, y_train, y_test = train_test_split(X, y, test_size=0.3, random_state=42)\n",
    "\n",
    "# Convert data to PyTorch tensors\n",
    "X_train_tensor = torch.tensor(X_train.values, dtype=torch.float32)\n",
    "y_train_tensor = torch.tensor(y_train.values, dtype=torch.float32)\n",
    "X_test_tensor = torch.tensor(X_test.values, dtype=torch.float32)\n",
    "y_test_tensor = torch.tensor(y_test.values, dtype=torch.float32)\n",
    "\n",
    "# Hyperparameter grid\n",
    "learning_rates = [0.01, 0.001, 0.0001]\n",
    "embedding_dims = [10, 50, 100]\n",
    "num_epochs_list = [20, 50, 100]\n",
    "\n",
    "# Function to train and evaluate the model\n",
    "def train_and_evaluate(lr, embedding_dim, num_epochs):\n",
    "    model = HybridRecommender(num_users, num_movies, num_genres, embedding_dim)\n",
    "    criterion = nn.MSELoss()\n",
    "    optimizer = optim.Adam(model.parameters(), lr=lr)\n",
    "\n",
    "    # Training loop\n",
    "    for epoch in range(num_epochs):\n",
    "        model.train()\n",
    "        optimizer.zero_grad()\n",
    "\n",
    "        user = X_train_tensor[:, 0]\n",
    "        movie = X_train_tensor[:, 1]\n",
    "        genre = X_train_tensor[:, 2]\n",
    "        sentiment = X_train_tensor[:, 3]\n",
    "\n",
    "        predictions = model(user, movie, genre, sentiment).squeeze()\n",
    "        loss = criterion(predictions, y_train_tensor)\n",
    "\n",
    "        loss.backward()\n",
    "        optimizer.step()\n",
    "\n",
    "    # Evaluate the model on the test set\n",
    "    model.eval()\n",
    "    with torch.no_grad():\n",
    "        user_test = X_test_tensor[:, 0]\n",
    "        movie_test = X_test_tensor[:, 1]\n",
    "        genre_test = X_test_tensor[:, 2]\n",
    "        sentiment_test = X_test_tensor[:, 3]\n",
    "\n",
    "        predictions_test = model(user_test, movie_test, genre_test, sentiment_test).squeeze()\n",
    "        rmse_test = torch.sqrt(criterion(predictions_test, y_test_tensor)).item()\n",
    "        \n",
    "        # Convert predictions to binary labels (e.g., positive sentiment if rating >= 3.5)\n",
    "        threshold = 3.5\n",
    "        y_test_binary = (y_test_tensor > threshold).numpy()\n",
    "        test_predictions_binary = (predictions_test > threshold).cpu().numpy()\n",
    "\n",
    "        # Calculate evaluation metrics\n",
    "        precision = precision_score(y_test_binary, test_predictions_binary)\n",
    "        recall = recall_score(y_test_binary, test_predictions_binary)\n",
    "        f1 = f1_score(y_test_binary, test_predictions_binary)\n",
    "        mae = mean_absolute_error(y_test_tensor, predictions_test)\n",
    "\n",
    "    return rmse_test, mae, precision, recall, f1\n",
    "\n",
    "# Perform grid search\n",
    "best_params = None\n",
    "best_score = float('inf')\n",
    "for lr in learning_rates:\n",
    "    for embedding_dim in embedding_dims:\n",
    "        for num_epochs in num_epochs_list:\n",
    "            print(f\"Evaluating: lr={lr}, embedding_dim={embedding_dim}, num_epochs={num_epochs}\")\n",
    "            rmse, mae, precision, recall, f1 = train_and_evaluate(lr, embedding_dim, num_epochs)\n",
    "            print(f\"RMSE: {rmse}, MAE: {mae}, Precision: {precision}, Recall: {recall}, F1-Score: {f1}\")\n",
    "            if rmse < best_score:\n",
    "                best_score = rmse\n",
    "                best_params = {'lr': lr, 'embedding_dim': embedding_dim, 'num_epochs': num_epochs}\n",
    "\n",
    "print(f\"Best parameters: {best_params}\")\n",
    "print(f\"Best RMSE: {best_score}\")\n"
   ]
  },
  {
   "cell_type": "markdown",
   "id": "b8d03f1c-5bda-40f6-981c-4075c71b7cf4",
   "metadata": {},
   "source": [
    "### With the GridSearch we got the Best Parameters :  -\n",
    "\n",
    "Learning Rate(lr)=  0.01, \n",
    "\n",
    "Embedding Dimension(embedding_dim) = 50,\n",
    "\n",
    "Number of Epochs(num_epochs) =  100"
   ]
  },
  {
   "cell_type": "code",
   "execution_count": 88,
   "id": "4ba58749-b813-42eb-bf78-2336b0a7cf84",
   "metadata": {},
   "outputs": [
    {
     "name": "stdout",
     "output_type": "stream",
     "text": [
      "Epoch 1/100, Loss: 13.8733\n",
      "Epoch 2/100, Loss: 5.3135\n",
      "Epoch 3/100, Loss: 3.8968\n",
      "Epoch 4/100, Loss: 1.9367\n",
      "Epoch 5/100, Loss: 1.6724\n",
      "Epoch 6/100, Loss: 2.1719\n",
      "Epoch 7/100, Loss: 1.9050\n",
      "Epoch 8/100, Loss: 1.4369\n",
      "Epoch 9/100, Loss: 1.6003\n",
      "Epoch 10/100, Loss: 1.8502\n",
      "Epoch 11/100, Loss: 1.5101\n",
      "Epoch 12/100, Loss: 1.2869\n",
      "Epoch 13/100, Loss: 1.3996\n",
      "Epoch 14/100, Loss: 1.5080\n",
      "Epoch 15/100, Loss: 1.4317\n",
      "Epoch 16/100, Loss: 1.2900\n",
      "Epoch 17/100, Loss: 1.2817\n",
      "Epoch 18/100, Loss: 1.3803\n",
      "Epoch 19/100, Loss: 1.3537\n",
      "Epoch 20/100, Loss: 1.2336\n",
      "Epoch 21/100, Loss: 1.1895\n",
      "Epoch 22/100, Loss: 1.2452\n",
      "Epoch 23/100, Loss: 1.2569\n",
      "Epoch 24/100, Loss: 1.2022\n",
      "Epoch 25/100, Loss: 1.1474\n",
      "Epoch 26/100, Loss: 1.1542\n",
      "Epoch 27/100, Loss: 1.1808\n",
      "Epoch 28/100, Loss: 1.1532\n",
      "Epoch 29/100, Loss: 1.1053\n",
      "Epoch 30/100, Loss: 1.0975\n",
      "Epoch 31/100, Loss: 1.1072\n",
      "Epoch 32/100, Loss: 1.0992\n",
      "Epoch 33/100, Loss: 1.0598\n",
      "Epoch 34/100, Loss: 1.0529\n",
      "Epoch 35/100, Loss: 1.0614\n",
      "Epoch 36/100, Loss: 1.0497\n",
      "Epoch 37/100, Loss: 1.0228\n",
      "Epoch 38/100, Loss: 1.0102\n",
      "Epoch 39/100, Loss: 1.0159\n",
      "Epoch 40/100, Loss: 1.0075\n",
      "Epoch 41/100, Loss: 0.9885\n",
      "Epoch 42/100, Loss: 0.9792\n",
      "Epoch 43/100, Loss: 0.9840\n",
      "Epoch 44/100, Loss: 0.9743\n",
      "Epoch 45/100, Loss: 0.9591\n",
      "Epoch 46/100, Loss: 0.9536\n",
      "Epoch 47/100, Loss: 0.9486\n",
      "Epoch 48/100, Loss: 0.9463\n",
      "Epoch 49/100, Loss: 0.9321\n",
      "Epoch 50/100, Loss: 0.9338\n",
      "Epoch 51/100, Loss: 0.9362\n",
      "Epoch 52/100, Loss: 0.9209\n",
      "Epoch 53/100, Loss: 0.9187\n",
      "Epoch 54/100, Loss: 0.9165\n",
      "Epoch 55/100, Loss: 0.9100\n",
      "Epoch 56/100, Loss: 0.9033\n",
      "Epoch 57/100, Loss: 0.9008\n",
      "Epoch 58/100, Loss: 0.9009\n",
      "Epoch 59/100, Loss: 0.8973\n",
      "Epoch 60/100, Loss: 0.8909\n",
      "Epoch 61/100, Loss: 0.8909\n",
      "Epoch 62/100, Loss: 0.8936\n",
      "Epoch 63/100, Loss: 0.8849\n",
      "Epoch 64/100, Loss: 0.8843\n",
      "Epoch 65/100, Loss: 0.8836\n",
      "Epoch 66/100, Loss: 0.8803\n",
      "Epoch 67/100, Loss: 0.8795\n",
      "Epoch 68/100, Loss: 0.8777\n",
      "Epoch 69/100, Loss: 0.8721\n",
      "Epoch 70/100, Loss: 0.8691\n",
      "Epoch 71/100, Loss: 0.8714\n",
      "Epoch 72/100, Loss: 0.8679\n",
      "Epoch 73/100, Loss: 0.8678\n",
      "Epoch 74/100, Loss: 0.8617\n",
      "Epoch 75/100, Loss: 0.8615\n",
      "Epoch 76/100, Loss: 0.8652\n",
      "Epoch 77/100, Loss: 0.8609\n",
      "Epoch 78/100, Loss: 0.8551\n",
      "Epoch 79/100, Loss: 0.8544\n",
      "Epoch 80/100, Loss: 0.8534\n",
      "Epoch 81/100, Loss: 0.8553\n",
      "Epoch 82/100, Loss: 0.8531\n",
      "Epoch 83/100, Loss: 0.8496\n",
      "Epoch 84/100, Loss: 0.8457\n",
      "Epoch 85/100, Loss: 0.8456\n",
      "Epoch 86/100, Loss: 0.8431\n",
      "Epoch 87/100, Loss: 0.8436\n",
      "Epoch 88/100, Loss: 0.8412\n",
      "Epoch 89/100, Loss: 0.8402\n",
      "Epoch 90/100, Loss: 0.8381\n",
      "Epoch 91/100, Loss: 0.8361\n",
      "Epoch 92/100, Loss: 0.8334\n",
      "Epoch 93/100, Loss: 0.8301\n",
      "Epoch 94/100, Loss: 0.8300\n",
      "Epoch 95/100, Loss: 0.8277\n",
      "Epoch 96/100, Loss: 0.8269\n",
      "Epoch 97/100, Loss: 0.8259\n",
      "Epoch 98/100, Loss: 0.8248\n",
      "Epoch 99/100, Loss: 0.8234\n",
      "Epoch 100/100, Loss: 0.8210\n",
      "Test RMSE: 0.9463\n"
     ]
    }
   ],
   "source": [
    "import pandas as pd\n",
    "import torch\n",
    "from sklearn.model_selection import train_test_split\n",
    "from torch import nn, optim\n",
    "\n",
    "# Assuming merged_data_1 is already defined and loaded\n",
    "# Convert genres to a single categorical feature\n",
    "genre_columns = ['Action', 'Adventure', 'Animation', \"Children's\", 'Comedy', 'Crime', 'Documentary', 'Drama', 'Fantasy', 'Film-Noir', 'Horror', 'Musical', 'Mystery', 'Romance', 'Sci-Fi', 'Thriller', 'War', 'Western']\n",
    "merged_data_1['genre'] = merged_data_1[genre_columns].idxmax(axis=1)\n",
    "\n",
    "# Encode categorical variables\n",
    "merged_data_1['genre'] = merged_data_1['genre'].astype('category').cat.codes\n",
    "\n",
    "# Prepare the feature matrix (X) and target vector (y)\n",
    "X = merged_data_1[['user_id', 'movie_id', 'genre', 'average_sentiment_score']]\n",
    "y = merged_data_1['rating']\n",
    "\n",
    "# Split the data into training and testing sets\n",
    "X_train, X_test, y_train, y_test = train_test_split(X, y, test_size=0.3, random_state=42)\n",
    "\n",
    "# Convert data to PyTorch tensors\n",
    "X_train_tensor = torch.tensor(X_train.values, dtype=torch.float32)\n",
    "y_train_tensor = torch.tensor(y_train.values, dtype=torch.float32)\n",
    "X_test_tensor = torch.tensor(X_test.values, dtype=torch.float32)\n",
    "y_test_tensor = torch.tensor(y_test.values, dtype=torch.float32)\n",
    "\n",
    "# Define the Hybrid Recommender model\n",
    "class HybridRecommender(nn.Module):\n",
    "    def __init__(self, num_users, num_movies, num_genres, embedding_dim):\n",
    "        super(HybridRecommender, self).__init__()\n",
    "        self.user_embedding = nn.Embedding(num_users, embedding_dim)\n",
    "        self.movie_embedding = nn.Embedding(num_movies, embedding_dim)\n",
    "        self.genre_embedding = nn.Embedding(num_genres, embedding_dim)\n",
    "        self.sentiment_embedding = nn.Linear(1, embedding_dim)\n",
    "        self.fc1 = nn.Linear(embedding_dim * 4, 128)\n",
    "        self.fc2 = nn.Linear(128, 64)\n",
    "        self.fc3 = nn.Linear(64, 1)\n",
    "        self.dropout = nn.Dropout(0.2)\n",
    "\n",
    "    def forward(self, user, movie, genre, sentiment):\n",
    "        user_emb = self.user_embedding(user.long())\n",
    "        movie_emb = self.movie_embedding(movie.long())\n",
    "        genre_emb = self.genre_embedding(genre.long())\n",
    "        sentiment_emb = self.sentiment_embedding(sentiment.unsqueeze(1))\n",
    "        \n",
    "        x = torch.cat([user_emb, movie_emb, genre_emb, sentiment_emb], dim=-1)\n",
    "        x = self.dropout(torch.relu(self.fc1(x)))\n",
    "        x = torch.relu(self.fc2(x))\n",
    "        x = self.fc3(x)\n",
    "        return x\n",
    "\n",
    "# Initialize model, loss function, and optimizer\n",
    "num_users = merged_data_1['user_id'].max() + 1\n",
    "num_movies = merged_data_1['movie_id'].max() + 1\n",
    "num_genres = merged_data_1['genre'].max() + 1\n",
    "embedding_dim = 50\n",
    "\n",
    "model = HybridRecommender(num_users, num_movies, num_genres, embedding_dim)\n",
    "criterion = nn.MSELoss()\n",
    "optimizer = optim.Adam(model.parameters(), lr=0.01)\n",
    "\n",
    "# Training loops\n",
    "num_epochs = 100\n",
    "for epoch in range(num_epochs):\n",
    "    model.train()\n",
    "    optimizer.zero_grad()\n",
    "    \n",
    "    user = X_train_tensor[:, 0]\n",
    "    movie = X_train_tensor[:, 1]\n",
    "    genre = X_train_tensor[:, 2]\n",
    "    sentiment = X_train_tensor[:, 3]\n",
    "    \n",
    "    predictions = model(user, movie, genre, sentiment).squeeze()\n",
    "    loss = criterion(predictions, y_train_tensor)\n",
    "    \n",
    "    loss.backward()\n",
    "    optimizer.step()\n",
    "    \n",
    "    print(f'Epoch {epoch+1}/{num_epochs}, Loss: {loss.item():.4f}')\n",
    "\n",
    "# Evaluate the model on the test set\n",
    "model.eval()\n",
    "with torch.no_grad():\n",
    "    user_test = X_test_tensor[:, 0]\n",
    "    movie_test = X_test_tensor[:, 1]\n",
    "    genre_test = X_test_tensor[:, 2]\n",
    "    sentiment_test = X_test_tensor[:, 3]\n",
    "\n",
    "    predictions_test = model(user_test, movie_test, genre_test, sentiment_test).squeeze()\n",
    "    rmse_test = torch.sqrt(criterion(predictions_test, y_test_tensor))\n",
    "\n",
    "print(f'Test RMSE: {rmse_test.item():.4f}')\n"
   ]
  },
  {
   "cell_type": "code",
   "execution_count": 89,
   "id": "327ce56e-73cc-4f0d-9e84-5b44f07d3c21",
   "metadata": {},
   "outputs": [
    {
     "name": "stdout",
     "output_type": "stream",
     "text": [
      "RMSE: 0.9463\n",
      "MAE: 0.7478\n",
      "Precision: 0.7449\n",
      "Recall: 0.7104\n",
      "F1-Score: 0.7272\n"
     ]
    }
   ],
   "source": [
    "from sklearn.metrics import mean_squared_error, mean_absolute_error, precision_recall_fscore_support\n",
    "import numpy as np\n",
    "\n",
    "# Predictions on the test set\n",
    "model.eval()\n",
    "with torch.no_grad():\n",
    "    user_test = X_test_tensor[:, 0]\n",
    "    movie_test = X_test_tensor[:, 1]\n",
    "    genre_test = X_test_tensor[:, 2]\n",
    "    sentiment_test = X_test_tensor[:, 3]\n",
    "    \n",
    "    test_predictions = model(user_test, movie_test, genre_test, sentiment_test).squeeze()\n",
    "\n",
    "# Convert predictions to binary labels (e.g., positive sentiment if rating >= 3.5)\n",
    "threshold = 3.5\n",
    "y_test_binary = (y_test.values > threshold).astype(int)\n",
    "test_predictions_binary = (test_predictions.cpu().numpy() > threshold).astype(int)\n",
    "\n",
    "# Calculate RMSE and MAE\n",
    "rmse = np.sqrt(mean_squared_error(y_test, test_predictions.cpu().numpy()))\n",
    "mae = mean_absolute_error(y_test, test_predictions.cpu().numpy())\n",
    "\n",
    "# Calculate precision, recall, and F1 score\n",
    "precision, recall, f1, _ = precision_recall_fscore_support(y_test_binary, test_predictions_binary, average='binary')\n",
    "\n",
    "print(f\"RMSE: {rmse:.4f}\")\n",
    "print(f\"MAE: {mae:.4f}\")\n",
    "print(f\"Precision: {precision:.4f}\")\n",
    "print(f\"Recall: {recall:.4f}\")\n",
    "print(f\"F1-Score: {f1:.4f}\")\n"
   ]
  },
  {
   "cell_type": "code",
   "execution_count": null,
   "id": "502255db-0e63-47a1-8b8c-d11aab227552",
   "metadata": {},
   "outputs": [],
   "source": []
  },
  {
   "cell_type": "code",
   "execution_count": 90,
   "id": "fba9f65e-6f72-4cdc-8ed7-bec8a5a91641",
   "metadata": {},
   "outputs": [
    {
     "name": "stdout",
     "output_type": "stream",
     "text": [
      "Predictions saved to 'hybrid_model_predictions.csv'\n"
     ]
    }
   ],
   "source": [
    "# Save the predictions and actual values for comparison\n",
    "results = pd.DataFrame({\n",
    "    'user_id': X_test['user_id'],\n",
    "    'movie_id': X_test['movie_id'],\n",
    "    'actual_rating': y_test,\n",
    "    'predicted_rating': predictions_test.cpu().numpy()\n",
    "})\n",
    "results.to_csv('hybrid_model_predictions.csv', index=False)\n",
    "print(\"Predictions saved to 'hybrid_model_predictions.csv'\")"
   ]
  },
  {
   "cell_type": "code",
   "execution_count": 153,
   "id": "d2070a96-03a3-4324-8a16-704488e938df",
   "metadata": {},
   "outputs": [
    {
     "data": {
      "text/html": [
       "<div>\n",
       "<style scoped>\n",
       "    .dataframe tbody tr th:only-of-type {\n",
       "        vertical-align: middle;\n",
       "    }\n",
       "\n",
       "    .dataframe tbody tr th {\n",
       "        vertical-align: top;\n",
       "    }\n",
       "\n",
       "    .dataframe thead th {\n",
       "        text-align: right;\n",
       "    }\n",
       "</style>\n",
       "<table border=\"1\" class=\"dataframe\">\n",
       "  <thead>\n",
       "    <tr style=\"text-align: right;\">\n",
       "      <th></th>\n",
       "      <th>user_id</th>\n",
       "      <th>movie_id</th>\n",
       "      <th>actual_rating</th>\n",
       "      <th>Hybrid_predicted_rating</th>\n",
       "    </tr>\n",
       "  </thead>\n",
       "  <tbody>\n",
       "    <tr>\n",
       "      <th>0</th>\n",
       "      <td>908</td>\n",
       "      <td>69</td>\n",
       "      <td>3</td>\n",
       "      <td>3.509368</td>\n",
       "    </tr>\n",
       "    <tr>\n",
       "      <th>1</th>\n",
       "      <td>287</td>\n",
       "      <td>710</td>\n",
       "      <td>4</td>\n",
       "      <td>3.924917</td>\n",
       "    </tr>\n",
       "    <tr>\n",
       "      <th>2</th>\n",
       "      <td>622</td>\n",
       "      <td>185</td>\n",
       "      <td>3</td>\n",
       "      <td>4.026891</td>\n",
       "    </tr>\n",
       "    <tr>\n",
       "      <th>3</th>\n",
       "      <td>772</td>\n",
       "      <td>307</td>\n",
       "      <td>4</td>\n",
       "      <td>4.061265</td>\n",
       "    </tr>\n",
       "    <tr>\n",
       "      <th>4</th>\n",
       "      <td>174</td>\n",
       "      <td>1</td>\n",
       "      <td>3</td>\n",
       "      <td>3.763280</td>\n",
       "    </tr>\n",
       "    <tr>\n",
       "      <th>5</th>\n",
       "      <td>295</td>\n",
       "      <td>42</td>\n",
       "      <td>3</td>\n",
       "      <td>4.282130</td>\n",
       "    </tr>\n",
       "    <tr>\n",
       "      <th>6</th>\n",
       "      <td>239</td>\n",
       "      <td>1099</td>\n",
       "      <td>5</td>\n",
       "      <td>4.125918</td>\n",
       "    </tr>\n",
       "    <tr>\n",
       "      <th>7</th>\n",
       "      <td>702</td>\n",
       "      <td>748</td>\n",
       "      <td>2</td>\n",
       "      <td>2.553280</td>\n",
       "    </tr>\n",
       "    <tr>\n",
       "      <th>8</th>\n",
       "      <td>117</td>\n",
       "      <td>1095</td>\n",
       "      <td>3</td>\n",
       "      <td>2.722265</td>\n",
       "    </tr>\n",
       "    <tr>\n",
       "      <th>9</th>\n",
       "      <td>474</td>\n",
       "      <td>1028</td>\n",
       "      <td>1</td>\n",
       "      <td>3.133973</td>\n",
       "    </tr>\n",
       "    <tr>\n",
       "      <th>10</th>\n",
       "      <td>294</td>\n",
       "      <td>286</td>\n",
       "      <td>5</td>\n",
       "      <td>3.704548</td>\n",
       "    </tr>\n",
       "    <tr>\n",
       "      <th>11</th>\n",
       "      <td>918</td>\n",
       "      <td>630</td>\n",
       "      <td>3</td>\n",
       "      <td>2.559735</td>\n",
       "    </tr>\n",
       "    <tr>\n",
       "      <th>12</th>\n",
       "      <td>422</td>\n",
       "      <td>441</td>\n",
       "      <td>4</td>\n",
       "      <td>2.765946</td>\n",
       "    </tr>\n",
       "    <tr>\n",
       "      <th>13</th>\n",
       "      <td>507</td>\n",
       "      <td>1016</td>\n",
       "      <td>5</td>\n",
       "      <td>5.229707</td>\n",
       "    </tr>\n",
       "    <tr>\n",
       "      <th>14</th>\n",
       "      <td>934</td>\n",
       "      <td>949</td>\n",
       "      <td>3</td>\n",
       "      <td>3.328087</td>\n",
       "    </tr>\n",
       "    <tr>\n",
       "      <th>15</th>\n",
       "      <td>276</td>\n",
       "      <td>169</td>\n",
       "      <td>5</td>\n",
       "      <td>4.347850</td>\n",
       "    </tr>\n",
       "    <tr>\n",
       "      <th>16</th>\n",
       "      <td>757</td>\n",
       "      <td>1016</td>\n",
       "      <td>3</td>\n",
       "      <td>3.199187</td>\n",
       "    </tr>\n",
       "    <tr>\n",
       "      <th>17</th>\n",
       "      <td>435</td>\n",
       "      <td>89</td>\n",
       "      <td>4</td>\n",
       "      <td>3.839831</td>\n",
       "    </tr>\n",
       "    <tr>\n",
       "      <th>18</th>\n",
       "      <td>392</td>\n",
       "      <td>250</td>\n",
       "      <td>3</td>\n",
       "      <td>3.411699</td>\n",
       "    </tr>\n",
       "    <tr>\n",
       "      <th>19</th>\n",
       "      <td>592</td>\n",
       "      <td>518</td>\n",
       "      <td>5</td>\n",
       "      <td>3.751541</td>\n",
       "    </tr>\n",
       "  </tbody>\n",
       "</table>\n",
       "</div>"
      ],
      "text/plain": [
       "    user_id  movie_id  actual_rating  Hybrid_predicted_rating\n",
       "0       908        69              3                 3.509368\n",
       "1       287       710              4                 3.924917\n",
       "2       622       185              3                 4.026891\n",
       "3       772       307              4                 4.061265\n",
       "4       174         1              3                 3.763280\n",
       "5       295        42              3                 4.282130\n",
       "6       239      1099              5                 4.125918\n",
       "7       702       748              2                 2.553280\n",
       "8       117      1095              3                 2.722265\n",
       "9       474      1028              1                 3.133973\n",
       "10      294       286              5                 3.704548\n",
       "11      918       630              3                 2.559735\n",
       "12      422       441              4                 2.765946\n",
       "13      507      1016              5                 5.229707\n",
       "14      934       949              3                 3.328087\n",
       "15      276       169              5                 4.347850\n",
       "16      757      1016              3                 3.199187\n",
       "17      435        89              4                 3.839831\n",
       "18      392       250              3                 3.411699\n",
       "19      592       518              5                 3.751541"
      ]
     },
     "execution_count": 153,
     "metadata": {},
     "output_type": "execute_result"
    }
   ],
   "source": [
    "predictions = pd.read_csv('/Users/salmanmohamm3d/Desktop/Sem 3/Social M A/Final Project/hybrid_model_predictions.csv')\n",
    "predictions.head(20)\n",
    "# predictions['user_id'].nunique()"
   ]
  },
  {
   "cell_type": "markdown",
   "id": "93493c8d-ae7c-4898-92f3-f27621250bb5",
   "metadata": {},
   "source": [
    "## Comparing the Predictions of Both the Models "
   ]
  },
  {
   "cell_type": "code",
   "execution_count": 140,
   "id": "cda6cd7a-7f67-4e5e-90dd-c40423472a0b",
   "metadata": {},
   "outputs": [
    {
     "data": {
      "text/plain": [
       "943"
      ]
     },
     "execution_count": 140,
     "metadata": {},
     "output_type": "execute_result"
    }
   ],
   "source": [
    "matrixf_model_predictions = pd.read_csv('/Users/salmanmohamm3d/Desktop/Sem 3/Social M A/Final Project/matrixf_model_predictions.csv')\n",
    "matrixf_model_predictions['user_id'].nunique()"
   ]
  },
  {
   "cell_type": "code",
   "execution_count": null,
   "id": "e6960f9a-659a-4302-9bbc-168f1f9030c6",
   "metadata": {},
   "outputs": [],
   "source": [
    "matrixf_model_predictions = pd.read_csv('/Users/salmanmohamm3d/Desktop/Sem 3/Social M A/Final Project/matrixf_model_predictions.csv')\n",
    "matrixf_model_predictions['user_id'].nunique()"
   ]
  },
  {
   "cell_type": "code",
   "execution_count": 124,
   "id": "99319625-e495-4e6d-a44c-17ca9446ba44",
   "metadata": {},
   "outputs": [
    {
     "name": "stdout",
     "output_type": "stream",
     "text": [
      "Merged Data:\n",
      "   user_id  movie_id  actual_rating  Hybrid_predicted_rating  predicted_rating\n",
      "0      908        69              3                 3.509368               3.0\n",
      "1      287       710              4                 3.924917               4.0\n",
      "2      622       185              3                 4.026891               3.0\n",
      "3      772       307              4                 4.061265               4.0\n",
      "4      174         1              3                 3.763280               3.0\n"
     ]
    }
   ],
   "source": [
    "import pandas as pd\n",
    "\n",
    "# Load the datasets\n",
    "hybrid_model_predictions = pd.read_csv('/Users/salmanmohamm3d/Desktop/Sem 3/Social M A/Final Project/hybrid_model_predictions.csv')\n",
    "matrixf_model_predictions = pd.read_csv('/Users/salmanmohamm3d/Desktop/Sem 3/Social M A/Final Project/matrixf_model_predictions.csv')\n",
    "\n",
    "# Rename columns in matrixf_model_predictions for merging\n",
    "matrixf_model_predictions.rename(columns={'item_id': 'movie_id' }, inplace=True)\n",
    "\n",
    "# Define the common columns for merging\n",
    "common_columns = ['user_id', 'movie_id', 'actual_rating']  # Add more columns if needed\n",
    "\n",
    "# Merge datasets by keeping multiple columns as common\n",
    "merged_data = pd.merge(hybrid_model_predictions, matrixf_model_predictions, on=common_columns, suffixes=('_hybrid', '_matrixf'))\n",
    "\n",
    "# Save the merged data to a new CSV file\n",
    "merged_data.to_csv('/Users/salmanmohamm3d/Desktop/Sem 3/Social M A/Final Project/com.csv', index=False)\n",
    "\n",
    "# Print the merged data (optional)\n",
    "print(\"Merged Data:\")\n",
    "print(merged_data.head())\n"
   ]
  },
  {
   "cell_type": "code",
   "execution_count": 149,
   "id": "8661f52e-dd12-4422-9f14-82b9bb7de45d",
   "metadata": {},
   "outputs": [
    {
     "name": "stdout",
     "output_type": "stream",
     "text": [
      "Predicted rating for user 200 and item 413: 4.0195\n"
     ]
    }
   ],
   "source": [
    "import pandas as pd\n",
    "\n",
    "# Load the dataset\n",
    "matrixf_model_predictions = pd.read_csv('/Users/salmanmohamm3d/Desktop/Sem 3/Social M A/Final Project/matrixf_model_predictions.csv')\n",
    "\n",
    "# Define the user_id and item_id\n",
    "user_id = 200\n",
    "movie_id = 413\n",
    "\n",
    "# Extract the predicted rating for the specific user and item\n",
    "predicted_rating = matrixf_model_predictions.loc[(matrixf_model_predictions['user_id'] == user_id) & (matrixf_model_predictions['movie_id'] == movie_id), 'predicted_rating']\n",
    "\n",
    "# Print the predicted rating\n",
    "if not predicted_rating.empty:\n",
    "    print(f\"Predicted rating for user {user_id} and item {movie_id}: {predicted_rating.iloc[0]:.4f}\")\n",
    "else:\n",
    "    print(f\"No predicted rating found for user {user_id} and item {movie_id}\")\n"
   ]
  },
  {
   "cell_type": "code",
   "execution_count": 150,
   "id": "2611622d-43af-4a8d-be14-1f4ec7f4abd4",
   "metadata": {},
   "outputs": [
    {
     "name": "stdout",
     "output_type": "stream",
     "text": [
      "No predicted rating found for user 200 and item 413\n"
     ]
    }
   ],
   "source": [
    "import pandas as pd\n",
    "\n",
    "# Load the dataset\n",
    "matrixf_model_predictions = pd.read_csv('/Users/salmanmohamm3d/Desktop/Sem 3/Social M A/Final Project/hybrid_model_predictions.csv')\n",
    "\n",
    "# Define the user_id and item_id\n",
    "user_id = 200\n",
    "movie_id = 413\n",
    "\n",
    "# Extract the predicted rating for the specific user and item\n",
    "predicted_rating = hybrid_model_predictions.loc[(hybrid_model_predictions['user_id'] == user_id) & (hybrid_model_predictions['movie_id'] == movie_id), 'Hybrid_predicted_rating']\n",
    "\n",
    "# Print the predicted rating\n",
    "if not predicted_rating.empty:\n",
    "    print(f\"Predicted rating for user {user_id} and item {movie_id}: {predicted_rating.iloc[0]:.4f}\")\n",
    "else:\n",
    "    print(f\"No predicted rating found for user {user_id} and item {movie_id}\")\n"
   ]
  },
  {
   "cell_type": "code",
   "execution_count": 151,
   "id": "786fb606-c10e-4f86-b4a7-4a2b37606154",
   "metadata": {},
   "outputs": [
    {
     "name": "stdout",
     "output_type": "stream",
     "text": [
      "No predicted rating found for user 200 and item 413\n"
     ]
    }
   ],
   "source": [
    "import pandas as pd\n",
    "\n",
    "# Load the dataset\n",
    "com = pd.read_csv('/Users/salmanmohamm3d/Desktop/Sem 3/Social M A/Final Project/com.csv')\n",
    "\n",
    "# Define the user_id and item_id\n",
    "user_id = 200\n",
    "movie_id = 413\n",
    "\n",
    "# Extract the predicted ratings for the specific user and item\n",
    "predicted_rating_hybrid = com.loc[(com['user_id'] == user_id) & (com['movie_id'] == movie_id), 'Hybrid_predicted_rating']\n",
    "predicted_rating_matrixf = com.loc[(com['user_id'] == user_id) & (com['movie_id'] == movie_id), 'predicted_rating']\n",
    "\n",
    "# Print the predicted ratings\n",
    "if not predicted_rating_hybrid.empty and not predicted_rating_matrixf.empty:\n",
    "    print(f\"Predicted hybrid rating for user {user_id} and item {movie_id}: {predicted_rating_hybrid.iloc[0]:.4f}\")\n",
    "    print(f\"Predicted matrix factorization rating for user {user_id} and item {movie_id}: {predicted_rating_matrixf.iloc[0]:.4f}\")\n",
    "else:\n",
    "    print(f\"No predicted rating found for user {user_id} and item {movie_id}\")\n"
   ]
  },
  {
   "cell_type": "code",
   "execution_count": null,
   "id": "5f4d08dc-accb-46f2-94b4-42f2f26d9de7",
   "metadata": {},
   "outputs": [],
   "source": []
  }
 ],
 "metadata": {
  "kernelspec": {
   "display_name": "Python 3 (ipykernel)",
   "language": "python",
   "name": "python3"
  },
  "language_info": {
   "codemirror_mode": {
    "name": "ipython",
    "version": 3
   },
   "file_extension": ".py",
   "mimetype": "text/x-python",
   "name": "python",
   "nbconvert_exporter": "python",
   "pygments_lexer": "ipython3",
   "version": "3.11.9"
  }
 },
 "nbformat": 4,
 "nbformat_minor": 5
}
