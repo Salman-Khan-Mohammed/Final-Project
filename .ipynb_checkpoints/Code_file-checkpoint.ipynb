{
 "cells": [
  {
   "cell_type": "markdown",
   "id": "e61eb3a6-59e7-4db7-9afd-a65aebc07a7c",
   "metadata": {},
   "source": [
    "# Final Project : - Building two Recommendation Systems"
   ]
  },
  {
   "cell_type": "markdown",
   "id": "bf43d31f-0d96-47bb-8c23-9a58fb7c3d29",
   "metadata": {},
   "source": [
    "# Part : - 1"
   ]
  },
  {
   "attachments": {},
   "cell_type": "markdown",
   "id": "a0d0ed9a-b274-4e71-8f5b-d50fe2f520f2",
   "metadata": {},
   "source": [
    "# Collaborative Filtering-based Recommender using Matrix Factorization Technique."
   ]
  },
  {
   "cell_type": "markdown",
   "id": "8ce22dec-22ee-4814-be21-3f8ca90abefa",
   "metadata": {},
   "source": [
    "## Data Preperation"
   ]
  },
  {
   "cell_type": "code",
   "execution_count": 83,
   "id": "0ee44842-64fe-4518-b4ef-ca8003b94d76",
   "metadata": {},
   "outputs": [],
   "source": [
    "# Installing required libraries "
   ]
  },
  {
   "cell_type": "code",
   "execution_count": 60,
   "id": "8761aa16-db64-4936-a42f-f7d9c6956fb7",
   "metadata": {},
   "outputs": [
    {
     "name": "stdout",
     "output_type": "stream",
     "text": [
      "Requirement already satisfied: pandas in /opt/homebrew/anaconda3/lib/python3.11/site-packages (2.2.2)\n",
      "Requirement already satisfied: numpy in /opt/homebrew/anaconda3/lib/python3.11/site-packages (1.26.4)\n",
      "Requirement already satisfied: scikit-learn in /opt/homebrew/anaconda3/lib/python3.11/site-packages (1.4.2)\n",
      "Requirement already satisfied: matplotlib in /opt/homebrew/anaconda3/lib/python3.11/site-packages (3.8.4)\n",
      "Requirement already satisfied: plotly in /opt/homebrew/anaconda3/lib/python3.11/site-packages (5.22.0)\n",
      "Requirement already satisfied: seaborn in /opt/homebrew/anaconda3/lib/python3.11/site-packages (0.13.2)\n",
      "Requirement already satisfied: torch in /opt/homebrew/anaconda3/lib/python3.11/site-packages (2.3.1)\n",
      "Requirement already satisfied: requests in /opt/homebrew/anaconda3/lib/python3.11/site-packages (2.32.2)\n",
      "Requirement already satisfied: tweepy in /opt/homebrew/anaconda3/lib/python3.11/site-packages (4.14.0)\n",
      "Requirement already satisfied: nltk in /opt/homebrew/anaconda3/lib/python3.11/site-packages (3.8.1)\n",
      "Requirement already satisfied: nitter in /opt/homebrew/anaconda3/lib/python3.11/site-packages (0.0.5)\n",
      "Requirement already satisfied: vaderSentiment in /opt/homebrew/anaconda3/lib/python3.11/site-packages (3.3.2)\n",
      "Requirement already satisfied: python-dateutil>=2.8.2 in /opt/homebrew/anaconda3/lib/python3.11/site-packages (from pandas) (2.9.0.post0)\n",
      "Requirement already satisfied: pytz>=2020.1 in /opt/homebrew/anaconda3/lib/python3.11/site-packages (from pandas) (2024.1)\n",
      "Requirement already satisfied: tzdata>=2022.7 in /opt/homebrew/anaconda3/lib/python3.11/site-packages (from pandas) (2023.3)\n",
      "Requirement already satisfied: scipy>=1.6.0 in /opt/homebrew/anaconda3/lib/python3.11/site-packages (from scikit-learn) (1.13.1)\n",
      "Requirement already satisfied: joblib>=1.2.0 in /opt/homebrew/anaconda3/lib/python3.11/site-packages (from scikit-learn) (1.4.2)\n",
      "Requirement already satisfied: threadpoolctl>=2.0.0 in /opt/homebrew/anaconda3/lib/python3.11/site-packages (from scikit-learn) (2.2.0)\n",
      "Requirement already satisfied: contourpy>=1.0.1 in /opt/homebrew/anaconda3/lib/python3.11/site-packages (from matplotlib) (1.2.0)\n",
      "Requirement already satisfied: cycler>=0.10 in /opt/homebrew/anaconda3/lib/python3.11/site-packages (from matplotlib) (0.11.0)\n",
      "Requirement already satisfied: fonttools>=4.22.0 in /opt/homebrew/anaconda3/lib/python3.11/site-packages (from matplotlib) (4.51.0)\n",
      "Requirement already satisfied: kiwisolver>=1.3.1 in /opt/homebrew/anaconda3/lib/python3.11/site-packages (from matplotlib) (1.4.4)\n",
      "Requirement already satisfied: packaging>=20.0 in /opt/homebrew/anaconda3/lib/python3.11/site-packages (from matplotlib) (23.2)\n",
      "Requirement already satisfied: pillow>=8 in /opt/homebrew/anaconda3/lib/python3.11/site-packages (from matplotlib) (10.3.0)\n",
      "Requirement already satisfied: pyparsing>=2.3.1 in /opt/homebrew/anaconda3/lib/python3.11/site-packages (from matplotlib) (3.0.9)\n",
      "Requirement already satisfied: tenacity>=6.2.0 in /opt/homebrew/anaconda3/lib/python3.11/site-packages (from plotly) (8.2.2)\n",
      "Requirement already satisfied: filelock in /opt/homebrew/anaconda3/lib/python3.11/site-packages (from torch) (3.13.1)\n",
      "Requirement already satisfied: typing-extensions>=4.8.0 in /opt/homebrew/anaconda3/lib/python3.11/site-packages (from torch) (4.11.0)\n",
      "Requirement already satisfied: sympy in /opt/homebrew/anaconda3/lib/python3.11/site-packages (from torch) (1.12)\n",
      "Requirement already satisfied: networkx in /opt/homebrew/anaconda3/lib/python3.11/site-packages (from torch) (3.2.1)\n",
      "Requirement already satisfied: jinja2 in /opt/homebrew/anaconda3/lib/python3.11/site-packages (from torch) (2.11.3)\n",
      "Requirement already satisfied: fsspec in /opt/homebrew/anaconda3/lib/python3.11/site-packages (from torch) (2024.3.1)\n",
      "Requirement already satisfied: charset-normalizer<4,>=2 in /opt/homebrew/anaconda3/lib/python3.11/site-packages (from requests) (2.0.4)\n",
      "Requirement already satisfied: idna<4,>=2.5 in /opt/homebrew/anaconda3/lib/python3.11/site-packages (from requests) (3.7)\n",
      "Requirement already satisfied: urllib3<3,>=1.21.1 in /opt/homebrew/anaconda3/lib/python3.11/site-packages (from requests) (1.26.19)\n",
      "Requirement already satisfied: certifi>=2017.4.17 in /opt/homebrew/anaconda3/lib/python3.11/site-packages (from requests) (2024.6.2)\n",
      "Requirement already satisfied: oauthlib<4,>=3.2.0 in /opt/homebrew/anaconda3/lib/python3.11/site-packages (from tweepy) (3.2.2)\n",
      "Requirement already satisfied: requests-oauthlib<2,>=1.2.0 in /opt/homebrew/anaconda3/lib/python3.11/site-packages (from tweepy) (1.3.1)\n",
      "Requirement already satisfied: click in /opt/homebrew/anaconda3/lib/python3.11/site-packages (from nltk) (8.1.7)\n",
      "Requirement already satisfied: regex>=2021.8.3 in /opt/homebrew/anaconda3/lib/python3.11/site-packages (from nltk) (2023.10.3)\n",
      "Requirement already satisfied: tqdm in /opt/homebrew/anaconda3/lib/python3.11/site-packages (from nltk) (4.66.4)\n",
      "Requirement already satisfied: beautifulsoup4 in /opt/homebrew/anaconda3/lib/python3.11/site-packages (from nitter) (4.12.3)\n",
      "Requirement already satisfied: six>=1.5 in /opt/homebrew/anaconda3/lib/python3.11/site-packages (from python-dateutil>=2.8.2->pandas) (1.16.0)\n",
      "Requirement already satisfied: soupsieve>1.2 in /opt/homebrew/anaconda3/lib/python3.11/site-packages (from beautifulsoup4->nitter) (2.5)\n",
      "Requirement already satisfied: MarkupSafe>=0.23 in /opt/homebrew/anaconda3/lib/python3.11/site-packages (from jinja2->torch) (2.1.5)\n",
      "Requirement already satisfied: mpmath>=0.19 in /opt/homebrew/anaconda3/lib/python3.11/site-packages (from sympy->torch) (1.3.0)\n",
      "\n",
      "\u001b[1m[\u001b[0m\u001b[34;49mnotice\u001b[0m\u001b[1;39;49m]\u001b[0m\u001b[39;49m A new release of pip is available: \u001b[0m\u001b[31;49m24.1.2\u001b[0m\u001b[39;49m -> \u001b[0m\u001b[32;49m24.2\u001b[0m\n",
      "\u001b[1m[\u001b[0m\u001b[34;49mnotice\u001b[0m\u001b[1;39;49m]\u001b[0m\u001b[39;49m To update, run: \u001b[0m\u001b[32;49mpip install --upgrade pip\u001b[0m\n",
      "Note: you may need to restart the kernel to use updated packages.\n"
     ]
    }
   ],
   "source": [
    "pip install pandas numpy scikit-learn matplotlib plotly seaborn torch requests tweepy nltk nitter vaderSentiment\n"
   ]
  },
  {
   "cell_type": "code",
   "execution_count": 61,
   "id": "7d823863-280b-4558-8038-661f9b9b3032",
   "metadata": {},
   "outputs": [],
   "source": [
    "import pandas as pd\n",
    "import numpy as np"
   ]
  },
  {
   "cell_type": "code",
   "execution_count": 62,
   "id": "b6407f3f-1342-4f1f-9adb-79851e34fb57",
   "metadata": {},
   "outputs": [],
   "source": [
    "import pandas as pd\n",
    "\n",
    "# Load u.data and u.item datasets\n",
    "u_data = pd.read_csv('/Users/salmanmohamm3d/Desktop/Sem 3/Social M A/Final Project/u.data.csv', sep='\\t', names=['user_id', 'item_id', 'rating', 'timestamp'])\n",
    "u_item = pd.read_csv('/Users/salmanmohamm3d/Desktop/Sem 3/Social M A/Final Project/u.item', sep='|', names=['movie_id', 'movie_title', 'release_date', 'video_release_date', 'IMDb_URL', 'unknown', 'Action', 'Adventure', 'Animation', 'Children\\'s', 'Comedy', 'Crime', 'Documentary', 'Drama', 'Fantasy', 'Film-Noir', 'Horror', 'Musical', 'Mystery', 'Romance', 'Sci-Fi', 'Thriller', 'War', 'Western'], encoding='latin-1')\n"
   ]
  },
  {
   "cell_type": "code",
   "execution_count": 63,
   "id": "d389e0d2-e458-4425-a09e-d915565bfbd7",
   "metadata": {},
   "outputs": [
    {
     "data": {
      "text/html": [
       "<div>\n",
       "<style scoped>\n",
       "    .dataframe tbody tr th:only-of-type {\n",
       "        vertical-align: middle;\n",
       "    }\n",
       "\n",
       "    .dataframe tbody tr th {\n",
       "        vertical-align: top;\n",
       "    }\n",
       "\n",
       "    .dataframe thead th {\n",
       "        text-align: right;\n",
       "    }\n",
       "</style>\n",
       "<table border=\"1\" class=\"dataframe\">\n",
       "  <thead>\n",
       "    <tr style=\"text-align: right;\">\n",
       "      <th></th>\n",
       "      <th>user_id</th>\n",
       "      <th>item_id</th>\n",
       "      <th>rating</th>\n",
       "      <th>timestamp</th>\n",
       "    </tr>\n",
       "  </thead>\n",
       "  <tbody>\n",
       "    <tr>\n",
       "      <th>0</th>\n",
       "      <td>196</td>\n",
       "      <td>242</td>\n",
       "      <td>3</td>\n",
       "      <td>881250949</td>\n",
       "    </tr>\n",
       "    <tr>\n",
       "      <th>1</th>\n",
       "      <td>186</td>\n",
       "      <td>302</td>\n",
       "      <td>3</td>\n",
       "      <td>891717742</td>\n",
       "    </tr>\n",
       "    <tr>\n",
       "      <th>2</th>\n",
       "      <td>22</td>\n",
       "      <td>377</td>\n",
       "      <td>1</td>\n",
       "      <td>878887116</td>\n",
       "    </tr>\n",
       "    <tr>\n",
       "      <th>3</th>\n",
       "      <td>244</td>\n",
       "      <td>51</td>\n",
       "      <td>2</td>\n",
       "      <td>880606923</td>\n",
       "    </tr>\n",
       "    <tr>\n",
       "      <th>4</th>\n",
       "      <td>166</td>\n",
       "      <td>346</td>\n",
       "      <td>1</td>\n",
       "      <td>886397596</td>\n",
       "    </tr>\n",
       "    <tr>\n",
       "      <th>5</th>\n",
       "      <td>298</td>\n",
       "      <td>474</td>\n",
       "      <td>4</td>\n",
       "      <td>884182806</td>\n",
       "    </tr>\n",
       "    <tr>\n",
       "      <th>6</th>\n",
       "      <td>115</td>\n",
       "      <td>265</td>\n",
       "      <td>2</td>\n",
       "      <td>881171488</td>\n",
       "    </tr>\n",
       "    <tr>\n",
       "      <th>7</th>\n",
       "      <td>253</td>\n",
       "      <td>465</td>\n",
       "      <td>5</td>\n",
       "      <td>891628467</td>\n",
       "    </tr>\n",
       "    <tr>\n",
       "      <th>8</th>\n",
       "      <td>305</td>\n",
       "      <td>451</td>\n",
       "      <td>3</td>\n",
       "      <td>886324817</td>\n",
       "    </tr>\n",
       "    <tr>\n",
       "      <th>9</th>\n",
       "      <td>6</td>\n",
       "      <td>86</td>\n",
       "      <td>3</td>\n",
       "      <td>883603013</td>\n",
       "    </tr>\n",
       "  </tbody>\n",
       "</table>\n",
       "</div>"
      ],
      "text/plain": [
       "   user_id  item_id  rating  timestamp\n",
       "0      196      242       3  881250949\n",
       "1      186      302       3  891717742\n",
       "2       22      377       1  878887116\n",
       "3      244       51       2  880606923\n",
       "4      166      346       1  886397596\n",
       "5      298      474       4  884182806\n",
       "6      115      265       2  881171488\n",
       "7      253      465       5  891628467\n",
       "8      305      451       3  886324817\n",
       "9        6       86       3  883603013"
      ]
     },
     "execution_count": 63,
     "metadata": {},
     "output_type": "execute_result"
    }
   ],
   "source": [
    "u_data.head(10)"
   ]
  },
  {
   "cell_type": "code",
   "execution_count": 64,
   "id": "52d932d8-fff3-4f01-9417-1d2c09d69068",
   "metadata": {},
   "outputs": [
    {
     "data": {
      "text/html": [
       "<div>\n",
       "<style scoped>\n",
       "    .dataframe tbody tr th:only-of-type {\n",
       "        vertical-align: middle;\n",
       "    }\n",
       "\n",
       "    .dataframe tbody tr th {\n",
       "        vertical-align: top;\n",
       "    }\n",
       "\n",
       "    .dataframe thead th {\n",
       "        text-align: right;\n",
       "    }\n",
       "</style>\n",
       "<table border=\"1\" class=\"dataframe\">\n",
       "  <thead>\n",
       "    <tr style=\"text-align: right;\">\n",
       "      <th></th>\n",
       "      <th>movie_id</th>\n",
       "      <th>movie_title</th>\n",
       "      <th>release_date</th>\n",
       "      <th>video_release_date</th>\n",
       "      <th>IMDb_URL</th>\n",
       "      <th>unknown</th>\n",
       "      <th>Action</th>\n",
       "      <th>Adventure</th>\n",
       "      <th>Animation</th>\n",
       "      <th>Children's</th>\n",
       "      <th>...</th>\n",
       "      <th>Fantasy</th>\n",
       "      <th>Film-Noir</th>\n",
       "      <th>Horror</th>\n",
       "      <th>Musical</th>\n",
       "      <th>Mystery</th>\n",
       "      <th>Romance</th>\n",
       "      <th>Sci-Fi</th>\n",
       "      <th>Thriller</th>\n",
       "      <th>War</th>\n",
       "      <th>Western</th>\n",
       "    </tr>\n",
       "  </thead>\n",
       "  <tbody>\n",
       "    <tr>\n",
       "      <th>0</th>\n",
       "      <td>1</td>\n",
       "      <td>Toy Story (1995)</td>\n",
       "      <td>01-Jan-1995</td>\n",
       "      <td>NaN</td>\n",
       "      <td>http://us.imdb.com/M/title-exact?Toy%20Story%2...</td>\n",
       "      <td>0</td>\n",
       "      <td>0</td>\n",
       "      <td>0</td>\n",
       "      <td>1</td>\n",
       "      <td>1</td>\n",
       "      <td>...</td>\n",
       "      <td>0</td>\n",
       "      <td>0</td>\n",
       "      <td>0</td>\n",
       "      <td>0</td>\n",
       "      <td>0</td>\n",
       "      <td>0</td>\n",
       "      <td>0</td>\n",
       "      <td>0</td>\n",
       "      <td>0</td>\n",
       "      <td>0</td>\n",
       "    </tr>\n",
       "    <tr>\n",
       "      <th>1</th>\n",
       "      <td>2</td>\n",
       "      <td>GoldenEye (1995)</td>\n",
       "      <td>01-Jan-1995</td>\n",
       "      <td>NaN</td>\n",
       "      <td>http://us.imdb.com/M/title-exact?GoldenEye%20(...</td>\n",
       "      <td>0</td>\n",
       "      <td>1</td>\n",
       "      <td>1</td>\n",
       "      <td>0</td>\n",
       "      <td>0</td>\n",
       "      <td>...</td>\n",
       "      <td>0</td>\n",
       "      <td>0</td>\n",
       "      <td>0</td>\n",
       "      <td>0</td>\n",
       "      <td>0</td>\n",
       "      <td>0</td>\n",
       "      <td>0</td>\n",
       "      <td>1</td>\n",
       "      <td>0</td>\n",
       "      <td>0</td>\n",
       "    </tr>\n",
       "    <tr>\n",
       "      <th>2</th>\n",
       "      <td>3</td>\n",
       "      <td>Four Rooms (1995)</td>\n",
       "      <td>01-Jan-1995</td>\n",
       "      <td>NaN</td>\n",
       "      <td>http://us.imdb.com/M/title-exact?Four%20Rooms%...</td>\n",
       "      <td>0</td>\n",
       "      <td>0</td>\n",
       "      <td>0</td>\n",
       "      <td>0</td>\n",
       "      <td>0</td>\n",
       "      <td>...</td>\n",
       "      <td>0</td>\n",
       "      <td>0</td>\n",
       "      <td>0</td>\n",
       "      <td>0</td>\n",
       "      <td>0</td>\n",
       "      <td>0</td>\n",
       "      <td>0</td>\n",
       "      <td>1</td>\n",
       "      <td>0</td>\n",
       "      <td>0</td>\n",
       "    </tr>\n",
       "    <tr>\n",
       "      <th>3</th>\n",
       "      <td>4</td>\n",
       "      <td>Get Shorty (1995)</td>\n",
       "      <td>01-Jan-1995</td>\n",
       "      <td>NaN</td>\n",
       "      <td>http://us.imdb.com/M/title-exact?Get%20Shorty%...</td>\n",
       "      <td>0</td>\n",
       "      <td>1</td>\n",
       "      <td>0</td>\n",
       "      <td>0</td>\n",
       "      <td>0</td>\n",
       "      <td>...</td>\n",
       "      <td>0</td>\n",
       "      <td>0</td>\n",
       "      <td>0</td>\n",
       "      <td>0</td>\n",
       "      <td>0</td>\n",
       "      <td>0</td>\n",
       "      <td>0</td>\n",
       "      <td>0</td>\n",
       "      <td>0</td>\n",
       "      <td>0</td>\n",
       "    </tr>\n",
       "    <tr>\n",
       "      <th>4</th>\n",
       "      <td>5</td>\n",
       "      <td>Copycat (1995)</td>\n",
       "      <td>01-Jan-1995</td>\n",
       "      <td>NaN</td>\n",
       "      <td>http://us.imdb.com/M/title-exact?Copycat%20(1995)</td>\n",
       "      <td>0</td>\n",
       "      <td>0</td>\n",
       "      <td>0</td>\n",
       "      <td>0</td>\n",
       "      <td>0</td>\n",
       "      <td>...</td>\n",
       "      <td>0</td>\n",
       "      <td>0</td>\n",
       "      <td>0</td>\n",
       "      <td>0</td>\n",
       "      <td>0</td>\n",
       "      <td>0</td>\n",
       "      <td>0</td>\n",
       "      <td>1</td>\n",
       "      <td>0</td>\n",
       "      <td>0</td>\n",
       "    </tr>\n",
       "    <tr>\n",
       "      <th>5</th>\n",
       "      <td>6</td>\n",
       "      <td>Shanghai Triad (Yao a yao yao dao waipo qiao) ...</td>\n",
       "      <td>01-Jan-1995</td>\n",
       "      <td>NaN</td>\n",
       "      <td>http://us.imdb.com/Title?Yao+a+yao+yao+dao+wai...</td>\n",
       "      <td>0</td>\n",
       "      <td>0</td>\n",
       "      <td>0</td>\n",
       "      <td>0</td>\n",
       "      <td>0</td>\n",
       "      <td>...</td>\n",
       "      <td>0</td>\n",
       "      <td>0</td>\n",
       "      <td>0</td>\n",
       "      <td>0</td>\n",
       "      <td>0</td>\n",
       "      <td>0</td>\n",
       "      <td>0</td>\n",
       "      <td>0</td>\n",
       "      <td>0</td>\n",
       "      <td>0</td>\n",
       "    </tr>\n",
       "    <tr>\n",
       "      <th>6</th>\n",
       "      <td>7</td>\n",
       "      <td>Twelve Monkeys (1995)</td>\n",
       "      <td>01-Jan-1995</td>\n",
       "      <td>NaN</td>\n",
       "      <td>http://us.imdb.com/M/title-exact?Twelve%20Monk...</td>\n",
       "      <td>0</td>\n",
       "      <td>0</td>\n",
       "      <td>0</td>\n",
       "      <td>0</td>\n",
       "      <td>0</td>\n",
       "      <td>...</td>\n",
       "      <td>0</td>\n",
       "      <td>0</td>\n",
       "      <td>0</td>\n",
       "      <td>0</td>\n",
       "      <td>0</td>\n",
       "      <td>0</td>\n",
       "      <td>1</td>\n",
       "      <td>0</td>\n",
       "      <td>0</td>\n",
       "      <td>0</td>\n",
       "    </tr>\n",
       "    <tr>\n",
       "      <th>7</th>\n",
       "      <td>8</td>\n",
       "      <td>Babe (1995)</td>\n",
       "      <td>01-Jan-1995</td>\n",
       "      <td>NaN</td>\n",
       "      <td>http://us.imdb.com/M/title-exact?Babe%20(1995)</td>\n",
       "      <td>0</td>\n",
       "      <td>0</td>\n",
       "      <td>0</td>\n",
       "      <td>0</td>\n",
       "      <td>1</td>\n",
       "      <td>...</td>\n",
       "      <td>0</td>\n",
       "      <td>0</td>\n",
       "      <td>0</td>\n",
       "      <td>0</td>\n",
       "      <td>0</td>\n",
       "      <td>0</td>\n",
       "      <td>0</td>\n",
       "      <td>0</td>\n",
       "      <td>0</td>\n",
       "      <td>0</td>\n",
       "    </tr>\n",
       "    <tr>\n",
       "      <th>8</th>\n",
       "      <td>9</td>\n",
       "      <td>Dead Man Walking (1995)</td>\n",
       "      <td>01-Jan-1995</td>\n",
       "      <td>NaN</td>\n",
       "      <td>http://us.imdb.com/M/title-exact?Dead%20Man%20...</td>\n",
       "      <td>0</td>\n",
       "      <td>0</td>\n",
       "      <td>0</td>\n",
       "      <td>0</td>\n",
       "      <td>0</td>\n",
       "      <td>...</td>\n",
       "      <td>0</td>\n",
       "      <td>0</td>\n",
       "      <td>0</td>\n",
       "      <td>0</td>\n",
       "      <td>0</td>\n",
       "      <td>0</td>\n",
       "      <td>0</td>\n",
       "      <td>0</td>\n",
       "      <td>0</td>\n",
       "      <td>0</td>\n",
       "    </tr>\n",
       "    <tr>\n",
       "      <th>9</th>\n",
       "      <td>10</td>\n",
       "      <td>Richard III (1995)</td>\n",
       "      <td>22-Jan-1996</td>\n",
       "      <td>NaN</td>\n",
       "      <td>http://us.imdb.com/M/title-exact?Richard%20III...</td>\n",
       "      <td>0</td>\n",
       "      <td>0</td>\n",
       "      <td>0</td>\n",
       "      <td>0</td>\n",
       "      <td>0</td>\n",
       "      <td>...</td>\n",
       "      <td>0</td>\n",
       "      <td>0</td>\n",
       "      <td>0</td>\n",
       "      <td>0</td>\n",
       "      <td>0</td>\n",
       "      <td>0</td>\n",
       "      <td>0</td>\n",
       "      <td>0</td>\n",
       "      <td>1</td>\n",
       "      <td>0</td>\n",
       "    </tr>\n",
       "    <tr>\n",
       "      <th>10</th>\n",
       "      <td>11</td>\n",
       "      <td>Seven (Se7en) (1995)</td>\n",
       "      <td>01-Jan-1995</td>\n",
       "      <td>NaN</td>\n",
       "      <td>http://us.imdb.com/M/title-exact?Se7en%20(1995)</td>\n",
       "      <td>0</td>\n",
       "      <td>0</td>\n",
       "      <td>0</td>\n",
       "      <td>0</td>\n",
       "      <td>0</td>\n",
       "      <td>...</td>\n",
       "      <td>0</td>\n",
       "      <td>0</td>\n",
       "      <td>0</td>\n",
       "      <td>0</td>\n",
       "      <td>0</td>\n",
       "      <td>0</td>\n",
       "      <td>0</td>\n",
       "      <td>1</td>\n",
       "      <td>0</td>\n",
       "      <td>0</td>\n",
       "    </tr>\n",
       "    <tr>\n",
       "      <th>11</th>\n",
       "      <td>12</td>\n",
       "      <td>Usual Suspects, The (1995)</td>\n",
       "      <td>14-Aug-1995</td>\n",
       "      <td>NaN</td>\n",
       "      <td>http://us.imdb.com/M/title-exact?Usual%20Suspe...</td>\n",
       "      <td>0</td>\n",
       "      <td>0</td>\n",
       "      <td>0</td>\n",
       "      <td>0</td>\n",
       "      <td>0</td>\n",
       "      <td>...</td>\n",
       "      <td>0</td>\n",
       "      <td>0</td>\n",
       "      <td>0</td>\n",
       "      <td>0</td>\n",
       "      <td>0</td>\n",
       "      <td>0</td>\n",
       "      <td>0</td>\n",
       "      <td>1</td>\n",
       "      <td>0</td>\n",
       "      <td>0</td>\n",
       "    </tr>\n",
       "    <tr>\n",
       "      <th>12</th>\n",
       "      <td>13</td>\n",
       "      <td>Mighty Aphrodite (1995)</td>\n",
       "      <td>30-Oct-1995</td>\n",
       "      <td>NaN</td>\n",
       "      <td>http://us.imdb.com/M/title-exact?Mighty%20Aphr...</td>\n",
       "      <td>0</td>\n",
       "      <td>0</td>\n",
       "      <td>0</td>\n",
       "      <td>0</td>\n",
       "      <td>0</td>\n",
       "      <td>...</td>\n",
       "      <td>0</td>\n",
       "      <td>0</td>\n",
       "      <td>0</td>\n",
       "      <td>0</td>\n",
       "      <td>0</td>\n",
       "      <td>0</td>\n",
       "      <td>0</td>\n",
       "      <td>0</td>\n",
       "      <td>0</td>\n",
       "      <td>0</td>\n",
       "    </tr>\n",
       "    <tr>\n",
       "      <th>13</th>\n",
       "      <td>14</td>\n",
       "      <td>Postino, Il (1994)</td>\n",
       "      <td>01-Jan-1994</td>\n",
       "      <td>NaN</td>\n",
       "      <td>http://us.imdb.com/M/title-exact?Postino,%20Il...</td>\n",
       "      <td>0</td>\n",
       "      <td>0</td>\n",
       "      <td>0</td>\n",
       "      <td>0</td>\n",
       "      <td>0</td>\n",
       "      <td>...</td>\n",
       "      <td>0</td>\n",
       "      <td>0</td>\n",
       "      <td>0</td>\n",
       "      <td>0</td>\n",
       "      <td>0</td>\n",
       "      <td>1</td>\n",
       "      <td>0</td>\n",
       "      <td>0</td>\n",
       "      <td>0</td>\n",
       "      <td>0</td>\n",
       "    </tr>\n",
       "    <tr>\n",
       "      <th>14</th>\n",
       "      <td>15</td>\n",
       "      <td>Mr. Holland's Opus (1995)</td>\n",
       "      <td>29-Jan-1996</td>\n",
       "      <td>NaN</td>\n",
       "      <td>http://us.imdb.com/M/title-exact?Mr.%20Holland...</td>\n",
       "      <td>0</td>\n",
       "      <td>0</td>\n",
       "      <td>0</td>\n",
       "      <td>0</td>\n",
       "      <td>0</td>\n",
       "      <td>...</td>\n",
       "      <td>0</td>\n",
       "      <td>0</td>\n",
       "      <td>0</td>\n",
       "      <td>0</td>\n",
       "      <td>0</td>\n",
       "      <td>0</td>\n",
       "      <td>0</td>\n",
       "      <td>0</td>\n",
       "      <td>0</td>\n",
       "      <td>0</td>\n",
       "    </tr>\n",
       "    <tr>\n",
       "      <th>15</th>\n",
       "      <td>16</td>\n",
       "      <td>French Twist (Gazon maudit) (1995)</td>\n",
       "      <td>01-Jan-1995</td>\n",
       "      <td>NaN</td>\n",
       "      <td>http://us.imdb.com/M/title-exact?Gazon%20maudi...</td>\n",
       "      <td>0</td>\n",
       "      <td>0</td>\n",
       "      <td>0</td>\n",
       "      <td>0</td>\n",
       "      <td>0</td>\n",
       "      <td>...</td>\n",
       "      <td>0</td>\n",
       "      <td>0</td>\n",
       "      <td>0</td>\n",
       "      <td>0</td>\n",
       "      <td>0</td>\n",
       "      <td>1</td>\n",
       "      <td>0</td>\n",
       "      <td>0</td>\n",
       "      <td>0</td>\n",
       "      <td>0</td>\n",
       "    </tr>\n",
       "    <tr>\n",
       "      <th>16</th>\n",
       "      <td>17</td>\n",
       "      <td>From Dusk Till Dawn (1996)</td>\n",
       "      <td>05-Feb-1996</td>\n",
       "      <td>NaN</td>\n",
       "      <td>http://us.imdb.com/M/title-exact?From%20Dusk%2...</td>\n",
       "      <td>0</td>\n",
       "      <td>1</td>\n",
       "      <td>0</td>\n",
       "      <td>0</td>\n",
       "      <td>0</td>\n",
       "      <td>...</td>\n",
       "      <td>0</td>\n",
       "      <td>0</td>\n",
       "      <td>1</td>\n",
       "      <td>0</td>\n",
       "      <td>0</td>\n",
       "      <td>0</td>\n",
       "      <td>0</td>\n",
       "      <td>1</td>\n",
       "      <td>0</td>\n",
       "      <td>0</td>\n",
       "    </tr>\n",
       "    <tr>\n",
       "      <th>17</th>\n",
       "      <td>18</td>\n",
       "      <td>White Balloon, The (1995)</td>\n",
       "      <td>01-Jan-1995</td>\n",
       "      <td>NaN</td>\n",
       "      <td>http://us.imdb.com/M/title-exact?Badkonake%20S...</td>\n",
       "      <td>0</td>\n",
       "      <td>0</td>\n",
       "      <td>0</td>\n",
       "      <td>0</td>\n",
       "      <td>0</td>\n",
       "      <td>...</td>\n",
       "      <td>0</td>\n",
       "      <td>0</td>\n",
       "      <td>0</td>\n",
       "      <td>0</td>\n",
       "      <td>0</td>\n",
       "      <td>0</td>\n",
       "      <td>0</td>\n",
       "      <td>0</td>\n",
       "      <td>0</td>\n",
       "      <td>0</td>\n",
       "    </tr>\n",
       "    <tr>\n",
       "      <th>18</th>\n",
       "      <td>19</td>\n",
       "      <td>Antonia's Line (1995)</td>\n",
       "      <td>01-Jan-1995</td>\n",
       "      <td>NaN</td>\n",
       "      <td>http://us.imdb.com/M/title-exact?Antonia%20(1995)</td>\n",
       "      <td>0</td>\n",
       "      <td>0</td>\n",
       "      <td>0</td>\n",
       "      <td>0</td>\n",
       "      <td>0</td>\n",
       "      <td>...</td>\n",
       "      <td>0</td>\n",
       "      <td>0</td>\n",
       "      <td>0</td>\n",
       "      <td>0</td>\n",
       "      <td>0</td>\n",
       "      <td>0</td>\n",
       "      <td>0</td>\n",
       "      <td>0</td>\n",
       "      <td>0</td>\n",
       "      <td>0</td>\n",
       "    </tr>\n",
       "    <tr>\n",
       "      <th>19</th>\n",
       "      <td>20</td>\n",
       "      <td>Angels and Insects (1995)</td>\n",
       "      <td>01-Jan-1995</td>\n",
       "      <td>NaN</td>\n",
       "      <td>http://us.imdb.com/M/title-exact?Angels%20and%...</td>\n",
       "      <td>0</td>\n",
       "      <td>0</td>\n",
       "      <td>0</td>\n",
       "      <td>0</td>\n",
       "      <td>0</td>\n",
       "      <td>...</td>\n",
       "      <td>0</td>\n",
       "      <td>0</td>\n",
       "      <td>0</td>\n",
       "      <td>0</td>\n",
       "      <td>0</td>\n",
       "      <td>1</td>\n",
       "      <td>0</td>\n",
       "      <td>0</td>\n",
       "      <td>0</td>\n",
       "      <td>0</td>\n",
       "    </tr>\n",
       "  </tbody>\n",
       "</table>\n",
       "<p>20 rows × 24 columns</p>\n",
       "</div>"
      ],
      "text/plain": [
       "    movie_id                                        movie_title release_date  \\\n",
       "0          1                                   Toy Story (1995)  01-Jan-1995   \n",
       "1          2                                   GoldenEye (1995)  01-Jan-1995   \n",
       "2          3                                  Four Rooms (1995)  01-Jan-1995   \n",
       "3          4                                  Get Shorty (1995)  01-Jan-1995   \n",
       "4          5                                     Copycat (1995)  01-Jan-1995   \n",
       "5          6  Shanghai Triad (Yao a yao yao dao waipo qiao) ...  01-Jan-1995   \n",
       "6          7                              Twelve Monkeys (1995)  01-Jan-1995   \n",
       "7          8                                        Babe (1995)  01-Jan-1995   \n",
       "8          9                            Dead Man Walking (1995)  01-Jan-1995   \n",
       "9         10                                 Richard III (1995)  22-Jan-1996   \n",
       "10        11                               Seven (Se7en) (1995)  01-Jan-1995   \n",
       "11        12                         Usual Suspects, The (1995)  14-Aug-1995   \n",
       "12        13                            Mighty Aphrodite (1995)  30-Oct-1995   \n",
       "13        14                                 Postino, Il (1994)  01-Jan-1994   \n",
       "14        15                          Mr. Holland's Opus (1995)  29-Jan-1996   \n",
       "15        16                 French Twist (Gazon maudit) (1995)  01-Jan-1995   \n",
       "16        17                         From Dusk Till Dawn (1996)  05-Feb-1996   \n",
       "17        18                          White Balloon, The (1995)  01-Jan-1995   \n",
       "18        19                              Antonia's Line (1995)  01-Jan-1995   \n",
       "19        20                          Angels and Insects (1995)  01-Jan-1995   \n",
       "\n",
       "    video_release_date                                           IMDb_URL  \\\n",
       "0                  NaN  http://us.imdb.com/M/title-exact?Toy%20Story%2...   \n",
       "1                  NaN  http://us.imdb.com/M/title-exact?GoldenEye%20(...   \n",
       "2                  NaN  http://us.imdb.com/M/title-exact?Four%20Rooms%...   \n",
       "3                  NaN  http://us.imdb.com/M/title-exact?Get%20Shorty%...   \n",
       "4                  NaN  http://us.imdb.com/M/title-exact?Copycat%20(1995)   \n",
       "5                  NaN  http://us.imdb.com/Title?Yao+a+yao+yao+dao+wai...   \n",
       "6                  NaN  http://us.imdb.com/M/title-exact?Twelve%20Monk...   \n",
       "7                  NaN     http://us.imdb.com/M/title-exact?Babe%20(1995)   \n",
       "8                  NaN  http://us.imdb.com/M/title-exact?Dead%20Man%20...   \n",
       "9                  NaN  http://us.imdb.com/M/title-exact?Richard%20III...   \n",
       "10                 NaN    http://us.imdb.com/M/title-exact?Se7en%20(1995)   \n",
       "11                 NaN  http://us.imdb.com/M/title-exact?Usual%20Suspe...   \n",
       "12                 NaN  http://us.imdb.com/M/title-exact?Mighty%20Aphr...   \n",
       "13                 NaN  http://us.imdb.com/M/title-exact?Postino,%20Il...   \n",
       "14                 NaN  http://us.imdb.com/M/title-exact?Mr.%20Holland...   \n",
       "15                 NaN  http://us.imdb.com/M/title-exact?Gazon%20maudi...   \n",
       "16                 NaN  http://us.imdb.com/M/title-exact?From%20Dusk%2...   \n",
       "17                 NaN  http://us.imdb.com/M/title-exact?Badkonake%20S...   \n",
       "18                 NaN  http://us.imdb.com/M/title-exact?Antonia%20(1995)   \n",
       "19                 NaN  http://us.imdb.com/M/title-exact?Angels%20and%...   \n",
       "\n",
       "    unknown  Action  Adventure  Animation  Children's  ...  Fantasy  \\\n",
       "0         0       0          0          1           1  ...        0   \n",
       "1         0       1          1          0           0  ...        0   \n",
       "2         0       0          0          0           0  ...        0   \n",
       "3         0       1          0          0           0  ...        0   \n",
       "4         0       0          0          0           0  ...        0   \n",
       "5         0       0          0          0           0  ...        0   \n",
       "6         0       0          0          0           0  ...        0   \n",
       "7         0       0          0          0           1  ...        0   \n",
       "8         0       0          0          0           0  ...        0   \n",
       "9         0       0          0          0           0  ...        0   \n",
       "10        0       0          0          0           0  ...        0   \n",
       "11        0       0          0          0           0  ...        0   \n",
       "12        0       0          0          0           0  ...        0   \n",
       "13        0       0          0          0           0  ...        0   \n",
       "14        0       0          0          0           0  ...        0   \n",
       "15        0       0          0          0           0  ...        0   \n",
       "16        0       1          0          0           0  ...        0   \n",
       "17        0       0          0          0           0  ...        0   \n",
       "18        0       0          0          0           0  ...        0   \n",
       "19        0       0          0          0           0  ...        0   \n",
       "\n",
       "    Film-Noir  Horror  Musical  Mystery  Romance  Sci-Fi  Thriller  War  \\\n",
       "0           0       0        0        0        0       0         0    0   \n",
       "1           0       0        0        0        0       0         1    0   \n",
       "2           0       0        0        0        0       0         1    0   \n",
       "3           0       0        0        0        0       0         0    0   \n",
       "4           0       0        0        0        0       0         1    0   \n",
       "5           0       0        0        0        0       0         0    0   \n",
       "6           0       0        0        0        0       1         0    0   \n",
       "7           0       0        0        0        0       0         0    0   \n",
       "8           0       0        0        0        0       0         0    0   \n",
       "9           0       0        0        0        0       0         0    1   \n",
       "10          0       0        0        0        0       0         1    0   \n",
       "11          0       0        0        0        0       0         1    0   \n",
       "12          0       0        0        0        0       0         0    0   \n",
       "13          0       0        0        0        1       0         0    0   \n",
       "14          0       0        0        0        0       0         0    0   \n",
       "15          0       0        0        0        1       0         0    0   \n",
       "16          0       1        0        0        0       0         1    0   \n",
       "17          0       0        0        0        0       0         0    0   \n",
       "18          0       0        0        0        0       0         0    0   \n",
       "19          0       0        0        0        1       0         0    0   \n",
       "\n",
       "    Western  \n",
       "0         0  \n",
       "1         0  \n",
       "2         0  \n",
       "3         0  \n",
       "4         0  \n",
       "5         0  \n",
       "6         0  \n",
       "7         0  \n",
       "8         0  \n",
       "9         0  \n",
       "10        0  \n",
       "11        0  \n",
       "12        0  \n",
       "13        0  \n",
       "14        0  \n",
       "15        0  \n",
       "16        0  \n",
       "17        0  \n",
       "18        0  \n",
       "19        0  \n",
       "\n",
       "[20 rows x 24 columns]"
      ]
     },
     "execution_count": 64,
     "metadata": {},
     "output_type": "execute_result"
    }
   ],
   "source": [
    "u_item.head(20)"
   ]
  },
  {
   "cell_type": "markdown",
   "id": "229beedc-2775-4c56-b88f-22535ebab5c1",
   "metadata": {},
   "source": [
    "### Dropping the NAN value column"
   ]
  },
  {
   "cell_type": "code",
   "execution_count": 65,
   "id": "78f7940a-8d77-40b1-af52-3c95457c0b17",
   "metadata": {},
   "outputs": [],
   "source": [
    "u_item = u_item.drop('video_release_date', axis=1)"
   ]
  },
  {
   "cell_type": "code",
   "execution_count": 66,
   "id": "94c6dd2d-7056-4c79-8b4f-ccb1b9ac5aa4",
   "metadata": {},
   "outputs": [
    {
     "data": {
      "text/html": [
       "<div>\n",
       "<style scoped>\n",
       "    .dataframe tbody tr th:only-of-type {\n",
       "        vertical-align: middle;\n",
       "    }\n",
       "\n",
       "    .dataframe tbody tr th {\n",
       "        vertical-align: top;\n",
       "    }\n",
       "\n",
       "    .dataframe thead th {\n",
       "        text-align: right;\n",
       "    }\n",
       "</style>\n",
       "<table border=\"1\" class=\"dataframe\">\n",
       "  <thead>\n",
       "    <tr style=\"text-align: right;\">\n",
       "      <th></th>\n",
       "      <th>movie_id</th>\n",
       "      <th>movie_title</th>\n",
       "      <th>release_date</th>\n",
       "      <th>IMDb_URL</th>\n",
       "      <th>unknown</th>\n",
       "      <th>Action</th>\n",
       "      <th>Adventure</th>\n",
       "      <th>Animation</th>\n",
       "      <th>Children's</th>\n",
       "      <th>Comedy</th>\n",
       "      <th>...</th>\n",
       "      <th>Fantasy</th>\n",
       "      <th>Film-Noir</th>\n",
       "      <th>Horror</th>\n",
       "      <th>Musical</th>\n",
       "      <th>Mystery</th>\n",
       "      <th>Romance</th>\n",
       "      <th>Sci-Fi</th>\n",
       "      <th>Thriller</th>\n",
       "      <th>War</th>\n",
       "      <th>Western</th>\n",
       "    </tr>\n",
       "  </thead>\n",
       "  <tbody>\n",
       "    <tr>\n",
       "      <th>0</th>\n",
       "      <td>1</td>\n",
       "      <td>Toy Story (1995)</td>\n",
       "      <td>01-Jan-1995</td>\n",
       "      <td>http://us.imdb.com/M/title-exact?Toy%20Story%2...</td>\n",
       "      <td>0</td>\n",
       "      <td>0</td>\n",
       "      <td>0</td>\n",
       "      <td>1</td>\n",
       "      <td>1</td>\n",
       "      <td>1</td>\n",
       "      <td>...</td>\n",
       "      <td>0</td>\n",
       "      <td>0</td>\n",
       "      <td>0</td>\n",
       "      <td>0</td>\n",
       "      <td>0</td>\n",
       "      <td>0</td>\n",
       "      <td>0</td>\n",
       "      <td>0</td>\n",
       "      <td>0</td>\n",
       "      <td>0</td>\n",
       "    </tr>\n",
       "    <tr>\n",
       "      <th>1</th>\n",
       "      <td>2</td>\n",
       "      <td>GoldenEye (1995)</td>\n",
       "      <td>01-Jan-1995</td>\n",
       "      <td>http://us.imdb.com/M/title-exact?GoldenEye%20(...</td>\n",
       "      <td>0</td>\n",
       "      <td>1</td>\n",
       "      <td>1</td>\n",
       "      <td>0</td>\n",
       "      <td>0</td>\n",
       "      <td>0</td>\n",
       "      <td>...</td>\n",
       "      <td>0</td>\n",
       "      <td>0</td>\n",
       "      <td>0</td>\n",
       "      <td>0</td>\n",
       "      <td>0</td>\n",
       "      <td>0</td>\n",
       "      <td>0</td>\n",
       "      <td>1</td>\n",
       "      <td>0</td>\n",
       "      <td>0</td>\n",
       "    </tr>\n",
       "    <tr>\n",
       "      <th>2</th>\n",
       "      <td>3</td>\n",
       "      <td>Four Rooms (1995)</td>\n",
       "      <td>01-Jan-1995</td>\n",
       "      <td>http://us.imdb.com/M/title-exact?Four%20Rooms%...</td>\n",
       "      <td>0</td>\n",
       "      <td>0</td>\n",
       "      <td>0</td>\n",
       "      <td>0</td>\n",
       "      <td>0</td>\n",
       "      <td>0</td>\n",
       "      <td>...</td>\n",
       "      <td>0</td>\n",
       "      <td>0</td>\n",
       "      <td>0</td>\n",
       "      <td>0</td>\n",
       "      <td>0</td>\n",
       "      <td>0</td>\n",
       "      <td>0</td>\n",
       "      <td>1</td>\n",
       "      <td>0</td>\n",
       "      <td>0</td>\n",
       "    </tr>\n",
       "    <tr>\n",
       "      <th>3</th>\n",
       "      <td>4</td>\n",
       "      <td>Get Shorty (1995)</td>\n",
       "      <td>01-Jan-1995</td>\n",
       "      <td>http://us.imdb.com/M/title-exact?Get%20Shorty%...</td>\n",
       "      <td>0</td>\n",
       "      <td>1</td>\n",
       "      <td>0</td>\n",
       "      <td>0</td>\n",
       "      <td>0</td>\n",
       "      <td>1</td>\n",
       "      <td>...</td>\n",
       "      <td>0</td>\n",
       "      <td>0</td>\n",
       "      <td>0</td>\n",
       "      <td>0</td>\n",
       "      <td>0</td>\n",
       "      <td>0</td>\n",
       "      <td>0</td>\n",
       "      <td>0</td>\n",
       "      <td>0</td>\n",
       "      <td>0</td>\n",
       "    </tr>\n",
       "    <tr>\n",
       "      <th>4</th>\n",
       "      <td>5</td>\n",
       "      <td>Copycat (1995)</td>\n",
       "      <td>01-Jan-1995</td>\n",
       "      <td>http://us.imdb.com/M/title-exact?Copycat%20(1995)</td>\n",
       "      <td>0</td>\n",
       "      <td>0</td>\n",
       "      <td>0</td>\n",
       "      <td>0</td>\n",
       "      <td>0</td>\n",
       "      <td>0</td>\n",
       "      <td>...</td>\n",
       "      <td>0</td>\n",
       "      <td>0</td>\n",
       "      <td>0</td>\n",
       "      <td>0</td>\n",
       "      <td>0</td>\n",
       "      <td>0</td>\n",
       "      <td>0</td>\n",
       "      <td>1</td>\n",
       "      <td>0</td>\n",
       "      <td>0</td>\n",
       "    </tr>\n",
       "    <tr>\n",
       "      <th>5</th>\n",
       "      <td>6</td>\n",
       "      <td>Shanghai Triad (Yao a yao yao dao waipo qiao) ...</td>\n",
       "      <td>01-Jan-1995</td>\n",
       "      <td>http://us.imdb.com/Title?Yao+a+yao+yao+dao+wai...</td>\n",
       "      <td>0</td>\n",
       "      <td>0</td>\n",
       "      <td>0</td>\n",
       "      <td>0</td>\n",
       "      <td>0</td>\n",
       "      <td>0</td>\n",
       "      <td>...</td>\n",
       "      <td>0</td>\n",
       "      <td>0</td>\n",
       "      <td>0</td>\n",
       "      <td>0</td>\n",
       "      <td>0</td>\n",
       "      <td>0</td>\n",
       "      <td>0</td>\n",
       "      <td>0</td>\n",
       "      <td>0</td>\n",
       "      <td>0</td>\n",
       "    </tr>\n",
       "    <tr>\n",
       "      <th>6</th>\n",
       "      <td>7</td>\n",
       "      <td>Twelve Monkeys (1995)</td>\n",
       "      <td>01-Jan-1995</td>\n",
       "      <td>http://us.imdb.com/M/title-exact?Twelve%20Monk...</td>\n",
       "      <td>0</td>\n",
       "      <td>0</td>\n",
       "      <td>0</td>\n",
       "      <td>0</td>\n",
       "      <td>0</td>\n",
       "      <td>0</td>\n",
       "      <td>...</td>\n",
       "      <td>0</td>\n",
       "      <td>0</td>\n",
       "      <td>0</td>\n",
       "      <td>0</td>\n",
       "      <td>0</td>\n",
       "      <td>0</td>\n",
       "      <td>1</td>\n",
       "      <td>0</td>\n",
       "      <td>0</td>\n",
       "      <td>0</td>\n",
       "    </tr>\n",
       "    <tr>\n",
       "      <th>7</th>\n",
       "      <td>8</td>\n",
       "      <td>Babe (1995)</td>\n",
       "      <td>01-Jan-1995</td>\n",
       "      <td>http://us.imdb.com/M/title-exact?Babe%20(1995)</td>\n",
       "      <td>0</td>\n",
       "      <td>0</td>\n",
       "      <td>0</td>\n",
       "      <td>0</td>\n",
       "      <td>1</td>\n",
       "      <td>1</td>\n",
       "      <td>...</td>\n",
       "      <td>0</td>\n",
       "      <td>0</td>\n",
       "      <td>0</td>\n",
       "      <td>0</td>\n",
       "      <td>0</td>\n",
       "      <td>0</td>\n",
       "      <td>0</td>\n",
       "      <td>0</td>\n",
       "      <td>0</td>\n",
       "      <td>0</td>\n",
       "    </tr>\n",
       "    <tr>\n",
       "      <th>8</th>\n",
       "      <td>9</td>\n",
       "      <td>Dead Man Walking (1995)</td>\n",
       "      <td>01-Jan-1995</td>\n",
       "      <td>http://us.imdb.com/M/title-exact?Dead%20Man%20...</td>\n",
       "      <td>0</td>\n",
       "      <td>0</td>\n",
       "      <td>0</td>\n",
       "      <td>0</td>\n",
       "      <td>0</td>\n",
       "      <td>0</td>\n",
       "      <td>...</td>\n",
       "      <td>0</td>\n",
       "      <td>0</td>\n",
       "      <td>0</td>\n",
       "      <td>0</td>\n",
       "      <td>0</td>\n",
       "      <td>0</td>\n",
       "      <td>0</td>\n",
       "      <td>0</td>\n",
       "      <td>0</td>\n",
       "      <td>0</td>\n",
       "    </tr>\n",
       "    <tr>\n",
       "      <th>9</th>\n",
       "      <td>10</td>\n",
       "      <td>Richard III (1995)</td>\n",
       "      <td>22-Jan-1996</td>\n",
       "      <td>http://us.imdb.com/M/title-exact?Richard%20III...</td>\n",
       "      <td>0</td>\n",
       "      <td>0</td>\n",
       "      <td>0</td>\n",
       "      <td>0</td>\n",
       "      <td>0</td>\n",
       "      <td>0</td>\n",
       "      <td>...</td>\n",
       "      <td>0</td>\n",
       "      <td>0</td>\n",
       "      <td>0</td>\n",
       "      <td>0</td>\n",
       "      <td>0</td>\n",
       "      <td>0</td>\n",
       "      <td>0</td>\n",
       "      <td>0</td>\n",
       "      <td>1</td>\n",
       "      <td>0</td>\n",
       "    </tr>\n",
       "  </tbody>\n",
       "</table>\n",
       "<p>10 rows × 23 columns</p>\n",
       "</div>"
      ],
      "text/plain": [
       "   movie_id                                        movie_title release_date  \\\n",
       "0         1                                   Toy Story (1995)  01-Jan-1995   \n",
       "1         2                                   GoldenEye (1995)  01-Jan-1995   \n",
       "2         3                                  Four Rooms (1995)  01-Jan-1995   \n",
       "3         4                                  Get Shorty (1995)  01-Jan-1995   \n",
       "4         5                                     Copycat (1995)  01-Jan-1995   \n",
       "5         6  Shanghai Triad (Yao a yao yao dao waipo qiao) ...  01-Jan-1995   \n",
       "6         7                              Twelve Monkeys (1995)  01-Jan-1995   \n",
       "7         8                                        Babe (1995)  01-Jan-1995   \n",
       "8         9                            Dead Man Walking (1995)  01-Jan-1995   \n",
       "9        10                                 Richard III (1995)  22-Jan-1996   \n",
       "\n",
       "                                            IMDb_URL  unknown  Action  \\\n",
       "0  http://us.imdb.com/M/title-exact?Toy%20Story%2...        0       0   \n",
       "1  http://us.imdb.com/M/title-exact?GoldenEye%20(...        0       1   \n",
       "2  http://us.imdb.com/M/title-exact?Four%20Rooms%...        0       0   \n",
       "3  http://us.imdb.com/M/title-exact?Get%20Shorty%...        0       1   \n",
       "4  http://us.imdb.com/M/title-exact?Copycat%20(1995)        0       0   \n",
       "5  http://us.imdb.com/Title?Yao+a+yao+yao+dao+wai...        0       0   \n",
       "6  http://us.imdb.com/M/title-exact?Twelve%20Monk...        0       0   \n",
       "7     http://us.imdb.com/M/title-exact?Babe%20(1995)        0       0   \n",
       "8  http://us.imdb.com/M/title-exact?Dead%20Man%20...        0       0   \n",
       "9  http://us.imdb.com/M/title-exact?Richard%20III...        0       0   \n",
       "\n",
       "   Adventure  Animation  Children's  Comedy  ...  Fantasy  Film-Noir  Horror  \\\n",
       "0          0          1           1       1  ...        0          0       0   \n",
       "1          1          0           0       0  ...        0          0       0   \n",
       "2          0          0           0       0  ...        0          0       0   \n",
       "3          0          0           0       1  ...        0          0       0   \n",
       "4          0          0           0       0  ...        0          0       0   \n",
       "5          0          0           0       0  ...        0          0       0   \n",
       "6          0          0           0       0  ...        0          0       0   \n",
       "7          0          0           1       1  ...        0          0       0   \n",
       "8          0          0           0       0  ...        0          0       0   \n",
       "9          0          0           0       0  ...        0          0       0   \n",
       "\n",
       "   Musical  Mystery  Romance  Sci-Fi  Thriller  War  Western  \n",
       "0        0        0        0       0         0    0        0  \n",
       "1        0        0        0       0         1    0        0  \n",
       "2        0        0        0       0         1    0        0  \n",
       "3        0        0        0       0         0    0        0  \n",
       "4        0        0        0       0         1    0        0  \n",
       "5        0        0        0       0         0    0        0  \n",
       "6        0        0        0       1         0    0        0  \n",
       "7        0        0        0       0         0    0        0  \n",
       "8        0        0        0       0         0    0        0  \n",
       "9        0        0        0       0         0    1        0  \n",
       "\n",
       "[10 rows x 23 columns]"
      ]
     },
     "execution_count": 66,
     "metadata": {},
     "output_type": "execute_result"
    }
   ],
   "source": [
    "u_item.head(10)"
   ]
  },
  {
   "cell_type": "markdown",
   "id": "f0a37d36-cb2d-45d0-af69-4bf20d71ce04",
   "metadata": {},
   "source": [
    "## Building Collaborative Filtering-Based Recommender using Matrix Factorization Model"
   ]
  },
  {
   "cell_type": "markdown",
   "id": "f1b28062-f315-4a3b-b2dc-8fb181e1cf2f",
   "metadata": {},
   "source": [
    "#### Creating a user-item rating matrix"
   ]
  },
  {
   "cell_type": "code",
   "execution_count": 67,
   "id": "5ef8081d-41ab-44f2-81a0-6b2989012043",
   "metadata": {},
   "outputs": [
    {
     "name": "stdout",
     "output_type": "stream",
     "text": [
      "User-Item Matrix: \n",
      "[[5. 3. 4. ... 0. 0. 0.]\n",
      " [4. 0. 0. ... 0. 0. 0.]\n",
      " [0. 0. 0. ... 0. 0. 0.]\n",
      " ...\n",
      " [5. 0. 0. ... 0. 0. 0.]\n",
      " [0. 0. 0. ... 0. 0. 0.]\n",
      " [0. 5. 0. ... 0. 0. 0.]]\n"
     ]
    }
   ],
   "source": [
    "num_users = u_data.user_id.unique().shape[0]\n",
    "num_items = u_data.item_id.unique().shape[0]\n",
    "R = np.zeros((num_users, num_items))\n",
    "\n",
    "for row in u_data.itertuples():\n",
    "    R[row.user_id - 1, row.item_id - 1] = row.rating\n",
    "\n",
    "print(f\"User-Item Matrix: \\n{R}\")\n"
   ]
  },
  {
   "cell_type": "markdown",
   "id": "f17f3918-74a5-4576-b798-8f48d9d357f2",
   "metadata": {},
   "source": [
    "#### Display the user-item rating matrix with zeros for missing ratings"
   ]
  },
  {
   "cell_type": "code",
   "execution_count": 68,
   "id": "cf0cfa91-efe5-4fb5-8ee4-c0f7e74dbeb5",
   "metadata": {},
   "outputs": [
    {
     "name": "stdout",
     "output_type": "stream",
     "text": [
      "User-Item Matrix with Missing Ratings (0s indicate missing ratings):\n",
      "          Item 1  Item 2  Item 3  Item 4  Item 5  Item 6  Item 7  Item 8  \\\n",
      "User 1       5.0     3.0     4.0     3.0     3.0     5.0     4.0     1.0   \n",
      "User 2       4.0     0.0     0.0     0.0     0.0     0.0     0.0     0.0   \n",
      "User 3       0.0     0.0     0.0     0.0     0.0     0.0     0.0     0.0   \n",
      "User 4       0.0     0.0     0.0     0.0     0.0     0.0     0.0     0.0   \n",
      "User 5       4.0     3.0     0.0     0.0     0.0     0.0     0.0     0.0   \n",
      "...          ...     ...     ...     ...     ...     ...     ...     ...   \n",
      "User 939     0.0     0.0     0.0     0.0     0.0     0.0     0.0     0.0   \n",
      "User 940     0.0     0.0     0.0     2.0     0.0     0.0     4.0     5.0   \n",
      "User 941     5.0     0.0     0.0     0.0     0.0     0.0     4.0     0.0   \n",
      "User 942     0.0     0.0     0.0     0.0     0.0     0.0     0.0     0.0   \n",
      "User 943     0.0     5.0     0.0     0.0     0.0     0.0     0.0     0.0   \n",
      "\n",
      "          Item 9  Item 10  ...  Item 1673  Item 1674  Item 1675  Item 1676  \\\n",
      "User 1       5.0      3.0  ...        0.0        0.0        0.0        0.0   \n",
      "User 2       0.0      2.0  ...        0.0        0.0        0.0        0.0   \n",
      "User 3       0.0      0.0  ...        0.0        0.0        0.0        0.0   \n",
      "User 4       0.0      0.0  ...        0.0        0.0        0.0        0.0   \n",
      "User 5       0.0      0.0  ...        0.0        0.0        0.0        0.0   \n",
      "...          ...      ...  ...        ...        ...        ...        ...   \n",
      "User 939     5.0      0.0  ...        0.0        0.0        0.0        0.0   \n",
      "User 940     3.0      0.0  ...        0.0        0.0        0.0        0.0   \n",
      "User 941     0.0      0.0  ...        0.0        0.0        0.0        0.0   \n",
      "User 942     0.0      0.0  ...        0.0        0.0        0.0        0.0   \n",
      "User 943     3.0      0.0  ...        0.0        0.0        0.0        0.0   \n",
      "\n",
      "          Item 1677  Item 1678  Item 1679  Item 1680  Item 1681  Item 1682  \n",
      "User 1          0.0        0.0        0.0        0.0        0.0        0.0  \n",
      "User 2          0.0        0.0        0.0        0.0        0.0        0.0  \n",
      "User 3          0.0        0.0        0.0        0.0        0.0        0.0  \n",
      "User 4          0.0        0.0        0.0        0.0        0.0        0.0  \n",
      "User 5          0.0        0.0        0.0        0.0        0.0        0.0  \n",
      "...             ...        ...        ...        ...        ...        ...  \n",
      "User 939        0.0        0.0        0.0        0.0        0.0        0.0  \n",
      "User 940        0.0        0.0        0.0        0.0        0.0        0.0  \n",
      "User 941        0.0        0.0        0.0        0.0        0.0        0.0  \n",
      "User 942        0.0        0.0        0.0        0.0        0.0        0.0  \n",
      "User 943        0.0        0.0        0.0        0.0        0.0        0.0  \n",
      "\n",
      "[943 rows x 1682 columns]\n"
     ]
    }
   ],
   "source": [
    "print(\"User-Item Matrix with Missing Ratings (0s indicate missing ratings):\")\n",
    "R_df = pd.DataFrame(R, columns=[f'Item {i+1}' for i in range(num_items)], index=[f'User {i+1}' for i in range(num_users)])\n",
    "print(R_df)"
   ]
  },
  {
   "cell_type": "code",
   "execution_count": 69,
   "id": "ff43312c-3804-4f41-b095-59e87724c3f4",
   "metadata": {},
   "outputs": [
    {
     "name": "stdout",
     "output_type": "stream",
     "text": [
      "Iteration: 1 ; error = 1.0675\n",
      "Iteration: 2 ; error = 1.0341\n",
      "Iteration: 3 ; error = 1.0126\n",
      "Iteration: 4 ; error = 0.9978\n",
      "Iteration: 5 ; error = 0.9868\n",
      "Iteration: 6 ; error = 0.9784\n",
      "Iteration: 7 ; error = 0.9717\n",
      "Iteration: 8 ; error = 0.9662\n",
      "Iteration: 9 ; error = 0.9616\n",
      "Iteration: 10 ; error = 0.9577\n",
      "Iteration: 11 ; error = 0.9544\n",
      "Iteration: 12 ; error = 0.9514\n",
      "Iteration: 13 ; error = 0.9488\n",
      "Iteration: 14 ; error = 0.9464\n",
      "Iteration: 15 ; error = 0.9443\n",
      "Iteration: 16 ; error = 0.9424\n",
      "Iteration: 17 ; error = 0.9406\n",
      "Iteration: 18 ; error = 0.9390\n",
      "Iteration: 19 ; error = 0.9375\n",
      "Iteration: 20 ; error = 0.9362\n",
      "Iteration: 21 ; error = 0.9349\n",
      "Iteration: 22 ; error = 0.9337\n",
      "Iteration: 23 ; error = 0.9326\n",
      "Iteration: 24 ; error = 0.9315\n",
      "Iteration: 25 ; error = 0.9305\n",
      "Iteration: 26 ; error = 0.9296\n",
      "Iteration: 27 ; error = 0.9287\n",
      "Iteration: 28 ; error = 0.9278\n",
      "Iteration: 29 ; error = 0.9270\n",
      "Iteration: 30 ; error = 0.9262\n",
      "Iteration: 31 ; error = 0.9255\n",
      "Iteration: 32 ; error = 0.9248\n",
      "Iteration: 33 ; error = 0.9241\n",
      "Iteration: 34 ; error = 0.9234\n",
      "Iteration: 35 ; error = 0.9227\n",
      "Iteration: 36 ; error = 0.9221\n",
      "Iteration: 37 ; error = 0.9215\n",
      "Iteration: 38 ; error = 0.9209\n",
      "Iteration: 39 ; error = 0.9203\n",
      "Iteration: 40 ; error = 0.9197\n",
      "Iteration: 41 ; error = 0.9191\n",
      "Iteration: 42 ; error = 0.9185\n",
      "Iteration: 43 ; error = 0.9180\n",
      "Iteration: 44 ; error = 0.9174\n",
      "Iteration: 45 ; error = 0.9168\n",
      "Iteration: 46 ; error = 0.9162\n",
      "Iteration: 47 ; error = 0.9157\n",
      "Iteration: 48 ; error = 0.9151\n",
      "Iteration: 49 ; error = 0.9145\n",
      "Iteration: 50 ; error = 0.9139\n",
      "RMSE: 0.9139\n",
      "MAE: 0.7224\n",
      "Precision: 0.7497\n",
      "Recall: 0.7499\n",
      "F1-Score: 0.7498\n"
     ]
    }
   ],
   "source": [
    "from sklearn.metrics import precision_score, recall_score, f1_score\n",
    "from math import sqrt\n",
    "\n",
    "class MatrixFactorization:\n",
    "    def __init__(self, R, K, alpha, beta, iterations):\n",
    "        # Initialize the MatrixFactorization model\n",
    "        self.R = R  # User-item rating matrix\n",
    "        self.num_users, self.num_items = R.shape  # Number of users and items\n",
    "        self.K = K  # Number of latent factors\n",
    "        self.alpha = alpha  # Learning rate\n",
    "        self.beta = beta  # Regularization parameter\n",
    "        self.iterations = iterations  # Number of iterations\n",
    "\n",
    "    def train(self):\n",
    "        # Initialize user and item latent feature matrices with random values\n",
    "        self.P = np.random.normal(scale=1./self.K, size=(self.num_users, self.K))\n",
    "        self.Q = np.random.normal(scale=1./self.K, size=(self.num_items, self.K))\n",
    "\n",
    "        # Initialize biases\n",
    "        self.b_u = np.zeros(self.num_users)  # User biases\n",
    "        self.b_i = np.zeros(self.num_items)  # Item biases\n",
    "        self.b = np.mean(self.R[np.where(self.R != 0)])  # Global bias\n",
    "\n",
    "        # Create a list of known ratings\n",
    "        self.samples = [\n",
    "            (i, j, self.R[i, j])\n",
    "            for i in range(self.num_users)\n",
    "            for j in range(self.num_items)\n",
    "            if self.R[i, j] > 0\n",
    "        ]\n",
    "\n",
    "        # Training process\n",
    "        training_process = []\n",
    "        for i in range(self.iterations):\n",
    "            np.random.shuffle(self.samples)\n",
    "            self.sgd()  # Perform stochastic gradient descent\n",
    "            rmse = self.rmse()  # Compute RMSE\n",
    "            training_process.append((i, rmse))\n",
    "            print(\"Iteration: %d ; error = %.4f\" % (i+1, rmse))\n",
    "\n",
    "        return training_process\n",
    "\n",
    "    def sgd(self):\n",
    "        # Perform stochastic gradient descent\n",
    "        for i, j, r in self.samples:\n",
    "            prediction = self.get_rating(i, j)  # Predicted rating\n",
    "            e = (r - prediction)  # Prediction error\n",
    "\n",
    "            # Update biases\n",
    "            self.b_u[i] += self.alpha * (e - self.beta * self.b_u[i])\n",
    "            self.b_i[j] += self.alpha * (e - self.beta * self.b_i[j])\n",
    "\n",
    "            # Update latent feature matrices\n",
    "            self.P[i, :] += self.alpha * (e * self.Q[j, :] - self.beta * self.P[i,:])\n",
    "            self.Q[j, :] += self.alpha * (e * self.P[i, :] - self.beta * self.Q[j,:])\n",
    "\n",
    "    def get_rating(self, i, j):\n",
    "        # Compute predicted rating\n",
    "        prediction = self.b + self.b_u[i] + self.b_i[j] + self.P[i, :].dot(self.Q[j, :].T)\n",
    "        return prediction\n",
    "\n",
    "    def rmse(self):\n",
    "        # Compute RMSE\n",
    "        xs, ys = self.R.nonzero()  # Indices of known ratings\n",
    "        predicted = self.full_matrix()  # Predicted ratings matrix\n",
    "        error = 0\n",
    "        for x, y in zip(xs, ys):\n",
    "            error += pow(self.R[x, y] - predicted[x, y], 2)\n",
    "        return sqrt(error/len(xs))\n",
    "\n",
    "    def mae(self):\n",
    "        # Compute MAE\n",
    "        xs, ys = self.R.nonzero()  # Indices of known ratings\n",
    "        predicted = self.full_matrix()  # Predicted ratings matrix\n",
    "        error = 0\n",
    "        for x, y in zip(xs, ys):\n",
    "            error += abs(self.R[x, y] - predicted[x, y])\n",
    "        return error/len(xs)\n",
    "\n",
    "    def precision_recall_f1(self, threshold=3.5):\n",
    "        # Compute Precision, Recall, and F1-Score\n",
    "        xs, ys = self.R.nonzero()  # Indices of known ratings\n",
    "        predicted = self.full_matrix()  # Predicted ratings matrix\n",
    "\n",
    "        y_true = []\n",
    "        y_pred = []\n",
    "\n",
    "        for x, y in zip(xs, ys):\n",
    "            y_true.append(self.R[x, y] >= threshold)\n",
    "            y_pred.append(predicted[x, y] >= threshold)\n",
    "\n",
    "        precision = precision_score(y_true, y_pred)\n",
    "        recall = recall_score(y_true, y_pred)\n",
    "        f1 = f1_score(y_true, y_pred)\n",
    "\n",
    "        return precision, recall, f1\n",
    "\n",
    "    def full_matrix(self):\n",
    "        # Compute full predicted ratings matrix\n",
    "        return self.b + self.b_u[:, np.newaxis] + self.b_i[np.newaxis:, ] + self.P.dot(self.Q.T)\n",
    "\n",
    "\n",
    "# R is already defined as the user-item rating matrix\n",
    "mf = MatrixFactorization(R, K=20, alpha=0.001, beta=0.001, iterations=50) \n",
    "training_process = mf.train()\n",
    "\n",
    "# Evaluate the model\n",
    "rmse = mf.rmse()\n",
    "mae = mf.mae()\n",
    "precision, recall, f1 = mf.precision_recall_f1()\n",
    "\n",
    "print(f\"RMSE: {rmse:.4f}\")\n",
    "print(f\"MAE: {mae:.4f}\")\n",
    "print(f\"Precision: {precision:.4f}\")\n",
    "print(f\"Recall: {recall:.4f}\")\n",
    "print(f\"F1-Score: {f1:.4f}\")\n"
   ]
  },
  {
   "cell_type": "code",
   "execution_count": 70,
   "id": "4a922367-f1d3-4000-a92d-28cb3ce66ddb",
   "metadata": {},
   "outputs": [
    {
     "data": {
      "application/vnd.plotly.v1+json": {
       "config": {
        "plotlyServerURL": "https://plot.ly"
       },
       "data": [
        {
         "line": {
          "color": "blue"
         },
         "marker": {
          "symbol": "circle"
         },
         "mode": "lines+markers",
         "name": "RMSE",
         "type": "scatter",
         "x": [
          0,
          1,
          2,
          3,
          4,
          5,
          6,
          7,
          8,
          9,
          10,
          11,
          12,
          13,
          14,
          15,
          16,
          17,
          18,
          19,
          20,
          21,
          22,
          23,
          24,
          25,
          26,
          27,
          28,
          29,
          30,
          31,
          32,
          33,
          34,
          35,
          36,
          37,
          38,
          39,
          40,
          41,
          42,
          43,
          44,
          45,
          46,
          47,
          48,
          49
         ],
         "y": [
          1.0675026241787753,
          1.0340872433044923,
          1.0126472210019737,
          0.9977655428142962,
          0.9868124442413192,
          0.9783931853905254,
          0.9717039937776063,
          0.9662311831487792,
          0.9616488651274857,
          0.9577419137144789,
          0.9543629856790067,
          0.9514009561224998,
          0.9487747885639705,
          0.9464258806937987,
          0.944309423889124,
          0.9423889773106822,
          0.9406349412211299,
          0.9390254070197246,
          0.9375388402838081,
          0.9361616306684661,
          0.9348804468334077,
          0.9336825826686778,
          0.9325603900616658,
          0.9315049716997931,
          0.9305100508882219,
          0.9295680890545204,
          0.9286741535901042,
          0.9278234253925162,
          0.9270103165453193,
          0.9262320814785524,
          0.9254851815675956,
          0.9247659922271254,
          0.9240710151297894,
          0.9233982163894937,
          0.9227452382041893,
          0.9221093932403146,
          0.9214883863038399,
          0.9208798098902604,
          0.9202817274033827,
          0.9196928761856924,
          0.919111038654114,
          0.9185350191213751,
          0.9179632293501148,
          0.9173911932289249,
          0.9168210575560233,
          0.9162493806055568,
          0.9156754599836588,
          0.9150968602099951,
          0.9145129770725414,
          0.9139213626073789
         ]
        }
       ],
       "layout": {
        "autosize": true,
        "showlegend": true,
        "template": {
         "data": {
          "bar": [
           {
            "error_x": {
             "color": "#2a3f5f"
            },
            "error_y": {
             "color": "#2a3f5f"
            },
            "marker": {
             "line": {
              "color": "white",
              "width": 0.5
             },
             "pattern": {
              "fillmode": "overlay",
              "size": 10,
              "solidity": 0.2
             }
            },
            "type": "bar"
           }
          ],
          "barpolar": [
           {
            "marker": {
             "line": {
              "color": "white",
              "width": 0.5
             },
             "pattern": {
              "fillmode": "overlay",
              "size": 10,
              "solidity": 0.2
             }
            },
            "type": "barpolar"
           }
          ],
          "carpet": [
           {
            "aaxis": {
             "endlinecolor": "#2a3f5f",
             "gridcolor": "#C8D4E3",
             "linecolor": "#C8D4E3",
             "minorgridcolor": "#C8D4E3",
             "startlinecolor": "#2a3f5f"
            },
            "baxis": {
             "endlinecolor": "#2a3f5f",
             "gridcolor": "#C8D4E3",
             "linecolor": "#C8D4E3",
             "minorgridcolor": "#C8D4E3",
             "startlinecolor": "#2a3f5f"
            },
            "type": "carpet"
           }
          ],
          "choropleth": [
           {
            "colorbar": {
             "outlinewidth": 0,
             "ticks": ""
            },
            "type": "choropleth"
           }
          ],
          "contour": [
           {
            "colorbar": {
             "outlinewidth": 0,
             "ticks": ""
            },
            "colorscale": [
             [
              0,
              "#0d0887"
             ],
             [
              0.1111111111111111,
              "#46039f"
             ],
             [
              0.2222222222222222,
              "#7201a8"
             ],
             [
              0.3333333333333333,
              "#9c179e"
             ],
             [
              0.4444444444444444,
              "#bd3786"
             ],
             [
              0.5555555555555556,
              "#d8576b"
             ],
             [
              0.6666666666666666,
              "#ed7953"
             ],
             [
              0.7777777777777778,
              "#fb9f3a"
             ],
             [
              0.8888888888888888,
              "#fdca26"
             ],
             [
              1,
              "#f0f921"
             ]
            ],
            "type": "contour"
           }
          ],
          "contourcarpet": [
           {
            "colorbar": {
             "outlinewidth": 0,
             "ticks": ""
            },
            "type": "contourcarpet"
           }
          ],
          "heatmap": [
           {
            "colorbar": {
             "outlinewidth": 0,
             "ticks": ""
            },
            "colorscale": [
             [
              0,
              "#0d0887"
             ],
             [
              0.1111111111111111,
              "#46039f"
             ],
             [
              0.2222222222222222,
              "#7201a8"
             ],
             [
              0.3333333333333333,
              "#9c179e"
             ],
             [
              0.4444444444444444,
              "#bd3786"
             ],
             [
              0.5555555555555556,
              "#d8576b"
             ],
             [
              0.6666666666666666,
              "#ed7953"
             ],
             [
              0.7777777777777778,
              "#fb9f3a"
             ],
             [
              0.8888888888888888,
              "#fdca26"
             ],
             [
              1,
              "#f0f921"
             ]
            ],
            "type": "heatmap"
           }
          ],
          "heatmapgl": [
           {
            "colorbar": {
             "outlinewidth": 0,
             "ticks": ""
            },
            "colorscale": [
             [
              0,
              "#0d0887"
             ],
             [
              0.1111111111111111,
              "#46039f"
             ],
             [
              0.2222222222222222,
              "#7201a8"
             ],
             [
              0.3333333333333333,
              "#9c179e"
             ],
             [
              0.4444444444444444,
              "#bd3786"
             ],
             [
              0.5555555555555556,
              "#d8576b"
             ],
             [
              0.6666666666666666,
              "#ed7953"
             ],
             [
              0.7777777777777778,
              "#fb9f3a"
             ],
             [
              0.8888888888888888,
              "#fdca26"
             ],
             [
              1,
              "#f0f921"
             ]
            ],
            "type": "heatmapgl"
           }
          ],
          "histogram": [
           {
            "marker": {
             "pattern": {
              "fillmode": "overlay",
              "size": 10,
              "solidity": 0.2
             }
            },
            "type": "histogram"
           }
          ],
          "histogram2d": [
           {
            "colorbar": {
             "outlinewidth": 0,
             "ticks": ""
            },
            "colorscale": [
             [
              0,
              "#0d0887"
             ],
             [
              0.1111111111111111,
              "#46039f"
             ],
             [
              0.2222222222222222,
              "#7201a8"
             ],
             [
              0.3333333333333333,
              "#9c179e"
             ],
             [
              0.4444444444444444,
              "#bd3786"
             ],
             [
              0.5555555555555556,
              "#d8576b"
             ],
             [
              0.6666666666666666,
              "#ed7953"
             ],
             [
              0.7777777777777778,
              "#fb9f3a"
             ],
             [
              0.8888888888888888,
              "#fdca26"
             ],
             [
              1,
              "#f0f921"
             ]
            ],
            "type": "histogram2d"
           }
          ],
          "histogram2dcontour": [
           {
            "colorbar": {
             "outlinewidth": 0,
             "ticks": ""
            },
            "colorscale": [
             [
              0,
              "#0d0887"
             ],
             [
              0.1111111111111111,
              "#46039f"
             ],
             [
              0.2222222222222222,
              "#7201a8"
             ],
             [
              0.3333333333333333,
              "#9c179e"
             ],
             [
              0.4444444444444444,
              "#bd3786"
             ],
             [
              0.5555555555555556,
              "#d8576b"
             ],
             [
              0.6666666666666666,
              "#ed7953"
             ],
             [
              0.7777777777777778,
              "#fb9f3a"
             ],
             [
              0.8888888888888888,
              "#fdca26"
             ],
             [
              1,
              "#f0f921"
             ]
            ],
            "type": "histogram2dcontour"
           }
          ],
          "mesh3d": [
           {
            "colorbar": {
             "outlinewidth": 0,
             "ticks": ""
            },
            "type": "mesh3d"
           }
          ],
          "parcoords": [
           {
            "line": {
             "colorbar": {
              "outlinewidth": 0,
              "ticks": ""
             }
            },
            "type": "parcoords"
           }
          ],
          "pie": [
           {
            "automargin": true,
            "type": "pie"
           }
          ],
          "scatter": [
           {
            "fillpattern": {
             "fillmode": "overlay",
             "size": 10,
             "solidity": 0.2
            },
            "type": "scatter"
           }
          ],
          "scatter3d": [
           {
            "line": {
             "colorbar": {
              "outlinewidth": 0,
              "ticks": ""
             }
            },
            "marker": {
             "colorbar": {
              "outlinewidth": 0,
              "ticks": ""
             }
            },
            "type": "scatter3d"
           }
          ],
          "scattercarpet": [
           {
            "marker": {
             "colorbar": {
              "outlinewidth": 0,
              "ticks": ""
             }
            },
            "type": "scattercarpet"
           }
          ],
          "scattergeo": [
           {
            "marker": {
             "colorbar": {
              "outlinewidth": 0,
              "ticks": ""
             }
            },
            "type": "scattergeo"
           }
          ],
          "scattergl": [
           {
            "marker": {
             "colorbar": {
              "outlinewidth": 0,
              "ticks": ""
             }
            },
            "type": "scattergl"
           }
          ],
          "scattermapbox": [
           {
            "marker": {
             "colorbar": {
              "outlinewidth": 0,
              "ticks": ""
             }
            },
            "type": "scattermapbox"
           }
          ],
          "scatterpolar": [
           {
            "marker": {
             "colorbar": {
              "outlinewidth": 0,
              "ticks": ""
             }
            },
            "type": "scatterpolar"
           }
          ],
          "scatterpolargl": [
           {
            "marker": {
             "colorbar": {
              "outlinewidth": 0,
              "ticks": ""
             }
            },
            "type": "scatterpolargl"
           }
          ],
          "scatterternary": [
           {
            "marker": {
             "colorbar": {
              "outlinewidth": 0,
              "ticks": ""
             }
            },
            "type": "scatterternary"
           }
          ],
          "surface": [
           {
            "colorbar": {
             "outlinewidth": 0,
             "ticks": ""
            },
            "colorscale": [
             [
              0,
              "#0d0887"
             ],
             [
              0.1111111111111111,
              "#46039f"
             ],
             [
              0.2222222222222222,
              "#7201a8"
             ],
             [
              0.3333333333333333,
              "#9c179e"
             ],
             [
              0.4444444444444444,
              "#bd3786"
             ],
             [
              0.5555555555555556,
              "#d8576b"
             ],
             [
              0.6666666666666666,
              "#ed7953"
             ],
             [
              0.7777777777777778,
              "#fb9f3a"
             ],
             [
              0.8888888888888888,
              "#fdca26"
             ],
             [
              1,
              "#f0f921"
             ]
            ],
            "type": "surface"
           }
          ],
          "table": [
           {
            "cells": {
             "fill": {
              "color": "#EBF0F8"
             },
             "line": {
              "color": "white"
             }
            },
            "header": {
             "fill": {
              "color": "#C8D4E3"
             },
             "line": {
              "color": "white"
             }
            },
            "type": "table"
           }
          ]
         },
         "layout": {
          "annotationdefaults": {
           "arrowcolor": "#2a3f5f",
           "arrowhead": 0,
           "arrowwidth": 1
          },
          "autotypenumbers": "strict",
          "coloraxis": {
           "colorbar": {
            "outlinewidth": 0,
            "ticks": ""
           }
          },
          "colorscale": {
           "diverging": [
            [
             0,
             "#8e0152"
            ],
            [
             0.1,
             "#c51b7d"
            ],
            [
             0.2,
             "#de77ae"
            ],
            [
             0.3,
             "#f1b6da"
            ],
            [
             0.4,
             "#fde0ef"
            ],
            [
             0.5,
             "#f7f7f7"
            ],
            [
             0.6,
             "#e6f5d0"
            ],
            [
             0.7,
             "#b8e186"
            ],
            [
             0.8,
             "#7fbc41"
            ],
            [
             0.9,
             "#4d9221"
            ],
            [
             1,
             "#276419"
            ]
           ],
           "sequential": [
            [
             0,
             "#0d0887"
            ],
            [
             0.1111111111111111,
             "#46039f"
            ],
            [
             0.2222222222222222,
             "#7201a8"
            ],
            [
             0.3333333333333333,
             "#9c179e"
            ],
            [
             0.4444444444444444,
             "#bd3786"
            ],
            [
             0.5555555555555556,
             "#d8576b"
            ],
            [
             0.6666666666666666,
             "#ed7953"
            ],
            [
             0.7777777777777778,
             "#fb9f3a"
            ],
            [
             0.8888888888888888,
             "#fdca26"
            ],
            [
             1,
             "#f0f921"
            ]
           ],
           "sequentialminus": [
            [
             0,
             "#0d0887"
            ],
            [
             0.1111111111111111,
             "#46039f"
            ],
            [
             0.2222222222222222,
             "#7201a8"
            ],
            [
             0.3333333333333333,
             "#9c179e"
            ],
            [
             0.4444444444444444,
             "#bd3786"
            ],
            [
             0.5555555555555556,
             "#d8576b"
            ],
            [
             0.6666666666666666,
             "#ed7953"
            ],
            [
             0.7777777777777778,
             "#fb9f3a"
            ],
            [
             0.8888888888888888,
             "#fdca26"
            ],
            [
             1,
             "#f0f921"
            ]
           ]
          },
          "colorway": [
           "#636efa",
           "#EF553B",
           "#00cc96",
           "#ab63fa",
           "#FFA15A",
           "#19d3f3",
           "#FF6692",
           "#B6E880",
           "#FF97FF",
           "#FECB52"
          ],
          "font": {
           "color": "#2a3f5f"
          },
          "geo": {
           "bgcolor": "white",
           "lakecolor": "white",
           "landcolor": "white",
           "showlakes": true,
           "showland": true,
           "subunitcolor": "#C8D4E3"
          },
          "hoverlabel": {
           "align": "left"
          },
          "hovermode": "closest",
          "mapbox": {
           "style": "light"
          },
          "paper_bgcolor": "white",
          "plot_bgcolor": "white",
          "polar": {
           "angularaxis": {
            "gridcolor": "#EBF0F8",
            "linecolor": "#EBF0F8",
            "ticks": ""
           },
           "bgcolor": "white",
           "radialaxis": {
            "gridcolor": "#EBF0F8",
            "linecolor": "#EBF0F8",
            "ticks": ""
           }
          },
          "scene": {
           "xaxis": {
            "backgroundcolor": "white",
            "gridcolor": "#DFE8F3",
            "gridwidth": 2,
            "linecolor": "#EBF0F8",
            "showbackground": true,
            "ticks": "",
            "zerolinecolor": "#EBF0F8"
           },
           "yaxis": {
            "backgroundcolor": "white",
            "gridcolor": "#DFE8F3",
            "gridwidth": 2,
            "linecolor": "#EBF0F8",
            "showbackground": true,
            "ticks": "",
            "zerolinecolor": "#EBF0F8"
           },
           "zaxis": {
            "backgroundcolor": "white",
            "gridcolor": "#DFE8F3",
            "gridwidth": 2,
            "linecolor": "#EBF0F8",
            "showbackground": true,
            "ticks": "",
            "zerolinecolor": "#EBF0F8"
           }
          },
          "shapedefaults": {
           "line": {
            "color": "#2a3f5f"
           }
          },
          "ternary": {
           "aaxis": {
            "gridcolor": "#DFE8F3",
            "linecolor": "#A2B1C6",
            "ticks": ""
           },
           "baxis": {
            "gridcolor": "#DFE8F3",
            "linecolor": "#A2B1C6",
            "ticks": ""
           },
           "bgcolor": "white",
           "caxis": {
            "gridcolor": "#DFE8F3",
            "linecolor": "#A2B1C6",
            "ticks": ""
           }
          },
          "title": {
           "x": 0.05
          },
          "xaxis": {
           "automargin": true,
           "gridcolor": "#EBF0F8",
           "linecolor": "#EBF0F8",
           "ticks": "",
           "title": {
            "standoff": 15
           },
           "zerolinecolor": "#EBF0F8",
           "zerolinewidth": 2
          },
          "yaxis": {
           "automargin": true,
           "gridcolor": "#EBF0F8",
           "linecolor": "#EBF0F8",
           "ticks": "",
           "title": {
            "standoff": 15
           },
           "zerolinecolor": "#EBF0F8",
           "zerolinewidth": 2
          }
         }
        },
        "title": {
         "text": "RMSE over Iterations"
        },
        "xaxis": {
         "autorange": true,
         "range": [
          -2.971875764245537,
          51.97187576424554
         ],
         "title": {
          "text": "Iteration"
         },
         "type": "linear"
        },
        "yaxis": {
         "autorange": true,
         "range": [
          0.9012471808272151,
          1.0801768059589392
         ],
         "title": {
          "text": "RMSE"
         },
         "type": "linear"
        }
       }
      },
      "image/png": "[encoded data removed]",
      "text/html": [
       "<div>                            <div id=\"8d391652-b74b-4c26-9ff6-9295299e104a\" class=\"plotly-graph-div\" style=\"height:525px; width:100%;\"></div>            <script type=\"text/javascript\">                require([\"plotly\"], function(Plotly) {                    window.PLOTLYENV=window.PLOTLYENV || {};                                    if (document.getElementById(\"8d391652-b74b-4c26-9ff6-9295299e104a\")) {                    Plotly.newPlot(                        \"8d391652-b74b-4c26-9ff6-9295299e104a\",                        [{\"line\":{\"color\":\"blue\"},\"marker\":{\"symbol\":\"circle\"},\"mode\":\"lines+markers\",\"name\":\"RMSE\",\"x\":[0,1,2,3,4,5,6,7,8,9,10,11,12,13,14,15,16,17,18,19,20,21,22,23,24,25,26,27,28,29,30,31,32,33,34,35,36,37,38,39,40,41,42,43,44,45,46,47,48,49],\"y\":[1.0675026241787753,1.0340872433044923,1.0126472210019737,0.9977655428142962,0.9868124442413192,0.9783931853905254,0.9717039937776063,0.9662311831487792,0.9616488651274857,0.9577419137144789,0.9543629856790067,0.9514009561224998,0.9487747885639705,0.9464258806937987,0.944309423889124,0.9423889773106822,0.9406349412211299,0.9390254070197246,0.9375388402838081,0.9361616306684661,0.9348804468334077,0.9336825826686778,0.9325603900616658,0.9315049716997931,0.9305100508882219,0.9295680890545204,0.9286741535901042,0.9278234253925162,0.9270103165453193,0.9262320814785524,0.9254851815675956,0.9247659922271254,0.9240710151297894,0.9233982163894937,0.9227452382041893,0.9221093932403146,0.9214883863038399,0.9208798098902604,0.9202817274033827,0.9196928761856924,0.919111038654114,0.9185350191213751,0.9179632293501148,0.9173911932289249,0.9168210575560233,0.9162493806055568,0.9156754599836588,0.9150968602099951,0.9145129770725414,0.9139213626073789],\"type\":\"scatter\"}],                        {\"template\":{\"data\":{\"barpolar\":[{\"marker\":{\"line\":{\"color\":\"white\",\"width\":0.5},\"pattern\":{\"fillmode\":\"overlay\",\"size\":10,\"solidity\":0.2}},\"type\":\"barpolar\"}],\"bar\":[{\"error_x\":{\"color\":\"#2a3f5f\"},\"error_y\":{\"color\":\"#2a3f5f\"},\"marker\":{\"line\":{\"color\":\"white\",\"width\":0.5},\"pattern\":{\"fillmode\":\"overlay\",\"size\":10,\"solidity\":0.2}},\"type\":\"bar\"}],\"carpet\":[{\"aaxis\":{\"endlinecolor\":\"#2a3f5f\",\"gridcolor\":\"#C8D4E3\",\"linecolor\":\"#C8D4E3\",\"minorgridcolor\":\"#C8D4E3\",\"startlinecolor\":\"#2a3f5f\"},\"baxis\":{\"endlinecolor\":\"#2a3f5f\",\"gridcolor\":\"#C8D4E3\",\"linecolor\":\"#C8D4E3\",\"minorgridcolor\":\"#C8D4E3\",\"startlinecolor\":\"#2a3f5f\"},\"type\":\"carpet\"}],\"choropleth\":[{\"colorbar\":{\"outlinewidth\":0,\"ticks\":\"\"},\"type\":\"choropleth\"}],\"contourcarpet\":[{\"colorbar\":{\"outlinewidth\":0,\"ticks\":\"\"},\"type\":\"contourcarpet\"}],\"contour\":[{\"colorbar\":{\"outlinewidth\":0,\"ticks\":\"\"},\"colorscale\":[[0.0,\"#0d0887\"],[0.1111111111111111,\"#46039f\"],[0.2222222222222222,\"#7201a8\"],[0.3333333333333333,\"#9c179e\"],[0.4444444444444444,\"#bd3786\"],[0.5555555555555556,\"#d8576b\"],[0.6666666666666666,\"#ed7953\"],[0.7777777777777778,\"#fb9f3a\"],[0.8888888888888888,\"#fdca26\"],[1.0,\"#f0f921\"]],\"type\":\"contour\"}],\"heatmapgl\":[{\"colorbar\":{\"outlinewidth\":0,\"ticks\":\"\"},\"colorscale\":[[0.0,\"#0d0887\"],[0.1111111111111111,\"#46039f\"],[0.2222222222222222,\"#7201a8\"],[0.3333333333333333,\"#9c179e\"],[0.4444444444444444,\"#bd3786\"],[0.5555555555555556,\"#d8576b\"],[0.6666666666666666,\"#ed7953\"],[0.7777777777777778,\"#fb9f3a\"],[0.8888888888888888,\"#fdca26\"],[1.0,\"#f0f921\"]],\"type\":\"heatmapgl\"}],\"heatmap\":[{\"colorbar\":{\"outlinewidth\":0,\"ticks\":\"\"},\"colorscale\":[[0.0,\"#0d0887\"],[0.1111111111111111,\"#46039f\"],[0.2222222222222222,\"#7201a8\"],[0.3333333333333333,\"#9c179e\"],[0.4444444444444444,\"#bd3786\"],[0.5555555555555556,\"#d8576b\"],[0.6666666666666666,\"#ed7953\"],[0.7777777777777778,\"#fb9f3a\"],[0.8888888888888888,\"#fdca26\"],[1.0,\"#f0f921\"]],\"type\":\"heatmap\"}],\"histogram2dcontour\":[{\"colorbar\":{\"outlinewidth\":0,\"ticks\":\"\"},\"colorscale\":[[0.0,\"#0d0887\"],[0.1111111111111111,\"#46039f\"],[0.2222222222222222,\"#7201a8\"],[0.3333333333333333,\"#9c179e\"],[0.4444444444444444,\"#bd3786\"],[0.5555555555555556,\"#d8576b\"],[0.6666666666666666,\"#ed7953\"],[0.7777777777777778,\"#fb9f3a\"],[0.8888888888888888,\"#fdca26\"],[1.0,\"#f0f921\"]],\"type\":\"histogram2dcontour\"}],\"histogram2d\":[{\"colorbar\":{\"outlinewidth\":0,\"ticks\":\"\"},\"colorscale\":[[0.0,\"#0d0887\"],[0.1111111111111111,\"#46039f\"],[0.2222222222222222,\"#7201a8\"],[0.3333333333333333,\"#9c179e\"],[0.4444444444444444,\"#bd3786\"],[0.5555555555555556,\"#d8576b\"],[0.6666666666666666,\"#ed7953\"],[0.7777777777777778,\"#fb9f3a\"],[0.8888888888888888,\"#fdca26\"],[1.0,\"#f0f921\"]],\"type\":\"histogram2d\"}],\"histogram\":[{\"marker\":{\"pattern\":{\"fillmode\":\"overlay\",\"size\":10,\"solidity\":0.2}},\"type\":\"histogram\"}],\"mesh3d\":[{\"colorbar\":{\"outlinewidth\":0,\"ticks\":\"\"},\"type\":\"mesh3d\"}],\"parcoords\":[{\"line\":{\"colorbar\":{\"outlinewidth\":0,\"ticks\":\"\"}},\"type\":\"parcoords\"}],\"pie\":[{\"automargin\":true,\"type\":\"pie\"}],\"scatter3d\":[{\"line\":{\"colorbar\":{\"outlinewidth\":0,\"ticks\":\"\"}},\"marker\":{\"colorbar\":{\"outlinewidth\":0,\"ticks\":\"\"}},\"type\":\"scatter3d\"}],\"scattercarpet\":[{\"marker\":{\"colorbar\":{\"outlinewidth\":0,\"ticks\":\"\"}},\"type\":\"scattercarpet\"}],\"scattergeo\":[{\"marker\":{\"colorbar\":{\"outlinewidth\":0,\"ticks\":\"\"}},\"type\":\"scattergeo\"}],\"scattergl\":[{\"marker\":{\"colorbar\":{\"outlinewidth\":0,\"ticks\":\"\"}},\"type\":\"scattergl\"}],\"scattermapbox\":[{\"marker\":{\"colorbar\":{\"outlinewidth\":0,\"ticks\":\"\"}},\"type\":\"scattermapbox\"}],\"scatterpolargl\":[{\"marker\":{\"colorbar\":{\"outlinewidth\":0,\"ticks\":\"\"}},\"type\":\"scatterpolargl\"}],\"scatterpolar\":[{\"marker\":{\"colorbar\":{\"outlinewidth\":0,\"ticks\":\"\"}},\"type\":\"scatterpolar\"}],\"scatter\":[{\"fillpattern\":{\"fillmode\":\"overlay\",\"size\":10,\"solidity\":0.2},\"type\":\"scatter\"}],\"scatterternary\":[{\"marker\":{\"colorbar\":{\"outlinewidth\":0,\"ticks\":\"\"}},\"type\":\"scatterternary\"}],\"surface\":[{\"colorbar\":{\"outlinewidth\":0,\"ticks\":\"\"},\"colorscale\":[[0.0,\"#0d0887\"],[0.1111111111111111,\"#46039f\"],[0.2222222222222222,\"#7201a8\"],[0.3333333333333333,\"#9c179e\"],[0.4444444444444444,\"#bd3786\"],[0.5555555555555556,\"#d8576b\"],[0.6666666666666666,\"#ed7953\"],[0.7777777777777778,\"#fb9f3a\"],[0.8888888888888888,\"#fdca26\"],[1.0,\"#f0f921\"]],\"type\":\"surface\"}],\"table\":[{\"cells\":{\"fill\":{\"color\":\"#EBF0F8\"},\"line\":{\"color\":\"white\"}},\"header\":{\"fill\":{\"color\":\"#C8D4E3\"},\"line\":{\"color\":\"white\"}},\"type\":\"table\"}]},\"layout\":{\"annotationdefaults\":{\"arrowcolor\":\"#2a3f5f\",\"arrowhead\":0,\"arrowwidth\":1},\"autotypenumbers\":\"strict\",\"coloraxis\":{\"colorbar\":{\"outlinewidth\":0,\"ticks\":\"\"}},\"colorscale\":{\"diverging\":[[0,\"#8e0152\"],[0.1,\"#c51b7d\"],[0.2,\"#de77ae\"],[0.3,\"#f1b6da\"],[0.4,\"#fde0ef\"],[0.5,\"#f7f7f7\"],[0.6,\"#e6f5d0\"],[0.7,\"#b8e186\"],[0.8,\"#7fbc41\"],[0.9,\"#4d9221\"],[1,\"#276419\"]],\"sequential\":[[0.0,\"#0d0887\"],[0.1111111111111111,\"#46039f\"],[0.2222222222222222,\"#7201a8\"],[0.3333333333333333,\"#9c179e\"],[0.4444444444444444,\"#bd3786\"],[0.5555555555555556,\"#d8576b\"],[0.6666666666666666,\"#ed7953\"],[0.7777777777777778,\"#fb9f3a\"],[0.8888888888888888,\"#fdca26\"],[1.0,\"#f0f921\"]],\"sequentialminus\":[[0.0,\"#0d0887\"],[0.1111111111111111,\"#46039f\"],[0.2222222222222222,\"#7201a8\"],[0.3333333333333333,\"#9c179e\"],[0.4444444444444444,\"#bd3786\"],[0.5555555555555556,\"#d8576b\"],[0.6666666666666666,\"#ed7953\"],[0.7777777777777778,\"#fb9f3a\"],[0.8888888888888888,\"#fdca26\"],[1.0,\"#f0f921\"]]},\"colorway\":[\"#636efa\",\"#EF553B\",\"#00cc96\",\"#ab63fa\",\"#FFA15A\",\"#19d3f3\",\"#FF6692\",\"#B6E880\",\"#FF97FF\",\"#FECB52\"],\"font\":{\"color\":\"#2a3f5f\"},\"geo\":{\"bgcolor\":\"white\",\"lakecolor\":\"white\",\"landcolor\":\"white\",\"showlakes\":true,\"showland\":true,\"subunitcolor\":\"#C8D4E3\"},\"hoverlabel\":{\"align\":\"left\"},\"hovermode\":\"closest\",\"mapbox\":{\"style\":\"light\"},\"paper_bgcolor\":\"white\",\"plot_bgcolor\":\"white\",\"polar\":{\"angularaxis\":{\"gridcolor\":\"#EBF0F8\",\"linecolor\":\"#EBF0F8\",\"ticks\":\"\"},\"bgcolor\":\"white\",\"radialaxis\":{\"gridcolor\":\"#EBF0F8\",\"linecolor\":\"#EBF0F8\",\"ticks\":\"\"}},\"scene\":{\"xaxis\":{\"backgroundcolor\":\"white\",\"gridcolor\":\"#DFE8F3\",\"gridwidth\":2,\"linecolor\":\"#EBF0F8\",\"showbackground\":true,\"ticks\":\"\",\"zerolinecolor\":\"#EBF0F8\"},\"yaxis\":{\"backgroundcolor\":\"white\",\"gridcolor\":\"#DFE8F3\",\"gridwidth\":2,\"linecolor\":\"#EBF0F8\",\"showbackground\":true,\"ticks\":\"\",\"zerolinecolor\":\"#EBF0F8\"},\"zaxis\":{\"backgroundcolor\":\"white\",\"gridcolor\":\"#DFE8F3\",\"gridwidth\":2,\"linecolor\":\"#EBF0F8\",\"showbackground\":true,\"ticks\":\"\",\"zerolinecolor\":\"#EBF0F8\"}},\"shapedefaults\":{\"line\":{\"color\":\"#2a3f5f\"}},\"ternary\":{\"aaxis\":{\"gridcolor\":\"#DFE8F3\",\"linecolor\":\"#A2B1C6\",\"ticks\":\"\"},\"baxis\":{\"gridcolor\":\"#DFE8F3\",\"linecolor\":\"#A2B1C6\",\"ticks\":\"\"},\"bgcolor\":\"white\",\"caxis\":{\"gridcolor\":\"#DFE8F3\",\"linecolor\":\"#A2B1C6\",\"ticks\":\"\"}},\"title\":{\"x\":0.05},\"xaxis\":{\"automargin\":true,\"gridcolor\":\"#EBF0F8\",\"linecolor\":\"#EBF0F8\",\"ticks\":\"\",\"title\":{\"standoff\":15},\"zerolinecolor\":\"#EBF0F8\",\"zerolinewidth\":2},\"yaxis\":{\"automargin\":true,\"gridcolor\":\"#EBF0F8\",\"linecolor\":\"#EBF0F8\",\"ticks\":\"\",\"title\":{\"standoff\":15},\"zerolinecolor\":\"#EBF0F8\",\"zerolinewidth\":2}}},\"title\":{\"text\":\"RMSE over Iterations\"},\"xaxis\":{\"title\":{\"text\":\"Iteration\"}},\"yaxis\":{\"title\":{\"text\":\"RMSE\"}},\"showlegend\":true},                        {\"responsive\": true}                    ).then(function(){\n",
       "                            \n",
       "var gd = document.getElementById('8d391652-b74b-4c26-9ff6-9295299e104a');\n",
       "var x = new MutationObserver(function (mutations, observer) {{\n",
       "        var display = window.getComputedStyle(gd).display;\n",
       "        if (!display || display === 'none') {{\n",
       "            console.log([gd, 'removed!']);\n",
       "            Plotly.purge(gd);\n",
       "            observer.disconnect();\n",
       "        }}\n",
       "}});\n",
       "\n",
       "// Listen for the removal of the full notebook cells\n",
       "var notebookContainer = gd.closest('#notebook-container');\n",
       "if (notebookContainer) {{\n",
       "    x.observe(notebookContainer, {childList: true});\n",
       "}}\n",
       "\n",
       "// Listen for the clearing of the current output cell\n",
       "var outputEl = gd.closest('.output');\n",
       "if (outputEl) {{\n",
       "    x.observe(outputEl, {childList: true});\n",
       "}}\n",
       "\n",
       "                        })                };                });            </script>        </div>"
      ]
     },
     "metadata": {},
     "output_type": "display_data"
    }
   ],
   "source": [
    "import plotly.graph_objects as go\n",
    "\n",
    "# Extract iteration numbers and RMSE values\n",
    "iterations = [x[0] for x in training_process]\n",
    "errors = [x[1] for x in training_process]\n",
    "\n",
    "# Create the plot\n",
    "fig = go.Figure()\n",
    "\n",
    "# Add a line plot\n",
    "fig.add_trace(go.Scatter(\n",
    "    x=iterations,\n",
    "    y=errors,\n",
    "    mode='lines+markers',\n",
    "    name='RMSE',\n",
    "    line=dict(color='blue'),\n",
    "    marker=dict(symbol='circle')\n",
    "))\n",
    "\n",
    "# Update layout\n",
    "fig.update_layout(\n",
    "    title='RMSE over Iterations',\n",
    "    xaxis_title='Iteration',\n",
    "    yaxis_title='RMSE',\n",
    "    template='plotly_white',\n",
    "    showlegend=True\n",
    ")\n",
    "\n",
    "# Show the plot\n",
    "fig.show()\n"
   ]
  },
  {
   "cell_type": "markdown",
   "id": "8f2ea851-9f40-4154-8058-3886b6235b49",
   "metadata": {},
   "source": [
    "### To improve the scores of our Matrix Factorization model, we are tune the following parameters:\n",
    "\n",
    "Number of Latent Factors (K): Experimenting with different values for the latent features between 10 and 100.\n",
    "\n",
    "Learning Rate (alpha): Adjusting the learning rate between 0.0001 and 0.01 to ensure the model converges appropriately. \n",
    "\n",
    "Regularization Parameter (beta): Modifying the regularization parameter from 0.001 to 0.1 to prevent overfitting.\n",
    "\n",
    "Number of Iterations: Increasing or decreasing the number of iterations between 50 to 100 based on the convergence behavior of the model.\n"
   ]
  },
  {
   "cell_type": "markdown",
   "id": "804d5d18-eab3-404a-8efe-a9a80070d9dd",
   "metadata": {},
   "source": [
    "### Hyper-parameter tuning"
   ]
  },
  {
   "cell_type": "code",
   "execution_count": 71,
   "id": "0fced5ad-9496-4d95-aece-62a4047a6ced",
   "metadata": {},
   "outputs": [
    {
     "name": "stdout",
     "output_type": "stream",
     "text": [
      "Iteration: 1 ; error = 0.9589\n",
      "Iteration: 2 ; error = 0.9382\n",
      "Iteration: 3 ; error = 0.9293\n",
      "Iteration: 4 ; error = 0.9239\n",
      "Iteration: 5 ; error = 0.9199\n",
      "Iteration: 6 ; error = 0.9162\n",
      "Iteration: 7 ; error = 0.9117\n",
      "Iteration: 8 ; error = 0.9053\n",
      "Iteration: 9 ; error = 0.8957\n",
      "Iteration: 10 ; error = 0.8823\n",
      "Iteration: 11 ; error = 0.8660\n",
      "Iteration: 12 ; error = 0.8477\n",
      "Iteration: 13 ; error = 0.8274\n",
      "Iteration: 14 ; error = 0.8053\n",
      "Iteration: 15 ; error = 0.7824\n",
      "Iteration: 16 ; error = 0.7581\n",
      "Iteration: 17 ; error = 0.7335\n",
      "Iteration: 18 ; error = 0.7092\n",
      "Iteration: 19 ; error = 0.6850\n",
      "Iteration: 20 ; error = 0.6615\n",
      "Iteration: 21 ; error = 0.6391\n",
      "Iteration: 22 ; error = 0.6177\n",
      "Iteration: 23 ; error = 0.5976\n",
      "Iteration: 24 ; error = 0.5787\n",
      "Iteration: 25 ; error = 0.5610\n",
      "Iteration: 26 ; error = 0.5446\n",
      "Iteration: 27 ; error = 0.5295\n",
      "Iteration: 28 ; error = 0.5153\n",
      "Iteration: 29 ; error = 0.5024\n",
      "Iteration: 30 ; error = 0.4905\n",
      "Iteration: 31 ; error = 0.4794\n",
      "Iteration: 32 ; error = 0.4691\n",
      "Iteration: 33 ; error = 0.4598\n",
      "Iteration: 34 ; error = 0.4510\n",
      "Iteration: 35 ; error = 0.4429\n",
      "Iteration: 36 ; error = 0.4354\n",
      "Iteration: 37 ; error = 0.4283\n",
      "Iteration: 38 ; error = 0.4218\n",
      "Iteration: 39 ; error = 0.4157\n",
      "Iteration: 40 ; error = 0.4099\n",
      "Iteration: 41 ; error = 0.4045\n",
      "Iteration: 42 ; error = 0.3995\n",
      "Iteration: 43 ; error = 0.3947\n",
      "Iteration: 44 ; error = 0.3903\n",
      "Iteration: 45 ; error = 0.3860\n",
      "Iteration: 46 ; error = 0.3820\n",
      "Iteration: 47 ; error = 0.3783\n",
      "Iteration: 48 ; error = 0.3748\n",
      "Iteration: 49 ; error = 0.3714\n",
      "Iteration: 50 ; error = 0.3683\n",
      "Iteration: 51 ; error = 0.3652\n",
      "Iteration: 52 ; error = 0.3624\n",
      "Iteration: 53 ; error = 0.3596\n",
      "Iteration: 54 ; error = 0.3569\n",
      "Iteration: 55 ; error = 0.3543\n",
      "Iteration: 56 ; error = 0.3519\n",
      "Iteration: 57 ; error = 0.3497\n",
      "Iteration: 58 ; error = 0.3475\n",
      "Iteration: 59 ; error = 0.3454\n",
      "Iteration: 60 ; error = 0.3435\n",
      "Iteration: 61 ; error = 0.3415\n",
      "Iteration: 62 ; error = 0.3397\n",
      "Iteration: 63 ; error = 0.3378\n",
      "Iteration: 64 ; error = 0.3362\n",
      "Iteration: 65 ; error = 0.3345\n",
      "Iteration: 66 ; error = 0.3329\n",
      "Iteration: 67 ; error = 0.3314\n",
      "Iteration: 68 ; error = 0.3299\n",
      "Iteration: 69 ; error = 0.3284\n",
      "Iteration: 70 ; error = 0.3270\n",
      "Iteration: 71 ; error = 0.3257\n",
      "Iteration: 72 ; error = 0.3244\n",
      "Iteration: 73 ; error = 0.3231\n",
      "Iteration: 74 ; error = 0.3219\n",
      "Iteration: 75 ; error = 0.3207\n",
      "Iteration: 76 ; error = 0.3197\n",
      "Iteration: 77 ; error = 0.3186\n",
      "Iteration: 78 ; error = 0.3175\n",
      "Iteration: 79 ; error = 0.3164\n",
      "Iteration: 80 ; error = 0.3154\n",
      "Iteration: 81 ; error = 0.3144\n",
      "Iteration: 82 ; error = 0.3134\n",
      "Iteration: 83 ; error = 0.3125\n",
      "Iteration: 84 ; error = 0.3116\n",
      "Iteration: 85 ; error = 0.3107\n",
      "Iteration: 86 ; error = 0.3099\n",
      "Iteration: 87 ; error = 0.3090\n",
      "Iteration: 88 ; error = 0.3082\n",
      "Iteration: 89 ; error = 0.3074\n",
      "Iteration: 90 ; error = 0.3067\n",
      "Iteration: 91 ; error = 0.3060\n",
      "Iteration: 92 ; error = 0.3052\n",
      "Iteration: 93 ; error = 0.3045\n",
      "Iteration: 94 ; error = 0.3037\n",
      "Iteration: 95 ; error = 0.3031\n",
      "Iteration: 96 ; error = 0.3024\n",
      "Iteration: 97 ; error = 0.3017\n",
      "Iteration: 98 ; error = 0.3010\n",
      "Iteration: 99 ; error = 0.3005\n",
      "Iteration: 100 ; error = 0.2999\n",
      "RMSE: 0.2999\n",
      "MAE: 0.2226\n",
      "Precision: 0.9658\n",
      "Recall: 0.9700\n",
      "F1-Score: 0.9679\n"
     ]
    }
   ],
   "source": [
    "from sklearn.metrics import precision_score, recall_score, f1_score\n",
    "from math import sqrt\n",
    "\n",
    "class MatrixFactorization:\n",
    "    def __init__(self, R, K, alpha, beta, iterations):\n",
    "        # Initialize the MatrixFactorization model\n",
    "        self.R = R  # User-item rating matrix\n",
    "        self.num_users, self.num_items = R.shape  # Number of users and items\n",
    "        self.K = K  # Number of latent factors\n",
    "        self.alpha = alpha  # Learning rate\n",
    "        self.beta = beta  # Regularization parameter\n",
    "        self.iterations = iterations  # Number of iterations\n",
    "\n",
    "    def train(self):\n",
    "        # Initialize user and item latent feature matrices with random values\n",
    "        self.P = np.random.normal(scale=1./self.K, size=(self.num_users, self.K))\n",
    "        self.Q = np.random.normal(scale=1./self.K, size=(self.num_items, self.K))\n",
    "\n",
    "        # Initialize biases\n",
    "        self.b_u = np.zeros(self.num_users)  # User biases\n",
    "        self.b_i = np.zeros(self.num_items)  # Item biases\n",
    "        self.b = np.mean(self.R[np.where(self.R != 0)])  # Global bias\n",
    "\n",
    "        # Create a list of known ratings\n",
    "        self.samples = [\n",
    "            (i, j, self.R[i, j])\n",
    "            for i in range(self.num_users)\n",
    "            for j in range(self.num_items)\n",
    "            if self.R[i, j] > 0\n",
    "        ]\n",
    "\n",
    "        # Training process\n",
    "        training_process = []\n",
    "        for i in range(self.iterations):\n",
    "            np.random.shuffle(self.samples)\n",
    "            self.sgd()  # Perform stochastic gradient descent\n",
    "            rmse = self.rmse()  # Compute RMSE\n",
    "            training_process.append((i, rmse))\n",
    "            print(\"Iteration: %d ; error = %.4f\" % (i+1, rmse))\n",
    "\n",
    "        return training_process\n",
    "\n",
    "    def sgd(self):\n",
    "        # Perform stochastic gradient descent\n",
    "        for i, j, r in self.samples:\n",
    "            prediction = self.get_rating(i, j)  # Predicted rating\n",
    "            e = (r - prediction)  # Prediction error\n",
    "\n",
    "            # Update biases\n",
    "            self.b_u[i] += self.alpha * (e - self.beta * self.b_u[i])\n",
    "            self.b_i[j] += self.alpha * (e - self.beta * self.b_i[j])\n",
    "\n",
    "            # Update latent feature matrices\n",
    "            self.P[i, :] += self.alpha * (e * self.Q[j, :] - self.beta * self.P[i,:])\n",
    "            self.Q[j, :] += self.alpha * (e * self.P[i, :] - self.beta * self.Q[j,:])\n",
    "\n",
    "    def get_rating(self, i, j):\n",
    "        # Compute predicted rating\n",
    "        prediction = self.b + self.b_u[i] + self.b_i[j] + self.P[i, :].dot(self.Q[j, :].T)\n",
    "        return prediction\n",
    "\n",
    "    def rmse(self):\n",
    "        # Compute RMSE\n",
    "        xs, ys = self.R.nonzero()  # Indices of known ratings\n",
    "        predicted = self.full_matrix()  # Predicted ratings matrix\n",
    "        error = 0\n",
    "        for x, y in zip(xs, ys):\n",
    "            error += pow(self.R[x, y] - predicted[x, y], 2)\n",
    "        return sqrt(error/len(xs))\n",
    "\n",
    "    def mae(self):\n",
    "        # Compute MAE\n",
    "        xs, ys = self.R.nonzero()  # Indices of known ratings\n",
    "        predicted = self.full_matrix()  # Predicted ratings matrix\n",
    "        error = 0\n",
    "        for x, y in zip(xs, ys):\n",
    "            error += abs(self.R[x, y] - predicted[x, y])\n",
    "        return error/len(xs)\n",
    "\n",
    "    def precision_recall_f1(self, threshold=3.5):\n",
    "        # Compute Precision, Recall, and F1-Score\n",
    "        xs, ys = self.R.nonzero()  # Indices of known ratings\n",
    "        predicted = self.full_matrix()  # Predicted ratings matrix\n",
    "\n",
    "        y_true = []\n",
    "        y_pred = []\n",
    "\n",
    "        for x, y in zip(xs, ys):\n",
    "            y_true.append(self.R[x, y] >= threshold)\n",
    "            y_pred.append(predicted[x, y] >= threshold)\n",
    "\n",
    "        precision = precision_score(y_true, y_pred)\n",
    "        recall = recall_score(y_true, y_pred)\n",
    "        f1 = f1_score(y_true, y_pred)\n",
    "\n",
    "        return precision, recall, f1\n",
    "\n",
    "    def full_matrix(self):\n",
    "        # Compute full predicted ratings matrix\n",
    "        return self.b + self.b_u[:, np.newaxis] + self.b_i[np.newaxis:, ] + self.P.dot(self.Q.T)\n",
    "\n",
    "\n",
    "# R is already defined as the user-item rating matrix\n",
    "mf = MatrixFactorization(R, K=50, alpha=0.01, beta=0.01, iterations=100) #did some hyper parameter tuning\n",
    "training_process = mf.train()\n",
    "\n",
    "# Evaluate the model\n",
    "rmse = mf.rmse()\n",
    "mae = mf.mae()\n",
    "precision, recall, f1 = mf.precision_recall_f1()\n",
    "\n",
    "print(f\"RMSE: {rmse:.4f}\")\n",
    "print(f\"MAE: {mae:.4f}\")\n",
    "print(f\"Precision: {precision:.4f}\")\n",
    "print(f\"Recall: {recall:.4f}\")\n",
    "print(f\"F1-Score: {f1:.4f}\")\n"
   ]
  },
  {
   "cell_type": "code",
   "execution_count": 72,
   "id": "28541691-d79e-4c11-8ab0-54d5b379abe9",
   "metadata": {},
   "outputs": [
    {
     "data": {
      "image/png": "[encoded data removed]",
      "text/plain": [
       "<Figure size 1000x600 with 1 Axes>"
      ]
     },
     "metadata": {},
     "output_type": "display_data"
    }
   ],
   "source": [
    "import matplotlib.pyplot as plt\n",
    "\n",
    "# Extract iteration numbers and RMSE values\n",
    "iterations = [x[0] for x in training_process]\n",
    "errors = [x[1] for x in training_process]\n",
    "\n",
    "# Plot RMSE over iterations\n",
    "plt.figure(figsize=(10, 6))\n",
    "plt.plot(iterations, errors, marker='o', linestyle='-', color='b')\n",
    "plt.xlabel('Iteration')\n",
    "plt.ylabel('RMSE')\n",
    "plt.title('RMSE over Iterations')\n",
    "plt.grid(True)\n",
    "plt.show()\n"
   ]
  },
  {
   "cell_type": "markdown",
   "id": "147a207c-bc17-410d-9367-1b3cadb5e34d",
   "metadata": {},
   "source": [
    "## With this parameters : - \n",
    "\n",
    "K (Number of latent factors): 50\n",
    "\n",
    "alpha (Learning rate): 0.01\n",
    "\n",
    "beta (Regularization parameter): 0.01\n",
    "\n",
    "iterations: 100"
   ]
  },
  {
   "cell_type": "code",
   "execution_count": 73,
   "id": "89c9329a-4921-420e-8f32-796f94d75b6b",
   "metadata": {},
   "outputs": [
    {
     "data": {
      "application/vnd.plotly.v1+json": {
       "config": {
        "plotlyServerURL": "https://plot.ly"
       },
       "data": [
        {
         "line": {
          "color": "blue"
         },
         "marker": {
          "symbol": "circle"
         },
         "mode": "lines+markers",
         "name": "RMSE",
         "type": "scatter",
         "x": [
          0,
          1,
          2,
          3,
          4,
          5,
          6,
          7,
          8,
          9,
          10,
          11,
          12,
          13,
          14,
          15,
          16,
          17,
          18,
          19,
          20,
          21,
          22,
          23,
          24,
          25,
          26,
          27,
          28,
          29,
          30,
          31,
          32,
          33,
          34,
          35,
          36,
          37,
          38,
          39,
          40,
          41,
          42,
          43,
          44,
          45,
          46,
          47,
          48,
          49,
          50,
          51,
          52,
          53,
          54,
          55,
          56,
          57,
          58,
          59,
          60,
          61,
          62,
          63,
          64,
          65,
          66,
          67,
          68,
          69,
          70,
          71,
          72,
          73,
          74,
          75,
          76,
          77,
          78,
          79,
          80,
          81,
          82,
          83,
          84,
          85,
          86,
          87,
          88,
          89,
          90,
          91,
          92,
          93,
          94,
          95,
          96,
          97,
          98,
          99
         ],
         "y": [
          0.9588554326728417,
          0.9381870513376849,
          0.9292987786868766,
          0.9239165125480703,
          0.919879894540949,
          0.9161913439181792,
          0.91173627353781,
          0.9052915112341774,
          0.8956550119303797,
          0.8822837406929991,
          0.865983368128886,
          0.8476975550154107,
          0.8273887378344245,
          0.8053031309062946,
          0.7823503829802626,
          0.7580825210174772,
          0.7335272877312883,
          0.7091693104637967,
          0.684992288254723,
          0.661480764493873,
          0.6391388900838944,
          0.617678052014481,
          0.5975987902472369,
          0.5786842905416973,
          0.561032820818116,
          0.5445508485710842,
          0.5294508395918498,
          0.5153312637815896,
          0.5023862113185572,
          0.49049663370062974,
          0.4793521094110074,
          0.4691203230385108,
          0.45975269713652434,
          0.4510141579013613,
          0.44292690858284994,
          0.4354173916314732,
          0.42831927123320723,
          0.4218415323322308,
          0.4156691981040865,
          0.40989169339382825,
          0.40447712260877966,
          0.39946498163236543,
          0.3947276673519274,
          0.3902575585292936,
          0.38601723670653226,
          0.3819689396357952,
          0.37833353975457723,
          0.37477193469420284,
          0.37142415192481987,
          0.36827194259488755,
          0.3651821967141712,
          0.36236559951041547,
          0.3596049347820821,
          0.35690234136005444,
          0.3542889269052503,
          0.35193164635292323,
          0.34965827366695296,
          0.34748539851563154,
          0.3453716740928725,
          0.34345015783315175,
          0.3414809285993437,
          0.33965871753149257,
          0.3378203028347543,
          0.33620024412279104,
          0.33447596470437446,
          0.33287655734647015,
          0.3313741270526436,
          0.3298537618962598,
          0.32843173728829755,
          0.32697460853244686,
          0.32573443693881216,
          0.32444736759001436,
          0.3231449773319526,
          0.3219269834172624,
          0.32073850497975553,
          0.3196526452666049,
          0.31858663605433013,
          0.3174821954004787,
          0.31644048861360835,
          0.31535803970644843,
          0.3143744518215197,
          0.313398574999122,
          0.31248991033393214,
          0.31158825834624276,
          0.31069027243359687,
          0.30994219018524644,
          0.3090316261983528,
          0.30818318770020564,
          0.30744338087896445,
          0.30669850017977734,
          0.30595835889587775,
          0.30523021476483875,
          0.304497695052744,
          0.30369235392214045,
          0.3030643834623148,
          0.30240536484242897,
          0.30171714102780267,
          0.3010383583925133,
          0.3004557022452137,
          0.2999028129520426
         ]
        }
       ],
       "layout": {
        "autosize": true,
        "showlegend": true,
        "template": {
         "data": {
          "bar": [
           {
            "error_x": {
             "color": "#2a3f5f"
            },
            "error_y": {
             "color": "#2a3f5f"
            },
            "marker": {
             "line": {
              "color": "white",
              "width": 0.5
             },
             "pattern": {
              "fillmode": "overlay",
              "size": 10,
              "solidity": 0.2
             }
            },
            "type": "bar"
           }
          ],
          "barpolar": [
           {
            "marker": {
             "line": {
              "color": "white",
              "width": 0.5
             },
             "pattern": {
              "fillmode": "overlay",
              "size": 10,
              "solidity": 0.2
             }
            },
            "type": "barpolar"
           }
          ],
          "carpet": [
           {
            "aaxis": {
             "endlinecolor": "#2a3f5f",
             "gridcolor": "#C8D4E3",
             "linecolor": "#C8D4E3",
             "minorgridcolor": "#C8D4E3",
             "startlinecolor": "#2a3f5f"
            },
            "baxis": {
             "endlinecolor": "#2a3f5f",
             "gridcolor": "#C8D4E3",
             "linecolor": "#C8D4E3",
             "minorgridcolor": "#C8D4E3",
             "startlinecolor": "#2a3f5f"
            },
            "type": "carpet"
           }
          ],
          "choropleth": [
           {
            "colorbar": {
             "outlinewidth": 0,
             "ticks": ""
            },
            "type": "choropleth"
           }
          ],
          "contour": [
           {
            "colorbar": {
             "outlinewidth": 0,
             "ticks": ""
            },
            "colorscale": [
             [
              0,
              "#0d0887"
             ],
             [
              0.1111111111111111,
              "#46039f"
             ],
             [
              0.2222222222222222,
              "#7201a8"
             ],
             [
              0.3333333333333333,
              "#9c179e"
             ],
             [
              0.4444444444444444,
              "#bd3786"
             ],
             [
              0.5555555555555556,
              "#d8576b"
             ],
             [
              0.6666666666666666,
              "#ed7953"
             ],
             [
              0.7777777777777778,
              "#fb9f3a"
             ],
             [
              0.8888888888888888,
              "#fdca26"
             ],
             [
              1,
              "#f0f921"
             ]
            ],
            "type": "contour"
           }
          ],
          "contourcarpet": [
           {
            "colorbar": {
             "outlinewidth": 0,
             "ticks": ""
            },
            "type": "contourcarpet"
           }
          ],
          "heatmap": [
           {
            "colorbar": {
             "outlinewidth": 0,
             "ticks": ""
            },
            "colorscale": [
             [
              0,
              "#0d0887"
             ],
             [
              0.1111111111111111,
              "#46039f"
             ],
             [
              0.2222222222222222,
              "#7201a8"
             ],
             [
              0.3333333333333333,
              "#9c179e"
             ],
             [
              0.4444444444444444,
              "#bd3786"
             ],
             [
              0.5555555555555556,
              "#d8576b"
             ],
             [
              0.6666666666666666,
              "#ed7953"
             ],
             [
              0.7777777777777778,
              "#fb9f3a"
             ],
             [
              0.8888888888888888,
              "#fdca26"
             ],
             [
              1,
              "#f0f921"
             ]
            ],
            "type": "heatmap"
           }
          ],
          "heatmapgl": [
           {
            "colorbar": {
             "outlinewidth": 0,
             "ticks": ""
            },
            "colorscale": [
             [
              0,
              "#0d0887"
             ],
             [
              0.1111111111111111,
              "#46039f"
             ],
             [
              0.2222222222222222,
              "#7201a8"
             ],
             [
              0.3333333333333333,
              "#9c179e"
             ],
             [
              0.4444444444444444,
              "#bd3786"
             ],
             [
              0.5555555555555556,
              "#d8576b"
             ],
             [
              0.6666666666666666,
              "#ed7953"
             ],
             [
              0.7777777777777778,
              "#fb9f3a"
             ],
             [
              0.8888888888888888,
              "#fdca26"
             ],
             [
              1,
              "#f0f921"
             ]
            ],
            "type": "heatmapgl"
           }
          ],
          "histogram": [
           {
            "marker": {
             "pattern": {
              "fillmode": "overlay",
              "size": 10,
              "solidity": 0.2
             }
            },
            "type": "histogram"
           }
          ],
          "histogram2d": [
           {
            "colorbar": {
             "outlinewidth": 0,
             "ticks": ""
            },
            "colorscale": [
             [
              0,
              "#0d0887"
             ],
             [
              0.1111111111111111,
              "#46039f"
             ],
             [
              0.2222222222222222,
              "#7201a8"
             ],
             [
              0.3333333333333333,
              "#9c179e"
             ],
             [
              0.4444444444444444,
              "#bd3786"
             ],
             [
              0.5555555555555556,
              "#d8576b"
             ],
             [
              0.6666666666666666,
              "#ed7953"
             ],
             [
              0.7777777777777778,
              "#fb9f3a"
             ],
             [
              0.8888888888888888,
              "#fdca26"
             ],
             [
              1,
              "#f0f921"
             ]
            ],
            "type": "histogram2d"
           }
          ],
          "histogram2dcontour": [
           {
            "colorbar": {
             "outlinewidth": 0,
             "ticks": ""
            },
            "colorscale": [
             [
              0,
              "#0d0887"
             ],
             [
              0.1111111111111111,
              "#46039f"
             ],
             [
              0.2222222222222222,
              "#7201a8"
             ],
             [
              0.3333333333333333,
              "#9c179e"
             ],
             [
              0.4444444444444444,
              "#bd3786"
             ],
             [
              0.5555555555555556,
              "#d8576b"
             ],
             [
              0.6666666666666666,
              "#ed7953"
             ],
             [
              0.7777777777777778,
              "#fb9f3a"
             ],
             [
              0.8888888888888888,
              "#fdca26"
             ],
             [
              1,
              "#f0f921"
             ]
            ],
            "type": "histogram2dcontour"
           }
          ],
          "mesh3d": [
           {
            "colorbar": {
             "outlinewidth": 0,
             "ticks": ""
            },
            "type": "mesh3d"
           }
          ],
          "parcoords": [
           {
            "line": {
             "colorbar": {
              "outlinewidth": 0,
              "ticks": ""
             }
            },
            "type": "parcoords"
           }
          ],
          "pie": [
           {
            "automargin": true,
            "type": "pie"
           }
          ],
          "scatter": [
           {
            "fillpattern": {
             "fillmode": "overlay",
             "size": 10,
             "solidity": 0.2
            },
            "type": "scatter"
           }
          ],
          "scatter3d": [
           {
            "line": {
             "colorbar": {
              "outlinewidth": 0,
              "ticks": ""
             }
            },
            "marker": {
             "colorbar": {
              "outlinewidth": 0,
              "ticks": ""
             }
            },
            "type": "scatter3d"
           }
          ],
          "scattercarpet": [
           {
            "marker": {
             "colorbar": {
              "outlinewidth": 0,
              "ticks": ""
             }
            },
            "type": "scattercarpet"
           }
          ],
          "scattergeo": [
           {
            "marker": {
             "colorbar": {
              "outlinewidth": 0,
              "ticks": ""
             }
            },
            "type": "scattergeo"
           }
          ],
          "scattergl": [
           {
            "marker": {
             "colorbar": {
              "outlinewidth": 0,
              "ticks": ""
             }
            },
            "type": "scattergl"
           }
          ],
          "scattermapbox": [
           {
            "marker": {
             "colorbar": {
              "outlinewidth": 0,
              "ticks": ""
             }
            },
            "type": "scattermapbox"
           }
          ],
          "scatterpolar": [
           {
            "marker": {
             "colorbar": {
              "outlinewidth": 0,
              "ticks": ""
             }
            },
            "type": "scatterpolar"
           }
          ],
          "scatterpolargl": [
           {
            "marker": {
             "colorbar": {
              "outlinewidth": 0,
              "ticks": ""
             }
            },
            "type": "scatterpolargl"
           }
          ],
          "scatterternary": [
           {
            "marker": {
             "colorbar": {
              "outlinewidth": 0,
              "ticks": ""
             }
            },
            "type": "scatterternary"
           }
          ],
          "surface": [
           {
            "colorbar": {
             "outlinewidth": 0,
             "ticks": ""
            },
            "colorscale": [
             [
              0,
              "#0d0887"
             ],
             [
              0.1111111111111111,
              "#46039f"
             ],
             [
              0.2222222222222222,
              "#7201a8"
             ],
             [
              0.3333333333333333,
              "#9c179e"
             ],
             [
              0.4444444444444444,
              "#bd3786"
             ],
             [
              0.5555555555555556,
              "#d8576b"
             ],
             [
              0.6666666666666666,
              "#ed7953"
             ],
             [
              0.7777777777777778,
              "#fb9f3a"
             ],
             [
              0.8888888888888888,
              "#fdca26"
             ],
             [
              1,
              "#f0f921"
             ]
            ],
            "type": "surface"
           }
          ],
          "table": [
           {
            "cells": {
             "fill": {
              "color": "#EBF0F8"
             },
             "line": {
              "color": "white"
             }
            },
            "header": {
             "fill": {
              "color": "#C8D4E3"
             },
             "line": {
              "color": "white"
             }
            },
            "type": "table"
           }
          ]
         },
         "layout": {
          "annotationdefaults": {
           "arrowcolor": "#2a3f5f",
           "arrowhead": 0,
           "arrowwidth": 1
          },
          "autotypenumbers": "strict",
          "coloraxis": {
           "colorbar": {
            "outlinewidth": 0,
            "ticks": ""
           }
          },
          "colorscale": {
           "diverging": [
            [
             0,
             "#8e0152"
            ],
            [
             0.1,
             "#c51b7d"
            ],
            [
             0.2,
             "#de77ae"
            ],
            [
             0.3,
             "#f1b6da"
            ],
            [
             0.4,
             "#fde0ef"
            ],
            [
             0.5,
             "#f7f7f7"
            ],
            [
             0.6,
             "#e6f5d0"
            ],
            [
             0.7,
             "#b8e186"
            ],
            [
             0.8,
             "#7fbc41"
            ],
            [
             0.9,
             "#4d9221"
            ],
            [
             1,
             "#276419"
            ]
           ],
           "sequential": [
            [
             0,
             "#0d0887"
            ],
            [
             0.1111111111111111,
             "#46039f"
            ],
            [
             0.2222222222222222,
             "#7201a8"
            ],
            [
             0.3333333333333333,
             "#9c179e"
            ],
            [
             0.4444444444444444,
             "#bd3786"
            ],
            [
             0.5555555555555556,
             "#d8576b"
            ],
            [
             0.6666666666666666,
             "#ed7953"
            ],
            [
             0.7777777777777778,
             "#fb9f3a"
            ],
            [
             0.8888888888888888,
             "#fdca26"
            ],
            [
             1,
             "#f0f921"
            ]
           ],
           "sequentialminus": [
            [
             0,
             "#0d0887"
            ],
            [
             0.1111111111111111,
             "#46039f"
            ],
            [
             0.2222222222222222,
             "#7201a8"
            ],
            [
             0.3333333333333333,
             "#9c179e"
            ],
            [
             0.4444444444444444,
             "#bd3786"
            ],
            [
             0.5555555555555556,
             "#d8576b"
            ],
            [
             0.6666666666666666,
             "#ed7953"
            ],
            [
             0.7777777777777778,
             "#fb9f3a"
            ],
            [
             0.8888888888888888,
             "#fdca26"
            ],
            [
             1,
             "#f0f921"
            ]
           ]
          },
          "colorway": [
           "#636efa",
           "#EF553B",
           "#00cc96",
           "#ab63fa",
           "#FFA15A",
           "#19d3f3",
           "#FF6692",
           "#B6E880",
           "#FF97FF",
           "#FECB52"
          ],
          "font": {
           "color": "#2a3f5f"
          },
          "geo": {
           "bgcolor": "white",
           "lakecolor": "white",
           "landcolor": "white",
           "showlakes": true,
           "showland": true,
           "subunitcolor": "#C8D4E3"
          },
          "hoverlabel": {
           "align": "left"
          },
          "hovermode": "closest",
          "mapbox": {
           "style": "light"
          },
          "paper_bgcolor": "white",
          "plot_bgcolor": "white",
          "polar": {
           "angularaxis": {
            "gridcolor": "#EBF0F8",
            "linecolor": "#EBF0F8",
            "ticks": ""
           },
           "bgcolor": "white",
           "radialaxis": {
            "gridcolor": "#EBF0F8",
            "linecolor": "#EBF0F8",
            "ticks": ""
           }
          },
          "scene": {
           "xaxis": {
            "backgroundcolor": "white",
            "gridcolor": "#DFE8F3",
            "gridwidth": 2,
            "linecolor": "#EBF0F8",
            "showbackground": true,
            "ticks": "",
            "zerolinecolor": "#EBF0F8"
           },
           "yaxis": {
            "backgroundcolor": "white",
            "gridcolor": "#DFE8F3",
            "gridwidth": 2,
            "linecolor": "#EBF0F8",
            "showbackground": true,
            "ticks": "",
            "zerolinecolor": "#EBF0F8"
           },
           "zaxis": {
            "backgroundcolor": "white",
            "gridcolor": "#DFE8F3",
            "gridwidth": 2,
            "linecolor": "#EBF0F8",
            "showbackground": true,
            "ticks": "",
            "zerolinecolor": "#EBF0F8"
           }
          },
          "shapedefaults": {
           "line": {
            "color": "#2a3f5f"
           }
          },
          "ternary": {
           "aaxis": {
            "gridcolor": "#DFE8F3",
            "linecolor": "#A2B1C6",
            "ticks": ""
           },
           "baxis": {
            "gridcolor": "#DFE8F3",
            "linecolor": "#A2B1C6",
            "ticks": ""
           },
           "bgcolor": "white",
           "caxis": {
            "gridcolor": "#DFE8F3",
            "linecolor": "#A2B1C6",
            "ticks": ""
           }
          },
          "title": {
           "x": 0.05
          },
          "xaxis": {
           "automargin": true,
           "gridcolor": "#EBF0F8",
           "linecolor": "#EBF0F8",
           "ticks": "",
           "title": {
            "standoff": 15
           },
           "zerolinecolor": "#EBF0F8",
           "zerolinewidth": 2
          },
          "yaxis": {
           "automargin": true,
           "gridcolor": "#EBF0F8",
           "linecolor": "#EBF0F8",
           "ticks": "",
           "title": {
            "standoff": 15
           },
           "zerolinecolor": "#EBF0F8",
           "zerolinewidth": 2
          }
         }
        },
        "title": {
         "text": "RMSE over Iterations"
        },
        "xaxis": {
         "autorange": true,
         "range": [
          -6.004402054292004,
          105.004402054292
         ],
         "title": {
          "text": "Iteration"
         },
         "type": "linear"
        },
        "yaxis": {
         "autorange": true,
         "range": [
          0.24552322782945235,
          1.013235017795432
         ],
         "title": {
          "text": "RMSE"
         },
         "type": "linear"
        }
       }
      },
      "image/png": "[encoded data removed]",
      "text/html": [
       "<div>                            <div id=\"6dadb4cc-be75-4cc3-9bd7-c7cd63acbc93\" class=\"plotly-graph-div\" style=\"height:525px; width:100%;\"></div>            <script type=\"text/javascript\">                require([\"plotly\"], function(Plotly) {                    window.PLOTLYENV=window.PLOTLYENV || {};                                    if (document.getElementById(\"6dadb4cc-be75-4cc3-9bd7-c7cd63acbc93\")) {                    Plotly.newPlot(                        \"6dadb4cc-be75-4cc3-9bd7-c7cd63acbc93\",                        [{\"line\":{\"color\":\"blue\"},\"marker\":{\"symbol\":\"circle\"},\"mode\":\"lines+markers\",\"name\":\"RMSE\",\"x\":[0,1,2,3,4,5,6,7,8,9,10,11,12,13,14,15,16,17,18,19,20,21,22,23,24,25,26,27,28,29,30,31,32,33,34,35,36,37,38,39,40,41,42,43,44,45,46,47,48,49,50,51,52,53,54,55,56,57,58,59,60,61,62,63,64,65,66,67,68,69,70,71,72,73,74,75,76,77,78,79,80,81,82,83,84,85,86,87,88,89,90,91,92,93,94,95,96,97,98,99],\"y\":[0.9588554326728417,0.9381870513376849,0.9292987786868766,0.9239165125480703,0.919879894540949,0.9161913439181792,0.91173627353781,0.9052915112341774,0.8956550119303797,0.8822837406929991,0.865983368128886,0.8476975550154107,0.8273887378344245,0.8053031309062946,0.7823503829802626,0.7580825210174772,0.7335272877312883,0.7091693104637967,0.684992288254723,0.661480764493873,0.6391388900838944,0.617678052014481,0.5975987902472369,0.5786842905416973,0.561032820818116,0.5445508485710842,0.5294508395918498,0.5153312637815896,0.5023862113185572,0.49049663370062974,0.4793521094110074,0.4691203230385108,0.45975269713652434,0.4510141579013613,0.44292690858284994,0.4354173916314732,0.42831927123320723,0.4218415323322308,0.4156691981040865,0.40989169339382825,0.40447712260877966,0.39946498163236543,0.3947276673519274,0.3902575585292936,0.38601723670653226,0.3819689396357952,0.37833353975457723,0.37477193469420284,0.37142415192481987,0.36827194259488755,0.3651821967141712,0.36236559951041547,0.3596049347820821,0.35690234136005444,0.3542889269052503,0.35193164635292323,0.34965827366695296,0.34748539851563154,0.3453716740928725,0.34345015783315175,0.3414809285993437,0.33965871753149257,0.3378203028347543,0.33620024412279104,0.33447596470437446,0.33287655734647015,0.3313741270526436,0.3298537618962598,0.32843173728829755,0.32697460853244686,0.32573443693881216,0.32444736759001436,0.3231449773319526,0.3219269834172624,0.32073850497975553,0.3196526452666049,0.31858663605433013,0.3174821954004787,0.31644048861360835,0.31535803970644843,0.3143744518215197,0.313398574999122,0.31248991033393214,0.31158825834624276,0.31069027243359687,0.30994219018524644,0.3090316261983528,0.30818318770020564,0.30744338087896445,0.30669850017977734,0.30595835889587775,0.30523021476483875,0.304497695052744,0.30369235392214045,0.3030643834623148,0.30240536484242897,0.30171714102780267,0.3010383583925133,0.3004557022452137,0.2999028129520426],\"type\":\"scatter\"}],                        {\"template\":{\"data\":{\"barpolar\":[{\"marker\":{\"line\":{\"color\":\"white\",\"width\":0.5},\"pattern\":{\"fillmode\":\"overlay\",\"size\":10,\"solidity\":0.2}},\"type\":\"barpolar\"}],\"bar\":[{\"error_x\":{\"color\":\"#2a3f5f\"},\"error_y\":{\"color\":\"#2a3f5f\"},\"marker\":{\"line\":{\"color\":\"white\",\"width\":0.5},\"pattern\":{\"fillmode\":\"overlay\",\"size\":10,\"solidity\":0.2}},\"type\":\"bar\"}],\"carpet\":[{\"aaxis\":{\"endlinecolor\":\"#2a3f5f\",\"gridcolor\":\"#C8D4E3\",\"linecolor\":\"#C8D4E3\",\"minorgridcolor\":\"#C8D4E3\",\"startlinecolor\":\"#2a3f5f\"},\"baxis\":{\"endlinecolor\":\"#2a3f5f\",\"gridcolor\":\"#C8D4E3\",\"linecolor\":\"#C8D4E3\",\"minorgridcolor\":\"#C8D4E3\",\"startlinecolor\":\"#2a3f5f\"},\"type\":\"carpet\"}],\"choropleth\":[{\"colorbar\":{\"outlinewidth\":0,\"ticks\":\"\"},\"type\":\"choropleth\"}],\"contourcarpet\":[{\"colorbar\":{\"outlinewidth\":0,\"ticks\":\"\"},\"type\":\"contourcarpet\"}],\"contour\":[{\"colorbar\":{\"outlinewidth\":0,\"ticks\":\"\"},\"colorscale\":[[0.0,\"#0d0887\"],[0.1111111111111111,\"#46039f\"],[0.2222222222222222,\"#7201a8\"],[0.3333333333333333,\"#9c179e\"],[0.4444444444444444,\"#bd3786\"],[0.5555555555555556,\"#d8576b\"],[0.6666666666666666,\"#ed7953\"],[0.7777777777777778,\"#fb9f3a\"],[0.8888888888888888,\"#fdca26\"],[1.0,\"#f0f921\"]],\"type\":\"contour\"}],\"heatmapgl\":[{\"colorbar\":{\"outlinewidth\":0,\"ticks\":\"\"},\"colorscale\":[[0.0,\"#0d0887\"],[0.1111111111111111,\"#46039f\"],[0.2222222222222222,\"#7201a8\"],[0.3333333333333333,\"#9c179e\"],[0.4444444444444444,\"#bd3786\"],[0.5555555555555556,\"#d8576b\"],[0.6666666666666666,\"#ed7953\"],[0.7777777777777778,\"#fb9f3a\"],[0.8888888888888888,\"#fdca26\"],[1.0,\"#f0f921\"]],\"type\":\"heatmapgl\"}],\"heatmap\":[{\"colorbar\":{\"outlinewidth\":0,\"ticks\":\"\"},\"colorscale\":[[0.0,\"#0d0887\"],[0.1111111111111111,\"#46039f\"],[0.2222222222222222,\"#7201a8\"],[0.3333333333333333,\"#9c179e\"],[0.4444444444444444,\"#bd3786\"],[0.5555555555555556,\"#d8576b\"],[0.6666666666666666,\"#ed7953\"],[0.7777777777777778,\"#fb9f3a\"],[0.8888888888888888,\"#fdca26\"],[1.0,\"#f0f921\"]],\"type\":\"heatmap\"}],\"histogram2dcontour\":[{\"colorbar\":{\"outlinewidth\":0,\"ticks\":\"\"},\"colorscale\":[[0.0,\"#0d0887\"],[0.1111111111111111,\"#46039f\"],[0.2222222222222222,\"#7201a8\"],[0.3333333333333333,\"#9c179e\"],[0.4444444444444444,\"#bd3786\"],[0.5555555555555556,\"#d8576b\"],[0.6666666666666666,\"#ed7953\"],[0.7777777777777778,\"#fb9f3a\"],[0.8888888888888888,\"#fdca26\"],[1.0,\"#f0f921\"]],\"type\":\"histogram2dcontour\"}],\"histogram2d\":[{\"colorbar\":{\"outlinewidth\":0,\"ticks\":\"\"},\"colorscale\":[[0.0,\"#0d0887\"],[0.1111111111111111,\"#46039f\"],[0.2222222222222222,\"#7201a8\"],[0.3333333333333333,\"#9c179e\"],[0.4444444444444444,\"#bd3786\"],[0.5555555555555556,\"#d8576b\"],[0.6666666666666666,\"#ed7953\"],[0.7777777777777778,\"#fb9f3a\"],[0.8888888888888888,\"#fdca26\"],[1.0,\"#f0f921\"]],\"type\":\"histogram2d\"}],\"histogram\":[{\"marker\":{\"pattern\":{\"fillmode\":\"overlay\",\"size\":10,\"solidity\":0.2}},\"type\":\"histogram\"}],\"mesh3d\":[{\"colorbar\":{\"outlinewidth\":0,\"ticks\":\"\"},\"type\":\"mesh3d\"}],\"parcoords\":[{\"line\":{\"colorbar\":{\"outlinewidth\":0,\"ticks\":\"\"}},\"type\":\"parcoords\"}],\"pie\":[{\"automargin\":true,\"type\":\"pie\"}],\"scatter3d\":[{\"line\":{\"colorbar\":{\"outlinewidth\":0,\"ticks\":\"\"}},\"marker\":{\"colorbar\":{\"outlinewidth\":0,\"ticks\":\"\"}},\"type\":\"scatter3d\"}],\"scattercarpet\":[{\"marker\":{\"colorbar\":{\"outlinewidth\":0,\"ticks\":\"\"}},\"type\":\"scattercarpet\"}],\"scattergeo\":[{\"marker\":{\"colorbar\":{\"outlinewidth\":0,\"ticks\":\"\"}},\"type\":\"scattergeo\"}],\"scattergl\":[{\"marker\":{\"colorbar\":{\"outlinewidth\":0,\"ticks\":\"\"}},\"type\":\"scattergl\"}],\"scattermapbox\":[{\"marker\":{\"colorbar\":{\"outlinewidth\":0,\"ticks\":\"\"}},\"type\":\"scattermapbox\"}],\"scatterpolargl\":[{\"marker\":{\"colorbar\":{\"outlinewidth\":0,\"ticks\":\"\"}},\"type\":\"scatterpolargl\"}],\"scatterpolar\":[{\"marker\":{\"colorbar\":{\"outlinewidth\":0,\"ticks\":\"\"}},\"type\":\"scatterpolar\"}],\"scatter\":[{\"fillpattern\":{\"fillmode\":\"overlay\",\"size\":10,\"solidity\":0.2},\"type\":\"scatter\"}],\"scatterternary\":[{\"marker\":{\"colorbar\":{\"outlinewidth\":0,\"ticks\":\"\"}},\"type\":\"scatterternary\"}],\"surface\":[{\"colorbar\":{\"outlinewidth\":0,\"ticks\":\"\"},\"colorscale\":[[0.0,\"#0d0887\"],[0.1111111111111111,\"#46039f\"],[0.2222222222222222,\"#7201a8\"],[0.3333333333333333,\"#9c179e\"],[0.4444444444444444,\"#bd3786\"],[0.5555555555555556,\"#d8576b\"],[0.6666666666666666,\"#ed7953\"],[0.7777777777777778,\"#fb9f3a\"],[0.8888888888888888,\"#fdca26\"],[1.0,\"#f0f921\"]],\"type\":\"surface\"}],\"table\":[{\"cells\":{\"fill\":{\"color\":\"#EBF0F8\"},\"line\":{\"color\":\"white\"}},\"header\":{\"fill\":{\"color\":\"#C8D4E3\"},\"line\":{\"color\":\"white\"}},\"type\":\"table\"}]},\"layout\":{\"annotationdefaults\":{\"arrowcolor\":\"#2a3f5f\",\"arrowhead\":0,\"arrowwidth\":1},\"autotypenumbers\":\"strict\",\"coloraxis\":{\"colorbar\":{\"outlinewidth\":0,\"ticks\":\"\"}},\"colorscale\":{\"diverging\":[[0,\"#8e0152\"],[0.1,\"#c51b7d\"],[0.2,\"#de77ae\"],[0.3,\"#f1b6da\"],[0.4,\"#fde0ef\"],[0.5,\"#f7f7f7\"],[0.6,\"#e6f5d0\"],[0.7,\"#b8e186\"],[0.8,\"#7fbc41\"],[0.9,\"#4d9221\"],[1,\"#276419\"]],\"sequential\":[[0.0,\"#0d0887\"],[0.1111111111111111,\"#46039f\"],[0.2222222222222222,\"#7201a8\"],[0.3333333333333333,\"#9c179e\"],[0.4444444444444444,\"#bd3786\"],[0.5555555555555556,\"#d8576b\"],[0.6666666666666666,\"#ed7953\"],[0.7777777777777778,\"#fb9f3a\"],[0.8888888888888888,\"#fdca26\"],[1.0,\"#f0f921\"]],\"sequentialminus\":[[0.0,\"#0d0887\"],[0.1111111111111111,\"#46039f\"],[0.2222222222222222,\"#7201a8\"],[0.3333333333333333,\"#9c179e\"],[0.4444444444444444,\"#bd3786\"],[0.5555555555555556,\"#d8576b\"],[0.6666666666666666,\"#ed7953\"],[0.7777777777777778,\"#fb9f3a\"],[0.8888888888888888,\"#fdca26\"],[1.0,\"#f0f921\"]]},\"colorway\":[\"#636efa\",\"#EF553B\",\"#00cc96\",\"#ab63fa\",\"#FFA15A\",\"#19d3f3\",\"#FF6692\",\"#B6E880\",\"#FF97FF\",\"#FECB52\"],\"font\":{\"color\":\"#2a3f5f\"},\"geo\":{\"bgcolor\":\"white\",\"lakecolor\":\"white\",\"landcolor\":\"white\",\"showlakes\":true,\"showland\":true,\"subunitcolor\":\"#C8D4E3\"},\"hoverlabel\":{\"align\":\"left\"},\"hovermode\":\"closest\",\"mapbox\":{\"style\":\"light\"},\"paper_bgcolor\":\"white\",\"plot_bgcolor\":\"white\",\"polar\":{\"angularaxis\":{\"gridcolor\":\"#EBF0F8\",\"linecolor\":\"#EBF0F8\",\"ticks\":\"\"},\"bgcolor\":\"white\",\"radialaxis\":{\"gridcolor\":\"#EBF0F8\",\"linecolor\":\"#EBF0F8\",\"ticks\":\"\"}},\"scene\":{\"xaxis\":{\"backgroundcolor\":\"white\",\"gridcolor\":\"#DFE8F3\",\"gridwidth\":2,\"linecolor\":\"#EBF0F8\",\"showbackground\":true,\"ticks\":\"\",\"zerolinecolor\":\"#EBF0F8\"},\"yaxis\":{\"backgroundcolor\":\"white\",\"gridcolor\":\"#DFE8F3\",\"gridwidth\":2,\"linecolor\":\"#EBF0F8\",\"showbackground\":true,\"ticks\":\"\",\"zerolinecolor\":\"#EBF0F8\"},\"zaxis\":{\"backgroundcolor\":\"white\",\"gridcolor\":\"#DFE8F3\",\"gridwidth\":2,\"linecolor\":\"#EBF0F8\",\"showbackground\":true,\"ticks\":\"\",\"zerolinecolor\":\"#EBF0F8\"}},\"shapedefaults\":{\"line\":{\"color\":\"#2a3f5f\"}},\"ternary\":{\"aaxis\":{\"gridcolor\":\"#DFE8F3\",\"linecolor\":\"#A2B1C6\",\"ticks\":\"\"},\"baxis\":{\"gridcolor\":\"#DFE8F3\",\"linecolor\":\"#A2B1C6\",\"ticks\":\"\"},\"bgcolor\":\"white\",\"caxis\":{\"gridcolor\":\"#DFE8F3\",\"linecolor\":\"#A2B1C6\",\"ticks\":\"\"}},\"title\":{\"x\":0.05},\"xaxis\":{\"automargin\":true,\"gridcolor\":\"#EBF0F8\",\"linecolor\":\"#EBF0F8\",\"ticks\":\"\",\"title\":{\"standoff\":15},\"zerolinecolor\":\"#EBF0F8\",\"zerolinewidth\":2},\"yaxis\":{\"automargin\":true,\"gridcolor\":\"#EBF0F8\",\"linecolor\":\"#EBF0F8\",\"ticks\":\"\",\"title\":{\"standoff\":15},\"zerolinecolor\":\"#EBF0F8\",\"zerolinewidth\":2}}},\"title\":{\"text\":\"RMSE over Iterations\"},\"xaxis\":{\"title\":{\"text\":\"Iteration\"}},\"yaxis\":{\"title\":{\"text\":\"RMSE\"}},\"showlegend\":true},                        {\"responsive\": true}                    ).then(function(){\n",
       "                            \n",
       "var gd = document.getElementById('6dadb4cc-be75-4cc3-9bd7-c7cd63acbc93');\n",
       "var x = new MutationObserver(function (mutations, observer) {{\n",
       "        var display = window.getComputedStyle(gd).display;\n",
       "        if (!display || display === 'none') {{\n",
       "            console.log([gd, 'removed!']);\n",
       "            Plotly.purge(gd);\n",
       "            observer.disconnect();\n",
       "        }}\n",
       "}});\n",
       "\n",
       "// Listen for the removal of the full notebook cells\n",
       "var notebookContainer = gd.closest('#notebook-container');\n",
       "if (notebookContainer) {{\n",
       "    x.observe(notebookContainer, {childList: true});\n",
       "}}\n",
       "\n",
       "// Listen for the clearing of the current output cell\n",
       "var outputEl = gd.closest('.output');\n",
       "if (outputEl) {{\n",
       "    x.observe(outputEl, {childList: true});\n",
       "}}\n",
       "\n",
       "                        })                };                });            </script>        </div>"
      ]
     },
     "metadata": {},
     "output_type": "display_data"
    }
   ],
   "source": [
    "import plotly.graph_objects as go\n",
    "\n",
    "# Extract iteration numbers and RMSE values\n",
    "iterations = [x[0] for x in training_process]\n",
    "errors = [x[1] for x in training_process]\n",
    "\n",
    "# Create the plot\n",
    "fig = go.Figure()\n",
    "\n",
    "# Add a line plot\n",
    "fig.add_trace(go.Scatter(\n",
    "    x=iterations,\n",
    "    y=errors,\n",
    "    mode='lines+markers',\n",
    "    name='RMSE',\n",
    "    line=dict(color='blue'),\n",
    "    marker=dict(symbol='circle')\n",
    "))\n",
    "\n",
    "# Update layout\n",
    "fig.update_layout(\n",
    "    title='RMSE over Iterations',\n",
    "    xaxis_title='Iteration',\n",
    "    yaxis_title='RMSE',\n",
    "    template='plotly_white',\n",
    "    showlegend=True\n",
    ")\n",
    "\n",
    "# Show the plot\n",
    "fig.show()\n"
   ]
  },
  {
   "cell_type": "markdown",
   "id": "0c370759-ed9f-4a27-9a74-04622668aa77",
   "metadata": {},
   "source": [
    "## We are getting this scores : - \n",
    "\n",
    "RMSE: 0.2998\n",
    "\n",
    "MAE: 0.2226\n",
    "\n",
    "Precision: 0.9660\n",
    "\n",
    "Recall: 0.9708\n",
    "\n",
    "F1-Score: 0.9684"
   ]
  },
  {
   "cell_type": "markdown",
   "id": "b9a71b0b-0f94-4cd4-b4fc-9e142b82b6a6",
   "metadata": {},
   "source": [
    "### These scores suggest that our model is performing quite well"
   ]
  },
  {
   "cell_type": "markdown",
   "id": "898c3bb3-cd30-42bc-aa73-69524d243556",
   "metadata": {},
   "source": [
    "### Printing the full predicted ratings matrix"
   ]
  },
  {
   "cell_type": "code",
   "execution_count": 74,
   "id": "6f67c84d-1f62-4f73-a35c-0a170f6d1bec",
   "metadata": {},
   "outputs": [
    {
     "name": "stdout",
     "output_type": "stream",
     "text": [
      "Full Predicted Ratings Matrix:\n",
      "[[4.23120274 3.47046323 4.1416483  ... 3.13560263 3.50024867 3.27597337]\n",
      " [3.97818939 2.48813318 1.02787263 ... 3.23166499 3.60108502 3.5524115 ]\n",
      " [3.065712   1.28467866 3.29954683 ... 2.40405072 2.76339064 2.69598041]\n",
      " ...\n",
      " [4.91414915 3.30473889 3.66344333 ... 3.42994612 3.74553609 3.60913776]\n",
      " [3.79804859 3.53167126 3.95118042 ... 3.65019779 3.90039846 3.82843339]\n",
      " [2.64131322 4.49067304 2.98345099 ... 2.75711892 3.3218612  3.08281145]]\n",
      "Predicted rating for user 1 and item 6: 3.3381\n",
      "Predicted Ratings for the first 5 users and items:\n",
      "User 0 - Item 0: 4.2312\n",
      "User 0 - Item 1: 3.4705\n",
      "User 0 - Item 2: 4.1416\n",
      "User 0 - Item 3: 3.4137\n",
      "User 0 - Item 4: 3.0693\n",
      "User 1 - Item 0: 3.9782\n",
      "User 1 - Item 1: 2.4881\n",
      "User 1 - Item 2: 1.0279\n",
      "User 1 - Item 3: 3.6549\n",
      "User 1 - Item 4: 3.2899\n",
      "User 2 - Item 0: 3.0657\n",
      "User 2 - Item 1: 1.2847\n",
      "User 2 - Item 2: 3.2995\n",
      "User 2 - Item 3: 2.8125\n",
      "User 2 - Item 4: 2.5699\n",
      "User 3 - Item 0: 5.7893\n",
      "User 3 - Item 1: 3.8766\n",
      "User 3 - Item 2: 3.9438\n",
      "User 3 - Item 3: 3.4953\n",
      "User 3 - Item 4: 3.7684\n",
      "User 4 - Item 0: 4.0394\n",
      "User 4 - Item 1: 2.9436\n",
      "User 4 - Item 2: 3.3013\n",
      "User 4 - Item 3: 3.6719\n",
      "User 4 - Item 4: 1.4067\n"
     ]
    }
   ],
   "source": [
    "\n",
    "predicted_ratings = mf.full_matrix()\n",
    "\n",
    "# Display the full predicted ratings matrix\n",
    "print(\"Full Predicted Ratings Matrix:\")\n",
    "print(predicted_ratings)\n",
    "\n",
    "# Get predictions for specific user-item pairs\n",
    "# For example, to get the prediction for user 0 and item 0\n",
    "user_id = 1\n",
    "item_id = 6\n",
    "predicted_rating = mf.get_rating(user_id, item_id)\n",
    "print(f\"Predicted rating for user {user_id} and item {item_id}: {predicted_rating:.4f}\")\n",
    "\n",
    "# Display predictions for the first 5 users and items\n",
    "print(\"Predicted Ratings for the first 5 users and items:\")\n",
    "for user_id in range(5):\n",
    "    for item_id in range(5):\n",
    "        print(f\"User {user_id} - Item {item_id}: {mf.get_rating(user_id, item_id):.4f}\")\n"
   ]
  },
  {
   "cell_type": "markdown",
   "id": "20b9644b-120a-43fe-9261-29fa43533b09",
   "metadata": {},
   "source": [
    "## Printing the User-Item Matrix with Predicted Ratings"
   ]
  },
  {
   "cell_type": "code",
   "execution_count": 75,
   "id": "f557236b-3cd8-44b0-9028-6f5b885d2780",
   "metadata": {},
   "outputs": [
    {
     "name": "stdout",
     "output_type": "stream",
     "text": [
      "Completed User-Item Matrix with Predicted Ratings:\n",
      "            Item 1    Item 2    Item 3    Item 4    Item 5    Item 6  \\\n",
      "User 1    5.000000  3.000000  4.000000  3.000000  3.000000  5.000000   \n",
      "User 2    4.000000  2.488133  1.027873  3.654863  3.289871  5.256218   \n",
      "User 3    3.065712  1.284679  3.299547  2.812457  2.569885  3.167702   \n",
      "User 4    5.789298  3.876607  3.943820  3.495348  3.768437  5.582695   \n",
      "User 5    4.000000  3.000000  3.301281  3.671915  1.406657  2.396857   \n",
      "...            ...       ...       ...       ...       ...       ...   \n",
      "User 939  5.701283  4.323527  4.188329  3.912037  5.374233  5.346306   \n",
      "User 940  4.951378  4.444799  1.357235  2.000000  4.667230  2.658622   \n",
      "User 941  5.000000  3.304739  3.663443  3.622037  4.048918  4.967722   \n",
      "User 942  3.798049  3.531671  3.951180  4.679626  3.355354  4.082726   \n",
      "User 943  2.641313  5.000000  2.983451  4.076844  4.091099  1.626026   \n",
      "\n",
      "            Item 7    Item 8    Item 9   Item 10  ...  Item 1673  Item 1674  \\\n",
      "User 1    4.000000  1.000000  5.000000  3.000000  ...   3.335042   3.571606   \n",
      "User 2    3.338111  4.256428  3.710161  2.000000  ...   3.067784   3.659690   \n",
      "User 3    2.169451  2.450210  4.297653  2.605515  ...   2.417439   2.783775   \n",
      "User 4    4.259311  4.787424  4.763466  5.527660  ...   4.097199   4.465048   \n",
      "User 5    4.609784  1.772344  6.017505  3.117508  ...   2.872379   3.178427   \n",
      "...            ...       ...       ...       ...  ...        ...        ...   \n",
      "User 939  6.026273  4.495950  5.000000  4.910988  ...   4.133116   4.471791   \n",
      "User 940  4.000000  5.000000  3.000000  4.464820  ...   3.078067   3.410232   \n",
      "User 941  4.000000  4.040573  3.956633  4.532933  ...   3.561714   3.830943   \n",
      "User 942  3.056196  5.282896  4.070937  3.647413  ...   3.472092   3.975791   \n",
      "User 943  3.106876  3.167681  3.000000  4.728630  ...   2.893990   3.279166   \n",
      "\n",
      "          Item 1675  Item 1676  Item 1677  Item 1678  Item 1679  Item 1680  \\\n",
      "User 1     3.466702   3.208826   3.376160   2.900699   3.397136   3.135603   \n",
      "User 2     3.440235   3.251351   3.541070   3.041293   3.504379   3.231665   \n",
      "User 3     2.536855   2.263214   2.838976   2.260935   2.739438   2.404051   \n",
      "User 4     4.259121   3.978159   4.293024   3.774534   4.258290   4.084049   \n",
      "User 5     2.891051   2.659402   3.005024   2.530077   3.015615   2.690488   \n",
      "...             ...        ...        ...        ...        ...        ...   \n",
      "User 939   4.255038   4.059561   4.355685   3.719554   4.262428   3.996440   \n",
      "User 940   3.157409   2.907506   3.475620   2.678217   3.317374   3.037925   \n",
      "User 941   3.516414   3.212199   3.737873   3.056777   3.747626   3.429946   \n",
      "User 942   3.605884   3.155926   3.967774   3.443910   3.825311   3.650198   \n",
      "User 943   2.882229   2.367395   3.093019   2.220823   3.054165   2.757119   \n",
      "\n",
      "          Item 1681  Item 1682  \n",
      "User 1     3.500249   3.275973  \n",
      "User 2     3.601085   3.552412  \n",
      "User 3     2.763391   2.695980  \n",
      "User 4     4.345899   4.294511  \n",
      "User 5     3.055232   2.849747  \n",
      "...             ...        ...  \n",
      "User 939   4.392004   4.306632  \n",
      "User 940   3.467505   3.364184  \n",
      "User 941   3.745536   3.609138  \n",
      "User 942   3.900398   3.828433  \n",
      "User 943   3.321861   3.082811  \n",
      "\n",
      "[943 rows x 1682 columns]\n"
     ]
    }
   ],
   "source": [
    "# Get the full predicted ratings matrix\n",
    "predicted_ratings = mf.full_matrix()\n",
    "\n",
    "# Replace the zeros in the original matrix with the predicted ratings\n",
    "completed_matrix = R.copy()\n",
    "completed_matrix[completed_matrix == 0] = predicted_ratings[completed_matrix == 0]\n",
    "\n",
    "# Convert to DataFrame for better readability\n",
    "completed_matrix_df = pd.DataFrame(completed_matrix, columns=[f'Item {i+1}' for i in range(num_items)], index=[f'User {i+1}' for i in range(num_users)])\n",
    "\n",
    "print(\"Completed User-Item Matrix with Predicted Ratings:\")\n",
    "print(completed_matrix_df)"
   ]
  },
  {
   "cell_type": "markdown",
   "id": "4d1acbaa-18a2-4513-84d7-0f1cf3dec3a9",
   "metadata": {},
   "source": [
    "## --------------------------------------------------------------------------------------------------"
   ]
  },
  {
   "cell_type": "markdown",
   "id": "b05d90bd-463c-4b26-9869-1981264f5d68",
   "metadata": {},
   "source": [
    "# Part : - 2 "
   ]
  },
  {
   "cell_type": "markdown",
   "id": "207b0336-4035-46f7-a7b2-7f6c8f1956ed",
   "metadata": {},
   "source": [
    "# Building the Hybrid Recommender System"
   ]
  },
  {
   "cell_type": "code",
   "execution_count": 93,
   "id": "8cc10460-c12d-4c72-b52c-3ced045661a9",
   "metadata": {},
   "outputs": [
    {
     "name": "stdout",
     "output_type": "stream",
     "text": [
      "Requirement already satisfied: nltk in /opt/homebrew/anaconda3/lib/python3.11/site-packages (3.8.1)\n",
      "Requirement already satisfied: click in /opt/homebrew/anaconda3/lib/python3.11/site-packages (from nltk) (8.1.7)\n",
      "Requirement already satisfied: joblib in /opt/homebrew/anaconda3/lib/python3.11/site-packages (from nltk) (1.4.2)\n",
      "Requirement already satisfied: regex>=2021.8.3 in /opt/homebrew/anaconda3/lib/python3.11/site-packages (from nltk) (2023.10.3)\n",
      "Requirement already satisfied: tqdm in /opt/homebrew/anaconda3/lib/python3.11/site-packages (from nltk) (4.66.4)\n",
      "\n",
      "\u001b[1m[\u001b[0m\u001b[34;49mnotice\u001b[0m\u001b[1;39;49m]\u001b[0m\u001b[39;49m A new release of pip is available: \u001b[0m\u001b[31;49m24.1.2\u001b[0m\u001b[39;49m -> \u001b[0m\u001b[32;49m24.2\u001b[0m\n",
      "\u001b[1m[\u001b[0m\u001b[34;49mnotice\u001b[0m\u001b[1;39;49m]\u001b[0m\u001b[39;49m To update, run: \u001b[0m\u001b[32;49mpip install --upgrade pip\u001b[0m\n",
      "Note: you may need to restart the kernel to use updated packages.\n"
     ]
    }
   ],
   "source": [
    "pip install nltk\n"
   ]
  },
  {
   "cell_type": "code",
   "execution_count": 86,
   "id": "b94d7bf4-a0a8-444b-88fd-b2c0375551c6",
   "metadata": {},
   "outputs": [
    {
     "name": "stdout",
     "output_type": "stream",
     "text": [
      "Collecting IMDbPY\n",
      "  Downloading IMDbPY-2022.7.9-py3-none-any.whl.metadata (498 bytes)\n",
      "Collecting cinemagoer (from IMDbPY)\n",
      "  Downloading cinemagoer-2023.5.1-py3-none-any.whl.metadata (2.9 kB)\n",
      "Requirement already satisfied: SQLAlchemy in /opt/homebrew/anaconda3/lib/python3.11/site-packages (from cinemagoer->IMDbPY) (2.0.30)\n",
      "Requirement already satisfied: lxml in /opt/homebrew/anaconda3/lib/python3.11/site-packages (from cinemagoer->IMDbPY) (5.2.1)\n",
      "Requirement already satisfied: typing-extensions>=4.6.0 in /opt/homebrew/anaconda3/lib/python3.11/site-packages (from SQLAlchemy->cinemagoer->IMDbPY) (4.11.0)\n",
      "Downloading IMDbPY-2022.7.9-py3-none-any.whl (1.2 kB)\n",
      "Downloading cinemagoer-2023.5.1-py3-none-any.whl (297 kB)\n",
      "\u001b[2K   \u001b[90m━━━━━━━━━━━━━━━━━━━━━━━━━━━━━━━━━━━━━━━━\u001b[0m \u001b[32m297.2/297.2 kB\u001b[0m \u001b[31m9.6 MB/s\u001b[0m eta \u001b[36m0:00:00\u001b[0m\n",
      "\u001b[?25hInstalling collected packages: cinemagoer, IMDbPY\n",
      "Successfully installed IMDbPY-2022.7.9 cinemagoer-2023.5.1\n",
      "\n",
      "\u001b[1m[\u001b[0m\u001b[34;49mnotice\u001b[0m\u001b[1;39;49m]\u001b[0m\u001b[39;49m A new release of pip is available: \u001b[0m\u001b[31;49m24.1.2\u001b[0m\u001b[39;49m -> \u001b[0m\u001b[32;49m24.2\u001b[0m\n",
      "\u001b[1m[\u001b[0m\u001b[34;49mnotice\u001b[0m\u001b[1;39;49m]\u001b[0m\u001b[39;49m To update, run: \u001b[0m\u001b[32;49mpip install --upgrade pip\u001b[0m\n",
      "Note: you may need to restart the kernel to use updated packages.\n"
     ]
    }
   ],
   "source": [
    "pip install IMDbPY\n"
   ]
  },
  {
   "cell_type": "code",
   "execution_count": 76,
   "id": "ea965a3e-8091-46cb-af68-b8edb56f96b1",
   "metadata": {},
   "outputs": [],
   "source": [
    "u_item = pd.read_csv('/Users/salmanmohamm3d/Desktop/Sem 3/Social M A/Final Project/u.item', sep='|', names=['movie_id', 'movie_title', 'release_date', 'video_release_date', 'IMDb_URL', 'unknown', 'Action', 'Adventure', 'Animation', 'Children\\'s', 'Comedy', 'Crime', 'Documentary', 'Drama', 'Fantasy', 'Film-Noir', 'Horror', 'Musical', 'Mystery', 'Romance', 'Sci-Fi', 'Thriller', 'War', 'Western'], encoding='latin-1')"
   ]
  },
  {
   "cell_type": "code",
   "execution_count": 77,
   "id": "79a7c5f5-1fff-4948-a1d8-5a796097af6c",
   "metadata": {},
   "outputs": [
    {
     "data": {
      "text/html": [
       "<div>\n",
       "<style scoped>\n",
       "    .dataframe tbody tr th:only-of-type {\n",
       "        vertical-align: middle;\n",
       "    }\n",
       "\n",
       "    .dataframe tbody tr th {\n",
       "        vertical-align: top;\n",
       "    }\n",
       "\n",
       "    .dataframe thead th {\n",
       "        text-align: right;\n",
       "    }\n",
       "</style>\n",
       "<table border=\"1\" class=\"dataframe\">\n",
       "  <thead>\n",
       "    <tr style=\"text-align: right;\">\n",
       "      <th></th>\n",
       "      <th>movie_id</th>\n",
       "      <th>movie_title</th>\n",
       "      <th>release_date</th>\n",
       "      <th>IMDb_URL</th>\n",
       "      <th>unknown</th>\n",
       "      <th>Action</th>\n",
       "      <th>Adventure</th>\n",
       "      <th>Animation</th>\n",
       "      <th>Children's</th>\n",
       "      <th>Comedy</th>\n",
       "      <th>...</th>\n",
       "      <th>Fantasy</th>\n",
       "      <th>Film-Noir</th>\n",
       "      <th>Horror</th>\n",
       "      <th>Musical</th>\n",
       "      <th>Mystery</th>\n",
       "      <th>Romance</th>\n",
       "      <th>Sci-Fi</th>\n",
       "      <th>Thriller</th>\n",
       "      <th>War</th>\n",
       "      <th>Western</th>\n",
       "    </tr>\n",
       "  </thead>\n",
       "  <tbody>\n",
       "    <tr>\n",
       "      <th>0</th>\n",
       "      <td>1</td>\n",
       "      <td>Toy Story (1995)</td>\n",
       "      <td>01-Jan-1995</td>\n",
       "      <td>http://us.imdb.com/M/title-exact?Toy%20Story%2...</td>\n",
       "      <td>0</td>\n",
       "      <td>0</td>\n",
       "      <td>0</td>\n",
       "      <td>1</td>\n",
       "      <td>1</td>\n",
       "      <td>1</td>\n",
       "      <td>...</td>\n",
       "      <td>0</td>\n",
       "      <td>0</td>\n",
       "      <td>0</td>\n",
       "      <td>0</td>\n",
       "      <td>0</td>\n",
       "      <td>0</td>\n",
       "      <td>0</td>\n",
       "      <td>0</td>\n",
       "      <td>0</td>\n",
       "      <td>0</td>\n",
       "    </tr>\n",
       "    <tr>\n",
       "      <th>1</th>\n",
       "      <td>2</td>\n",
       "      <td>GoldenEye (1995)</td>\n",
       "      <td>01-Jan-1995</td>\n",
       "      <td>http://us.imdb.com/M/title-exact?GoldenEye%20(...</td>\n",
       "      <td>0</td>\n",
       "      <td>1</td>\n",
       "      <td>1</td>\n",
       "      <td>0</td>\n",
       "      <td>0</td>\n",
       "      <td>0</td>\n",
       "      <td>...</td>\n",
       "      <td>0</td>\n",
       "      <td>0</td>\n",
       "      <td>0</td>\n",
       "      <td>0</td>\n",
       "      <td>0</td>\n",
       "      <td>0</td>\n",
       "      <td>0</td>\n",
       "      <td>1</td>\n",
       "      <td>0</td>\n",
       "      <td>0</td>\n",
       "    </tr>\n",
       "    <tr>\n",
       "      <th>2</th>\n",
       "      <td>3</td>\n",
       "      <td>Four Rooms (1995)</td>\n",
       "      <td>01-Jan-1995</td>\n",
       "      <td>http://us.imdb.com/M/title-exact?Four%20Rooms%...</td>\n",
       "      <td>0</td>\n",
       "      <td>0</td>\n",
       "      <td>0</td>\n",
       "      <td>0</td>\n",
       "      <td>0</td>\n",
       "      <td>0</td>\n",
       "      <td>...</td>\n",
       "      <td>0</td>\n",
       "      <td>0</td>\n",
       "      <td>0</td>\n",
       "      <td>0</td>\n",
       "      <td>0</td>\n",
       "      <td>0</td>\n",
       "      <td>0</td>\n",
       "      <td>1</td>\n",
       "      <td>0</td>\n",
       "      <td>0</td>\n",
       "    </tr>\n",
       "    <tr>\n",
       "      <th>3</th>\n",
       "      <td>4</td>\n",
       "      <td>Get Shorty (1995)</td>\n",
       "      <td>01-Jan-1995</td>\n",
       "      <td>http://us.imdb.com/M/title-exact?Get%20Shorty%...</td>\n",
       "      <td>0</td>\n",
       "      <td>1</td>\n",
       "      <td>0</td>\n",
       "      <td>0</td>\n",
       "      <td>0</td>\n",
       "      <td>1</td>\n",
       "      <td>...</td>\n",
       "      <td>0</td>\n",
       "      <td>0</td>\n",
       "      <td>0</td>\n",
       "      <td>0</td>\n",
       "      <td>0</td>\n",
       "      <td>0</td>\n",
       "      <td>0</td>\n",
       "      <td>0</td>\n",
       "      <td>0</td>\n",
       "      <td>0</td>\n",
       "    </tr>\n",
       "    <tr>\n",
       "      <th>4</th>\n",
       "      <td>5</td>\n",
       "      <td>Copycat (1995)</td>\n",
       "      <td>01-Jan-1995</td>\n",
       "      <td>http://us.imdb.com/M/title-exact?Copycat%20(1995)</td>\n",
       "      <td>0</td>\n",
       "      <td>0</td>\n",
       "      <td>0</td>\n",
       "      <td>0</td>\n",
       "      <td>0</td>\n",
       "      <td>0</td>\n",
       "      <td>...</td>\n",
       "      <td>0</td>\n",
       "      <td>0</td>\n",
       "      <td>0</td>\n",
       "      <td>0</td>\n",
       "      <td>0</td>\n",
       "      <td>0</td>\n",
       "      <td>0</td>\n",
       "      <td>1</td>\n",
       "      <td>0</td>\n",
       "      <td>0</td>\n",
       "    </tr>\n",
       "    <tr>\n",
       "      <th>5</th>\n",
       "      <td>6</td>\n",
       "      <td>Shanghai Triad (Yao a yao yao dao waipo qiao) ...</td>\n",
       "      <td>01-Jan-1995</td>\n",
       "      <td>http://us.imdb.com/Title?Yao+a+yao+yao+dao+wai...</td>\n",
       "      <td>0</td>\n",
       "      <td>0</td>\n",
       "      <td>0</td>\n",
       "      <td>0</td>\n",
       "      <td>0</td>\n",
       "      <td>0</td>\n",
       "      <td>...</td>\n",
       "      <td>0</td>\n",
       "      <td>0</td>\n",
       "      <td>0</td>\n",
       "      <td>0</td>\n",
       "      <td>0</td>\n",
       "      <td>0</td>\n",
       "      <td>0</td>\n",
       "      <td>0</td>\n",
       "      <td>0</td>\n",
       "      <td>0</td>\n",
       "    </tr>\n",
       "    <tr>\n",
       "      <th>6</th>\n",
       "      <td>7</td>\n",
       "      <td>Twelve Monkeys (1995)</td>\n",
       "      <td>01-Jan-1995</td>\n",
       "      <td>http://us.imdb.com/M/title-exact?Twelve%20Monk...</td>\n",
       "      <td>0</td>\n",
       "      <td>0</td>\n",
       "      <td>0</td>\n",
       "      <td>0</td>\n",
       "      <td>0</td>\n",
       "      <td>0</td>\n",
       "      <td>...</td>\n",
       "      <td>0</td>\n",
       "      <td>0</td>\n",
       "      <td>0</td>\n",
       "      <td>0</td>\n",
       "      <td>0</td>\n",
       "      <td>0</td>\n",
       "      <td>1</td>\n",
       "      <td>0</td>\n",
       "      <td>0</td>\n",
       "      <td>0</td>\n",
       "    </tr>\n",
       "    <tr>\n",
       "      <th>7</th>\n",
       "      <td>8</td>\n",
       "      <td>Babe (1995)</td>\n",
       "      <td>01-Jan-1995</td>\n",
       "      <td>http://us.imdb.com/M/title-exact?Babe%20(1995)</td>\n",
       "      <td>0</td>\n",
       "      <td>0</td>\n",
       "      <td>0</td>\n",
       "      <td>0</td>\n",
       "      <td>1</td>\n",
       "      <td>1</td>\n",
       "      <td>...</td>\n",
       "      <td>0</td>\n",
       "      <td>0</td>\n",
       "      <td>0</td>\n",
       "      <td>0</td>\n",
       "      <td>0</td>\n",
       "      <td>0</td>\n",
       "      <td>0</td>\n",
       "      <td>0</td>\n",
       "      <td>0</td>\n",
       "      <td>0</td>\n",
       "    </tr>\n",
       "    <tr>\n",
       "      <th>8</th>\n",
       "      <td>9</td>\n",
       "      <td>Dead Man Walking (1995)</td>\n",
       "      <td>01-Jan-1995</td>\n",
       "      <td>http://us.imdb.com/M/title-exact?Dead%20Man%20...</td>\n",
       "      <td>0</td>\n",
       "      <td>0</td>\n",
       "      <td>0</td>\n",
       "      <td>0</td>\n",
       "      <td>0</td>\n",
       "      <td>0</td>\n",
       "      <td>...</td>\n",
       "      <td>0</td>\n",
       "      <td>0</td>\n",
       "      <td>0</td>\n",
       "      <td>0</td>\n",
       "      <td>0</td>\n",
       "      <td>0</td>\n",
       "      <td>0</td>\n",
       "      <td>0</td>\n",
       "      <td>0</td>\n",
       "      <td>0</td>\n",
       "    </tr>\n",
       "    <tr>\n",
       "      <th>9</th>\n",
       "      <td>10</td>\n",
       "      <td>Richard III (1995)</td>\n",
       "      <td>22-Jan-1996</td>\n",
       "      <td>http://us.imdb.com/M/title-exact?Richard%20III...</td>\n",
       "      <td>0</td>\n",
       "      <td>0</td>\n",
       "      <td>0</td>\n",
       "      <td>0</td>\n",
       "      <td>0</td>\n",
       "      <td>0</td>\n",
       "      <td>...</td>\n",
       "      <td>0</td>\n",
       "      <td>0</td>\n",
       "      <td>0</td>\n",
       "      <td>0</td>\n",
       "      <td>0</td>\n",
       "      <td>0</td>\n",
       "      <td>0</td>\n",
       "      <td>0</td>\n",
       "      <td>1</td>\n",
       "      <td>0</td>\n",
       "    </tr>\n",
       "    <tr>\n",
       "      <th>10</th>\n",
       "      <td>11</td>\n",
       "      <td>Seven (Se7en) (1995)</td>\n",
       "      <td>01-Jan-1995</td>\n",
       "      <td>http://us.imdb.com/M/title-exact?Se7en%20(1995)</td>\n",
       "      <td>0</td>\n",
       "      <td>0</td>\n",
       "      <td>0</td>\n",
       "      <td>0</td>\n",
       "      <td>0</td>\n",
       "      <td>0</td>\n",
       "      <td>...</td>\n",
       "      <td>0</td>\n",
       "      <td>0</td>\n",
       "      <td>0</td>\n",
       "      <td>0</td>\n",
       "      <td>0</td>\n",
       "      <td>0</td>\n",
       "      <td>0</td>\n",
       "      <td>1</td>\n",
       "      <td>0</td>\n",
       "      <td>0</td>\n",
       "    </tr>\n",
       "    <tr>\n",
       "      <th>11</th>\n",
       "      <td>12</td>\n",
       "      <td>Usual Suspects, The (1995)</td>\n",
       "      <td>14-Aug-1995</td>\n",
       "      <td>http://us.imdb.com/M/title-exact?Usual%20Suspe...</td>\n",
       "      <td>0</td>\n",
       "      <td>0</td>\n",
       "      <td>0</td>\n",
       "      <td>0</td>\n",
       "      <td>0</td>\n",
       "      <td>0</td>\n",
       "      <td>...</td>\n",
       "      <td>0</td>\n",
       "      <td>0</td>\n",
       "      <td>0</td>\n",
       "      <td>0</td>\n",
       "      <td>0</td>\n",
       "      <td>0</td>\n",
       "      <td>0</td>\n",
       "      <td>1</td>\n",
       "      <td>0</td>\n",
       "      <td>0</td>\n",
       "    </tr>\n",
       "    <tr>\n",
       "      <th>12</th>\n",
       "      <td>13</td>\n",
       "      <td>Mighty Aphrodite (1995)</td>\n",
       "      <td>30-Oct-1995</td>\n",
       "      <td>http://us.imdb.com/M/title-exact?Mighty%20Aphr...</td>\n",
       "      <td>0</td>\n",
       "      <td>0</td>\n",
       "      <td>0</td>\n",
       "      <td>0</td>\n",
       "      <td>0</td>\n",
       "      <td>1</td>\n",
       "      <td>...</td>\n",
       "      <td>0</td>\n",
       "      <td>0</td>\n",
       "      <td>0</td>\n",
       "      <td>0</td>\n",
       "      <td>0</td>\n",
       "      <td>0</td>\n",
       "      <td>0</td>\n",
       "      <td>0</td>\n",
       "      <td>0</td>\n",
       "      <td>0</td>\n",
       "    </tr>\n",
       "    <tr>\n",
       "      <th>13</th>\n",
       "      <td>14</td>\n",
       "      <td>Postino, Il (1994)</td>\n",
       "      <td>01-Jan-1994</td>\n",
       "      <td>http://us.imdb.com/M/title-exact?Postino,%20Il...</td>\n",
       "      <td>0</td>\n",
       "      <td>0</td>\n",
       "      <td>0</td>\n",
       "      <td>0</td>\n",
       "      <td>0</td>\n",
       "      <td>0</td>\n",
       "      <td>...</td>\n",
       "      <td>0</td>\n",
       "      <td>0</td>\n",
       "      <td>0</td>\n",
       "      <td>0</td>\n",
       "      <td>0</td>\n",
       "      <td>1</td>\n",
       "      <td>0</td>\n",
       "      <td>0</td>\n",
       "      <td>0</td>\n",
       "      <td>0</td>\n",
       "    </tr>\n",
       "    <tr>\n",
       "      <th>14</th>\n",
       "      <td>15</td>\n",
       "      <td>Mr. Holland's Opus (1995)</td>\n",
       "      <td>29-Jan-1996</td>\n",
       "      <td>http://us.imdb.com/M/title-exact?Mr.%20Holland...</td>\n",
       "      <td>0</td>\n",
       "      <td>0</td>\n",
       "      <td>0</td>\n",
       "      <td>0</td>\n",
       "      <td>0</td>\n",
       "      <td>0</td>\n",
       "      <td>...</td>\n",
       "      <td>0</td>\n",
       "      <td>0</td>\n",
       "      <td>0</td>\n",
       "      <td>0</td>\n",
       "      <td>0</td>\n",
       "      <td>0</td>\n",
       "      <td>0</td>\n",
       "      <td>0</td>\n",
       "      <td>0</td>\n",
       "      <td>0</td>\n",
       "    </tr>\n",
       "    <tr>\n",
       "      <th>15</th>\n",
       "      <td>16</td>\n",
       "      <td>French Twist (Gazon maudit) (1995)</td>\n",
       "      <td>01-Jan-1995</td>\n",
       "      <td>http://us.imdb.com/M/title-exact?Gazon%20maudi...</td>\n",
       "      <td>0</td>\n",
       "      <td>0</td>\n",
       "      <td>0</td>\n",
       "      <td>0</td>\n",
       "      <td>0</td>\n",
       "      <td>1</td>\n",
       "      <td>...</td>\n",
       "      <td>0</td>\n",
       "      <td>0</td>\n",
       "      <td>0</td>\n",
       "      <td>0</td>\n",
       "      <td>0</td>\n",
       "      <td>1</td>\n",
       "      <td>0</td>\n",
       "      <td>0</td>\n",
       "      <td>0</td>\n",
       "      <td>0</td>\n",
       "    </tr>\n",
       "    <tr>\n",
       "      <th>16</th>\n",
       "      <td>17</td>\n",
       "      <td>From Dusk Till Dawn (1996)</td>\n",
       "      <td>05-Feb-1996</td>\n",
       "      <td>http://us.imdb.com/M/title-exact?From%20Dusk%2...</td>\n",
       "      <td>0</td>\n",
       "      <td>1</td>\n",
       "      <td>0</td>\n",
       "      <td>0</td>\n",
       "      <td>0</td>\n",
       "      <td>1</td>\n",
       "      <td>...</td>\n",
       "      <td>0</td>\n",
       "      <td>0</td>\n",
       "      <td>1</td>\n",
       "      <td>0</td>\n",
       "      <td>0</td>\n",
       "      <td>0</td>\n",
       "      <td>0</td>\n",
       "      <td>1</td>\n",
       "      <td>0</td>\n",
       "      <td>0</td>\n",
       "    </tr>\n",
       "    <tr>\n",
       "      <th>17</th>\n",
       "      <td>18</td>\n",
       "      <td>White Balloon, The (1995)</td>\n",
       "      <td>01-Jan-1995</td>\n",
       "      <td>http://us.imdb.com/M/title-exact?Badkonake%20S...</td>\n",
       "      <td>0</td>\n",
       "      <td>0</td>\n",
       "      <td>0</td>\n",
       "      <td>0</td>\n",
       "      <td>0</td>\n",
       "      <td>0</td>\n",
       "      <td>...</td>\n",
       "      <td>0</td>\n",
       "      <td>0</td>\n",
       "      <td>0</td>\n",
       "      <td>0</td>\n",
       "      <td>0</td>\n",
       "      <td>0</td>\n",
       "      <td>0</td>\n",
       "      <td>0</td>\n",
       "      <td>0</td>\n",
       "      <td>0</td>\n",
       "    </tr>\n",
       "    <tr>\n",
       "      <th>18</th>\n",
       "      <td>19</td>\n",
       "      <td>Antonia's Line (1995)</td>\n",
       "      <td>01-Jan-1995</td>\n",
       "      <td>http://us.imdb.com/M/title-exact?Antonia%20(1995)</td>\n",
       "      <td>0</td>\n",
       "      <td>0</td>\n",
       "      <td>0</td>\n",
       "      <td>0</td>\n",
       "      <td>0</td>\n",
       "      <td>0</td>\n",
       "      <td>...</td>\n",
       "      <td>0</td>\n",
       "      <td>0</td>\n",
       "      <td>0</td>\n",
       "      <td>0</td>\n",
       "      <td>0</td>\n",
       "      <td>0</td>\n",
       "      <td>0</td>\n",
       "      <td>0</td>\n",
       "      <td>0</td>\n",
       "      <td>0</td>\n",
       "    </tr>\n",
       "    <tr>\n",
       "      <th>19</th>\n",
       "      <td>20</td>\n",
       "      <td>Angels and Insects (1995)</td>\n",
       "      <td>01-Jan-1995</td>\n",
       "      <td>http://us.imdb.com/M/title-exact?Angels%20and%...</td>\n",
       "      <td>0</td>\n",
       "      <td>0</td>\n",
       "      <td>0</td>\n",
       "      <td>0</td>\n",
       "      <td>0</td>\n",
       "      <td>0</td>\n",
       "      <td>...</td>\n",
       "      <td>0</td>\n",
       "      <td>0</td>\n",
       "      <td>0</td>\n",
       "      <td>0</td>\n",
       "      <td>0</td>\n",
       "      <td>1</td>\n",
       "      <td>0</td>\n",
       "      <td>0</td>\n",
       "      <td>0</td>\n",
       "      <td>0</td>\n",
       "    </tr>\n",
       "  </tbody>\n",
       "</table>\n",
       "<p>20 rows × 23 columns</p>\n",
       "</div>"
      ],
      "text/plain": [
       "    movie_id                                        movie_title release_date  \\\n",
       "0          1                                   Toy Story (1995)  01-Jan-1995   \n",
       "1          2                                   GoldenEye (1995)  01-Jan-1995   \n",
       "2          3                                  Four Rooms (1995)  01-Jan-1995   \n",
       "3          4                                  Get Shorty (1995)  01-Jan-1995   \n",
       "4          5                                     Copycat (1995)  01-Jan-1995   \n",
       "5          6  Shanghai Triad (Yao a yao yao dao waipo qiao) ...  01-Jan-1995   \n",
       "6          7                              Twelve Monkeys (1995)  01-Jan-1995   \n",
       "7          8                                        Babe (1995)  01-Jan-1995   \n",
       "8          9                            Dead Man Walking (1995)  01-Jan-1995   \n",
       "9         10                                 Richard III (1995)  22-Jan-1996   \n",
       "10        11                               Seven (Se7en) (1995)  01-Jan-1995   \n",
       "11        12                         Usual Suspects, The (1995)  14-Aug-1995   \n",
       "12        13                            Mighty Aphrodite (1995)  30-Oct-1995   \n",
       "13        14                                 Postino, Il (1994)  01-Jan-1994   \n",
       "14        15                          Mr. Holland's Opus (1995)  29-Jan-1996   \n",
       "15        16                 French Twist (Gazon maudit) (1995)  01-Jan-1995   \n",
       "16        17                         From Dusk Till Dawn (1996)  05-Feb-1996   \n",
       "17        18                          White Balloon, The (1995)  01-Jan-1995   \n",
       "18        19                              Antonia's Line (1995)  01-Jan-1995   \n",
       "19        20                          Angels and Insects (1995)  01-Jan-1995   \n",
       "\n",
       "                                             IMDb_URL  unknown  Action  \\\n",
       "0   http://us.imdb.com/M/title-exact?Toy%20Story%2...        0       0   \n",
       "1   http://us.imdb.com/M/title-exact?GoldenEye%20(...        0       1   \n",
       "2   http://us.imdb.com/M/title-exact?Four%20Rooms%...        0       0   \n",
       "3   http://us.imdb.com/M/title-exact?Get%20Shorty%...        0       1   \n",
       "4   http://us.imdb.com/M/title-exact?Copycat%20(1995)        0       0   \n",
       "5   http://us.imdb.com/Title?Yao+a+yao+yao+dao+wai...        0       0   \n",
       "6   http://us.imdb.com/M/title-exact?Twelve%20Monk...        0       0   \n",
       "7      http://us.imdb.com/M/title-exact?Babe%20(1995)        0       0   \n",
       "8   http://us.imdb.com/M/title-exact?Dead%20Man%20...        0       0   \n",
       "9   http://us.imdb.com/M/title-exact?Richard%20III...        0       0   \n",
       "10    http://us.imdb.com/M/title-exact?Se7en%20(1995)        0       0   \n",
       "11  http://us.imdb.com/M/title-exact?Usual%20Suspe...        0       0   \n",
       "12  http://us.imdb.com/M/title-exact?Mighty%20Aphr...        0       0   \n",
       "13  http://us.imdb.com/M/title-exact?Postino,%20Il...        0       0   \n",
       "14  http://us.imdb.com/M/title-exact?Mr.%20Holland...        0       0   \n",
       "15  http://us.imdb.com/M/title-exact?Gazon%20maudi...        0       0   \n",
       "16  http://us.imdb.com/M/title-exact?From%20Dusk%2...        0       1   \n",
       "17  http://us.imdb.com/M/title-exact?Badkonake%20S...        0       0   \n",
       "18  http://us.imdb.com/M/title-exact?Antonia%20(1995)        0       0   \n",
       "19  http://us.imdb.com/M/title-exact?Angels%20and%...        0       0   \n",
       "\n",
       "    Adventure  Animation  Children's  Comedy  ...  Fantasy  Film-Noir  Horror  \\\n",
       "0           0          1           1       1  ...        0          0       0   \n",
       "1           1          0           0       0  ...        0          0       0   \n",
       "2           0          0           0       0  ...        0          0       0   \n",
       "3           0          0           0       1  ...        0          0       0   \n",
       "4           0          0           0       0  ...        0          0       0   \n",
       "5           0          0           0       0  ...        0          0       0   \n",
       "6           0          0           0       0  ...        0          0       0   \n",
       "7           0          0           1       1  ...        0          0       0   \n",
       "8           0          0           0       0  ...        0          0       0   \n",
       "9           0          0           0       0  ...        0          0       0   \n",
       "10          0          0           0       0  ...        0          0       0   \n",
       "11          0          0           0       0  ...        0          0       0   \n",
       "12          0          0           0       1  ...        0          0       0   \n",
       "13          0          0           0       0  ...        0          0       0   \n",
       "14          0          0           0       0  ...        0          0       0   \n",
       "15          0          0           0       1  ...        0          0       0   \n",
       "16          0          0           0       1  ...        0          0       1   \n",
       "17          0          0           0       0  ...        0          0       0   \n",
       "18          0          0           0       0  ...        0          0       0   \n",
       "19          0          0           0       0  ...        0          0       0   \n",
       "\n",
       "    Musical  Mystery  Romance  Sci-Fi  Thriller  War  Western  \n",
       "0         0        0        0       0         0    0        0  \n",
       "1         0        0        0       0         1    0        0  \n",
       "2         0        0        0       0         1    0        0  \n",
       "3         0        0        0       0         0    0        0  \n",
       "4         0        0        0       0         1    0        0  \n",
       "5         0        0        0       0         0    0        0  \n",
       "6         0        0        0       1         0    0        0  \n",
       "7         0        0        0       0         0    0        0  \n",
       "8         0        0        0       0         0    0        0  \n",
       "9         0        0        0       0         0    1        0  \n",
       "10        0        0        0       0         1    0        0  \n",
       "11        0        0        0       0         1    0        0  \n",
       "12        0        0        0       0         0    0        0  \n",
       "13        0        0        1       0         0    0        0  \n",
       "14        0        0        0       0         0    0        0  \n",
       "15        0        0        1       0         0    0        0  \n",
       "16        0        0        0       0         1    0        0  \n",
       "17        0        0        0       0         0    0        0  \n",
       "18        0        0        0       0         0    0        0  \n",
       "19        0        0        1       0         0    0        0  \n",
       "\n",
       "[20 rows x 23 columns]"
      ]
     },
     "execution_count": 77,
     "metadata": {},
     "output_type": "execute_result"
    }
   ],
   "source": [
    "u_item = u_item.drop('video_release_date', axis=1)\n",
    "u_item.head(20)"
   ]
  },
  {
   "cell_type": "markdown",
   "id": "cb494d4f-b170-448c-ad1a-6ca40bdd6bb7",
   "metadata": {},
   "source": [
    "### Extracting the Tag words from movie_title column"
   ]
  },
  {
   "cell_type": "code",
   "execution_count": 78,
   "id": "f53743d9-ba28-4c85-b837-8bb1403084d1",
   "metadata": {},
   "outputs": [
    {
     "data": {
      "text/html": [
       "<div>\n",
       "<style scoped>\n",
       "    .dataframe tbody tr th:only-of-type {\n",
       "        vertical-align: middle;\n",
       "    }\n",
       "\n",
       "    .dataframe tbody tr th {\n",
       "        vertical-align: top;\n",
       "    }\n",
       "\n",
       "    .dataframe thead th {\n",
       "        text-align: right;\n",
       "    }\n",
       "</style>\n",
       "<table border=\"1\" class=\"dataframe\">\n",
       "  <thead>\n",
       "    <tr style=\"text-align: right;\">\n",
       "      <th></th>\n",
       "      <th>movie_id</th>\n",
       "      <th>movie_title</th>\n",
       "      <th>release_date</th>\n",
       "      <th>IMDb_URL</th>\n",
       "      <th>unknown</th>\n",
       "      <th>Action</th>\n",
       "      <th>Adventure</th>\n",
       "      <th>Animation</th>\n",
       "      <th>Children's</th>\n",
       "      <th>Comedy</th>\n",
       "      <th>...</th>\n",
       "      <th>Film-Noir</th>\n",
       "      <th>Horror</th>\n",
       "      <th>Musical</th>\n",
       "      <th>Mystery</th>\n",
       "      <th>Romance</th>\n",
       "      <th>Sci-Fi</th>\n",
       "      <th>Thriller</th>\n",
       "      <th>War</th>\n",
       "      <th>Western</th>\n",
       "      <th>movie_tag_word</th>\n",
       "    </tr>\n",
       "  </thead>\n",
       "  <tbody>\n",
       "    <tr>\n",
       "      <th>0</th>\n",
       "      <td>1</td>\n",
       "      <td>Toy Story (1995)</td>\n",
       "      <td>01-Jan-1995</td>\n",
       "      <td>http://us.imdb.com/M/title-exact?Toy%20Story%2...</td>\n",
       "      <td>0</td>\n",
       "      <td>0</td>\n",
       "      <td>0</td>\n",
       "      <td>1</td>\n",
       "      <td>1</td>\n",
       "      <td>1</td>\n",
       "      <td>...</td>\n",
       "      <td>0</td>\n",
       "      <td>0</td>\n",
       "      <td>0</td>\n",
       "      <td>0</td>\n",
       "      <td>0</td>\n",
       "      <td>0</td>\n",
       "      <td>0</td>\n",
       "      <td>0</td>\n",
       "      <td>0</td>\n",
       "      <td>Toy Story</td>\n",
       "    </tr>\n",
       "    <tr>\n",
       "      <th>1</th>\n",
       "      <td>2</td>\n",
       "      <td>GoldenEye (1995)</td>\n",
       "      <td>01-Jan-1995</td>\n",
       "      <td>http://us.imdb.com/M/title-exact?GoldenEye%20(...</td>\n",
       "      <td>0</td>\n",
       "      <td>1</td>\n",
       "      <td>1</td>\n",
       "      <td>0</td>\n",
       "      <td>0</td>\n",
       "      <td>0</td>\n",
       "      <td>...</td>\n",
       "      <td>0</td>\n",
       "      <td>0</td>\n",
       "      <td>0</td>\n",
       "      <td>0</td>\n",
       "      <td>0</td>\n",
       "      <td>0</td>\n",
       "      <td>1</td>\n",
       "      <td>0</td>\n",
       "      <td>0</td>\n",
       "      <td>GoldenEye</td>\n",
       "    </tr>\n",
       "    <tr>\n",
       "      <th>2</th>\n",
       "      <td>3</td>\n",
       "      <td>Four Rooms (1995)</td>\n",
       "      <td>01-Jan-1995</td>\n",
       "      <td>http://us.imdb.com/M/title-exact?Four%20Rooms%...</td>\n",
       "      <td>0</td>\n",
       "      <td>0</td>\n",
       "      <td>0</td>\n",
       "      <td>0</td>\n",
       "      <td>0</td>\n",
       "      <td>0</td>\n",
       "      <td>...</td>\n",
       "      <td>0</td>\n",
       "      <td>0</td>\n",
       "      <td>0</td>\n",
       "      <td>0</td>\n",
       "      <td>0</td>\n",
       "      <td>0</td>\n",
       "      <td>1</td>\n",
       "      <td>0</td>\n",
       "      <td>0</td>\n",
       "      <td>Four Rooms</td>\n",
       "    </tr>\n",
       "    <tr>\n",
       "      <th>3</th>\n",
       "      <td>4</td>\n",
       "      <td>Get Shorty (1995)</td>\n",
       "      <td>01-Jan-1995</td>\n",
       "      <td>http://us.imdb.com/M/title-exact?Get%20Shorty%...</td>\n",
       "      <td>0</td>\n",
       "      <td>1</td>\n",
       "      <td>0</td>\n",
       "      <td>0</td>\n",
       "      <td>0</td>\n",
       "      <td>1</td>\n",
       "      <td>...</td>\n",
       "      <td>0</td>\n",
       "      <td>0</td>\n",
       "      <td>0</td>\n",
       "      <td>0</td>\n",
       "      <td>0</td>\n",
       "      <td>0</td>\n",
       "      <td>0</td>\n",
       "      <td>0</td>\n",
       "      <td>0</td>\n",
       "      <td>Get Shorty</td>\n",
       "    </tr>\n",
       "    <tr>\n",
       "      <th>4</th>\n",
       "      <td>5</td>\n",
       "      <td>Copycat (1995)</td>\n",
       "      <td>01-Jan-1995</td>\n",
       "      <td>http://us.imdb.com/M/title-exact?Copycat%20(1995)</td>\n",
       "      <td>0</td>\n",
       "      <td>0</td>\n",
       "      <td>0</td>\n",
       "      <td>0</td>\n",
       "      <td>0</td>\n",
       "      <td>0</td>\n",
       "      <td>...</td>\n",
       "      <td>0</td>\n",
       "      <td>0</td>\n",
       "      <td>0</td>\n",
       "      <td>0</td>\n",
       "      <td>0</td>\n",
       "      <td>0</td>\n",
       "      <td>1</td>\n",
       "      <td>0</td>\n",
       "      <td>0</td>\n",
       "      <td>Copycat</td>\n",
       "    </tr>\n",
       "    <tr>\n",
       "      <th>5</th>\n",
       "      <td>6</td>\n",
       "      <td>Shanghai Triad (Yao a yao yao dao waipo qiao) ...</td>\n",
       "      <td>01-Jan-1995</td>\n",
       "      <td>http://us.imdb.com/Title?Yao+a+yao+yao+dao+wai...</td>\n",
       "      <td>0</td>\n",
       "      <td>0</td>\n",
       "      <td>0</td>\n",
       "      <td>0</td>\n",
       "      <td>0</td>\n",
       "      <td>0</td>\n",
       "      <td>...</td>\n",
       "      <td>0</td>\n",
       "      <td>0</td>\n",
       "      <td>0</td>\n",
       "      <td>0</td>\n",
       "      <td>0</td>\n",
       "      <td>0</td>\n",
       "      <td>0</td>\n",
       "      <td>0</td>\n",
       "      <td>0</td>\n",
       "      <td>Shanghai Triad (Yao a yao yao dao waipo qiao)</td>\n",
       "    </tr>\n",
       "    <tr>\n",
       "      <th>6</th>\n",
       "      <td>7</td>\n",
       "      <td>Twelve Monkeys (1995)</td>\n",
       "      <td>01-Jan-1995</td>\n",
       "      <td>http://us.imdb.com/M/title-exact?Twelve%20Monk...</td>\n",
       "      <td>0</td>\n",
       "      <td>0</td>\n",
       "      <td>0</td>\n",
       "      <td>0</td>\n",
       "      <td>0</td>\n",
       "      <td>0</td>\n",
       "      <td>...</td>\n",
       "      <td>0</td>\n",
       "      <td>0</td>\n",
       "      <td>0</td>\n",
       "      <td>0</td>\n",
       "      <td>0</td>\n",
       "      <td>1</td>\n",
       "      <td>0</td>\n",
       "      <td>0</td>\n",
       "      <td>0</td>\n",
       "      <td>Twelve Monkeys</td>\n",
       "    </tr>\n",
       "    <tr>\n",
       "      <th>7</th>\n",
       "      <td>8</td>\n",
       "      <td>Babe (1995)</td>\n",
       "      <td>01-Jan-1995</td>\n",
       "      <td>http://us.imdb.com/M/title-exact?Babe%20(1995)</td>\n",
       "      <td>0</td>\n",
       "      <td>0</td>\n",
       "      <td>0</td>\n",
       "      <td>0</td>\n",
       "      <td>1</td>\n",
       "      <td>1</td>\n",
       "      <td>...</td>\n",
       "      <td>0</td>\n",
       "      <td>0</td>\n",
       "      <td>0</td>\n",
       "      <td>0</td>\n",
       "      <td>0</td>\n",
       "      <td>0</td>\n",
       "      <td>0</td>\n",
       "      <td>0</td>\n",
       "      <td>0</td>\n",
       "      <td>Babe</td>\n",
       "    </tr>\n",
       "    <tr>\n",
       "      <th>8</th>\n",
       "      <td>9</td>\n",
       "      <td>Dead Man Walking (1995)</td>\n",
       "      <td>01-Jan-1995</td>\n",
       "      <td>http://us.imdb.com/M/title-exact?Dead%20Man%20...</td>\n",
       "      <td>0</td>\n",
       "      <td>0</td>\n",
       "      <td>0</td>\n",
       "      <td>0</td>\n",
       "      <td>0</td>\n",
       "      <td>0</td>\n",
       "      <td>...</td>\n",
       "      <td>0</td>\n",
       "      <td>0</td>\n",
       "      <td>0</td>\n",
       "      <td>0</td>\n",
       "      <td>0</td>\n",
       "      <td>0</td>\n",
       "      <td>0</td>\n",
       "      <td>0</td>\n",
       "      <td>0</td>\n",
       "      <td>Dead Man Walking</td>\n",
       "    </tr>\n",
       "    <tr>\n",
       "      <th>9</th>\n",
       "      <td>10</td>\n",
       "      <td>Richard III (1995)</td>\n",
       "      <td>22-Jan-1996</td>\n",
       "      <td>http://us.imdb.com/M/title-exact?Richard%20III...</td>\n",
       "      <td>0</td>\n",
       "      <td>0</td>\n",
       "      <td>0</td>\n",
       "      <td>0</td>\n",
       "      <td>0</td>\n",
       "      <td>0</td>\n",
       "      <td>...</td>\n",
       "      <td>0</td>\n",
       "      <td>0</td>\n",
       "      <td>0</td>\n",
       "      <td>0</td>\n",
       "      <td>0</td>\n",
       "      <td>0</td>\n",
       "      <td>0</td>\n",
       "      <td>1</td>\n",
       "      <td>0</td>\n",
       "      <td>Richard III</td>\n",
       "    </tr>\n",
       "    <tr>\n",
       "      <th>10</th>\n",
       "      <td>11</td>\n",
       "      <td>Seven (Se7en) (1995)</td>\n",
       "      <td>01-Jan-1995</td>\n",
       "      <td>http://us.imdb.com/M/title-exact?Se7en%20(1995)</td>\n",
       "      <td>0</td>\n",
       "      <td>0</td>\n",
       "      <td>0</td>\n",
       "      <td>0</td>\n",
       "      <td>0</td>\n",
       "      <td>0</td>\n",
       "      <td>...</td>\n",
       "      <td>0</td>\n",
       "      <td>0</td>\n",
       "      <td>0</td>\n",
       "      <td>0</td>\n",
       "      <td>0</td>\n",
       "      <td>0</td>\n",
       "      <td>1</td>\n",
       "      <td>0</td>\n",
       "      <td>0</td>\n",
       "      <td>Seven (Se7en)</td>\n",
       "    </tr>\n",
       "    <tr>\n",
       "      <th>11</th>\n",
       "      <td>12</td>\n",
       "      <td>Usual Suspects, The (1995)</td>\n",
       "      <td>14-Aug-1995</td>\n",
       "      <td>http://us.imdb.com/M/title-exact?Usual%20Suspe...</td>\n",
       "      <td>0</td>\n",
       "      <td>0</td>\n",
       "      <td>0</td>\n",
       "      <td>0</td>\n",
       "      <td>0</td>\n",
       "      <td>0</td>\n",
       "      <td>...</td>\n",
       "      <td>0</td>\n",
       "      <td>0</td>\n",
       "      <td>0</td>\n",
       "      <td>0</td>\n",
       "      <td>0</td>\n",
       "      <td>0</td>\n",
       "      <td>1</td>\n",
       "      <td>0</td>\n",
       "      <td>0</td>\n",
       "      <td>Usual Suspects, The</td>\n",
       "    </tr>\n",
       "    <tr>\n",
       "      <th>12</th>\n",
       "      <td>13</td>\n",
       "      <td>Mighty Aphrodite (1995)</td>\n",
       "      <td>30-Oct-1995</td>\n",
       "      <td>http://us.imdb.com/M/title-exact?Mighty%20Aphr...</td>\n",
       "      <td>0</td>\n",
       "      <td>0</td>\n",
       "      <td>0</td>\n",
       "      <td>0</td>\n",
       "      <td>0</td>\n",
       "      <td>1</td>\n",
       "      <td>...</td>\n",
       "      <td>0</td>\n",
       "      <td>0</td>\n",
       "      <td>0</td>\n",
       "      <td>0</td>\n",
       "      <td>0</td>\n",
       "      <td>0</td>\n",
       "      <td>0</td>\n",
       "      <td>0</td>\n",
       "      <td>0</td>\n",
       "      <td>Mighty Aphrodite</td>\n",
       "    </tr>\n",
       "    <tr>\n",
       "      <th>13</th>\n",
       "      <td>14</td>\n",
       "      <td>Postino, Il (1994)</td>\n",
       "      <td>01-Jan-1994</td>\n",
       "      <td>http://us.imdb.com/M/title-exact?Postino,%20Il...</td>\n",
       "      <td>0</td>\n",
       "      <td>0</td>\n",
       "      <td>0</td>\n",
       "      <td>0</td>\n",
       "      <td>0</td>\n",
       "      <td>0</td>\n",
       "      <td>...</td>\n",
       "      <td>0</td>\n",
       "      <td>0</td>\n",
       "      <td>0</td>\n",
       "      <td>0</td>\n",
       "      <td>1</td>\n",
       "      <td>0</td>\n",
       "      <td>0</td>\n",
       "      <td>0</td>\n",
       "      <td>0</td>\n",
       "      <td>Postino, Il</td>\n",
       "    </tr>\n",
       "    <tr>\n",
       "      <th>14</th>\n",
       "      <td>15</td>\n",
       "      <td>Mr. Holland's Opus (1995)</td>\n",
       "      <td>29-Jan-1996</td>\n",
       "      <td>http://us.imdb.com/M/title-exact?Mr.%20Holland...</td>\n",
       "      <td>0</td>\n",
       "      <td>0</td>\n",
       "      <td>0</td>\n",
       "      <td>0</td>\n",
       "      <td>0</td>\n",
       "      <td>0</td>\n",
       "      <td>...</td>\n",
       "      <td>0</td>\n",
       "      <td>0</td>\n",
       "      <td>0</td>\n",
       "      <td>0</td>\n",
       "      <td>0</td>\n",
       "      <td>0</td>\n",
       "      <td>0</td>\n",
       "      <td>0</td>\n",
       "      <td>0</td>\n",
       "      <td>Mr. Holland's Opus</td>\n",
       "    </tr>\n",
       "    <tr>\n",
       "      <th>15</th>\n",
       "      <td>16</td>\n",
       "      <td>French Twist (Gazon maudit) (1995)</td>\n",
       "      <td>01-Jan-1995</td>\n",
       "      <td>http://us.imdb.com/M/title-exact?Gazon%20maudi...</td>\n",
       "      <td>0</td>\n",
       "      <td>0</td>\n",
       "      <td>0</td>\n",
       "      <td>0</td>\n",
       "      <td>0</td>\n",
       "      <td>1</td>\n",
       "      <td>...</td>\n",
       "      <td>0</td>\n",
       "      <td>0</td>\n",
       "      <td>0</td>\n",
       "      <td>0</td>\n",
       "      <td>1</td>\n",
       "      <td>0</td>\n",
       "      <td>0</td>\n",
       "      <td>0</td>\n",
       "      <td>0</td>\n",
       "      <td>French Twist (Gazon maudit)</td>\n",
       "    </tr>\n",
       "    <tr>\n",
       "      <th>16</th>\n",
       "      <td>17</td>\n",
       "      <td>From Dusk Till Dawn (1996)</td>\n",
       "      <td>05-Feb-1996</td>\n",
       "      <td>http://us.imdb.com/M/title-exact?From%20Dusk%2...</td>\n",
       "      <td>0</td>\n",
       "      <td>1</td>\n",
       "      <td>0</td>\n",
       "      <td>0</td>\n",
       "      <td>0</td>\n",
       "      <td>1</td>\n",
       "      <td>...</td>\n",
       "      <td>0</td>\n",
       "      <td>1</td>\n",
       "      <td>0</td>\n",
       "      <td>0</td>\n",
       "      <td>0</td>\n",
       "      <td>0</td>\n",
       "      <td>1</td>\n",
       "      <td>0</td>\n",
       "      <td>0</td>\n",
       "      <td>From Dusk Till Dawn</td>\n",
       "    </tr>\n",
       "    <tr>\n",
       "      <th>17</th>\n",
       "      <td>18</td>\n",
       "      <td>White Balloon, The (1995)</td>\n",
       "      <td>01-Jan-1995</td>\n",
       "      <td>http://us.imdb.com/M/title-exact?Badkonake%20S...</td>\n",
       "      <td>0</td>\n",
       "      <td>0</td>\n",
       "      <td>0</td>\n",
       "      <td>0</td>\n",
       "      <td>0</td>\n",
       "      <td>0</td>\n",
       "      <td>...</td>\n",
       "      <td>0</td>\n",
       "      <td>0</td>\n",
       "      <td>0</td>\n",
       "      <td>0</td>\n",
       "      <td>0</td>\n",
       "      <td>0</td>\n",
       "      <td>0</td>\n",
       "      <td>0</td>\n",
       "      <td>0</td>\n",
       "      <td>White Balloon, The</td>\n",
       "    </tr>\n",
       "    <tr>\n",
       "      <th>18</th>\n",
       "      <td>19</td>\n",
       "      <td>Antonia's Line (1995)</td>\n",
       "      <td>01-Jan-1995</td>\n",
       "      <td>http://us.imdb.com/M/title-exact?Antonia%20(1995)</td>\n",
       "      <td>0</td>\n",
       "      <td>0</td>\n",
       "      <td>0</td>\n",
       "      <td>0</td>\n",
       "      <td>0</td>\n",
       "      <td>0</td>\n",
       "      <td>...</td>\n",
       "      <td>0</td>\n",
       "      <td>0</td>\n",
       "      <td>0</td>\n",
       "      <td>0</td>\n",
       "      <td>0</td>\n",
       "      <td>0</td>\n",
       "      <td>0</td>\n",
       "      <td>0</td>\n",
       "      <td>0</td>\n",
       "      <td>Antonia's Line</td>\n",
       "    </tr>\n",
       "    <tr>\n",
       "      <th>19</th>\n",
       "      <td>20</td>\n",
       "      <td>Angels and Insects (1995)</td>\n",
       "      <td>01-Jan-1995</td>\n",
       "      <td>http://us.imdb.com/M/title-exact?Angels%20and%...</td>\n",
       "      <td>0</td>\n",
       "      <td>0</td>\n",
       "      <td>0</td>\n",
       "      <td>0</td>\n",
       "      <td>0</td>\n",
       "      <td>0</td>\n",
       "      <td>...</td>\n",
       "      <td>0</td>\n",
       "      <td>0</td>\n",
       "      <td>0</td>\n",
       "      <td>0</td>\n",
       "      <td>1</td>\n",
       "      <td>0</td>\n",
       "      <td>0</td>\n",
       "      <td>0</td>\n",
       "      <td>0</td>\n",
       "      <td>Angels and Insects</td>\n",
       "    </tr>\n",
       "  </tbody>\n",
       "</table>\n",
       "<p>20 rows × 24 columns</p>\n",
       "</div>"
      ],
      "text/plain": [
       "    movie_id                                        movie_title release_date  \\\n",
       "0          1                                   Toy Story (1995)  01-Jan-1995   \n",
       "1          2                                   GoldenEye (1995)  01-Jan-1995   \n",
       "2          3                                  Four Rooms (1995)  01-Jan-1995   \n",
       "3          4                                  Get Shorty (1995)  01-Jan-1995   \n",
       "4          5                                     Copycat (1995)  01-Jan-1995   \n",
       "5          6  Shanghai Triad (Yao a yao yao dao waipo qiao) ...  01-Jan-1995   \n",
       "6          7                              Twelve Monkeys (1995)  01-Jan-1995   \n",
       "7          8                                        Babe (1995)  01-Jan-1995   \n",
       "8          9                            Dead Man Walking (1995)  01-Jan-1995   \n",
       "9         10                                 Richard III (1995)  22-Jan-1996   \n",
       "10        11                               Seven (Se7en) (1995)  01-Jan-1995   \n",
       "11        12                         Usual Suspects, The (1995)  14-Aug-1995   \n",
       "12        13                            Mighty Aphrodite (1995)  30-Oct-1995   \n",
       "13        14                                 Postino, Il (1994)  01-Jan-1994   \n",
       "14        15                          Mr. Holland's Opus (1995)  29-Jan-1996   \n",
       "15        16                 French Twist (Gazon maudit) (1995)  01-Jan-1995   \n",
       "16        17                         From Dusk Till Dawn (1996)  05-Feb-1996   \n",
       "17        18                          White Balloon, The (1995)  01-Jan-1995   \n",
       "18        19                              Antonia's Line (1995)  01-Jan-1995   \n",
       "19        20                          Angels and Insects (1995)  01-Jan-1995   \n",
       "\n",
       "                                             IMDb_URL  unknown  Action  \\\n",
       "0   http://us.imdb.com/M/title-exact?Toy%20Story%2...        0       0   \n",
       "1   http://us.imdb.com/M/title-exact?GoldenEye%20(...        0       1   \n",
       "2   http://us.imdb.com/M/title-exact?Four%20Rooms%...        0       0   \n",
       "3   http://us.imdb.com/M/title-exact?Get%20Shorty%...        0       1   \n",
       "4   http://us.imdb.com/M/title-exact?Copycat%20(1995)        0       0   \n",
       "5   http://us.imdb.com/Title?Yao+a+yao+yao+dao+wai...        0       0   \n",
       "6   http://us.imdb.com/M/title-exact?Twelve%20Monk...        0       0   \n",
       "7      http://us.imdb.com/M/title-exact?Babe%20(1995)        0       0   \n",
       "8   http://us.imdb.com/M/title-exact?Dead%20Man%20...        0       0   \n",
       "9   http://us.imdb.com/M/title-exact?Richard%20III...        0       0   \n",
       "10    http://us.imdb.com/M/title-exact?Se7en%20(1995)        0       0   \n",
       "11  http://us.imdb.com/M/title-exact?Usual%20Suspe...        0       0   \n",
       "12  http://us.imdb.com/M/title-exact?Mighty%20Aphr...        0       0   \n",
       "13  http://us.imdb.com/M/title-exact?Postino,%20Il...        0       0   \n",
       "14  http://us.imdb.com/M/title-exact?Mr.%20Holland...        0       0   \n",
       "15  http://us.imdb.com/M/title-exact?Gazon%20maudi...        0       0   \n",
       "16  http://us.imdb.com/M/title-exact?From%20Dusk%2...        0       1   \n",
       "17  http://us.imdb.com/M/title-exact?Badkonake%20S...        0       0   \n",
       "18  http://us.imdb.com/M/title-exact?Antonia%20(1995)        0       0   \n",
       "19  http://us.imdb.com/M/title-exact?Angels%20and%...        0       0   \n",
       "\n",
       "    Adventure  Animation  Children's  Comedy  ...  Film-Noir  Horror  Musical  \\\n",
       "0           0          1           1       1  ...          0       0        0   \n",
       "1           1          0           0       0  ...          0       0        0   \n",
       "2           0          0           0       0  ...          0       0        0   \n",
       "3           0          0           0       1  ...          0       0        0   \n",
       "4           0          0           0       0  ...          0       0        0   \n",
       "5           0          0           0       0  ...          0       0        0   \n",
       "6           0          0           0       0  ...          0       0        0   \n",
       "7           0          0           1       1  ...          0       0        0   \n",
       "8           0          0           0       0  ...          0       0        0   \n",
       "9           0          0           0       0  ...          0       0        0   \n",
       "10          0          0           0       0  ...          0       0        0   \n",
       "11          0          0           0       0  ...          0       0        0   \n",
       "12          0          0           0       1  ...          0       0        0   \n",
       "13          0          0           0       0  ...          0       0        0   \n",
       "14          0          0           0       0  ...          0       0        0   \n",
       "15          0          0           0       1  ...          0       0        0   \n",
       "16          0          0           0       1  ...          0       1        0   \n",
       "17          0          0           0       0  ...          0       0        0   \n",
       "18          0          0           0       0  ...          0       0        0   \n",
       "19          0          0           0       0  ...          0       0        0   \n",
       "\n",
       "    Mystery  Romance  Sci-Fi  Thriller  War  Western  \\\n",
       "0         0        0       0         0    0        0   \n",
       "1         0        0       0         1    0        0   \n",
       "2         0        0       0         1    0        0   \n",
       "3         0        0       0         0    0        0   \n",
       "4         0        0       0         1    0        0   \n",
       "5         0        0       0         0    0        0   \n",
       "6         0        0       1         0    0        0   \n",
       "7         0        0       0         0    0        0   \n",
       "8         0        0       0         0    0        0   \n",
       "9         0        0       0         0    1        0   \n",
       "10        0        0       0         1    0        0   \n",
       "11        0        0       0         1    0        0   \n",
       "12        0        0       0         0    0        0   \n",
       "13        0        1       0         0    0        0   \n",
       "14        0        0       0         0    0        0   \n",
       "15        0        1       0         0    0        0   \n",
       "16        0        0       0         1    0        0   \n",
       "17        0        0       0         0    0        0   \n",
       "18        0        0       0         0    0        0   \n",
       "19        0        1       0         0    0        0   \n",
       "\n",
       "                                   movie_tag_word  \n",
       "0                                       Toy Story  \n",
       "1                                       GoldenEye  \n",
       "2                                      Four Rooms  \n",
       "3                                      Get Shorty  \n",
       "4                                         Copycat  \n",
       "5   Shanghai Triad (Yao a yao yao dao waipo qiao)  \n",
       "6                                  Twelve Monkeys  \n",
       "7                                            Babe  \n",
       "8                                Dead Man Walking  \n",
       "9                                     Richard III  \n",
       "10                                  Seven (Se7en)  \n",
       "11                            Usual Suspects, The  \n",
       "12                               Mighty Aphrodite  \n",
       "13                                    Postino, Il  \n",
       "14                             Mr. Holland's Opus  \n",
       "15                    French Twist (Gazon maudit)  \n",
       "16                            From Dusk Till Dawn  \n",
       "17                             White Balloon, The  \n",
       "18                                 Antonia's Line  \n",
       "19                             Angels and Insects  \n",
       "\n",
       "[20 rows x 24 columns]"
      ]
     },
     "execution_count": 78,
     "metadata": {},
     "output_type": "execute_result"
    }
   ],
   "source": [
    "# Extract just the movie name from the movie_title column\n",
    "u_item['movie_tag_word'] = u_item['movie_title'].str.extract(r'^(.*?)(?:\\s\\(\\d{4}\\))?$')\n",
    "new_u_item = u_item\n",
    "new_u_item.to_csv('new_u_item.csv', index=False)\n",
    "# Display the first 20 rows to verify\n",
    "new_u_item.head(20)"
   ]
  },
  {
   "cell_type": "code",
   "execution_count": 119,
   "id": "8f0c9302-2c73-4854-83a2-dcee7213d41e",
   "metadata": {},
   "outputs": [
    {
     "name": "stdout",
     "output_type": "stream",
     "text": [
      "<class 'pandas.core.frame.DataFrame'>\n",
      "RangeIndex: 1682 entries, 0 to 1681\n",
      "Data columns (total 24 columns):\n",
      " #   Column          Non-Null Count  Dtype \n",
      "---  ------          --------------  ----- \n",
      " 0   movie_id        1682 non-null   int64 \n",
      " 1   movie_title     1682 non-null   object\n",
      " 2   release_date    1681 non-null   object\n",
      " 3   IMDb_URL        1679 non-null   object\n",
      " 4   unknown         1682 non-null   int64 \n",
      " 5   Action          1682 non-null   int64 \n",
      " 6   Adventure       1682 non-null   int64 \n",
      " 7   Animation       1682 non-null   int64 \n",
      " 8   Children's      1682 non-null   int64 \n",
      " 9   Comedy          1682 non-null   int64 \n",
      " 10  Crime           1682 non-null   int64 \n",
      " 11  Documentary     1682 non-null   int64 \n",
      " 12  Drama           1682 non-null   int64 \n",
      " 13  Fantasy         1682 non-null   int64 \n",
      " 14  Film-Noir       1682 non-null   int64 \n",
      " 15  Horror          1682 non-null   int64 \n",
      " 16  Musical         1682 non-null   int64 \n",
      " 17  Mystery         1682 non-null   int64 \n",
      " 18  Romance         1682 non-null   int64 \n",
      " 19  Sci-Fi          1682 non-null   int64 \n",
      " 20  Thriller        1682 non-null   int64 \n",
      " 21  War             1682 non-null   int64 \n",
      " 22  Western         1682 non-null   int64 \n",
      " 23  movie_tag_word  1682 non-null   object\n",
      "dtypes: int64(20), object(4)\n",
      "memory usage: 315.5+ KB\n"
     ]
    }
   ],
   "source": [
    "new_u_item.info()"
   ]
  },
  {
   "cell_type": "markdown",
   "id": "549b0174-8eb0-4f6a-85a8-5f39e1b0bdc8",
   "metadata": {},
   "source": [
    "### Fetching the 20 comments for each movie tag word using parallel fetching for sentiment scores "
   ]
  },
  {
   "cell_type": "code",
   "execution_count": 92,
   "id": "b2ab23c5-9008-4d0e-a871-a011e88a94e2",
   "metadata": {},
   "outputs": [
    {
     "name": "stdout",
     "output_type": "stream",
     "text": [
      "Comments fetched and saved to movie_comments.csv\n"
     ]
    }
   ],
   "source": [
    "import pandas as pd\n",
    "from imdb import IMDb\n",
    "from concurrent.futures import ThreadPoolExecutor\n",
    "\n",
    "# Initialize IMDb instance\n",
    "ia = IMDb()\n",
    "\n",
    "# Load your dataset\n",
    "df = pd.read_csv('/Users/salmanmohamm3d/Desktop/Sem 3/Social M A/Final Project/new_u_item.csv')\n",
    "\n",
    "# Function to fetch comments from IMDb\n",
    "def fetch_imdb_comments(movie_tag_word, count=20):\n",
    "    try:\n",
    "        # Search for the movie\n",
    "        movies = ia.search_movie(movie_tag_word)\n",
    "        if not movies:\n",
    "            return []\n",
    "\n",
    "        # Get the first matching movie\n",
    "        movie = movies[0]\n",
    "        ia.update(movie, 'reviews')\n",
    "\n",
    "        # Extract comments\n",
    "        comments = []\n",
    "        for review in movie.get('reviews', [])[:count]:\n",
    "            comments.append(review['content'])\n",
    "        return [{'movie_tag_word': movie_tag_word, 'comment': comment} for comment in comments]\n",
    "    except Exception as e:\n",
    "        print(f\"Error fetching comments for {movie_tag_word}: {e}\")\n",
    "        return []\n",
    "\n",
    "# Function to fetch comments in parallel\n",
    "def fetch_all_comments(df):\n",
    "    comments_list = []\n",
    "    with ThreadPoolExecutor(max_workers=8) as executor:\n",
    "        futures = [executor.submit(fetch_imdb_comments, tag) for tag in df['movie_tag_word']]\n",
    "        for future in futures:\n",
    "            result = future.result()\n",
    "            if result:\n",
    "                comments_list.extend(result)\n",
    "    return comments_list\n",
    "\n",
    "# Fetch comments for each movie tag word in parallel\n",
    "comments_list = fetch_all_comments(df)\n",
    "\n",
    "# Convert list to DataFrame\n",
    "comments_df = pd.DataFrame(comments_list)\n",
    "\n",
    "# Save the comments to a new CSV file\n",
    "comments_df.to_csv('movie_comments.csv', index=False)\n",
    "print(\"Comments fetched and saved to movie_comments.csv\")\n"
   ]
  },
  {
   "cell_type": "code",
   "execution_count": 105,
   "id": "75d65277-4429-4f76-b8cd-fd7347afec43",
   "metadata": {},
   "outputs": [
    {
     "data": {
      "text/plain": [
       "1592"
      ]
     },
     "execution_count": 105,
     "metadata": {},
     "output_type": "execute_result"
    }
   ],
   "source": [
    "df = pd.read_csv('/Users/salmanmohamm3d/Desktop/Sem 3/Social M A/Final Project/movie_comments.csv')\n",
    "# Find unique values in the 'movie_tag_word' column\n",
    "unique_values = df['movie_tag_word'].nunique()\n",
    "unique_values"
   ]
  },
  {
   "cell_type": "markdown",
   "id": "1a8b8d8a-ede7-46eb-80c8-b4cc91af6a6f",
   "metadata": {},
   "source": [
    "### Performing sentiment analysis "
   ]
  },
  {
   "cell_type": "code",
   "execution_count": 95,
   "id": "b24d2821-00f6-473f-b6d0-6acf6944911f",
   "metadata": {},
   "outputs": [
    {
     "name": "stderr",
     "output_type": "stream",
     "text": [
      "[nltk_data] Downloading package vader_lexicon to\n",
      "[nltk_data]     /Users/salmanmohamm3d/nltk_data...\n",
      "[nltk_data]   Package vader_lexicon is already up-to-date!\n",
      "[nltk_data] Downloading package stopwords to\n",
      "[nltk_data]     /Users/salmanmohamm3d/nltk_data...\n",
      "[nltk_data]   Package stopwords is already up-to-date!\n"
     ]
    },
    {
     "data": {
      "text/plain": [
       "True"
      ]
     },
     "execution_count": 95,
     "metadata": {},
     "output_type": "execute_result"
    }
   ],
   "source": [
    "import nltk\n",
    "nltk.download('vader_lexicon')\n",
    "nltk.download('stopwords')\n"
   ]
  },
  {
   "cell_type": "code",
   "execution_count": null,
   "id": "be0a9c58-b90f-4809-81a0-5629dfc29eaf",
   "metadata": {},
   "outputs": [],
   "source": []
  },
  {
   "cell_type": "code",
   "execution_count": 106,
   "id": "691d407e-12dc-4af3-aafe-3c3c49031c9c",
   "metadata": {},
   "outputs": [
    {
     "name": "stderr",
     "output_type": "stream",
     "text": [
      "[nltk_data] Downloading package vader_lexicon to\n",
      "[nltk_data]     /Users/salmanmohamm3d/nltk_data...\n",
      "[nltk_data]   Package vader_lexicon is already up-to-date!\n",
      "[nltk_data] Downloading package stopwords to\n",
      "[nltk_data]     /Users/salmanmohamm3d/nltk_data...\n",
      "[nltk_data]   Package stopwords is already up-to-date!\n"
     ]
    },
    {
     "name": "stdout",
     "output_type": "stream",
     "text": [
      "Sentiment analysis completed and results saved to average_movie_sentiment.csv\n"
     ]
    }
   ],
   "source": [
    "import pandas as pd\n",
    "import re\n",
    "from nltk.corpus import stopwords\n",
    "from nltk.sentiment.vader import SentimentIntensityAnalyzer\n",
    "import nltk\n",
    "\n",
    "# Initialize stopwords and sentiment analyzer\n",
    "stop_words = set(stopwords.words('english'))\n",
    "sid = SentimentIntensityAnalyzer()\n",
    "\n",
    "# Function to clean comments\n",
    "def clean_comment(comment):\n",
    "    comment = re.sub(r'\\s+', ' ', comment)  # Remove extra spaces\n",
    "    comment = re.sub(r'\\W', ' ', comment)   # Remove special characters\n",
    "    comment = re.sub(r'\\d', ' ', comment)   # Remove digits\n",
    "    comment = comment.lower()               # Convert to lowercase\n",
    "    comment = ' '.join(word for word in comment.split() if word not in stop_words)\n",
    "    return comment\n",
    "\n",
    "# Function to perform sentiment analysis\n",
    "def analyze_sentiment(comment):\n",
    "    sentiment_score = sid.polarity_scores(comment)['compound']\n",
    "    return sentiment_score\n",
    "\n",
    "# Load the dataset with fetched comments\n",
    "comments_df = pd.read_csv('/Users/salmanmohamm3d/Desktop/Sem 3/Social M A/Final Project/movie_comments.csv')\n",
    "\n",
    "# Clean the comments and perform sentiment analysis\n",
    "comments_df['cleaned_comment'] = comments_df['comment'].apply(clean_comment)\n",
    "comments_df['sentiment_score'] = comments_df['cleaned_comment'].apply(analyze_sentiment)\n",
    "\n",
    "# Calculate the average sentiment score for each movie tag word\n",
    "average_sentiment_df = comments_df.groupby('movie_tag_word')['sentiment_score'].mean().reset_index()\n",
    "average_sentiment_df.columns = ['movie_tag_word', 'average_sentiment_score']\n",
    "\n",
    "# Function to categorize sentiment\n",
    "def categorize_sentiment(score):\n",
    "    if score >= 0.05:\n",
    "        return 'Positive'\n",
    "    elif score <= -0.05:\n",
    "        return 'Negative'\n",
    "    else:\n",
    "        return 'Neutral'\n",
    "\n",
    "# Apply sentiment categorization\n",
    "average_sentiment_df['sentiment_category'] = average_sentiment_df['average_sentiment_score'].apply(categorize_sentiment)\n",
    "\n",
    "# Save the cleaned comments and average sentiment scores to a new CSV file\n",
    "average_sentiment_df.to_csv('average_movie_sentiment.csv', index=False)\n",
    "\n",
    "print(\"Sentiment analysis completed and results saved to average_movie_sentiment.csv\")\n"
   ]
  },
  {
   "cell_type": "code",
   "execution_count": 107,
   "id": "70dd4434-1ecf-4a02-bed5-7db765292be2",
   "metadata": {},
   "outputs": [
    {
     "data": {
      "text/html": [
       "<div>\n",
       "<style scoped>\n",
       "    .dataframe tbody tr th:only-of-type {\n",
       "        vertical-align: middle;\n",
       "    }\n",
       "\n",
       "    .dataframe tbody tr th {\n",
       "        vertical-align: top;\n",
       "    }\n",
       "\n",
       "    .dataframe thead th {\n",
       "        text-align: right;\n",
       "    }\n",
       "</style>\n",
       "<table border=\"1\" class=\"dataframe\">\n",
       "  <thead>\n",
       "    <tr style=\"text-align: right;\">\n",
       "      <th></th>\n",
       "      <th>movie_tag_word</th>\n",
       "      <th>average_sentiment_score</th>\n",
       "      <th>sentiment_category</th>\n",
       "    </tr>\n",
       "  </thead>\n",
       "  <tbody>\n",
       "    <tr>\n",
       "      <th>0</th>\n",
       "      <td>'Til There Was You</td>\n",
       "      <td>0.556260</td>\n",
       "      <td>Positive</td>\n",
       "    </tr>\n",
       "    <tr>\n",
       "      <th>1</th>\n",
       "      <td>1-900</td>\n",
       "      <td>0.140200</td>\n",
       "      <td>Positive</td>\n",
       "    </tr>\n",
       "    <tr>\n",
       "      <th>2</th>\n",
       "      <td>101 Dalmatians</td>\n",
       "      <td>0.809875</td>\n",
       "      <td>Positive</td>\n",
       "    </tr>\n",
       "    <tr>\n",
       "      <th>3</th>\n",
       "      <td>12 Angry Men</td>\n",
       "      <td>0.458725</td>\n",
       "      <td>Positive</td>\n",
       "    </tr>\n",
       "    <tr>\n",
       "      <th>4</th>\n",
       "      <td>2 Days in the Valley</td>\n",
       "      <td>0.386165</td>\n",
       "      <td>Positive</td>\n",
       "    </tr>\n",
       "    <tr>\n",
       "      <th>5</th>\n",
       "      <td>20,000 Leagues Under the Sea</td>\n",
       "      <td>0.816695</td>\n",
       "      <td>Positive</td>\n",
       "    </tr>\n",
       "    <tr>\n",
       "      <th>6</th>\n",
       "      <td>2001: A Space Odyssey</td>\n",
       "      <td>0.677960</td>\n",
       "      <td>Positive</td>\n",
       "    </tr>\n",
       "    <tr>\n",
       "      <th>7</th>\n",
       "      <td>3 Ninjas: High Noon At Mega Mountain</td>\n",
       "      <td>-0.283470</td>\n",
       "      <td>Negative</td>\n",
       "    </tr>\n",
       "    <tr>\n",
       "      <th>8</th>\n",
       "      <td>39 Steps, The</td>\n",
       "      <td>0.853275</td>\n",
       "      <td>Positive</td>\n",
       "    </tr>\n",
       "    <tr>\n",
       "      <th>9</th>\n",
       "      <td>8 1/2</td>\n",
       "      <td>0.811120</td>\n",
       "      <td>Positive</td>\n",
       "    </tr>\n",
       "    <tr>\n",
       "      <th>10</th>\n",
       "      <td>8 Heads in a Duffel Bag</td>\n",
       "      <td>0.437905</td>\n",
       "      <td>Positive</td>\n",
       "    </tr>\n",
       "    <tr>\n",
       "      <th>11</th>\n",
       "      <td>8 Seconds</td>\n",
       "      <td>0.730975</td>\n",
       "      <td>Positive</td>\n",
       "    </tr>\n",
       "    <tr>\n",
       "      <th>12</th>\n",
       "      <td>A Chef in Love</td>\n",
       "      <td>0.960888</td>\n",
       "      <td>Positive</td>\n",
       "    </tr>\n",
       "    <tr>\n",
       "      <th>13</th>\n",
       "      <td>Above the Rim</td>\n",
       "      <td>0.763365</td>\n",
       "      <td>Positive</td>\n",
       "    </tr>\n",
       "    <tr>\n",
       "      <th>14</th>\n",
       "      <td>Absolute Power</td>\n",
       "      <td>0.677540</td>\n",
       "      <td>Positive</td>\n",
       "    </tr>\n",
       "    <tr>\n",
       "      <th>15</th>\n",
       "      <td>Abyss, The</td>\n",
       "      <td>0.645930</td>\n",
       "      <td>Positive</td>\n",
       "    </tr>\n",
       "    <tr>\n",
       "      <th>16</th>\n",
       "      <td>Ace Ventura: Pet Detective</td>\n",
       "      <td>0.897085</td>\n",
       "      <td>Positive</td>\n",
       "    </tr>\n",
       "    <tr>\n",
       "      <th>17</th>\n",
       "      <td>Ace Ventura: When Nature Calls</td>\n",
       "      <td>0.636160</td>\n",
       "      <td>Positive</td>\n",
       "    </tr>\n",
       "    <tr>\n",
       "      <th>18</th>\n",
       "      <td>Across the Sea of Time</td>\n",
       "      <td>0.867850</td>\n",
       "      <td>Positive</td>\n",
       "    </tr>\n",
       "    <tr>\n",
       "      <th>19</th>\n",
       "      <td>Addams Family Values</td>\n",
       "      <td>0.688530</td>\n",
       "      <td>Positive</td>\n",
       "    </tr>\n",
       "  </tbody>\n",
       "</table>\n",
       "</div>"
      ],
      "text/plain": [
       "                          movie_tag_word  average_sentiment_score  \\\n",
       "0                     'Til There Was You                 0.556260   \n",
       "1                                  1-900                 0.140200   \n",
       "2                         101 Dalmatians                 0.809875   \n",
       "3                           12 Angry Men                 0.458725   \n",
       "4                   2 Days in the Valley                 0.386165   \n",
       "5           20,000 Leagues Under the Sea                 0.816695   \n",
       "6                  2001: A Space Odyssey                 0.677960   \n",
       "7   3 Ninjas: High Noon At Mega Mountain                -0.283470   \n",
       "8                          39 Steps, The                 0.853275   \n",
       "9                                  8 1/2                 0.811120   \n",
       "10               8 Heads in a Duffel Bag                 0.437905   \n",
       "11                             8 Seconds                 0.730975   \n",
       "12                        A Chef in Love                 0.960888   \n",
       "13                         Above the Rim                 0.763365   \n",
       "14                        Absolute Power                 0.677540   \n",
       "15                            Abyss, The                 0.645930   \n",
       "16            Ace Ventura: Pet Detective                 0.897085   \n",
       "17        Ace Ventura: When Nature Calls                 0.636160   \n",
       "18                Across the Sea of Time                 0.867850   \n",
       "19                  Addams Family Values                 0.688530   \n",
       "\n",
       "   sentiment_category  \n",
       "0            Positive  \n",
       "1            Positive  \n",
       "2            Positive  \n",
       "3            Positive  \n",
       "4            Positive  \n",
       "5            Positive  \n",
       "6            Positive  \n",
       "7            Negative  \n",
       "8            Positive  \n",
       "9            Positive  \n",
       "10           Positive  \n",
       "11           Positive  \n",
       "12           Positive  \n",
       "13           Positive  \n",
       "14           Positive  \n",
       "15           Positive  \n",
       "16           Positive  \n",
       "17           Positive  \n",
       "18           Positive  \n",
       "19           Positive  "
      ]
     },
     "execution_count": 107,
     "metadata": {},
     "output_type": "execute_result"
    }
   ],
   "source": [
    "df = pd.read_csv('/Users/salmanmohamm3d/Desktop/Sem 3/Social M A/Final Project/average_movie_sentiment.csv')\n",
    "df.head(20)"
   ]
  },
  {
   "cell_type": "code",
   "execution_count": 108,
   "id": "d9494d1c-cdb3-47d7-b836-e8f2c58b2da4",
   "metadata": {},
   "outputs": [
    {
     "name": "stdout",
     "output_type": "stream",
     "text": [
      "<class 'pandas.core.frame.DataFrame'>\n",
      "RangeIndex: 1592 entries, 0 to 1591\n",
      "Data columns (total 3 columns):\n",
      " #   Column                   Non-Null Count  Dtype  \n",
      "---  ------                   --------------  -----  \n",
      " 0   movie_tag_word           1592 non-null   object \n",
      " 1   average_sentiment_score  1592 non-null   float64\n",
      " 2   sentiment_category       1592 non-null   object \n",
      "dtypes: float64(1), object(2)\n",
      "memory usage: 37.4+ KB\n"
     ]
    }
   ],
   "source": [
    "df.info()"
   ]
  },
  {
   "cell_type": "markdown",
   "id": "c12d67ee-088d-449f-8fb7-519f4f725331",
   "metadata": {},
   "source": [
    "### From the above cell we can observe that our number of entries has been dropped from 1682 to 1592 in order to find out the missing entries \n",
    "### Lets merge the CSV files by taking movie_tag_word as common column"
   ]
  },
  {
   "cell_type": "markdown",
   "id": "fc13be7c-1f81-4b70-9c0c-a02a33477548",
   "metadata": {},
   "source": []
  },
  {
   "cell_type": "code",
   "execution_count": 114,
   "id": "1b821c18-845f-4c9b-8263-0d8df63ca3d3",
   "metadata": {},
   "outputs": [
    {
     "name": "stdout",
     "output_type": "stream",
     "text": [
      "   movie_id        movie_title release_date  \\\n",
      "0         1   Toy Story (1995)  01-Jan-1995   \n",
      "1         2   GoldenEye (1995)  01-Jan-1995   \n",
      "2         3  Four Rooms (1995)  01-Jan-1995   \n",
      "3         4  Get Shorty (1995)  01-Jan-1995   \n",
      "4         5     Copycat (1995)  01-Jan-1995   \n",
      "\n",
      "                                            IMDb_URL  unknown  Action  \\\n",
      "0  http://us.imdb.com/M/title-exact?Toy%20Story%2...        0       0   \n",
      "1  http://us.imdb.com/M/title-exact?GoldenEye%20(...        0       1   \n",
      "2  http://us.imdb.com/M/title-exact?Four%20Rooms%...        0       0   \n",
      "3  http://us.imdb.com/M/title-exact?Get%20Shorty%...        0       1   \n",
      "4  http://us.imdb.com/M/title-exact?Copycat%20(1995)        0       0   \n",
      "\n",
      "   Adventure  Animation  Children's  Comedy  ...  Musical  Mystery  Romance  \\\n",
      "0          0          1           1       1  ...        0        0        0   \n",
      "1          1          0           0       0  ...        0        0        0   \n",
      "2          0          0           0       0  ...        0        0        0   \n",
      "3          0          0           0       1  ...        0        0        0   \n",
      "4          0          0           0       0  ...        0        0        0   \n",
      "\n",
      "   Sci-Fi  Thriller  War  Western  movie_tag_word  average_sentiment_score  \\\n",
      "0       0         0    0        0       Toy Story                 0.984185   \n",
      "1       0         1    0        0       GoldenEye                 0.404040   \n",
      "2       0         1    0        0      Four Rooms                 0.722965   \n",
      "3       0         0    0        0      Get Shorty                 0.958895   \n",
      "4       0         1    0        0         Copycat                -0.374410   \n",
      "\n",
      "   sentiment_category  \n",
      "0            Positive  \n",
      "1            Positive  \n",
      "2            Positive  \n",
      "3            Positive  \n",
      "4            Negative  \n",
      "\n",
      "[5 rows x 26 columns]\n"
     ]
    }
   ],
   "source": [
    "import pandas as pd\n",
    "\n",
    "# Load the datasets\n",
    "u_data = pd.read_csv('/Users/salmanmohamm3d/Desktop/Sem 3/Social M A/Final Project/new_u_item.csv')\n",
    "average_sentiment_df = pd.read_csv('/Users/salmanmohamm3d/Desktop/Sem 3/Social M A/Final Project/average_movie_sentiment.csv')\n",
    "\n",
    "# Merge the datasets on the movie_tag_word column\n",
    "merged_data = pd.merge(u_data, average_sentiment_df, on='movie_tag_word', how='left')\n",
    "\n",
    "# Save the merged data to a new CSV file\n",
    "merged_data.to_csv('merged_dataset.csv', index=False)\n",
    "\n",
    "# Display the merged DataFrame\n",
    "print(merged_data.head())\n"
   ]
  },
  {
   "cell_type": "markdown",
   "id": "425485cc-6083-4df3-a1dc-e25a37dc5992",
   "metadata": {},
   "source": [
    "### Printing the list movies without an average sentiment score (Missing Entries)"
   ]
  },
  {
   "cell_type": "code",
   "execution_count": 118,
   "id": "4b07fe5e-8de7-496c-8525-4e3720c81808",
   "metadata": {},
   "outputs": [
    {
     "name": "stdout",
     "output_type": "stream",
     "text": [
      "Movies without average sentiment scores:\n",
      "Seven (Se7en) (1995)\n",
      "French Twist (Gazon maudit) (1995)\n",
      "Eat Drink Man Woman (1994)\n",
      "Crow, The (1994)\n",
      "Wallace & Gromit: The Best of Aardman Animation (1996)\n",
      "Monty Python's Life of Brian (1979)\n",
      "Good, The Bad and The Ugly, The (1966)\n",
      "Alien (1979)\n",
      "Nikita (La Femme Nikita) (1990)\n",
      "When the Cats Away (Chacun cherche son chat) (1996)\n",
      "unknown\n",
      "187 (1997)\n",
      "Tales From the Crypt Presents: Demon Knight (1995)\n",
      "Tales from the Crypt Presents: Bordello of Blood (1996)\n",
      "Like Water For Chocolate (Como agua para chocolate) (1992)\n",
      "My Life as a Dog (Mitt liv som hund) (1985)\n",
      "Police Story 4: Project S (Chao ji ji hua) (1993)\n",
      "Daniel Defoe's Robinson Crusoe (1996)\n",
      "Spellbound (1945)\n",
      "Once Upon a Time in the West (1969)\n",
      "Alien 3 (1992)\n",
      "I Know What You Did Last Summer (1997)\n",
      "Wonderful, Horrible Life of Leni Riefenstahl, The (1993)\n",
      "Burnt By the Sun (1994)\n",
      "Roommates (1995)\n",
      "In the Line of Duty 2 (1987)\n",
      "Two or Three Things I Know About Her (1966)\n",
      "Michael (1996)\n",
      "Ma vie en rose (My Life in Pink) (1997)\n",
      "Flower of My Secret, The (Flor de mi secreto, La) (1995)\n",
      "To Live (Huozhe) (1994)\n",
      "Grateful Dead (1995)\n",
      "Until the End of the World (Bis ans Ende der Welt) (1991)\n",
      "Lay of the Land, The (1997)\n",
      "Star Maker, The (Uomo delle stelle, L') (1995)\n",
      "Amateur (1994)\n",
      "Last Dance (1996)\n",
      "Caught (1996)\n",
      "Cemetery Man (Dellamorte Dellamore) (1994)\n",
      "Marlene Dietrich: Shadow and Light (1996) \n",
      "Ready to Wear (Pret-A-Porter) (1994)\n",
      "Old Lady Who Walked in the Sea, The (Vieille qui marchait dans la mer, La) (1991)\n",
      "Blink (1994)\n",
      "Contempt (Mépris, Le) (1963)\n",
      "Talking About Sex (1994)\n",
      "Every Other Weekend (1990)\n",
      "I Can't Sleep (J'ai pas sommeil) (1994)\n",
      "Machine, The (1994)\n",
      "Stag (1997)\n",
      "Caro Diario (Dear Diary) (1994)\n",
      "My Crazy Life (Mi vida loca) (1993)\n",
      "Thieves (Voleurs, Les) (1996)\n",
      "Visitors, The (Visiteurs, Les) (1993)\n",
      "Farmer & Chase (1995)\n",
      "I Don't Want to Talk About It (De eso no se habla) (1993)\n",
      "Eye of Vichy, The (Oeil de Vichy, L') (1993)\n",
      "Promise, The (Versprechen, Das) (1994)\n",
      "Wend Kuuni (God's Gift) (1982)\n",
      "I, Worst of All (Yo, la peor de todas) (1990)\n",
      "Invitation, The (Zaproszenie) (1986)\n",
      "To Have, or Not (1995)\n",
      "Silence of the Palace, The (Saimt el Qusur) (1994)\n",
      "Land and Freedom (Tierra y libertad) (1995)\n",
      "Etz Hadomim Tafus (Under the Domin Tree) (1994)\n",
      "Brothers in Trouble (1995)\n",
      "Bitter Sugar (Azucar Amargo) (1996)\n",
      "Temptress Moon (Feng Yue) (1996)\n"
     ]
    }
   ],
   "source": [
    "missing_sentiment_movies = merged_data[merged_data['average_sentiment_score'].isna()]['movie_title'].unique()\n",
    "\n",
    "# Print the list of movies without average sentiment scores\n",
    "print(\"Movies without average sentiment scores:\")\n",
    "for movie in missing_sentiment_movies:\n",
    "    print(movie)"
   ]
  },
  {
   "cell_type": "code",
   "execution_count": null,
   "id": "a642b9f2-22f6-43c1-98bc-a3c25f7b5bdf",
   "metadata": {},
   "outputs": [],
   "source": []
  }
 ],
 "metadata": {
  "kernelspec": {
   "display_name": "Python 3 (ipykernel)",
   "language": "python",
   "name": "python3"
  },
  "language_info": {
   "codemirror_mode": {
    "name": "ipython",
    "version": 3
   },
   "file_extension": ".py",
   "mimetype": "text/x-python",
   "name": "python",
   "nbconvert_exporter": "python",
   "pygments_lexer": "ipython3",
   "version": "3.11.9"
  }
 },
 "nbformat": 4,
 "nbformat_minor": 5
}
